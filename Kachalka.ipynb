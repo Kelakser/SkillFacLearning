{
 "cells": [
  {
   "cell_type": "code",
   "execution_count": null,
   "metadata": {},
   "outputs": [],
   "source": []
  },
  {
   "cell_type": "markdown",
   "metadata": {},
   "source": [
    "#### Фаршированный перец, 1 штука вес 225 грамм чистый вес 135 Средние значения\n",
    "Жиры 8.78, Белки 11.48, Углеводы 7.43"
   ]
  },
  {
   "cell_type": "code",
   "execution_count": 5,
   "metadata": {},
   "outputs": [
    {
     "name": "stdout",
     "output_type": "stream",
     "text": [
      "405.0\n",
      "34.42 26.32 22.27\n",
      "Жиры 102.5, Белки 130.0, Углеводы 239\n"
     ]
    }
   ],
   "source": [
    "ves = 90\n",
    "baza_belcov = ves * 2.5 - 95\n",
    "baza_zhirov = ves * 1.25 - 10\n",
    "baza_uglevodov = ves * 5 - 211\n",
    "peper = (225*3) * 0.60\n",
    "print(peper)\n",
    "belock_peper = peper/100 * 8.5\n",
    "zhiri_peper = peper/100 * 6.5\n",
    "ugleovdi_peper = peper/100 * 5.5\n",
    "print(round(belock_peper,2),round(zhiri_peper,2),round(ugleovdi_peper,2))\n",
    "print(f'Жиры {round(baza_zhirov,2)}, Белки {round(baza_belcov,2)}, Углеводы {round(baza_uglevodov,2)}')"
   ]
  },
  {
   "cell_type": "code",
   "execution_count": null,
   "metadata": {},
   "outputs": [],
   "source": [
    "\n"
   ]
  },
  {
   "cell_type": "markdown",
   "metadata": {},
   "source": [
    "# Rise 100 g \n",
    "uglevodov 77g, \n",
    "belock - 7g\n",
    "zhiri - 0,5g"
   ]
  },
  {
   "cell_type": "code",
   "execution_count": 6,
   "metadata": {},
   "outputs": [
    {
     "name": "stdout",
     "output_type": "stream",
     "text": [
      "192.5 17.5 1.25\n",
      "Осталось Белков -59.625, Осталось Жиров -30.375, осталось углеводов -64.875\n"
     ]
    }
   ],
   "source": [
    "ves_rise = 250\n",
    "uglevodi_rise = ves_rise/100 * 77\n",
    "belock_rise = ves_rise/100 * 7\n",
    "zhiri_rise = ves_rise/100 * 0.5\n",
    "print(uglevodi_rise,belock_rise,zhiri_rise)\n",
    "print(f'Осталось Белков {baza_belcov - (belock_peper*5) - belock_rise}, Осталось Жиров {baza_zhirov - (zhiri_peper*5)-zhiri_rise}, осталось углеводов {baza_uglevodov - (ugleovdi_peper*5) -uglevodi_rise}')"
   ]
  },
  {
   "cell_type": "markdown",
   "metadata": {},
   "source": [
    "# Tvorog 100g \n",
    "zhiri - 5g \n",
    "belock -16g \n",
    "uglevodi -1.5g"
   ]
  },
  {
   "cell_type": "code",
   "execution_count": 7,
   "metadata": {},
   "outputs": [],
   "source": [
    "ves_tvorog = 200\n",
    "uglevodi_tvorog = ves_tvorog/100 * 1.5\n",
    "belock_tvorog = ves_tvorog/100 * 16\n",
    "zhiri_tvorog = ves_tvorog/100 * 5"
   ]
  },
  {
   "cell_type": "markdown",
   "metadata": {},
   "source": [
    "# 1 Banan \n",
    "zhiri 0,5g\n",
    "belock 1,5g\n",
    "uglevodi 21g"
   ]
  },
  {
   "cell_type": "code",
   "execution_count": 8,
   "metadata": {},
   "outputs": [],
   "source": [
    "banana_sht = 1\n",
    "zhiri_banana = banana_sht * 0.5\n",
    "belock_banana = banana_sht * 1.5\n",
    "uglevodi_banana = banana_sht * 21"
   ]
  },
  {
   "cell_type": "markdown",
   "metadata": {},
   "source": [
    "# Arahis 100g\n",
    "belock - 27 г\n",
    "zhiri - 47 г\n",
    "uglevodi - 10 г"
   ]
  },
  {
   "cell_type": "code",
   "execution_count": 9,
   "metadata": {},
   "outputs": [],
   "source": [
    "ves_arahis = 100\n",
    "belock_arahis = ves_arahis/100 * 27\n",
    "zhiri_arahis = ves_arahis/100 * 47\n",
    "uglevodi_arahis = ves_arahis/100 * 10\n"
   ]
  },
  {
   "cell_type": "markdown",
   "metadata": {},
   "source": [
    "# Len 100\n",
    "belock -20g zhiri -39g uglevodi 19g"
   ]
  },
  {
   "cell_type": "code",
   "execution_count": 10,
   "metadata": {},
   "outputs": [],
   "source": [
    "len_ves = 100\n",
    "belock_len = len_ves/100 * 20\n",
    "zhiri_len = len_ves/100 * 39\n",
    "uglevodi_len = len_ves/100 * 19"
   ]
  },
  {
   "cell_type": "code",
   "execution_count": 11,
   "metadata": {},
   "outputs": [],
   "source": [
    "#  10g slivochnogo masla \n",
    "#  100g gribov\n",
    "#  90g luca \n",
    "#  40g bolgarskogo perca \n",
    "#  5 egs\n",
    "#  300 ml milk"
   ]
  },
  {
   "cell_type": "code",
   "execution_count": 12,
   "metadata": {},
   "outputs": [
    {
     "name": "stdout",
     "output_type": "stream",
     "text": [
      "32.5 1.5 27.5\n",
      "30.0 45.0 47.0\n",
      "Жиры 76.53, Белки 61.32, Углеводы 180.76\n"
     ]
    }
   ],
   "source": [
    "klvo_egs = 5\n",
    "belock_egs = 6.5 * klvo_egs\n",
    "zhiri_egs = 5.5 * klvo_egs\n",
    "uglevodi_egs = 0.3 * klvo_egs\n",
    "print(belock_egs,uglevodi_egs,zhiri_egs)\n",
    "\n",
    "g_maslo = 10\n",
    "belock_maslo = 1/100* g_maslo\n",
    "zhiri_maslo = 72.5/100 * g_maslo\n",
    "uglevodi_maslo = 1.4/100 * g_maslo\n",
    "\n",
    "ves_shampinion = 100\n",
    "belock_shampinon = 4.3/100 * ves_shampinion\n",
    "uglevodi_shampinion = 0.1/100 * ves_shampinion\n",
    "zhiri_shampinion = 1/100 * ves_shampinion\n",
    "\n",
    "ves_luca = 90 \n",
    "belock_luc = 1.4/100 * ves_luca\n",
    "zhiri_luca = 0.2 /100 * ves_luca\n",
    "uglevodi_luca = 8.2 /100 * ves_luca\n",
    "\n",
    "ves_bolgar_pepper = 40 \n",
    "beloc_bolgar_pepper = 1.3/100 * ves_bolgar_pepper\n",
    "zhiri_bolgar_pepper = 0.1 / 100 * ves_bolgar_pepper\n",
    "uglevodi_bolgar_pepper = 5.3 /100 * ves_bolgar_pepper\n",
    "\n",
    "milk_ves = 1000\n",
    "belock_milk = 3/100 * milk_ves\n",
    "zhiri_milk = 4.5/100 * milk_ves\n",
    "uglevodi_milk = 4.7/100 * milk_ves\n",
    "print(belock_milk,zhiri_milk,uglevodi_milk)\n",
    "\n",
    "print(f'Жиры {round(baza_zhirov- -zhiri_egs - zhiri_maslo - zhiri_shampinion - zhiri_luca - zhiri_bolgar_pepper - zhiri_milk,2)}, Белки {round(baza_belcov - belock_egs - belock_maslo - belock_shampinon - belock_luc -beloc_bolgar_pepper- belock_milk,2)}, Углеводы {round(baza_uglevodov - uglevodi_egs - uglevodi_maslo - uglevodi_luca - uglevodi_shampinion - uglevodi_bolgar_pepper - uglevodi_milk,2)}')"
   ]
  },
  {
   "cell_type": "code",
   "execution_count": 13,
   "metadata": {},
   "outputs": [
    {
     "name": "stdout",
     "output_type": "stream",
     "text": [
      "15.575000000000003\n",
      "2.424999999999997\n",
      "-24.275000000000006\n"
     ]
    }
   ],
   "source": [
    "print(baza_belcov - belock_peper - belock_rise - belock_egs - belock_milk)\n",
    "print(baza_zhirov - zhiri_peper - zhiri_rise - zhiri_egs- zhiri_milk )\n",
    "print(baza_uglevodov - ugleovdi_peper - uglevodi_rise - uglevodi_egs - uglevodi_milk)"
   ]
  },
  {
   "cell_type": "code",
   "execution_count": 14,
   "metadata": {},
   "outputs": [
    {
     "name": "stdout",
     "output_type": "stream",
     "text": [
      "37.8 7.800000000000001 204.00000000000003\n"
     ]
    }
   ],
   "source": [
    "grecka_ves = 300 #200+100\n",
    "belock_grecka = 12.6 /100 * grecka_ves\n",
    "zhiri_grecka = 2.6/100 * grecka_ves\n",
    "uglevodi_grecka = 68/100 * grecka_ves\n",
    "print(belock_grecka,zhiri_grecka,uglevodi_grecka)"
   ]
  },
  {
   "cell_type": "code",
   "execution_count": 15,
   "metadata": {},
   "outputs": [
    {
     "name": "stdout",
     "output_type": "stream",
     "text": [
      "30.0 40.0\n"
     ]
    }
   ],
   "source": [
    "mixed_farsh_ves = 200\n",
    "belock_mixed_farsh = 15/100 * mixed_farsh_ves\n",
    "zhiri_mixed_farsh = 20/100 * mixed_farsh_ves\n",
    "print(belock_mixed_farsh,zhiri_mixed_farsh)"
   ]
  },
  {
   "cell_type": "code",
   "execution_count": 16,
   "metadata": {},
   "outputs": [
    {
     "name": "stdout",
     "output_type": "stream",
     "text": [
      "20.6 2.0 140.0\n"
     ]
    }
   ],
   "source": [
    "manka_ves = 200\n",
    "belock_manka = 10.3/100 * manka_ves\n",
    "zhiri_manka = 1/100 * manka_ves\n",
    "uglevodi_manka = 70/100 * manka_ves\n",
    "print(belock_manka,zhiri_manka,uglevodi_manka)"
   ]
  },
  {
   "cell_type": "code",
   "execution_count": 17,
   "metadata": {},
   "outputs": [
    {
     "name": "stdout",
     "output_type": "stream",
     "text": [
      "Жиры -26.27,Белки -6.48, Углеводы -23.24\n"
     ]
    }
   ],
   "source": [
    "print(f'Жиры {round(baza_zhirov- zhiri_mixed_farsh-zhiri_egs - zhiri_grecka - zhiri_maslo - zhiri_shampinion - zhiri_luca - zhiri_bolgar_pepper - zhiri_milk,2)},Белки {round(baza_belcov -belock_mixed_farsh-belock_grecka- belock_egs - belock_maslo - belock_shampinon - belock_luc -beloc_bolgar_pepper- belock_milk,2)}, Углеводы {round(baza_uglevodov - uglevodi_grecka-uglevodi_egs - uglevodi_maslo - uglevodi_luca - uglevodi_shampinion - uglevodi_bolgar_pepper - uglevodi_milk,2)}')"
   ]
  },
  {
   "cell_type": "code",
   "execution_count": null,
   "metadata": {},
   "outputs": [],
   "source": []
  },
  {
   "cell_type": "code",
   "execution_count": 20,
   "metadata": {},
   "outputs": [
    {
     "name": "stdout",
     "output_type": "stream",
     "text": [
      "Осталось жиров 19.5 Углеводов 114.25 Белков 4.0\n"
     ]
    }
   ],
   "source": [
    "\n",
    "farsh_chicken_ves = 225\n",
    "farsh_chicken_bel = 20*(farsh_chicken_ves/100)\n",
    "farsh_chicken_zhiri = 15*(farsh_chicken_ves/100)\n",
    "\n",
    "lentils_ves = 225\n",
    "lentils_ugl =  51 * (lentils_ves/100)\n",
    "lentils_bel = 24 * (lentils_ves/100)\n",
    "lentils_zhiri = 1 * (lentils_ves/100)\n",
    "\n",
    "print(f'Осталось жиров {baza_zhirov -farsh_chicken_zhiri -lentils_zhiri - zhiri_arahis } Углеводов {baza_uglevodov -lentils_ugl - uglevodi_arahis} Белков {baza_belcov -farsh_chicken_bel -lentils_bel - belock_arahis}')"
   ]
  },
  {
   "cell_type": "code",
   "execution_count": null,
   "metadata": {},
   "outputs": [
    {
     "ename": "",
     "evalue": "",
     "output_type": "error",
     "traceback": [
      "\u001b[1;31mДля выполнения ячеек с \"Python 3.13.0\" требуется пакет ipykernel.\n",
      "\u001b[1;31mВыполните следующую команду, чтобы установить \"ipykernel\" в среде Python. \n",
      "\u001b[1;31mКоманда: \"/opt/homebrew/bin/python3 -m pip install ipykernel -U --user --force-reinstall\""
     ]
    }
   ],
   "source": []
  }
 ],
 "metadata": {
  "kernelspec": {
   "display_name": "Python 3",
   "language": "python",
   "name": "python3"
  },
  "language_info": {
   "codemirror_mode": {
    "name": "ipython",
    "version": 3
   },
   "file_extension": ".py",
   "mimetype": "text/x-python",
   "name": "python",
   "nbconvert_exporter": "python",
   "pygments_lexer": "ipython3",
   "version": "3.13.0"
  }
 },
 "nbformat": 4,
 "nbformat_minor": 2
}
