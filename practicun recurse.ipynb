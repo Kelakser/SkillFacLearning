{
 "cells": [
  {
   "cell_type": "markdown",
   "metadata": {},
   "source": [
    "# Цели модуля:\n",
    "1. Научиться создавать и применять вложенный функции для организации кода\n",
    "2. Познакомиться с областью видимости перменных и узнать о порядке разрешения пременных\n",
    "3. Уметь определеять глобальные и нелокальные переменные и понять, когда это может пригодится\n",
    "4. Разобраться почему не стоит переопределять старые имена в общем коде\n",
    "5. Разобраться  с рекурсией и научиться ей пользоваться\n",
    "6. Освоить новые функции map() and filter()\n",
    "7. Подготовиться к каверзным вопросам по функциям на собеседованиях"
   ]
  },
  {
   "cell_type": "code",
   "execution_count": 4,
   "metadata": {},
   "outputs": [
    {
     "name": "stdout",
     "output_type": "stream",
     "text": [
      "Called outer function\n"
     ]
    }
   ],
   "source": [
    "def outer():\n",
    "    # Печатаем информацию о вызове внешней функции\n",
    "    print('Called outer function')\n",
    "    # Объявляем внутреннюю функцию inner()\n",
    "    def inner():\n",
    "        # Печатаем информацию о вызове внутренней функции\n",
    "        print('Called inner function')\n",
    "    # Вызываем внутреннюю функцию inner()\n",
    "    #inner()\n",
    "outer()"
   ]
  },
  {
   "cell_type": "code",
   "execution_count": 7,
   "metadata": {},
   "outputs": [
    {
     "name": "stdout",
     "output_type": "stream",
     "text": [
      "Root of power 4 from 81 equals 3.0\n"
     ]
    }
   ],
   "source": [
    "def print_root(num, n= 2):\n",
    "    def root(num, n=2):\n",
    "        return num ** (1/n)\n",
    "    ret = root(num,n)\n",
    "    print(f'Root of power {n} from {num} equals {ret}')\n",
    "print_root(81, 4)"
   ]
  },
  {
   "cell_type": "code",
   "execution_count": 12,
   "metadata": {},
   "outputs": [],
   "source": [
    "import gc\n"
   ]
  },
  {
   "cell_type": "code",
   "execution_count": 15,
   "metadata": {},
   "outputs": [
    {
     "name": "stdout",
     "output_type": "stream",
     "text": [
      "(2000, 10, 10)\n"
     ]
    },
    {
     "data": {
      "text/plain": [
       "1837"
      ]
     },
     "execution_count": 15,
     "metadata": {},
     "output_type": "execute_result"
    }
   ],
   "source": [
    "print(gc.get_threshold())\n",
    "n = gc.collect()\n",
    "n"
   ]
  },
  {
   "cell_type": "markdown",
   "metadata": {},
   "source": [
    "На первом этапе напишите функцию get_count_unique_symbols(), которая:\n",
    "\n",
    "принимает на вход строку s,\n",
    "приводит её к нижнему регистру,\n",
    "убирает из неё все пробелы,\n",
    "возвращает количество уникальных символов в строке."
   ]
  },
  {
   "cell_type": "code",
   "execution_count": 27,
   "metadata": {},
   "outputs": [
    {
     "name": "stdout",
     "output_type": "stream",
     "text": [
      "9\n",
      "Это простая строка\n",
      "Great phrase\n",
      "('школа', 'school')\n"
     ]
    }
   ],
   "source": [
    "def get_count_unique_symbols(s):\n",
    "    new_s = s.lower()\n",
    "    new_s = new_s.replace(' ','')\n",
    "    return len(set(new_s))\n",
    "\n",
    "print(get_count_unique_symbols('Это простая строка'))\n",
    "    ## 9\n",
    "get_count_unique_symbols('This is a simple string')\n",
    "    ## 12\n",
    "    \n",
    "def get_min_string(s1, s2):\n",
    "    def get_count_unique_symbols(s):\n",
    "        new_s = s.lower()\n",
    "        new_s = new_s.replace(' ','')\n",
    "        return len(set(new_s))\n",
    "    s1_len = get_count_unique_symbols(s1)\n",
    "    s2_len = get_count_unique_symbols(s2)\n",
    "    if s1_len == s2_len:\n",
    "        return (s1, s2)\n",
    "    if s1_len < s2_len:\n",
    "        return s1\n",
    "    return s2\n",
    "        \n",
    "print(get_min_string(s1='Это простая строка', s2='This is a simple string'))\n",
    "    ## Это простая строка\n",
    "print(get_min_string(s1='Отличная фраза', s2='Great phrase'))\n",
    "    ## Great phrase\n",
    "print(get_min_string(s1='школа', s2='school'))\n",
    "    ## ('школа', 'school')\n"
   ]
  },
  {
   "cell_type": "code",
   "execution_count": 29,
   "metadata": {},
   "outputs": [
    {
     "name": "stdout",
     "output_type": "stream",
     "text": [
      "Employee John Doe is registered with the company TheBlindMice\n"
     ]
    }
   ],
   "source": [
    "def register_employee(name, surname):\n",
    "    def create_full_name():\n",
    "        sep = ' '\n",
    "        result = name + sep + surname \n",
    "        return result\n",
    "    full_name = create_full_name()\n",
    "    print(f'Employee {full_name} is registered with the company {company_name}')\n",
    "    \n",
    "company_name = 'TheBlindMice' # Название компании\n",
    "register_employee('John','Doe') # Вызов функции"
   ]
  },
  {
   "cell_type": "code",
   "execution_count": 30,
   "metadata": {},
   "outputs": [
    {
     "name": "stdout",
     "output_type": "stream",
     "text": [
      "['ArithmeticError', 'AssertionError', 'AttributeError', 'BaseException', 'BaseExceptionGroup', 'BlockingIOError', 'BrokenPipeError', 'BufferError', 'BytesWarning', 'ChildProcessError', 'ConnectionAbortedError', 'ConnectionError', 'ConnectionRefusedError', 'ConnectionResetError', 'DeprecationWarning', 'EOFError', 'Ellipsis', 'EncodingWarning', 'EnvironmentError', 'Exception', 'ExceptionGroup', 'False', 'FileExistsError', 'FileNotFoundError', 'FloatingPointError', 'FutureWarning', 'GeneratorExit', 'IOError', 'ImportError', 'ImportWarning', 'IndentationError', 'IndexError', 'InterruptedError', 'IsADirectoryError', 'KeyError', 'KeyboardInterrupt', 'LookupError', 'MemoryError', 'ModuleNotFoundError', 'NameError', 'None', 'NotADirectoryError', 'NotImplemented', 'NotImplementedError', 'OSError', 'OverflowError', 'PendingDeprecationWarning', 'PermissionError', 'ProcessLookupError', 'PythonFinalizationError', 'RecursionError', 'ReferenceError', 'ResourceWarning', 'RuntimeError', 'RuntimeWarning', 'StopAsyncIteration', 'StopIteration', 'SyntaxError', 'SyntaxWarning', 'SystemError', 'SystemExit', 'TabError', 'TimeoutError', 'True', 'TypeError', 'UnboundLocalError', 'UnicodeDecodeError', 'UnicodeEncodeError', 'UnicodeError', 'UnicodeTranslateError', 'UnicodeWarning', 'UserWarning', 'ValueError', 'Warning', 'ZeroDivisionError', '_IncompleteInputError', '__IPYTHON__', '__build_class__', '__debug__', '__doc__', '__import__', '__loader__', '__name__', '__package__', '__spec__', 'abs', 'aiter', 'all', 'anext', 'any', 'ascii', 'bin', 'bool', 'breakpoint', 'bytearray', 'bytes', 'callable', 'chr', 'classmethod', 'compile', 'complex', 'copyright', 'credits', 'delattr', 'dict', 'dir', 'display', 'divmod', 'enumerate', 'eval', 'exec', 'execfile', 'filter', 'float', 'format', 'frozenset', 'get_ipython', 'getattr', 'globals', 'hasattr', 'hash', 'help', 'hex', 'id', 'input', 'int', 'isinstance', 'issubclass', 'iter', 'len', 'license', 'list', 'locals', 'map', 'max', 'memoryview', 'min', 'next', 'object', 'oct', 'open', 'ord', 'pow', 'print', 'property', 'range', 'repr', 'reversed', 'round', 'runfile', 'set', 'setattr', 'slice', 'sorted', 'staticmethod', 'str', 'sum', 'super', 'tuple', 'type', 'vars', 'zip']\n"
     ]
    }
   ],
   "source": [
    "print(dir(__builtins__))"
   ]
  },
  {
   "cell_type": "code",
   "execution_count": 36,
   "metadata": {},
   "outputs": [
    {
     "name": "stdout",
     "output_type": "stream",
     "text": [
      "global\n"
     ]
    }
   ],
   "source": [
    "def register_employee(name, surname):\n",
    "    def create_full_name():\n",
    "        sep = ' ' \n",
    "        result = name + sep + surname\n",
    "        return result\n",
    "    full_name = create_full_name()\n",
    "    \n",
    "    \n",
    "company_name = 'TheBlindMice'\n",
    "register_employee('Jone','Doe')\n",
    "    \n",
    "value = 'global'\n",
    "def outer():\n",
    "    def inner():\n",
    "        print(value)\n",
    "    inner()\n",
    "\n",
    "# Вызов функции outer()\n",
    "outer()"
   ]
  },
  {
   "cell_type": "code",
   "execution_count": 38,
   "metadata": {},
   "outputs": [
    {
     "name": "stdout",
     "output_type": "stream",
     "text": [
      "enclosing\n"
     ]
    }
   ],
   "source": [
    "value = 'global'\n",
    "def outer():\n",
    "    value = 'enclosing'\n",
    "    def inner():\n",
    "        print(value)\n",
    "    inner()\n",
    "\n",
    "outer()\n"
   ]
  },
  {
   "cell_type": "code",
   "execution_count": 39,
   "metadata": {},
   "outputs": [
    {
     "name": "stdout",
     "output_type": "stream",
     "text": [
      "local\n"
     ]
    }
   ],
   "source": [
    "value = 'global'\n",
    "def outer():\n",
    "    value = 'enclosing'\n",
    "    def inner():\n",
    "        value = 'local'\n",
    "        print(value)\n",
    "    inner()\n",
    "# Вызов функции outer()\n",
    "outer()"
   ]
  },
  {
   "cell_type": "code",
   "execution_count": 40,
   "metadata": {},
   "outputs": [
    {
     "name": "stdout",
     "output_type": "stream",
     "text": [
      "100\n",
      "10\n"
     ]
    }
   ],
   "source": [
    "count = 10\n",
    "def function():\n",
    "    # Объявляем локальную переменную count\n",
    "    count = 100\n",
    "    print(count)\n",
    "# Вызываем функцию    \n",
    "function()\n",
    "# Смотрим, изменилась ли переменная count\n",
    "print(count)\n",
    "\n",
    "\n"
   ]
  },
  {
   "cell_type": "code",
   "execution_count": 42,
   "metadata": {},
   "outputs": [
    {
     "name": "stdout",
     "output_type": "stream",
     "text": [
      "['foo', 'quux', 'baz']\n",
      "['foo', 'quux', 'baz']\n"
     ]
    }
   ],
   "source": [
    "words_list = ['foo', 'bar', 'baz']\n",
    "def function():\n",
    "    # Изменяем элемент списка\n",
    "    words_list[1] = 'quux'\n",
    "    print(words_list)\n",
    "# Вызываем функцию\n",
    "function()\n",
    "print(words_list)"
   ]
  },
  {
   "cell_type": "code",
   "execution_count": 43,
   "metadata": {},
   "outputs": [
    {
     "name": "stdout",
     "output_type": "stream",
     "text": [
      "['foo', 'quux', 'baz']\n",
      "['foo', 'bar', 'baz']\n"
     ]
    }
   ],
   "source": [
    "words_list = ['foo', 'bar', 'baz']\n",
    "def function():\n",
    "    # Изменяем элемент списка\n",
    "    words_list = ['foo', 'quux', 'baz']\n",
    "    print(words_list)\n",
    "# Вызываем функцию\n",
    "function()\n",
    "print(words_list)"
   ]
  },
  {
   "cell_type": "code",
   "execution_count": 48,
   "metadata": {},
   "outputs": [
    {
     "name": "stdout",
     "output_type": "stream",
     "text": [
      "111\n"
     ]
    }
   ],
   "source": [
    "global_count = 0\n",
    " \n",
    "# Создадим функцию, которая прибавляет 1 к переменной global_count\n",
    "def add_item():\n",
    "    # Здесь мог бы быть код для добавления товара в базу данных\n",
    "    # Увеличим общее количество товаров на 1\n",
    "    global global_count\n",
    "    global_count = global_count + 111\n",
    " \n",
    "# Вызовем функцию add_item()\n",
    "add_item()\n",
    "# Напечатаем значение переменной global_count\n",
    "print(global_count)"
   ]
  },
  {
   "cell_type": "code",
   "execution_count": 50,
   "metadata": {},
   "outputs": [
    {
     "name": "stdout",
     "output_type": "stream",
     "text": [
      "100\n",
      "1\n"
     ]
    }
   ],
   "source": [
    "def add_item():\n",
    "    # Здесь мог бы быть код для добавления товара в базу данных\n",
    "    # Указываем, что global_count является глобальной переменной\n",
    "    global global_count\n",
    "    # Инициализируем глобальную переменную прямо внутри функции \n",
    "    global_count = 0\n",
    "    # Увеличиваем общее количество товаров на 1\n",
    "    global_count = global_count + 1\n",
    "global_count = 100\n",
    "print(global_count)\n",
    "# Вызываем функцию add_item()\n",
    "add_item()\n",
    "# Напечатаем значение переменной global_count\n",
    "print(global_count)"
   ]
  },
  {
   "cell_type": "code",
   "execution_count": 51,
   "metadata": {},
   "outputs": [
    {
     "name": "stdout",
     "output_type": "stream",
     "text": [
      "10\n",
      "6\n"
     ]
    }
   ],
   "source": [
    "c = -2\n",
    "\n",
    "def outer1(a, b):\n",
    "    c = 2\n",
    "    d = a + b + c\n",
    "    return d\n",
    "\n",
    "def outer2(a, b):\n",
    "    global c\n",
    "    d = a + b + c\n",
    "    return d\n",
    "\n",
    "print(outer1(a=5, b=3))\n",
    "# d = 10\n",
    "print(outer2(a=5, b=3))\n",
    "# d = 6\n",
    "\n",
    "\n"
   ]
  },
  {
   "cell_type": "code",
   "execution_count": 64,
   "metadata": {},
   "outputs": [
    {
     "data": {
      "text/plain": [
       "181000"
      ]
     },
     "execution_count": 64,
     "metadata": {},
     "output_type": "execute_result"
    }
   ],
   "source": [
    "\n",
    "def cash(money, less_money):\n",
    "    money -= less_money\n",
    "    return money\n",
    "money = 200000\n",
    "money = cash(money, 1000)\n",
    "money = cash(money, 18000)\n",
    "money"
   ]
  },
  {
   "cell_type": "code",
   "execution_count": 59,
   "metadata": {},
   "outputs": [
    {
     "name": "stdout",
     "output_type": "stream",
     "text": [
      "199000\n"
     ]
    }
   ],
   "source": [
    "    def cash(less_money):\n",
    "        global money\n",
    "        money -= less_money\n",
    "        return money\n",
    "    money = 200000\n",
    "    print(cash(1000))"
   ]
  },
  {
   "cell_type": "code",
   "execution_count": 69,
   "metadata": {},
   "outputs": [
    {
     "name": "stdout",
     "output_type": "stream",
     "text": [
      "None\n"
     ]
    }
   ],
   "source": [
    "# Словарь с курсами валют (по отношению к рублю)\n",
    "currencies = {'USD': 74, 'EUR': 88, 'GBP': 98 , 'CHF': 82}\n",
    "# Общее количество денег на счету, которое нужно конвертировать\n",
    "money = 100000\n",
    "# Функция для конвертации валюты, аргумент - наименование валюты\n",
    "def convert(currency):\n",
    "    # Объявляем, что money - глобальная переменная\n",
    "    global money\n",
    "    # Производим конвертацию - делим количество денег на счету на соответствующий курс\n",
    "    money = money / currencies[currency]\n",
    "\n",
    "# Вызываем функцию для конвертации валюты\n",
    "print(convert('USD'))\n"
   ]
  },
  {
   "cell_type": "code",
   "execution_count": 79,
   "metadata": {},
   "outputs": [
    {
     "name": "stdout",
     "output_type": "stream",
     "text": [
      "1351.3513513513512\n"
     ]
    }
   ],
   "source": [
    "money = 100000\n",
    "currencies = {'USD': 74, 'EUR': 88, 'GBP': 98 , 'CHF': 82}\n",
    "def convert(currencies,money, currency):\n",
    "    money = money / currencies[currency]\n",
    "    return money\n",
    "convert_money = convert(currencies, money, 'USD')  \n",
    "print(convert_money)  \n",
    "\n",
    "## 1351.3513513513512  \n"
   ]
  },
  {
   "cell_type": "code",
   "execution_count": 86,
   "metadata": {},
   "outputs": [
    {
     "name": "stdout",
     "output_type": "stream",
     "text": [
      "0\n",
      "0\n",
      "1\n",
      "1\n"
     ]
    }
   ],
   "source": [
    "def outer():\n",
    "    enclousing_count = 0\n",
    "    print(enclousing_count)\n",
    "    def inner():\n",
    "        nonlocal enclousing_count\n",
    "        enclousing_count +=1\n",
    "        print(enclousing_count)\n",
    "    print(enclousing_count)\n",
    "    inner()\n",
    "    print(enclousing_count)\n",
    "    #global enclousing_count\n",
    "outer()\n",
    "#print(enclousing_count)"
   ]
  },
  {
   "cell_type": "code",
   "execution_count": 94,
   "metadata": {},
   "outputs": [
    {
     "name": "stdout",
     "output_type": "stream",
     "text": [
      "1130.5\n",
      "1130.5\n",
      "1130.5\n"
     ]
    }
   ],
   "source": [
    "def calculate_cost(cost, sale):\n",
    "    # Считаем итоговую стоимость и возвращаем её\n",
    "    def calculate_sale():\n",
    "        nonlocal sale\n",
    "        if type(sale) == str:\n",
    "            sale = sale.replace('%','')\n",
    "            sale = float(sale) / 100\n",
    "            return sale\n",
    "        if type(sale) == int:\n",
    "            sale =  sale / 100\n",
    "            return sale\n",
    "        if type(sale) != float:\n",
    "            raise ValueError(\"Некорректный формат скидки\")\n",
    "    calculate_sale()\n",
    "    # (стоимость — стоимость * скидка)           \n",
    "    return cost - cost * sale\n",
    "print(calculate_cost(1330, '15%'))\n",
    "print(calculate_cost(1330, 15))\n",
    "print(calculate_cost(1330, 0.15))\n"
   ]
  },
  {
   "cell_type": "code",
   "execution_count": 97,
   "metadata": {},
   "outputs": [
    {
     "data": {
      "text/plain": [
       "50"
      ]
     },
     "execution_count": 97,
     "metadata": {},
     "output_type": "execute_result"
    }
   ],
   "source": [
    "def total_multiplier(n):\n",
    "    total = 0\n",
    "    def multiplier():\n",
    "        nonlocal total\n",
    "        product = 10 * n\n",
    "        total += product\n",
    "        return total\n",
    "    return multiplier()\n",
    "\n",
    "total_multiplier(5)"
   ]
  },
  {
   "cell_type": "code",
   "execution_count": 100,
   "metadata": {},
   "outputs": [
    {
     "data": {
      "text/plain": [
       "2"
      ]
     },
     "execution_count": 100,
     "metadata": {},
     "output_type": "execute_result"
    }
   ],
   "source": [
    "def count_occurrences(s, symbol):\n",
    "    # Внутренняя функция для предобработки строки s\n",
    "    def preprocessing_s():\n",
    "        nonlocal s\n",
    "        # Удаляем пробелы из строки\n",
    "        s = s.replace(' ', '')\n",
    "        # Приводим строку к нижнему регистру\n",
    "        s = s.lower()\n",
    "    # Вызываем функцию для предобработки аргумента s\n",
    "    preprocessing_s()\n",
    "    # Считаем количество символов symbol в строке s и возвращаем результат\n",
    "    return s.count(symbol)\n",
    "count_occurrences('This is simple string', symbol='t')\n",
    "## 2\n"
   ]
  },
  {
   "cell_type": "code",
   "execution_count": null,
   "metadata": {},
   "outputs": [],
   "source": [
    "# Создаём новый пустой словарь  \n",
    "advertising_campaigns_max = {}  \n",
    "# Создаём цикл по ключам исходного словаря  \n",
    "for element in advertising_campaigns:  \n",
    "    # Вычисляем максимум в списке, лежащем по ключу key  \n",
    "    maximum = maximum(advertising_campaigns[element])  \n",
    "    # Добавляем максимум в новый словарь  \n",
    "    advertising_campaigns_max[element] = maximum\n"
   ]
  },
  {
   "cell_type": "code",
   "execution_count": 104,
   "metadata": {},
   "outputs": [
    {
     "name": "stdout",
     "output_type": "stream",
     "text": [
      "[('Petrova', 'Maria', 'Ivanovna', 13, 3, 2003), ('Ivanov', 'Sergej', None, 24, 9, 1995), ('Smith', 'John', None, 13, 2, 2003)]\n"
     ]
    }
   ],
   "source": [
    "def register(surname,name,date,middle_name = None,registry = None):\n",
    "    def procering_date(date):\n",
    "        day, month, year = date.split('.')\n",
    "        return int(day), int(month),int(year)\n",
    "    day, month, year = procering_date(date)\n",
    "    \n",
    "    def check_date(day, month, year):\n",
    "        if not ((type(day) == int and type(month) == int and type(year) == int)):\n",
    "            raise ValueError('Данные дня, месяца, года не в целом виде')\n",
    "        if not ((1900 < year < 2025) and (0 < month < 13) and ()\n",
    "    \n",
    "    if not registry:\n",
    "        registry = list()\n",
    "    registry.append((surname,name,middle_name,day,month,year))\n",
    "    return registry\n",
    "reg = register('Petrova', 'Maria', '13.03.2003', 'Ivanovna')\n",
    "reg = register('Ivanov', 'Sergej', '24.09.1995', registry=reg)\n",
    "reg = register('Smith', 'John', '13.02.2003', registry=reg)\n",
    "print(reg)"
   ]
  },
  {
   "cell_type": "markdown",
   "metadata": {},
   "source": [
    "Напишите функцию is_leap(year), которая принимает на вход год и возвращает True, если год високосный, иначе — False.\n",
    "Как определить, является ли год високосным:\n",
    "\n",
    "годы, номера которых кратны 400 - високосные;\n",
    "\n",
    "остальные годы, кратные 100 - невисокосные (то есть 1700, 1800, 1900, 2100, 2200, 2300 годы — невисокосные);\n",
    "\n",
    "остальные годы, которых кратны 4 - високосные (например, 1964, 2004, 2008);\n",
    "\n",
    "оставшиеся годы - не високосные (например, 1789, 2013, 2014)."
   ]
  },
  {
   "cell_type": "code",
   "execution_count": 108,
   "metadata": {},
   "outputs": [
    {
     "name": "stdout",
     "output_type": "stream",
     "text": [
      "True\n",
      "False\n",
      "False\n",
      "False\n"
     ]
    }
   ],
   "source": [
    "def is_leap(year):\n",
    "    if year % 4 == 0:\n",
    "        if year % 400 == 0:\n",
    "            return True\n",
    "        else: \n",
    "            return False\n",
    "        return True \n",
    "    else: \n",
    "        return False\n",
    "    \n",
    "print(is_leap(2000))\n",
    "# True\n",
    "print(is_leap(1900))\n",
    "# False\n",
    "print(is_leap(2020))\n",
    "# True\n",
    "print(is_leap(1700))\n",
    "# False"
   ]
  },
  {
   "cell_type": "code",
   "execution_count": 109,
   "metadata": {},
   "outputs": [],
   "source": [
    "def sides(p1, p2, p3):\n",
    "    # Распаковываем кортежи для удобства\n",
    "    x1, y1 = p1\n",
    "    x2, y2 = p2\n",
    "    x3, y3 = p3\n",
    "    # Вычисляем стороны по теореме Пифагора\n",
    "    a = ((x2 - x1) ** 2 + (y2 - y1)** 2) ** 0.5\n",
    "    b = ((x3 - x1) ** 2 + (y3 - y1)** 2) ** 0.5\n",
    "    c = ((x3 - x2) ** 2 + (y3 - y2)** 2) ** 0.5\n",
    "    return a, b, c"
   ]
  },
  {
   "cell_type": "code",
   "execution_count": 110,
   "metadata": {},
   "outputs": [
    {
     "name": "stdout",
     "output_type": "stream",
     "text": [
      "(2.1360009363293826, 2.692582403567252, 4.422951503238533)\n",
      "(3.0, 4.0, 5.0)\n"
     ]
    }
   ],
   "source": [
    "print(sides(p1=(2, 2), p2=(4, 1.25), p3=(1, 4.5)))\n",
    "## (2.1360009363293826, 2.692582403567252, 4.422951503238533)\n",
    "print(sides(p1=(1, 1), p2=(1, 4), p3=(5, 1)))\n",
    "## (3.0, 4.0, 5.0)"
   ]
  },
  {
   "cell_type": "code",
   "execution_count": 113,
   "metadata": {},
   "outputs": [
    {
     "name": "stdout",
     "output_type": "stream",
     "text": [
      "12\n",
      "6.0\n"
     ]
    }
   ],
   "source": [
    "def calculate_perimeter_triangle(a, b, c):\n",
    "    # Периметр — сумма всех сторон треугольника\n",
    "    perimeter = a + b + c\n",
    "    return perimeter\n",
    "\n",
    "def calculate_area_triangle(a, b, c):\n",
    "    # Вычисляем полупериметр \n",
    "    p = calculate_perimeter_triangle(a, b, c) / 2\n",
    "    # Вычисляем площадь по формуле Герона\n",
    "    area = (p * (p - a) * (p - b) * (p - c)) ** 0.5\n",
    "    return area\n",
    "\n",
    "print(calculate_perimeter_triangle(a=3, b=4, c=5))\n",
    "print(calculate_area_triangle(a=3, b=4, c=5))\n",
    "## 12\n",
    "## 6.0"
   ]
  },
  {
   "cell_type": "code",
   "execution_count": 114,
   "metadata": {},
   "outputs": [],
   "source": [
    "def triangle(p1, p2, p3):\n",
    "    # Функция для вычисления сторон треугольника\n",
    "    # По умолчанию параметры функции берутся из объемлющей области видимости\n",
    "    def sides(p1, p2, p3):\n",
    "        # Распаковываем кортежи для удобства, “;” означает новую строку кода\n",
    "        x1, y1 = p1; x2, y2 = p2; x3, y3 = p3\n",
    "        # Вычисляем стороны по теореме Пифагора\n",
    "        a = ((x2 - x1) ** 2 + (y2 - y1)** 2) ** 0.5\n",
    "        b = ((x3 - x1) ** 2 + (y3 - y1)** 2) ** 0.5\n",
    "        c = ((x3 - x2) ** 2 + (y3 - y2)** 2) ** 0.5\n",
    "        return a, b, c\n",
    "\n",
    "    # Функция для вычисления периметра треугольника\n",
    "    def calculate_perimeter_triangle(a, b, c):\n",
    "        # Периметр — сумма всех сторон треугольника\n",
    "        perimeter = a + b + c\n",
    "        return perimeter\n",
    "\n",
    "    # Функция для вычисления площади треугольника\n",
    "    def calculate_area_triangle(a, b, c):\n",
    "        # Вычисляем полупериметр \n",
    "        # Значение perimeter берётся из объемлющей области видимости\n",
    "        p = perimeter / 2\n",
    "        # Вычисляем площадь по формуле Герона\n",
    "        area = (p * (p - a) * (p - b) * (p - c)) ** 0.5\n",
    "        return area\n",
    "    a, b, c = sides(p1, p2, p3)\n",
    "    perimeter = calculate_perimeter_triangle(a, b, c)\n",
    "    area = calculate_area_triangle(a, b, c)\n",
    "    result = {'a': a, 'b': b, 'c': c, 'perimeter': perimeter, 'area': area}\n",
    "    return result"
   ]
  },
  {
   "cell_type": "code",
   "execution_count": 117,
   "metadata": {},
   "outputs": [
    {
     "name": "stdout",
     "output_type": "stream",
     "text": [
      "True\n",
      "False\n"
     ]
    }
   ],
   "source": [
    "def check_exist_triangle(a, b, c):\n",
    "    if (a+b > c) and (a+c > b) and (b+c > a):\n",
    "        return True\n",
    "    else:\n",
    "        return False\n",
    "    \n",
    "print(check_exist_triangle(a=3, b=4, c=5))\n",
    "## True\n",
    "print(check_exist_triangle(a=1.8, b=1.8, c=3.6))\n",
    "## False"
   ]
  },
  {
   "cell_type": "code",
   "execution_count": 118,
   "metadata": {},
   "outputs": [
    {
     "name": "stdout",
     "output_type": "stream",
     "text": [
      "2.23606797749979\n",
      "1.4142135623730951\n"
     ]
    }
   ],
   "source": [
    "def radius(p1,p2):\n",
    "    x1,y1 = p1\n",
    "    x2,y2 = p2\n",
    "    radi = ((x2-x1)**2 + (y2-y1)**2) ** 0.5\n",
    "    return radi\n",
    "\n",
    "print(radius(p1=(3, 2.5), p2=(4, 4.5)))\n",
    "## 2.23606797749979\n",
    "\n",
    "print(radius(p1=(0, 0), p2=(1, 1)))\n",
    "## 1.4142135623730951\n"
   ]
  },
  {
   "cell_type": "code",
   "execution_count": 122,
   "metadata": {},
   "outputs": [
    {
     "name": "stdout",
     "output_type": "stream",
     "text": [
      "{'radius': 2.23606797749979, 'circumference': 14.049662316226678, 'area': 15.708000000000002}\n"
     ]
    }
   ],
   "source": [
    "def circle(p1,p2):\n",
    "    def radius(p1,p2):\n",
    "        x1,y1 = p1\n",
    "        x2,y2 = p2\n",
    "        radi = ((x2-x1)**2 + (y2-y1)**2) ** 0.5\n",
    "        return radi\n",
    "    \n",
    "    r = radius(p1,p2)\n",
    "    \n",
    "    def calculate_circumference():\n",
    "        l = pi * r * 2\n",
    "        return l\n",
    "    \n",
    "    def calculate_area_circle():\n",
    "        s = pi * r**2\n",
    "        return s\n",
    "    l = calculate_circumference()\n",
    "    s = calculate_area_circle()\n",
    "    return {'radius': r, 'circumference': l, 'area':s}\n",
    "pi = 3.1416\n",
    "print(circle(p1=(3, 2.5), p2=(4, 4.5)))"
   ]
  },
  {
   "cell_type": "code",
   "execution_count": 123,
   "metadata": {},
   "outputs": [
    {
     "name": "stdout",
     "output_type": "stream",
     "text": [
      "(1.5, 1.0)\n"
     ]
    }
   ],
   "source": [
    "def semi_axes(p1, p2, p3):\n",
    "    x1,y1 = p1\n",
    "    x2,y2 = p2\n",
    "    x3,y3 = p3\n",
    "    a = ((x2-x1)**2 + (y2-y1)**2) ** 0.5\n",
    "    b = ((x3 - x1)**2 + (y3 - y1)**2) ** 0.5\n",
    "    return a,b\n",
    "\n",
    "print(semi_axes(p1=(3, 2.5), p2=(4.5, 2.5), p3=(3, 3.5)))\n",
    "## (1.5, 1.0)\n"
   ]
  },
  {
   "cell_type": "code",
   "execution_count": 126,
   "metadata": {},
   "outputs": [
    {
     "name": "stdout",
     "output_type": "stream",
     "text": [
      "{'a': 1.5, 'b': 1.0, 'area': 4.7124, 'length': 8.009539851951546}\n",
      "{'a': 1.0, 'b': 1.0, 'area': 3.1416, 'length': 6.2832}\n",
      "{'a': 1.0, 'b': 1.0, 'area': 3.14, 'length': 6.28}\n"
     ]
    }
   ],
   "source": [
    "def ellipse(p1,p2,p3):\n",
    "    def semi_axes(p1, p2, p3):\n",
    "        x1,y1 = p1\n",
    "        x2,y2 = p2\n",
    "        x3,y3 = p3\n",
    "        a = ((x2-x1)**2 + (y2-y1)**2) ** 0.5\n",
    "        b = ((x3 - x1)**2 + (y3 - y1)**2) ** 0.5\n",
    "        return a,b\n",
    "    \n",
    "    a,b = semi_axes(p1, p2, p3)\n",
    "    \n",
    "    def calculate_area_ellipse():\n",
    "        s = pi * a * b\n",
    "        return s\n",
    "    \n",
    "    def calculate_length_ellipse():\n",
    "        l = 2*pi * ((a**2 + b**2) / 2)**0.5\n",
    "        return l\n",
    "    \n",
    "    return {'a':a, 'b':b, 'area': calculate_area_ellipse(), 'length': calculate_length_ellipse()}\n",
    "pi = 3.1416\n",
    "print(ellipse(p1=(3, 2.5), p2=(4.5, 2.5), p3=(3, 3.5)))\n",
    "\n",
    "## {'a': 1.5, 'b': 1.0, 'length': 8.01, 'area': 4.712}\n",
    "\n",
    "pi = 3.1416\n",
    "print(ellipse(p1=(0, 0), p2=(0, 1), p3=(1, 0)))\n",
    "\n",
    "## {'a': 1.0, 'b': 1.0, 'length': 6.283, 'area': 3.142}\n",
    "\n",
    "pi = 3.14\n",
    "print(ellipse(p1=(0, 0), p2=(0, 1), p3=(1, 0)))\n",
    "## {'a': 1.0, 'b': 1.0, 'length': 6.28, 'area': 3.14}\n"
   ]
  },
  {
   "cell_type": "code",
   "execution_count": 138,
   "metadata": {},
   "outputs": [
    {
     "name": "stdout",
     "output_type": "stream",
     "text": [
      "[1, 5, 8, 19, 22, 54]\n",
      "[5, 8, 19, 22, 54]\n",
      "[8, 19, 22, 54]\n",
      "[19, 22, 54]\n",
      "[22, 54]\n",
      "[54]\n",
      "[]\n",
      "109\n"
     ]
    }
   ],
   "source": [
    "def sum_list(lst):\n",
    "    print(lst)\n",
    "    if not lst:\n",
    "        return 0\n",
    "    return lst[0]+ sum_list(lst[1:])\n",
    "my_list = [1,5,8,19,22,54]\n",
    "print(sum_list(my_list))"
   ]
  },
  {
   "cell_type": "code",
   "execution_count": 142,
   "metadata": {},
   "outputs": [
    {
     "name": "stdout",
     "output_type": "stream",
     "text": [
      "15.0\n",
      "1\n"
     ]
    }
   ],
   "source": [
    "def multiply_lst(lst):\n",
    "    if not lst:\n",
    "        return 1\n",
    "    return lst[0] * multiply_lst(lst[1:])\n",
    "\n",
    "print(multiply_lst([1, 5, 2, 1.5]))\n",
    "## 15\n",
    "print(multiply_lst([]))"
   ]
  },
  {
   "cell_type": "code",
   "execution_count": 143,
   "metadata": {},
   "outputs": [
    {
     "name": "stdout",
     "output_type": "stream",
     "text": [
      "0.475\n",
      "1.975\n",
      "0\n"
     ]
    }
   ],
   "source": [
    "def inv_sum_list(lst):\n",
    "    if not lst:\n",
    "        return 0\n",
    "    return 1/lst[0] + inv_sum_list(lst[1:])\n",
    "\n",
    "print(inv_sum_list([10, 4, 8]))\n",
    "## 0.475\n",
    "\n",
    "print(inv_sum_list([10, 1, 2, 4, 8]))\n",
    "## 1.975\n",
    "\n",
    "print(inv_sum_list([]))\n",
    "## 0"
   ]
  },
  {
   "cell_type": "code",
   "execution_count": 198,
   "metadata": {},
   "outputs": [
    {
     "data": {
      "text/plain": [
       "166.66666666666666"
      ]
     },
     "execution_count": 198,
     "metadata": {},
     "output_type": "execute_result"
    }
   ],
   "source": [
    "def factorial(n):\n",
    "    if n == 0 or n == 1: return 1\n",
    "    return n * factorial(n-1)\n",
    "factorial(1)\n",
    "\n",
    "(factorial(9)*2)/factorial(10)\n",
    "\n",
    "1000/6/4"
   ]
  },
  {
   "cell_type": "code",
   "execution_count": 156,
   "metadata": {},
   "outputs": [
    {
     "name": "stdout",
     "output_type": "stream",
     "text": [
      "252.0\n",
      "220.0\n",
      "1.0\n",
      "1.0\n"
     ]
    }
   ],
   "source": [
    "def combination(n, k):\n",
    "    def factorial(n):\n",
    "        if n == 0 or n == 1: return 1\n",
    "        return n * factorial(n-1)\n",
    "    return factorial(n)/(factorial(n-k) * factorial(k))\n",
    "\n",
    "print(combination(n=10, k=5))\n",
    "## 252.0\n",
    "print(combination(n=12, k=3))\n",
    "## 220.0\n",
    "print(combination(n=1, k=1))\n",
    "## 1.0\n",
    "print(combination(n=0, k=0))\n",
    "## 1.0\n"
   ]
  },
  {
   "cell_type": "code",
   "execution_count": 2,
   "metadata": {},
   "outputs": [],
   "source": [
    "from time import time\n",
    "import sys \n",
    "sys.setrecursionlimit(1000000000)"
   ]
  },
  {
   "cell_type": "code",
   "execution_count": 3,
   "metadata": {},
   "outputs": [
    {
     "name": "stdout",
     "output_type": "stream",
     "text": [
      "53.442723989486694\n"
     ]
    }
   ],
   "source": [
    "def factorial(n):\n",
    "    if n == 0 or n == 1: return 1\n",
    "    return n * factorial(n-1)\n",
    "a = time()\n",
    "for i in range(1000):\n",
    "    factorial(10000)\n",
    "b = time()\n",
    "print(b - a)"
   ]
  },
  {
   "cell_type": "code",
   "execution_count": 4,
   "metadata": {},
   "outputs": [
    {
     "name": "stdout",
     "output_type": "stream",
     "text": [
      "51.99227285385132\n"
     ]
    }
   ],
   "source": [
    "def factorial(n):\n",
    "    result = 1\n",
    "    for i in range(1,n+1):\n",
    "        result *= i\n",
    "    return result\n",
    "a = time()\n",
    "for i in range(1000):\n",
    "    factorial(10000)\n",
    "b = time()\n",
    "print(b - a)"
   ]
  },
  {
   "cell_type": "code",
   "execution_count": 13,
   "metadata": {},
   "outputs": [
    {
     "name": "stdout",
     "output_type": "stream",
     "text": [
      "Number is Chet\n"
     ]
    }
   ],
   "source": [
    "def chet_nechet(n):\n",
    "    if n < 2:\n",
    "        return (n % 2 == 0)\n",
    "    return (chet_nechet(n - 2))\n",
    "n = int(input('write  number'))\n",
    "if chet_nechet(n):\n",
    "    print('Number is Chet')\n",
    "else:\n",
    "    print('Number is NeChet')"
   ]
  },
  {
   "cell_type": "code",
   "execution_count": 27,
   "metadata": {},
   "outputs": [
    {
     "data": {
      "text/plain": [
       "5"
      ]
     },
     "execution_count": 27,
     "metadata": {},
     "output_type": "execute_result"
    }
   ],
   "source": [
    "def chechker_write(string, letter):\n",
    "    if not string:\n",
    "        return 0\n",
    "    elif string[0] == letter:\n",
    "        return 1 + chechker_write(string[1:], letter)\n",
    "    else:\n",
    "        return chechker_write(string[1:], letter)\n",
    "a = 'acdaaaa'\n",
    "b = 'a'\n",
    "chechker_write(a, b)   "
   ]
  },
  {
   "cell_type": "code",
   "execution_count": 64,
   "metadata": {},
   "outputs": [
    {
     "name": "stdout",
     "output_type": "stream",
     "text": [
      "0\n",
      "1\n",
      "1\n",
      "2\n"
     ]
    }
   ],
   "source": [
    "def fibonachi(n):\n",
    "    if 1 >= n:\n",
    "        return n\n",
    "    else:\n",
    "        return fibonachi(n-1) + fibonachi(n-2)\n",
    "n =  int(input('write number'))\n",
    "for i in range(n):\n",
    "    print(fibonachi(i))\n",
    "    \n",
    "    "
   ]
  },
  {
   "cell_type": "code",
   "execution_count": 65,
   "metadata": {},
   "outputs": [
    {
     "name": "stdout",
     "output_type": "stream",
     "text": [
      "1\n",
      "2\n",
      "6\n",
      "24\n",
      "120\n"
     ]
    },
    {
     "data": {
      "text/plain": [
       "120"
      ]
     },
     "execution_count": 65,
     "metadata": {},
     "output_type": "execute_result"
    }
   ],
   "source": [
    "def factorial(n):\n",
    "    if 1 >= n: return 1\n",
    "    return n * factorial(n-1)\n",
    "n = int(input('Write number to factorial calculate '))\n",
    "for i in range(1,n+1):\n",
    "    print(factorial(i))\n",
    "factorial(n)\n"
   ]
  },
  {
   "cell_type": "code",
   "execution_count": 62,
   "metadata": {},
   "outputs": [
    {
     "data": {
      "text/plain": [
       "11"
      ]
     },
     "execution_count": 62,
     "metadata": {},
     "output_type": "execute_result"
    }
   ],
   "source": [
    "def list_length(i_list, size):\n",
    "    if size == 0:\n",
    "        return 0\n",
    "    return (i_list[0] + list_length(i_list[1:],size-1))\n",
    "    \n",
    "size =  int(input('write size list'))\n",
    "i_list = []\n",
    "for i in range(size):\n",
    "    i_list.append(int(input('Write element list')))\n",
    "list_length(i_list, size)"
   ]
  },
  {
   "cell_type": "code",
   "execution_count": 10,
   "metadata": {},
   "outputs": [
    {
     "name": "stdout",
     "output_type": "stream",
     "text": [
      "10100"
     ]
    }
   ],
   "source": [
    "def convert(number):\n",
    "    if not number:\n",
    "        return l\n",
    "    l.append(number%2)\n",
    "    return convert(number//2)\n",
    "l = []\n",
    "try:\n",
    "    number = int(input('Write number to convert '))\n",
    "except Exception:\n",
    "    print(('Write to corrtect number'))\n",
    "l_list = convert(number)[::-1]\n",
    "for element in l_list:\n",
    "    print(element,end='')"
   ]
  },
  {
   "cell_type": "code",
   "execution_count": 15,
   "metadata": {},
   "outputs": [
    {
     "data": {
      "text/plain": [
       "[5, 3]"
      ]
     },
     "execution_count": 15,
     "metadata": {},
     "output_type": "execute_result"
    }
   ],
   "source": [
    "def sum_el_numbers(number):\n",
    "    #list_numbers.append(int(str(number[0])))\n",
    "    if number == 0:\n",
    "        return list_numbers\n",
    "    list_numbers.append(number % 10)\n",
    "    return sum_el_numbers(number // 10)\n",
    "list_numbers = []\n",
    "try:\n",
    "    number = int(input('write number'))\n",
    "except Exception:\n",
    "    print('Write correct number')\n",
    "sum_el_numbers(number)"
   ]
  },
  {
   "cell_type": "code",
   "execution_count": 13,
   "metadata": {},
   "outputs": [
    {
     "name": "stdout",
     "output_type": "stream",
     "text": [
      "Сумма цифр равна: 10\n"
     ]
    }
   ],
   "source": [
    "n = int(input(\"Введите число:\"))\n",
    "tot = 0\n",
    "while(n > 0):\n",
    "    dig = n % 10\n",
    "    tot = tot + dig\n",
    "    n = n//10\n",
    "print(\"Сумма цифр равна:\", tot)\n"
   ]
  },
  {
   "cell_type": "code",
   "execution_count": 30,
   "metadata": {},
   "outputs": [
    {
     "name": "stdout",
     "output_type": "stream",
     "text": [
      "9\n"
     ]
    }
   ],
   "source": [
    "try:\n",
    "    number = int(input('Write number'))\n",
    "except Exception:\n",
    "    print('Write correct number')\n",
    "sum_numbers = 0\n",
    "while number > 0:\n",
    "    sum_numbers += (number%10)\n",
    "    number =  number // 10\n",
    "print(sum_numbers)\n"
   ]
  },
  {
   "cell_type": "code",
   "execution_count": 31,
   "metadata": {},
   "outputs": [
    {
     "name": "stdout",
     "output_type": "stream",
     "text": [
      "10\n"
     ]
    }
   ],
   "source": [
    "try: \n",
    "    a = int(input('write number'))\n",
    "    b = int(input('write nok'))\n",
    "except Exception:\n",
    "    print('write correct data')\n",
    "lcm_multiple = 0\n",
    "def lgm(a,b):\n",
    "    global lcm_multiple\n",
    "    lcm_multiple = lcm_multiple + b\n",
    "    if (lcm_multiple % a == 0) and (lcm_multiple % b == 0):\n",
    "        return lcm_multiple\n",
    "    lgm(a,b)\n",
    "    return lcm_multiple\n",
    "if a > b:\n",
    "    LGM = lgm(a,b)\n",
    "else:\n",
    "    LGM = lgm(b,a)\n",
    "print(LGM)\n",
    "    \n"
   ]
  },
  {
   "cell_type": "code",
   "execution_count": 44,
   "metadata": {},
   "outputs": [
    {
     "ename": "RecursionError",
     "evalue": "maximum recursion depth exceeded",
     "output_type": "error",
     "traceback": [
      "\u001b[0;31m---------------------------------------------------------------------------\u001b[0m",
      "\u001b[0;31mRecursionError\u001b[0m                            Traceback (most recent call last)",
      "Cell \u001b[0;32mIn[44], line 15\u001b[0m\n\u001b[1;32m     13\u001b[0m \u001b[38;5;28;01mif\u001b[39;00m a \u001b[38;5;241m>\u001b[39m b:\n\u001b[1;32m     14\u001b[0m     nod_multile \u001b[38;5;241m=\u001b[39m b\n\u001b[0;32m---> 15\u001b[0m     nod \u001b[38;5;241m=\u001b[39m \u001b[43mlcm\u001b[49m\u001b[43m(\u001b[49m\u001b[43mb\u001b[49m\u001b[43m,\u001b[49m\u001b[43ma\u001b[49m\u001b[43m)\u001b[49m\n\u001b[1;32m     17\u001b[0m \u001b[38;5;28;01melse\u001b[39;00m:\n\u001b[1;32m     18\u001b[0m     nod_multile \u001b[38;5;241m=\u001b[39m a\n",
      "Cell \u001b[0;32mIn[44], line 11\u001b[0m, in \u001b[0;36mlcm\u001b[0;34m(a, b)\u001b[0m\n\u001b[1;32m      9\u001b[0m \u001b[38;5;28;01mif\u001b[39;00m (a \u001b[38;5;241m%\u001b[39m nod_multile \u001b[38;5;241m==\u001b[39m \u001b[38;5;241m0\u001b[39m) \u001b[38;5;129;01mand\u001b[39;00m (b \u001b[38;5;241m%\u001b[39m nod_multile \u001b[38;5;241m==\u001b[39m \u001b[38;5;241m0\u001b[39m):\n\u001b[1;32m     10\u001b[0m     \u001b[38;5;28;01mreturn\u001b[39;00m nod_multile\n\u001b[0;32m---> 11\u001b[0m \u001b[43mlcm\u001b[49m\u001b[43m(\u001b[49m\u001b[43ma\u001b[49m\u001b[43m,\u001b[49m\u001b[43mb\u001b[49m\u001b[43m)\u001b[49m\n\u001b[1;32m     12\u001b[0m \u001b[38;5;28;01mreturn\u001b[39;00m nod_multile \u001b[38;5;241m+\u001b[39m \u001b[38;5;241m1\u001b[39m\n",
      "Cell \u001b[0;32mIn[44], line 11\u001b[0m, in \u001b[0;36mlcm\u001b[0;34m(a, b)\u001b[0m\n\u001b[1;32m      9\u001b[0m \u001b[38;5;28;01mif\u001b[39;00m (a \u001b[38;5;241m%\u001b[39m nod_multile \u001b[38;5;241m==\u001b[39m \u001b[38;5;241m0\u001b[39m) \u001b[38;5;129;01mand\u001b[39;00m (b \u001b[38;5;241m%\u001b[39m nod_multile \u001b[38;5;241m==\u001b[39m \u001b[38;5;241m0\u001b[39m):\n\u001b[1;32m     10\u001b[0m     \u001b[38;5;28;01mreturn\u001b[39;00m nod_multile\n\u001b[0;32m---> 11\u001b[0m \u001b[43mlcm\u001b[49m\u001b[43m(\u001b[49m\u001b[43ma\u001b[49m\u001b[43m,\u001b[49m\u001b[43mb\u001b[49m\u001b[43m)\u001b[49m\n\u001b[1;32m     12\u001b[0m \u001b[38;5;28;01mreturn\u001b[39;00m nod_multile \u001b[38;5;241m+\u001b[39m \u001b[38;5;241m1\u001b[39m\n",
      "    \u001b[0;31m[... skipping similar frames: lcm at line 11 (2974 times)]\u001b[0m\n",
      "Cell \u001b[0;32mIn[44], line 11\u001b[0m, in \u001b[0;36mlcm\u001b[0;34m(a, b)\u001b[0m\n\u001b[1;32m      9\u001b[0m \u001b[38;5;28;01mif\u001b[39;00m (a \u001b[38;5;241m%\u001b[39m nod_multile \u001b[38;5;241m==\u001b[39m \u001b[38;5;241m0\u001b[39m) \u001b[38;5;129;01mand\u001b[39;00m (b \u001b[38;5;241m%\u001b[39m nod_multile \u001b[38;5;241m==\u001b[39m \u001b[38;5;241m0\u001b[39m):\n\u001b[1;32m     10\u001b[0m     \u001b[38;5;28;01mreturn\u001b[39;00m nod_multile\n\u001b[0;32m---> 11\u001b[0m \u001b[43mlcm\u001b[49m\u001b[43m(\u001b[49m\u001b[43ma\u001b[49m\u001b[43m,\u001b[49m\u001b[43mb\u001b[49m\u001b[43m)\u001b[49m\n\u001b[1;32m     12\u001b[0m \u001b[38;5;28;01mreturn\u001b[39;00m nod_multile \u001b[38;5;241m+\u001b[39m \u001b[38;5;241m1\u001b[39m\n",
      "\u001b[0;31mRecursionError\u001b[0m: maximum recursion depth exceeded"
     ]
    }
   ],
   "source": [
    "try: \n",
    "    a = int(input('write number'))\n",
    "    b = int(input('write nok'))\n",
    "except Exception:\n",
    "    print('write correct data')\n",
    "def lcm(a,b):\n",
    "    global nod_multile\n",
    "    \n",
    "    if (a % nod_multile == 0) and (b % nod_multile == 0):\n",
    "        return nod_multile\n",
    "    lcm(a,b)\n",
    "    return nod_multile + 1\n",
    "if a > b:\n",
    "    nod_multile = b\n",
    "    nod = lcm(b,a)\n",
    "    \n",
    "else:\n",
    "    nod_multile = a\n",
    "    nod = lcm(a,b)\n",
    "print(nod)"
   ]
  },
  {
   "cell_type": "code",
   "execution_count": 27,
   "metadata": {},
   "outputs": [
    {
     "name": "stdout",
     "output_type": "stream",
     "text": [
      "12\n",
      "11\n",
      "10\n",
      "9\n",
      "8\n",
      "7\n",
      "6\n",
      "5\n",
      "4\n",
      "3\n",
      "2\n",
      "1\n"
     ]
    },
    {
     "data": {
      "text/plain": [
       "True"
      ]
     },
     "execution_count": 27,
     "metadata": {},
     "output_type": "execute_result"
    }
   ],
   "source": [
    "number = int(input('Wrtie number'))\n",
    "def eas_number(number,b = None):\n",
    "    if b is None: b  = number - 1\n",
    "    print(b)\n",
    "    if number % b == 0:\n",
    "        return True\n",
    "    result = eas_number(number,b-1)\n",
    "    return result\n",
    "eas_number(number)"
   ]
  },
  {
   "cell_type": "code",
   "execution_count": 26,
   "metadata": {},
   "outputs": [
    {
     "data": {
      "text/plain": [
       "True"
      ]
     },
     "execution_count": 26,
     "metadata": {},
     "output_type": "execute_result"
    }
   ],
   "source": [
    "number = int(input('Wrtie number'))\n",
    "def check(number,b = None):\n",
    "    if b is None: b  = number - 1\n",
    "    while b >=2:\n",
    "        if number % b == 0:\n",
    "            print(\"Число не является простым\")\n",
    "            return False\n",
    "        else:\n",
    "            return check(n, b-1)\n",
    "    else:\n",
    "        print(\"Число является простым\")\n",
    "        return True\n",
    "        \n",
    "eas_number(number)"
   ]
  },
  {
   "cell_type": "code",
   "execution_count": 30,
   "metadata": {},
   "outputs": [
    {
     "data": {
      "text/plain": [
       "20"
      ]
     },
     "execution_count": 30,
     "metadata": {},
     "output_type": "execute_result"
    }
   ],
   "source": [
    "def summers(number_1,number_2):\n",
    "    if not number_2:\n",
    "        return 0\n",
    "    return number_1 + summers(number_1,number_2-1)\n",
    "    \n",
    "number_1 = int(input('write number'))\n",
    "number_2 = int(input('write number'))\n",
    "if number_1 > number_2:\n",
    "    our_sum = summers(number_1,number_2)\n",
    "else:\n",
    "    our_sum = summers(number_2,number_1)\n",
    "our_sum"
   ]
  },
  {
   "cell_type": "code",
   "execution_count": 32,
   "metadata": {},
   "outputs": [
    {
     "data": {
      "text/plain": [
       "25"
      ]
     },
     "execution_count": 32,
     "metadata": {},
     "output_type": "execute_result"
    }
   ],
   "source": [
    "def vozv_in_number(number,step):\n",
    "    if not step:\n",
    "        return 1\n",
    "    return number * vozv_in_number(number,step-1)\n",
    "number = int(input('write number'))\n",
    "step = int(input('write step'))\n",
    "vozv_in_number(number,step)"
   ]
  },
  {
   "cell_type": "code",
   "execution_count": 37,
   "metadata": {},
   "outputs": [
    {
     "name": "stdout",
     "output_type": "stream",
     "text": [
      "False\n"
     ]
    }
   ],
   "source": [
    "def polid(instr):\n",
    "    if not len(instr):\n",
    "        return True\n",
    "    if instr[0] == instr[-1]:\n",
    "        return polid(instr[1:-1])\n",
    "    else: \n",
    "        return False\n",
    "instr = input('write check string')\n",
    "a = polid(instr)\n",
    "print(a)"
   ]
  },
  {
   "cell_type": "code",
   "execution_count": 40,
   "metadata": {},
   "outputs": [
    {
     "data": {
      "text/plain": [
       "'dlrow olleh'"
      ]
     },
     "execution_count": 40,
     "metadata": {},
     "output_type": "execute_result"
    }
   ],
   "source": [
    "instr = input('write check string')\n",
    "def backend(instr):\n",
    "    if not instr:\n",
    "        return instr\n",
    "    return backend(instr[1:])+ instr[0]\n",
    "backend(instr)"
   ]
  },
  {
   "cell_type": "code",
   "execution_count": 44,
   "metadata": {},
   "outputs": [
    {
     "data": {
      "text/plain": [
       "[1, 2, 3, 4, 5, 6, 7, 8, 9, 10, 11, 12, 13, 14, 15, 16, 17, 18]"
      ]
     },
     "execution_count": 44,
     "metadata": {},
     "output_type": "execute_result"
    }
   ],
   "source": [
    "words_list = [[[1, 2], [3, 4], [5, 6]],\n",
    "[[7, 8], [9, 10], [11, 12]],\n",
    "[[13, 14], [15, 16], [17, 18]]]\n",
    "def preobraz(words_list):\n",
    "    if not words_list:\n",
    "        return words_list\n",
    "    if isinstance(words_list[0],list):\n",
    "        return preobraz(words_list[0])+preobraz(words_list[1:])\n",
    "    return words_list[:1] + preobraz(words_list[1:])\n",
    "preobraz(words_list)"
   ]
  },
  {
   "cell_type": "code",
   "execution_count": 46,
   "metadata": {},
   "outputs": [
    {
     "data": {
      "text/plain": [
       "10"
      ]
     },
     "execution_count": 46,
     "metadata": {},
     "output_type": "execute_result"
    }
   ],
   "source": [
    "\n",
    "def sum_preobraz(words_list):\n",
    "    sum_list = 0\n",
    "    if words_list:\n",
    "        for element in words_list:\n",
    "            if type(element) == list:\n",
    "               sum_list += sum_preobraz(element)\n",
    "            else:\n",
    "                sum_list += element\n",
    "        return sum_list\n",
    "sum_preobraz(words_list=[[1, 2], [3, 4]])\n",
    "    "
   ]
  },
  {
   "cell_type": "code",
   "execution_count": 48,
   "metadata": {},
   "outputs": [
    {
     "name": "stdout",
     "output_type": "stream",
     "text": [
      "10\n"
     ]
    },
    {
     "data": {
      "text/plain": [
       "10"
      ]
     },
     "execution_count": 48,
     "metadata": {},
     "output_type": "execute_result"
    }
   ],
   "source": [
    "def len_list(words_list):\n",
    "    if not words_list:\n",
    "        return 0\n",
    "    return 1 + len_list(words_list[1:])\n",
    "print(len([1,3,3,3,3,3,3,3,3,3,]))\n",
    "len_list(words_list=[1,3,3,3,3,3,3,3,3,3,])\n",
    "    "
   ]
  },
  {
   "cell_type": "code",
   "execution_count": 56,
   "metadata": {},
   "outputs": [
    {
     "data": {
      "text/plain": [
       "5"
      ]
     },
     "execution_count": 56,
     "metadata": {},
     "output_type": "execute_result"
    }
   ],
   "source": [
    "def fib(n):\n",
    "    if n == 1 or n == 2: return 1 \n",
    "    return (fib(n-1) + fib(n-2))\n",
    "fib(5)"
   ]
  },
  {
   "cell_type": "code",
   "execution_count": 57,
   "metadata": {},
   "outputs": [
    {
     "data": {
      "text/plain": [
       "625"
      ]
     },
     "execution_count": 57,
     "metadata": {},
     "output_type": "execute_result"
    }
   ],
   "source": [
    "def power(val, n):\n",
    "    if n == 1:\n",
    "        return val\n",
    "    return val * power(val,n-1)\n",
    "power(5,4)"
   ]
  },
  {
   "cell_type": "code",
   "execution_count": 68,
   "metadata": {},
   "outputs": [
    {
     "name": "stdout",
     "output_type": "stream",
     "text": [
      "e(x(a(e)m)p)l\n"
     ]
    }
   ],
   "source": [
    "def add_bracker(inp_str):\n",
    "    if len(inp_str) == 1 or len(inp_str) == 2:\n",
    "        return inp_str\n",
    "    return inp_str[0] +'('+ add_bracker(inp_str[1:-1])  +')' +inp_str[-1]\n",
    "b = add_bracker('exaempl')\n",
    "print(b)"
   ]
  },
  {
   "cell_type": "code",
   "execution_count": 69,
   "metadata": {},
   "outputs": [
    {
     "name": "stdout",
     "output_type": "stream",
     "text": [
      "h*e*l*l*o\n",
      "L*I*t*B*e*o*F*L*c*S*G*B*O*F*Q*x*M*H*o*I*u*D*D*W*c*q*c*V*g*k*c*R*o*A*e*o*c*X*O\n",
      "g*k*a*f*k*a*f*kK*d*a*f*l*k*f*a\n"
     ]
    }
   ],
   "source": [
    "def add_asterisk(inp_str):\n",
    "    if len(inp_str) == 2 or len(inp_str) == 1:\n",
    "        return inp_str\n",
    "    return inp_str[0] + '*' + add_asterisk(inp_str[1:-1]) + '*' + inp_str[-1]\n",
    "print(add_asterisk('hello'))\n",
    "## h*e*l*l*o\n",
    "print(add_asterisk('LItBeoFLcSGBOFQxMHoIuDDWcqcVgkcRoAeocXO'))\n",
    "## L*I*t*B*e*o*F*L*c*S*G*B*O*F*Q*x*M*H*o*I*u*D*D*W*c*q*c*V*g*k*c*R*o*A*e*o*c*X*O\n",
    "print(add_asterisk('gkafkafkKdaflkfa'))\n",
    "## g*k*a*f*k*a*f*k*K*d*a*f*l*k*f*a\n"
   ]
  },
  {
   "cell_type": "code",
   "execution_count": 83,
   "metadata": {},
   "outputs": [
    {
     "data": {
      "text/plain": [
       "[1, 2, 3, 4, 5, 6, 7, 8, 9, 10, 11, 12, 13, 14, 15, 16, 17, 18]"
      ]
     },
     "execution_count": 83,
     "metadata": {},
     "output_type": "execute_result"
    }
   ],
   "source": [
    "def flatten(inp_list):\n",
    "    if not inp_list:\n",
    "        return inp_list\n",
    "    if isinstance(inp_list[0],list):\n",
    "        return flatten(inp_list[0]) + flatten(inp_list[1:])\n",
    "    return inp_list[:1] + flatten(inp_list[1:])\n",
    "\n",
    "matrix = [\n",
    "    [1, 1, 0],\n",
    "    [4, 2, 1],\n",
    "    [0, 2, 1]\n",
    "]\n",
    "matrix1 = [[[1, 2], [3, 4], [5, 6]],\n",
    "[[7, 8], [9, 10], [11, 12]],\n",
    "[[13, 14], [15, 16], [17, 18]]]\n",
    "flatten(matrix1)\n",
    "        "
   ]
  },
  {
   "cell_type": "code",
   "execution_count": 78,
   "metadata": {},
   "outputs": [
    {
     "data": {
      "text/plain": [
       "[1, 1, 0, 4, 2, 1, 0, 2, 1]"
      ]
     },
     "execution_count": 78,
     "metadata": {},
     "output_type": "execute_result"
    }
   ],
   "source": [
    "words_list = [[[1, 2], [3, 4], [5, 6]],\n",
    "[[7, 8], [9, 10], [11, 12]],\n",
    "[[13, 14], [15, 16], [17, 18]]]\n",
    "\n",
    "def preobraz(words_list):\n",
    "    if not words_list:\n",
    "        return words_list\n",
    "    if isinstance(words_list[0],list):\n",
    "        return preobraz(words_list[0])+preobraz(words_list[1:])\n",
    "    return words_list[:1] + preobraz(words_list[1:])\n",
    "\n",
    "preobraz(matrix)"
   ]
  },
  {
   "cell_type": "code",
   "execution_count": 28,
   "metadata": {},
   "outputs": [
    {
     "name": "stdout",
     "output_type": "stream",
     "text": [
      "{1: {'parrent_link': None, 'child_link': [3, 4]}, 2: {'parrent_link': None, 'child_link': [5]}, 3: {'parrent_link': 1, 'child_link': [6]}, 4: {'parrent_link': 1, 'child_link': []}, 5: {'parrent_link': 2, 'child_link': []}, 6: {'parrent_link': 3, 'child_link': []}}\n",
      "{1: {'parrent_link': None, 'child_link': [3, 4]}, 2: {'parrent_link': None, 'child_link': [5]}, 3: {'parrent_link': 1, 'child_link': [6]}, 4: {'parrent_link': 1, 'child_link': []}, 6: {'parrent_link': 3, 'child_link': []}}\n",
      "{'parrent_link': 2, 'child_link': []} [] 2\n",
      "{1: {'parrent_link': None, 'child_link': [3, 4]}, 2: {'parrent_link': None, 'child_link': []}, 3: {'parrent_link': 1, 'child_link': [6]}, 4: {'parrent_link': 1, 'child_link': []}, 6: {'parrent_link': 3, 'child_link': []}}\n",
      "{1: {'parrent_link': None, 'child_link': [3, 4]}, 2: {'parrent_link': None, 'child_link': []}, 3: {'parrent_link': 1, 'child_link': [6]}, 4: {'parrent_link': 1, 'child_link': []}, 6: {'parrent_link': 3, 'child_link': []}}\n",
      "{1: {'parrent_link': None, 'child_link': [3, 4]}, 2: {'parrent_link': None, 'child_link': []}, 4: {'parrent_link': 1, 'child_link': []}, 6: {'parrent_link': 3, 'child_link': []}}\n",
      "{'parrent_link': 1, 'child_link': [6]} [6] 1\n",
      "6\n",
      "{1: {'parrent_link': None, 'child_link': [3, 4]}, 2: {'parrent_link': None, 'child_link': []}, 4: {'parrent_link': 1, 'child_link': []}, 6: {'parrent_link': 3, 'child_link': []}}\n",
      "{1: {'parrent_link': None, 'child_link': [3, 4]}, 2: {'parrent_link': None, 'child_link': []}, 4: {'parrent_link': 1, 'child_link': []}}\n",
      "{'parrent_link': 3, 'child_link': []} [] 3\n",
      "{1: {'parrent_link': None, 'child_link': [4]}, 2: {'parrent_link': None, 'child_link': []}, 4: {'parrent_link': 1, 'child_link': []}}\n"
     ]
    },
    {
     "data": {
      "text/plain": [
       "{1: {'parrent_link': None, 'child_link': [4]},\n",
       " 2: {'parrent_link': None, 'child_link': []},\n",
       " 4: {'parrent_link': 1, 'child_link': []}}"
      ]
     },
     "execution_count": 28,
     "metadata": {},
     "output_type": "execute_result"
    }
   ],
   "source": [
    "forum_messages = {\n",
    "    1: {'parrent_link': None, 'child_link': [3, 4]},\n",
    "    2: {'parrent_link': None, 'child_link': [5]},\n",
    "    3: {'parrent_link': 1, 'child_link': [6]},\n",
    "    4: {'parrent_link': 1, 'child_link': []},\n",
    "    5: {'parrent_link': 2, 'child_link': []},\n",
    "    6: {'parrent_link': 3, 'child_link': []}\n",
    "}\n",
    "def delete_msg(message, msg_id):\n",
    "    print(message)\n",
    "    result = message.pop(msg_id)\n",
    "    parent_link = result['parrent_link']\n",
    "    child_link = result['child_link']\n",
    "    print(message)\n",
    "    print(result,child_link,parent_link)\n",
    "    if child_link:\n",
    "        for element in child_link:\n",
    "            print(element)\n",
    "            delete_msg(message,msg_id=element)\n",
    "    if parent_link and (parent_link in message):\n",
    "        message[parent_link]['child_link'].remove(msg_id)\n",
    "        print(message)\n",
    "    return message\n",
    "\n",
    "delete_msg(forum_messages, msg_id= 5)\n",
    "delete_msg(forum_messages, msg_id=3)"
   ]
  },
  {
   "cell_type": "code",
   "execution_count": 33,
   "metadata": {},
   "outputs": [
    {
     "name": "stdout",
     "output_type": "stream",
     "text": [
      "key1 ->\n",
      "  key2 ->\n",
      "    ['value1', 'value2']\n",
      "  key3 ->\n",
      "    key4 ->\n",
      "      ['value3']\n",
      "key5 ->\n",
      "  key6 ->\n",
      "    key7 ->\n",
      "      ['value3', 'value5', 'value6']\n"
     ]
    }
   ],
   "source": [
    "input_dict = {\n",
    "    'key1': {\n",
    "        'key2': ['value1', 'value2'], \n",
    "        'key3': {\n",
    "            'key4': ['value3']\n",
    "        }\n",
    "    }, \n",
    "    'key5': {\n",
    "        'key6': {\n",
    "            'key7': ['value3', 'value5', 'value6']\n",
    "        }\n",
    "    }\n",
    "}\n",
    "def print_dict(input_data, level=0):\n",
    "    # Если input_data — словарь \n",
    "    if type(input_data) is dict:\n",
    "        # Создаём цикл по ключам словаря\n",
    "        for key in input_data:\n",
    "            # Выводим ключ в формате \"<пробелы> <имя ключа> ->\"\n",
    "            print('  ' * level + '{} ->'.format(key))\n",
    "            level += 1\n",
    "            # Повторяем те же операции для каждого значения словаря\n",
    "            print_dict(input_data[key], level=level) \n",
    "            level -= 1\n",
    "    else: # В противном случае\n",
    "        # Выводим значения в формате \"<пробелы> <значения>\"\n",
    "        print('  ' * level + str(input_data))\n",
    "print_dict(input_dict)\n"
   ]
  },
  {
   "cell_type": "code",
   "execution_count": 44,
   "metadata": {},
   "outputs": [
    {
     "name": "stdout",
     "output_type": "stream",
     "text": [
      "[2, 3, 5, 6, 8, 9, 84]\n"
     ]
    }
   ],
   "source": [
    "\n",
    "def merge_sort(nums): \n",
    "    if len(nums) > 1: \n",
    "        mid = len(nums)//2\n",
    "        left = nums[:mid] \n",
    "        right = nums[mid:]\n",
    "        merge_sort(left) \n",
    "        merge_sort(right) \n",
    "        i = j = k = 0\n",
    "        while i < len(left) and j < len(right): \n",
    "            if left[i] < right[j]: \n",
    "                nums[k] = left[i] \n",
    "                i+=1\n",
    "            else: \n",
    "                nums[k] = right[j] \n",
    "                j+=1\n",
    "            k+=1\n",
    "        while i < len(left): \n",
    "            nums[k] = left[i] \n",
    "            i+=1\n",
    "            k+=1\n",
    "        while j < len(right): \n",
    "            nums[k] = right[j] \n",
    "            j+=1\n",
    "            k+=1\n",
    "            \n",
    "\n",
    "\n",
    "nums = [5, 2, 3, 6, 84, 9, 8]\n",
    "merge_sort(nums)\n",
    "print(nums)\n",
    "        "
   ]
  },
  {
   "cell_type": "code",
   "execution_count": 53,
   "metadata": {},
   "outputs": [
    {
     "name": "stdout",
     "output_type": "stream",
     "text": [
      "Hello world\n"
     ]
    }
   ],
   "source": [
    "p = print\n",
    "p('Hello world')"
   ]
  },
  {
   "cell_type": "code",
   "execution_count": 55,
   "metadata": {},
   "outputs": [
    {
     "name": "stdout",
     "output_type": "stream",
     "text": [
      "<class 'function'>\n"
     ]
    }
   ],
   "source": [
    "def apply_func(func, numbers):\n",
    "    return func(numbers)\n",
    "apply_func(max,[12,3,4,5,6,7])\n",
    "print(type(apply_func))"
   ]
  },
  {
   "cell_type": "code",
   "execution_count": 58,
   "metadata": {},
   "outputs": [
    {
     "data": {
      "text/plain": [
       "[5, 2, 1, 5, 7, 4, 7, 2, 8, 7, 8]"
      ]
     },
     "execution_count": 58,
     "metadata": {},
     "output_type": "execute_result"
    }
   ],
   "source": [
    "words_list = [\"We're\", 'in', 'a', 'small', 'village', 'near', 'Chicago', 'My', \"cousin's\", 'getting', 'married.']\n",
    "list(map(len,words_list))"
   ]
  },
  {
   "cell_type": "code",
   "execution_count": 59,
   "metadata": {},
   "outputs": [
    {
     "data": {
      "text/plain": [
       "[203, 752, 2537, 852]"
      ]
     },
     "execution_count": 59,
     "metadata": {},
     "output_type": "execute_result"
    }
   ],
   "source": [
    "expenses = [(101, 203, 167), (214, 351, 752), (255, 2537), (852, 362, 366)]\n",
    "list(map(max,expenses))"
   ]
  },
  {
   "cell_type": "code",
   "execution_count": 62,
   "metadata": {},
   "outputs": [
    {
     "data": {
      "text/plain": [
       "[1, 2, 3, 4, 5, 6, 7]"
      ]
     },
     "execution_count": 62,
     "metadata": {},
     "output_type": "execute_result"
    }
   ],
   "source": [
    "old_list = ['1', '2', '3', '4', '5', '6', '7']\n",
    "new_list = list(map(int,old_list))\n",
    "new_list"
   ]
  },
  {
   "cell_type": "code",
   "execution_count": 63,
   "metadata": {},
   "outputs": [
    {
     "data": {
      "text/plain": [
       "[15571, 19984, 9749, 15393, 8357, 21027]"
      ]
     },
     "execution_count": 63,
     "metadata": {},
     "output_type": "execute_result"
    }
   ],
   "source": [
    "expenses = [[2356, 4537, 8678], [7395, 1298, 6500, 4791],[6341, 3408], [1105, 8374, 5914], [1024, 7333], [3500, 2008, 9375, 6144]]  \n",
    "## expenses_sum = [15571, 19984, 9749, 15393, 8357, 21027]\n",
    "\n",
    "expenses_sum = list(map(sum,expenses))\n",
    "expenses_sum"
   ]
  },
  {
   "cell_type": "code",
   "execution_count": 64,
   "metadata": {},
   "outputs": [
    {
     "data": {
      "text/plain": [
       "[1350.0, 1870.0, 2975.0, 1080.0]"
      ]
     },
     "execution_count": 64,
     "metadata": {},
     "output_type": "execute_result"
    }
   ],
   "source": [
    "def nalog(zp):\n",
    "    if zp < 1000:\n",
    "        return zp * 0.95\n",
    "    elif zp < 2000:\n",
    "        return zp * 0.90\n",
    "    else:\n",
    "        return zp * 0.85\n",
    "salaries = [1500, 2200, 3500, 1200]\n",
    "list(map(nalog,salaries))"
   ]
  },
  {
   "cell_type": "code",
   "execution_count": 68,
   "metadata": {},
   "outputs": [
    {
     "name": "stdout",
     "output_type": "stream",
     "text": [
      "{'Преступление и наказание': [\"('преступление\", 'и', \"наказание'\", \"'а\", 'знаешь', 'ли', 'что', 'низкие', 'потолки', 'и', 'тесные', 'комнаты', 'душу', 'и', 'ум', \"теснят')\"], 'Война и мир': [\"('война\", 'и', \"мир'\", \"'и\", 'нет', 'величия', 'там', 'где', 'нет', 'простоты', 'добра', 'и', \"правды')\"], 'Анна Каренина': [\"('анна\", \"каренина'\", \"'если\", 'искать', 'совершенства', 'то', 'никогда', 'не', 'будешь', \"доволен')\"], 'Детство': [\"('детство'\", \"'правил\", 'у', 'нас', 'много', 'а', 'правды', \"нет')\"], 'Колесо времени': [\"('колесо\", \"времени'\", \"'ничто\", 'так', 'на', 'соединяет', 'людей', 'как', \"улыбка')\"]}\n"
     ]
    }
   ],
   "source": [
    "quotes_dict = {\n",
    "    'Преступление и наказание': 'А знаешь ли... что низкие потолки и тесные комнаты душу и ум теснят.', \n",
    "    'Война и мир': 'И нет величия там, где нет простоты, добра и правды.', \n",
    "    'Анна Каренина': 'Если искать совершенства, то никогда не будешь доволен.', \n",
    "    'Детство': 'Правил у нас много, а правды нет.', \n",
    "    'Колесо времени': 'Ничто так на соединяет людей, как улыбка.'\n",
    "}\n",
    "\n",
    "def transform_text(text):\n",
    "    name, new_text = text\n",
    "    new_text = str(text).lower()\n",
    "    new_text = new_text.replace('.','')\n",
    "    new_text = new_text.replace(',','')\n",
    "    return (name,new_text.split())\n",
    "processed_quotes_dict = dict(map(transform_text, quotes_dict.items()))\n",
    "print(processed_quotes_dict)"
   ]
  },
  {
   "cell_type": "code",
   "execution_count": 90,
   "metadata": {},
   "outputs": [
    {
     "data": {
      "text/plain": [
       "{'Штаны': 1995.0,\n",
       " 'Кофта': 1444.0,\n",
       " 'Свитер': 3344.0,\n",
       " 'Галстук': 741.0,\n",
       " 'Ремень': 1320.5}"
      ]
     },
     "execution_count": 90,
     "metadata": {},
     "output_type": "execute_result"
    }
   ],
   "source": [
    "prices = {'Штаны': 2100, 'Кофта': 1520, 'Свитер': 3520, 'Галстук': 780, 'Ремень': 1390}  \n",
    "def price_sale(price):\n",
    "    name,schet = price\n",
    "    return name,round(schet*0.95,2)\n",
    "dict(map(price_sale,prices.items()))\n"
   ]
  },
  {
   "cell_type": "code",
   "execution_count": 91,
   "metadata": {},
   "outputs": [
    {
     "data": {
      "text/plain": [
       "[1331, 1728, 2197, 2744, 3375, 4096]"
      ]
     },
     "execution_count": 91,
     "metadata": {},
     "output_type": "execute_result"
    }
   ],
   "source": [
    "number_list = [11, 12, 13, 14, 15, 16]\n",
    "list(map(lambda x: x**3, number_list))"
   ]
  },
  {
   "cell_type": "code",
   "execution_count": 93,
   "metadata": {},
   "outputs": [
    {
     "data": {
      "text/plain": [
       "['шалаш', 'казак', 'морднилап', 'рвал дед лавр']"
      ]
     },
     "execution_count": 93,
     "metadata": {},
     "output_type": "execute_result"
    }
   ],
   "source": [
    "str_list = ['шалаш', 'казак', 'палиндром', 'рвал дед лавр']\n",
    "list(map(lambda x: x[::-1],str_list))"
   ]
  },
  {
   "cell_type": "code",
   "execution_count": 98,
   "metadata": {},
   "outputs": [
    {
     "data": {
      "text/plain": [
       "[('Amanda', 1.61, 51, 19.7),\n",
       " ('Patricia', 1.65, 61, 22.4),\n",
       " ('Marcos', 1.91, 101, 27.7)]"
      ]
     },
     "execution_count": 98,
     "metadata": {},
     "output_type": "execute_result"
    }
   ],
   "source": [
    "map_func = lambda x: (x[0], x[1], x[2], round(x[2] / (x[1]**2), 1))\n",
    "data = [('Amanda', 1.61, 51), ('Patricia', 1.65, 61), ('Marcos', 1.91, 101)]\n",
    "list(map(map_func,data))"
   ]
  },
  {
   "cell_type": "code",
   "execution_count": 100,
   "metadata": {},
   "outputs": [
    {
     "data": {
      "text/plain": [
       "['Mr_Boris', 'Mr_Ivan', 'Mr_Bob']"
      ]
     },
     "execution_count": 100,
     "metadata": {},
     "output_type": "execute_result"
    }
   ],
   "source": [
    "guests = [\"Boris\", \"Ivan\", \"Bob\"]  \n",
    "list(map(lambda x: 'Mr_'+ x, guests))"
   ]
  },
  {
   "cell_type": "code",
   "execution_count": 101,
   "metadata": {},
   "outputs": [
    {
     "data": {
      "text/plain": [
       "['https://www.kommersant.ru//doc/5041434?query=data%20science',\n",
       " 'https://www.kommersant.ru//doc/5041567?query=data%20science',\n",
       " 'https://www.kommersant.ru//doc/4283670?query=data%20science',\n",
       " 'https://www.kommersant.ru//doc/3712659?query=data%20science',\n",
       " 'https://www.kommersant.ru//doc/4997267?query=data%20science',\n",
       " 'https://www.kommersant.ru//doc/4372673?query=data%20science',\n",
       " 'https://www.kommersant.ru//doc/3779060?query=data%20science',\n",
       " 'https://www.kommersant.ru//doc/3495410?query=data%20science',\n",
       " 'https://www.kommersant.ru//doc/4308832?query=data%20science',\n",
       " 'https://www.kommersant.ru//doc/4079881?query=data%20science']"
      ]
     },
     "execution_count": 101,
     "metadata": {},
     "output_type": "execute_result"
    }
   ],
   "source": [
    "docs = [  \n",
    "'//doc/5041434?query=data%20science',  \n",
    "'//doc/5041567?query=data%20science',  \n",
    "'//doc/4283670?query=data%20science',  \n",
    "'//doc/3712659?query=data%20science',  \n",
    "'//doc/4997267?query=data%20science',  \n",
    "'//doc/4372673?query=data%20science',  \n",
    "'//doc/3779060?query=data%20science',  \n",
    "'//doc/3495410?query=data%20science',  \n",
    "'//doc/4308832?query=data%20science',  \n",
    "'//doc/4079881?query=data%20science'  \n",
    "]\n",
    "list(map(lambda x: \"https://www.kommersant.ru\"+x,docs))"
   ]
  },
  {
   "cell_type": "code",
   "execution_count": 106,
   "metadata": {},
   "outputs": [
    {
     "data": {
      "text/plain": [
       "[(0.00632, 6.575, 65.2, 296.0, 4.98, 9.32),\n",
       " (0.02731, 6.421, 78.9, 242.0, 9.14, 60.41),\n",
       " (0.02729, 7.185, 61.1, 242.0, 4.03, 26.61),\n",
       " (0.03237, 6.998, 45.8, 222.0, 2.94, 21.13),\n",
       " (0.06905, 7.147, 54.2, 222.0, 5.33, 81.7),\n",
       " (0.02985, 6.43, 58.7, 222.0, 5.21, 34.53),\n",
       " (0.08829, 6.012, 66.6, 311.0, 12.43, 341.31)]"
      ]
     },
     "execution_count": 106,
     "metadata": {},
     "output_type": "execute_result"
    }
   ],
   "source": [
    "data = [(0.00632, 6.575, 65.2, 296.0, 4.98),  \n",
    "(0.02731, 6.421, 78.9, 242.0, 9.14),  \n",
    "(0.02729, 7.185, 61.1, 242.0, 4.03),  \n",
    "(0.03237, 6.998, 45.8, 222.0, 2.94),  \n",
    "(0.06905, 7.147, 54.2, 222.0, 5.33),  \n",
    "(0.02985, 6.43, 58.7, 222.0, 5.21),  \n",
    "(0.08829, 6.012, 66.6, 311.0, 12.43)]\n",
    "\n",
    "updated_data = list(map(lambda x: (x[0],x[1],x[2],x[3],x[4],round(x[0]*x[4]*x[3],2)),data))\n",
    "updated_data"
   ]
  },
  {
   "cell_type": "code",
   "execution_count": 108,
   "metadata": {},
   "outputs": [
    {
     "data": {
      "text/plain": [
       "['in', 'near', 'My', \"cousin's\", 'married.']"
      ]
     },
     "execution_count": 108,
     "metadata": {},
     "output_type": "execute_result"
    }
   ],
   "source": [
    "words_list = [\"We're\", 'in', 'a', 'small', 'village', 'near', 'Chicago', 'My', \"cousin's\", 'getting', 'married.']\n",
    "\n",
    "def words_list_sort(string):\n",
    "    return len(string) % 2 == 0\n",
    "\n",
    "list(filter(words_list_sort, words_list))"
   ]
  },
  {
   "cell_type": "code",
   "execution_count": 109,
   "metadata": {},
   "outputs": [
    {
     "data": {
      "text/plain": [
       "['in', 'near', 'My', \"cousin's\", 'married.']"
      ]
     },
     "execution_count": 109,
     "metadata": {},
     "output_type": "execute_result"
    }
   ],
   "source": [
    "words_list = [\"We're\", 'in', 'a', 'small', 'village', 'near', 'Chicago', 'My', \"cousin's\", 'getting', 'married.']\n",
    "list(filter(lambda x: len(x)%2 == 0, words_list))"
   ]
  },
  {
   "cell_type": "code",
   "execution_count": 112,
   "metadata": {},
   "outputs": [
    {
     "data": {
      "text/plain": [
       "['Москва', 'зацвело', 'рассвет']"
      ]
     },
     "execution_count": 112,
     "metadata": {},
     "output_type": "execute_result"
    }
   ],
   "source": [
    "str_tuple = (\"Москва\", \"15.1 см\", \"зацвело\", \"было пол 5 утра\", \"рассвет\")\n",
    "list(filter(lambda x: x.isalpha(),str_tuple))"
   ]
  },
  {
   "cell_type": "code",
   "execution_count": 116,
   "metadata": {},
   "outputs": [
    {
     "data": {
      "text/plain": [
       "[('FPW-2.0', 'Бонус: Тренажер по JavaScript', 9.2, 70, 180),\n",
       " ('FPW-2.0', 'Бонусный: IT в современном мире', 8.64, 83.74, 856)]"
      ]
     },
     "execution_count": 116,
     "metadata": {},
     "output_type": "execute_result"
    }
   ],
   "source": [
    "data = [\n",
    "    (\"FPW-2.0_D\", \"Бонус: Тренажер по HTML\", 10, 100, 10),\n",
    "    (\"FPW-2.0\", \"Бонус: Тренажер по JavaScript\", 9.2, 70, 180),\n",
    "    (\"FPW-2.0_D\", \"Бонус: Тренажер по React\", 8.5, 66.67, 68),\n",
    "    (\"FPW-2.0\", \"Бонусный: IT в современном мире\", 8.64, 83.74, 856),\n",
    "    (\"FPW-2.0\", \"Бонусный: Введение\", 8.73, 56.24, 745),\n",
    "    (\"FPW-2.0\", \"Бонус: D1. Знакомство с Django (NEW)\", 9.76, 95.24, 21),\n",
    "    (\"FPW-2.0_D\", \"Бонус: D2. Модели (NEW)\", 9.44, 77.78, 18)\n",
    "]\n",
    "\n",
    "list(filter(lambda x: (x[0] == 'FPW-2.0'and x[3]>=70 and x[4]>50),data))"
   ]
  },
  {
   "cell_type": "code",
   "execution_count": 117,
   "metadata": {},
   "outputs": [
    {
     "data": {
      "text/plain": [
       "[25683, 17683, 28973]"
      ]
     },
     "execution_count": 117,
     "metadata": {},
     "output_type": "execute_result"
    }
   ],
   "source": [
    "prices = [34562, 66572, 25683, 17683, 56389, 28973]\n",
    "## filtered_prices = [25683, 17683, 28973]\n",
    "filtered_prices = list(filter(lambda x: x<30000,prices))\n",
    "filtered_prices"
   ]
  },
  {
   "cell_type": "code",
   "execution_count": 118,
   "metadata": {},
   "outputs": [
    {
     "name": "stdout",
     "output_type": "stream",
     "text": [
      "['parking permit', 'maternity capital', 'tax benefit']\n"
     ]
    }
   ],
   "source": [
    "family_list = [\n",
    "    'certificate of a large family',\n",
    "    'social card',\n",
    "    'maternity capital',\n",
    "    'parking permit',\n",
    "    'tax benefit',\n",
    "    'reimbursement of expenses',\n",
    "    \"compensation for the purchase of children's goods\"\n",
    " ]\n",
    "def filter_family(family_list1):\n",
    "    sorted_huini = list(filter(lambda x: x in family_list,family_list1 ))\n",
    "    return sorted_huini\n",
    "print(filter_family(['newborn registration', 'parking permit', \n",
    "                     'maternity capital', 'tax benefit', 'medical policy']))\n",
    "## ['parking permit', 'maternity capital', 'tax benefit']\n"
   ]
  },
  {
   "cell_type": "code",
   "execution_count": 132,
   "metadata": {},
   "outputs": [
    {
     "data": {
      "text/plain": [
       "[('village', 1),\n",
       " ('Chicago', 1),\n",
       " (\"cousin's\", 0),\n",
       " ('getting', 0),\n",
       " ('married.', 1)]"
      ]
     },
     "execution_count": 132,
     "metadata": {},
     "output_type": "execute_result"
    }
   ],
   "source": [
    "words_list = [\"We're\", 'in', 'a', 'small', 'village', 'near', 'Chicago', 'My', \"cousin's\", 'getting', 'married.']\n",
    "\n",
    "filtred_list = list(filter(lambda x: len(x)>5, words_list))\n",
    "filtred_list = list(map(lambda x: (x, x.lower().count('a')),filtred_list))\n",
    "filtred_list"
   ]
  },
  {
   "cell_type": "code",
   "execution_count": 138,
   "metadata": {},
   "outputs": [
    {
     "data": {
      "text/plain": [
       "[('Amanda', 1.61, 51, 20),\n",
       " ('Patricia', 1.65, 61, 22),\n",
       " ('Andrey', 1.79, 61, 19),\n",
       " ('Felicia', 1.63, 56, 21)]"
      ]
     },
     "execution_count": 138,
     "metadata": {},
     "output_type": "execute_result"
    }
   ],
   "source": [
    "data = [\n",
    "    ('Amanda', 1.61, 51),\n",
    "    ('Patricia', 1.65, 61), \n",
    "    ('Marcos', 1.91, 101),\n",
    "    ('Andrey', 1.79, 61),\n",
    "    ('Nikos', 1.57, 78),\n",
    "    ('Felicia', 1.63, 56),\n",
    "    ('Lubov', 1.53, 34)\n",
    "]\n",
    "ind_mass_body = map(lambda x: (*x, round(x[2]/x[1]**2)),data)\n",
    "ind_mass_body = filter(lambda x: 18.5< x[3] <25,ind_mass_body)\n",
    "list(ind_mass_body)"
   ]
  },
  {
   "cell_type": "code",
   "execution_count": 142,
   "metadata": {},
   "outputs": [
    {
     "data": {
      "text/plain": [
       "[('Smith J', 13, 2, 2003), ('Petrova M', 13, 3, 2003)]"
      ]
     },
     "execution_count": 142,
     "metadata": {},
     "output_type": "execute_result"
    }
   ],
   "source": [
    "reg = [('Ivanov', 'Sergej', 24, 9, 1995),\n",
    "      ('Smith', 'John', 13, 2, 2003),\n",
    "      ('Petrova', 'Maria', 13, 3, 2003)]\n",
    "reg_filter = filter(lambda x: x[4]>2000, reg)\n",
    "reg_map = list(map(lambda x: (x[0]+' '+x[1][0], x[2],x[3],x[4]),reg_filter))  \n",
    "reg_map  "
   ]
  },
  {
   "cell_type": "code",
   "execution_count": 146,
   "metadata": {},
   "outputs": [
    {
     "data": {
      "text/plain": [
       "[(0.02731, 6.421, 78.9, 242.0, 9.14, 60.41),\n",
       " (0.06905, 7.147, 54.2, 222.0, 5.33, 81.7),\n",
       " (0.08829, 6.012, 66.6, 311.0, 12.43, 341.31)]"
      ]
     },
     "execution_count": 146,
     "metadata": {},
     "output_type": "execute_result"
    }
   ],
   "source": [
    "data = [(0.00632, 6.575, 65.2, 296.0, 4.98),\n",
    " (0.02731, 6.421, 78.9, 242.0, 9.14),\n",
    " (0.02729, 7.185, 61.1, 242.0, 4.03),\n",
    " (0.03237, 6.998, 45.8, 222.0, 2.94),\n",
    " (0.06905, 7.147, 54.2, 222.0, 5.33),\n",
    " (0.02985, 6.43, 58.7, 222.0, 5.21),\n",
    " (0.08829, 6.012, 66.6, 311.0, 12.43)]\n",
    "\n",
    "map_data = map(lambda x: (*x,round(x[0]*x[3]*x[4],2)),data)\n",
    "map_data = list(filter(lambda x: x[5]>60,map_data))\n",
    "map_data"
   ]
  },
  {
   "cell_type": "code",
   "execution_count": 148,
   "metadata": {},
   "outputs": [],
   "source": [
    "pass"
   ]
  },
  {
   "cell_type": "code",
   "execution_count": 158,
   "metadata": {},
   "outputs": [
    {
     "data": {
      "text/plain": [
       "'hui'"
      ]
     },
     "execution_count": 158,
     "metadata": {},
     "output_type": "execute_result"
    }
   ],
   "source": [
    "data is globals()['data']\n",
    "globals()['data'] = 'hui'\n",
    "globals()['data']\n"
   ]
  },
  {
   "cell_type": "code",
   "execution_count": 161,
   "metadata": {},
   "outputs": [
    {
     "name": "stdout",
     "output_type": "stream",
     "text": [
      "{'x': 10, 'y': 0.5, 's': 'foo'}\n"
     ]
    }
   ],
   "source": [
    "def f(x,y):\n",
    "    s = 'foo'\n",
    "    print(locals())\n",
    "f(10,0.5)\n"
   ]
  },
  {
   "cell_type": "code",
   "execution_count": 179,
   "metadata": {},
   "outputs": [
    {
     "name": "stdout",
     "output_type": "stream",
     "text": [
      "40\n"
     ]
    }
   ],
   "source": [
    "\n",
    "def f():\n",
    "    x = 20\n",
    "    def g():\n",
    "        nonlocal x\n",
    "        x = 40\n",
    "    \n",
    "    g()\n",
    "    print(x)\n",
    "\n",
    "f()\n",
    "    "
   ]
  },
  {
   "cell_type": "code",
   "execution_count": 180,
   "metadata": {},
   "outputs": [
    {
     "data": {
      "text/plain": [
       "389017"
      ]
     },
     "execution_count": 180,
     "metadata": {},
     "output_type": "execute_result"
    }
   ],
   "source": [
    "python_string = 'Hello! My name is Python. I will help you to analyze some data.'\n",
    "## result = 250047\n",
    "\n",
    "python_string = 'Привет! Меня зовут Питон. Я помогу вам проанализировать некоторые данные.'\n",
    "## result = 389017\n",
    "len(python_string)**3"
   ]
  },
  {
   "cell_type": "code",
   "execution_count": 185,
   "metadata": {},
   "outputs": [
    {
     "data": {
      "text/plain": [
       "('384300', 'png')"
      ]
     },
     "execution_count": 185,
     "metadata": {},
     "output_type": "execute_result"
    }
   ],
   "source": [
    "predicted_time = 67.321\n",
    "real_time = 59.839\n",
    "## absolute_error = 7\n",
    "\n",
    "predicted_time = 38.873\n",
    "real_time = 26.124\n",
    "## absolute_error = 13\n",
    "absolute_error  = predicted_time - real_time\n",
    "round(absolute_error)\n",
    "file_path = 'data/images/train/10394.jpg'\n",
    "## file_name = '10394'\n",
    "## file_extension = 'jpg'\n",
    "\n",
    "file_path = 'data/images/validation/748923.gif'\n",
    "## file_name = '748923'\n",
    "## file_extension = 'gif'\n",
    "\n",
    "file_path = 'data/images/384300.png'\n",
    "## file_name = '384300'\n",
    "## file_extension = 'png'\n",
    "file_name, file_extension = file_path.split('/')[-1].split('.')\n",
    "file_name, file_extension"
   ]
  },
  {
   "cell_type": "code",
   "execution_count": 190,
   "metadata": {},
   "outputs": [
    {
     "data": {
      "text/plain": [
       "['когда',\n",
       " 'человек',\n",
       " 'вводит',\n",
       " 'запрос',\n",
       " 'в',\n",
       " 'поисковик',\n",
       " 'он',\n",
       " 'ищет',\n",
       " 'информацию',\n",
       " 'или',\n",
       " 'способ',\n",
       " 'решения',\n",
       " 'своей',\n",
       " 'задачи']"
      ]
     },
     "execution_count": 190,
     "metadata": {},
     "output_type": "execute_result"
    }
   ],
   "source": [
    "generated_text = \"глаза нее на поднял он и она попросила что-нибудь скажи\"\n",
    "## updated_text = \"скажи что-нибудь попросила она и он поднял на нее глаза\"\n",
    "\n",
    "generated_text = \"задачи своей решения способ или информацию ищет он поисковик в запрос вводит человек когда\"\n",
    "## updated_text = когда человек вводит запрос в поисковик он ищет информацию или способ решения своей задачи\n"
   ]
  },
  {
   "cell_type": "code",
   "execution_count": 194,
   "metadata": {},
   "outputs": [
    {
     "data": {
      "text/plain": [
       "62"
      ]
     },
     "execution_count": 194,
     "metadata": {},
     "output_type": "execute_result"
    }
   ],
   "source": [
    "car_dict = {\n",
    "    'car_ID': [123, 117, 111, 82, 101, 96, 156, 2, 58, 49],\n",
    "    'fueltype': ['gas', 'diesel', 'diesel', 'gas', 'gas', 'gas', 'gas', 'gas', 'gas', 'gas'],\n",
    "    'horsepower': [68, 95, 95, 88, 97, 69, 62, 111, 101, 176],\n",
    "    'price': [7609.0, 17950.0, 13860.0, 8499.0, 9549.0, 7799.0, 8778.0, 16500.0, 13645.0, 35550.0]\n",
    "}\n",
    "mean_price = sum(car_dict['price'])/len(car_dict['price'])\n",
    "mean_price\n",
    "count_diesel = car_dict['fueltype'].count('diesel')\n",
    "count_diesel\n",
    "min_horsepower = min(car_dict['horsepower'])\n",
    "min_horsepower"
   ]
  },
  {
   "cell_type": "code",
   "execution_count": 202,
   "metadata": {},
   "outputs": [
    {
     "name": "stdout",
     "output_type": "stream",
     "text": [
      "[0, 1, 2, 3, 4, 5, 5, 6, 7]\n",
      "True\n",
      "[1, 2, 3, 4, 5, 6, 7, 8, 9, 10, 11, 12, 13, 14]\n",
      "[2, 3, 4, 5, 6, 7, 8, 9, 10, 11, 12, 13, 14]\n",
      "[3, 4, 5, 6, 7, 8, 9, 10, 11, 12, 13, 14]\n",
      "[4, 5, 6, 7, 8, 9, 10, 11, 12, 13, 14]\n",
      "[5, 6, 7, 8, 9, 10, 11, 12, 13, 14]\n",
      "[6, 7, 8, 9, 10, 11, 12, 13, 14]\n",
      "[7, 8, 9, 10, 11, 12, 13, 14]\n",
      "[8, 9, 10, 11, 12, 13, 14]\n",
      "[9, 10, 11, 12, 13, 14]\n",
      "[10, 11, 12, 13, 14]\n",
      "[11, 12, 13, 14]\n",
      "[12, 13, 14]\n",
      "[13, 14]\n",
      "[14]\n",
      "[]\n",
      "False\n"
     ]
    }
   ],
   "source": [
    "def check_duplicates(lst):\n",
    "    for element in range(len(lst)):\n",
    "        print(lst[element+1:])\n",
    "        if lst[element] in lst[element+1:]:\n",
    "            return True\n",
    "    return False\n",
    "lst = [0, 0, 1, 2, 3, 4, 5, 5, 6, 7]\n",
    "print(check_duplicates(lst))\n",
    "lst = list(range(0, 15))\n",
    "print(check_duplicates(lst))"
   ]
  },
  {
   "cell_type": "code",
   "execution_count": 203,
   "metadata": {},
   "outputs": [
    {
     "name": "stdout",
     "output_type": "stream",
     "text": [
      "[3, 2, 1]\n",
      "[5, 2, 3, 4, 1]\n",
      "['с', 'л', 'о', 'н']\n"
     ]
    }
   ],
   "source": [
    "def swap_places(lst):\n",
    "    lst[0],lst[-1] = lst[-1],lst[0]\n",
    "    return lst\n",
    "\n",
    "\n",
    "print(swap_places([1, 2, 3]))\n",
    "## [3, 2, 1]\n",
    "print(swap_places([1, 2, 3, 4, 5]))\n",
    "## [5, 2, 3, 4, 1]\n",
    "print(swap_places(['н', 'л', 'о', 'с']))\n",
    "## ['с', 'л', 'о', 'н']\n"
   ]
  },
  {
   "cell_type": "code",
   "execution_count": 232,
   "metadata": {},
   "outputs": [
    {
     "name": "stdout",
     "output_type": "stream",
     "text": [
      "['крот', 'белка', 'выхухоль']\n",
      "['выхухоль', 'белка___', 'крот____']\n",
      "['a', 'aa', 'aaa', 'aaaa', 'aaaaa']\n",
      "['aaaaa', 'aaaa_', 'aaa__', 'aa___', 'a____']\n",
      "['qweasdqweas', 'q', 'rteww', 'ewqqqqq']\n",
      "['qweasdqweas', 'ewqqqqq____', 'rteww______', 'q__________']\n"
     ]
    }
   ],
   "source": [
    "def equalize_lengths(lst):\n",
    "    print(lst)\n",
    "    n = max(list(map(lambda x: len(x),lst)))\n",
    "    def dop_scobi(x,n):\n",
    "        return x + '_'*(n-len(x))\n",
    "    lst = list(map(lambda x: dop_scobi(x,n),lst))\n",
    "    lst.sort(key = lambda x: x.count(\"_\"))\n",
    "    return lst\n",
    "\n",
    "print(equalize_lengths(['крот', 'белка', 'выхухоль']))\n",
    "# ['выхухоль', 'белка___', 'крот____']\n",
    "\n",
    "print(equalize_lengths(['a', 'aa', 'aaa', 'aaaa', 'aaaaa']))\n",
    "# ['aaaaa', 'aaaa_', 'aaa__', 'aa___', 'a____']\n",
    "\n",
    "print(equalize_lengths(['qweasdqweas', 'q', 'rteww', 'ewqqqqq']))\n",
    "\n",
    "# ['qweasdqweas', 'ewqqqqq____', 'rteww______', 'q__________']\n"
   ]
  },
  {
   "cell_type": "code",
   "execution_count": 211,
   "metadata": {},
   "outputs": [
    {
     "data": {
      "text/plain": [
       "8"
      ]
     },
     "execution_count": 211,
     "metadata": {},
     "output_type": "execute_result"
    }
   ],
   "source": [
    "n = ['крот', 'белка', 'выхухоль']\n",
    "n = max(list(map(lambda x: len(x),n)))\n",
    "n"
   ]
  },
  {
   "cell_type": "code",
   "execution_count": 231,
   "metadata": {},
   "outputs": [
    {
     "data": {
      "text/plain": [
       "['выхухоль', 'белка___', 'крот____']"
      ]
     },
     "execution_count": 231,
     "metadata": {},
     "output_type": "execute_result"
    }
   ],
   "source": [
    "n = ['крот____', 'белка___', 'выхухоль']\n",
    "n.sort(key = lambda x: x.count(\"_\"))\n",
    "n"
   ]
  },
  {
   "cell_type": "code",
   "execution_count": 234,
   "metadata": {},
   "outputs": [
    {
     "name": "stdout",
     "output_type": "stream",
     "text": [
      "1\n",
      "-1\n",
      "0\n"
     ]
    }
   ],
   "source": [
    "def check_number_sign(x):\n",
    "    if x > 0:\n",
    "        return 1\n",
    "    elif x < 0:\n",
    "        return -1\n",
    "    else: return 0\n",
    "    \n",
    "print(check_number_sign(5290))\n",
    "# 1\n",
    "print(check_number_sign(-983))\n",
    "# - 1\n",
    "print(check_number_sign(0))\n",
    "# 0\n"
   ]
  },
  {
   "cell_type": "code",
   "execution_count": 242,
   "metadata": {},
   "outputs": [
    {
     "name": "stdout",
     "output_type": "stream",
     "text": [
      "19\n",
      "10.9\n"
     ]
    }
   ],
   "source": [
    "def find_min_number(a,b,c):\n",
    "    if a < b and a < c:\n",
    "        return a\n",
    "    elif b < a and b < c:\n",
    "        return b\n",
    "    else: \n",
    "        return c\n",
    "    \n",
    "print(find_min_number(130, 122, 19))\n",
    "# 19\n",
    "print(find_min_number(10.9, 12.2, 18.4))\n",
    "# 10.9\n",
    "\n",
    "    "
   ]
  },
  {
   "cell_type": "code",
   "execution_count": 244,
   "metadata": {},
   "outputs": [
    {
     "name": "stdout",
     "output_type": "stream",
     "text": [
      "3\n",
      "-9\n"
     ]
    }
   ],
   "source": [
    "def sum_min_numbers(a,b,c):\n",
    "    list_1 = [a,b,c]\n",
    "    list_1.sort()\n",
    "    return list_1[0] + list_1[1]\n",
    "    \n",
    "\n",
    "print(sum_min_numbers(1, 2, 3))\n",
    "# 3\n",
    "print(sum_min_numbers(1, 2, -10))\n",
    "# -9\n"
   ]
  },
  {
   "cell_type": "code",
   "execution_count": 247,
   "metadata": {},
   "outputs": [
    {
     "name": "stdout",
     "output_type": "stream",
     "text": [
      "5.25\n",
      "Zero division error!\n",
      "None\n"
     ]
    }
   ],
   "source": [
    "def division(a, b):\n",
    "    try:\n",
    "        result = a/b\n",
    "    except ZeroDivisionError:\n",
    "        print(\"Zero division error!\")\n",
    "        return None\n",
    "    return result\n",
    "    \n",
    "print(division(189, 36))\n",
    "# 5.25\n",
    "print(division(1, 0))\n",
    "# Zero division error!\n",
    "# None\n"
   ]
  },
  {
   "cell_type": "code",
   "execution_count": 249,
   "metadata": {},
   "outputs": [
    {
     "name": "stdout",
     "output_type": "stream",
     "text": [
      "300.5\n",
      "65.7\n",
      "-64.1\n",
      "0.7\n",
      "1023\n"
     ]
    }
   ],
   "source": [
    "def get_prediction(x1,x2):\n",
    "    if x1<20 and x2< 200:\n",
    "        return 300.5\n",
    "    elif x1<20:\n",
    "        return 65.7\n",
    "    elif x2>170:\n",
    "        return 1023\n",
    "    elif x1<40:\n",
    "        return -64.1\n",
    "    else:\n",
    "        return 0.7\n",
    "    \n",
    "    \n",
    "print(get_prediction(x1=15, x2=150))\n",
    "# 300.5\n",
    "print(get_prediction(x1=15, x2=350))\n",
    "# 65.7\n",
    "print(get_prediction(x1=35, x2=100))\n",
    "# -64.1\n",
    "print(get_prediction(x1=175, x2=100))\n",
    "# 0.7\n",
    "print(get_prediction(x1=175, x2=200))\n",
    "# 1023\n"
   ]
  },
  {
   "cell_type": "code",
   "execution_count": 250,
   "metadata": {},
   "outputs": [
    {
     "name": "stdout",
     "output_type": "stream",
     "text": [
      "[4, 4.2, 42.2, -3.4, -5.2]\n",
      "[42.2]\n",
      "[]\n"
     ]
    }
   ],
   "source": [
    "def more_than_n(lst,n):\n",
    "    if not lst:\n",
    "        return lst \n",
    "    new_list = list(filter(lambda x: abs(x)>abs(n), lst))\n",
    "    return new_list\n",
    "\n",
    "print(more_than_n([-1, 4, 4.2, 42.2, -3.4, -5.2], 3))\n",
    "# [4, 4.2, 42.2, -3.4, -5.2]\n",
    "print(more_than_n([-1, 4, 4.2, 42.2, -3.4, -5.2], 10))\n",
    "# [42.2]\n",
    "print(more_than_n([], 10))\n",
    "# []\n"
   ]
  },
  {
   "cell_type": "code",
   "execution_count": 253,
   "metadata": {},
   "outputs": [
    {
     "name": "stdout",
     "output_type": "stream",
     "text": [
      "True\n",
      "False\n"
     ]
    }
   ],
   "source": [
    "def lucky_ticket(number):\n",
    "    n1 = int(str(number)[0]) + int(str(number)[1]) + int(str(number)[2])\n",
    "    n2 = int(str(number)[-1]) + int(str(number)[-2]) + int(str(number)[-3])\n",
    "    if n1 == n2:\n",
    "        return True\n",
    "    return False\n",
    "print(lucky_ticket(111111))\n",
    "# True\n",
    "print(lucky_ticket(123456))\n",
    "# False\n"
   ]
  },
  {
   "cell_type": "code",
   "execution_count": 255,
   "metadata": {},
   "outputs": [
    {
     "name": "stdout",
     "output_type": "stream",
     "text": [
      "2\n",
      "2\n",
      "6\n"
     ]
    }
   ],
   "source": [
    "def holes_count(number):\n",
    "    hole_dict = {\n",
    "        '0': 1,'4': 1,'8': 2,'9': 1,'6': 1,\n",
    "    }\n",
    "    result = 0\n",
    "    \n",
    "    for i in str(number):\n",
    "        if i in hole_dict:\n",
    "            result += hole_dict[i]\n",
    "    return result\n",
    "\n",
    "print(holes_count(8))\n",
    "# 2\n",
    "print(holes_count(146))\n",
    "# 2\n",
    "print(holes_count(84628))\n",
    "# 6\n"
   ]
  },
  {
   "cell_type": "code",
   "execution_count": 256,
   "metadata": {},
   "outputs": [
    {
     "name": "stdout",
     "output_type": "stream",
     "text": [
      "5\n"
     ]
    }
   ],
   "source": [
    "\n",
    "def even_numbers_in_matrix(matrix):\n",
    "    result = 0\n",
    "    for i in matrix:\n",
    "        for element in i:\n",
    "            if element % 2 == 0:\n",
    "                result +=1\n",
    "    return result\n",
    "\n",
    "matrix_example = [\n",
    "    [1, 5, 4],\n",
    "    [4, 2, -2],\n",
    "    [7, 65, 88]\n",
    "]\n",
    "\n",
    "print(even_numbers_in_matrix(matrix=matrix_example))\n",
    "# 5\n"
   ]
  },
  {
   "cell_type": "code",
   "execution_count": 258,
   "metadata": {},
   "outputs": [
    {
     "name": "stdout",
     "output_type": "stream",
     "text": [
      "[[2, 10, 8], [8, 4, -4], [14, 130, 176]]\n",
      "\"Error! Matrices dimensions are different!\"\n",
      "None\n",
      "\"Error! Matrices dimensions are different!\"\n",
      "None\n"
     ]
    }
   ],
   "source": [
    "def matrix_sum(matrix1, matrix2):\n",
    "    reulst_list = []\n",
    "    for len_matrix in range(len(matrix1)):\n",
    "        if len(matrix1[len_matrix]) != len(matrix2[len_matrix]) or len(matrix1)!= len(matrix2):\n",
    "            print('Error! Matrices dimensions are different!')\n",
    "            return None\n",
    "        new_list = []\n",
    "        for num_elem in range(len(matrix1)):\n",
    "            new_list.append(matrix1[len_matrix][num_elem] + matrix1[len_matrix][num_elem])\n",
    "        reulst_list.append(new_list)\n",
    "    return reulst_list\n",
    "\n",
    "matrix_example = [\n",
    "          [1, 5, 4],\n",
    "          [4, 2, -2],\n",
    "          [7, 65, 88]\n",
    "]\n",
    "\n",
    "print(matrix_sum(matrix1=matrix_example, matrix2=matrix_example))\n",
    "# [[2, 10, 8], [8, 4, -4], [14, 130, 176]]\n",
    "\n",
    "matrix1_example = [\n",
    "          [1, 5, 4],\n",
    "          [4, 2, -2]\n",
    "]\n",
    "\n",
    "matrix2_example = [\n",
    "          [10, 15, 43],\n",
    "          [41, 2, -2],\n",
    "          [7, 5, 7]\n",
    "]\n",
    "\n",
    "print(matrix_sum(matrix1=matrix1_example, matrix2=matrix2_example))\n",
    "# Error! Matrices dimensions are different!\n",
    "# None\n",
    "\n",
    "matrix1_example = [\n",
    "          [1, 5, 4, 5],\n",
    "          [4, 2, -2, -5],\n",
    "          [4, 2, -2, -5]\n",
    "]\n",
    "\n",
    "matrix2_example = [\n",
    "          [10, 15, 43],\n",
    "          [41, 2, -2],\n",
    "          [7, 5, 7]\n",
    "]\n",
    "\n",
    "print(matrix_sum(matrix1=matrix1_example, matrix2=matrix2_example))\n",
    "# Error! Matrices dimensions are different!\n",
    "# None\n"
   ]
  },
  {
   "cell_type": "code",
   "execution_count": 268,
   "metadata": {},
   "outputs": [
    {
     "name": "stdout",
     "output_type": "stream",
     "text": [
      "age : 28\n",
      "first_name : John\n",
      "last_name : Doe\n",
      "position : Python developer\n",
      "age : 32\n",
      "first_name : Jack\n",
      "last_name : Smith\n",
      "position : Project manager\n",
      "work_experience : 5 years\n"
     ]
    }
   ],
   "source": [
    "def print_personal_data(**kwargs):\n",
    "    sorted_elem = sorted(kwargs.items())\n",
    "    for elem in sorted_elem:\n",
    "        print(f'{elem[0]} : {elem[-1]}')\n",
    "\n",
    "print_personal_data(first_name='John', last_name='Doe', age=28, position='Python developer')\n",
    "# age: 28\n",
    "# first_name: John\n",
    "# last_name: Doe\n",
    "# position: Python developer\n",
    "\n",
    "print_personal_data(first_name='Jack', last_name='Smith', age=32, work_experience = '5 years', position='Project manager')\n",
    "# age: 32\n",
    "# first_name: Jack\n",
    "# last_name: Smith\n",
    "# position: Project manager\n",
    "# work_experience: 5 years\n"
   ]
  },
  {
   "cell_type": "code",
   "execution_count": 287,
   "metadata": {},
   "outputs": [
    {
     "name": "stdout",
     "output_type": "stream",
     "text": [
      "['arrakis', 'the', 'planet', 'known', 'as', 'dune', 'is', 'forever', 'his', 'place']\n"
     ]
    }
   ],
   "source": [
    "def get_words_list(text):\n",
    "    punctuation_list = ['.', ',', ';', ':', '...', '!', '?', '-', '\"', '(', ')']\n",
    "    for i in text:\n",
    "        if i in punctuation_list:\n",
    "            text = text.replace(i,'')\n",
    "    new_list = list(map(lambda x: x.lower(),text.split(' ')))\n",
    "    return new_list\n",
    "\n",
    "text_example = \"Arrakis, the planet known as Dune, is forever his place.\"\n",
    "print(get_words_list(text=text_example))\n",
    "# ['arrakis', 'the', 'planet', 'known', 'as', 'dune', 'is', 'forever', 'his', 'place']\n"
   ]
  },
  {
   "cell_type": "code",
   "execution_count": 273,
   "metadata": {},
   "outputs": [
    {
     "data": {
      "text/plain": [
       "['arrakis,',\n",
       " 'the',\n",
       " 'planet',\n",
       " 'known',\n",
       " 'as',\n",
       " 'dune,',\n",
       " 'is',\n",
       " 'forever',\n",
       " 'his',\n",
       " 'place.']"
      ]
     },
     "execution_count": 273,
     "metadata": {},
     "output_type": "execute_result"
    }
   ],
   "source": [
    "punctuation_list = ['.', ',', ';', ':', '...', '!', '?', '-', '\"', '(', ')']\n",
    "text_example = \"Arrakis, the planet known as Dune, is forever his place.\"\n",
    "new_list = list(map(lambda x: x.lower(),text_example.split(' ')))\n",
    "new_list\n",
    "\n",
    "#print(get_words_list(text=text_example))\n",
    "# ['arrakis', 'the', 'planet', 'known', 'as', 'dune', 'is', 'forever', 'his', 'place']\n"
   ]
  },
  {
   "cell_type": "code",
   "execution_count": 285,
   "metadata": {},
   "outputs": [
    {
     "name": "stdout",
     "output_type": "stream",
     "text": [
      "True\n",
      "True\n",
      "True\n"
     ]
    },
    {
     "data": {
      "text/plain": [
       "'Arrakis the planet known as Dune is forever his place'"
      ]
     },
     "execution_count": 285,
     "metadata": {},
     "output_type": "execute_result"
    }
   ],
   "source": [
    "punctuation_list = ['.', ',', ';', ':', '...', '!', '?', '-', '\"', '(', ')']\n",
    "text_example = \"Arrakis, the planet known as Dune, is forever his place.\"\n",
    "for i in text_example:\n",
    "    if i in punctuation_list:\n",
    "        print(True)\n",
    "        text_example = text_example.replace(i,'')\n",
    "text_example"
   ]
  },
  {
   "cell_type": "code",
   "execution_count": 315,
   "metadata": {},
   "outputs": [
    {
     "name": "stdout",
     "output_type": "stream",
     "text": [
      "['and', 'arrakis', 'as', 'be', 'born', 'by', 'caladan', 'care', 'deceived', 'do', 'dune', 'fact', 'fifteen', 'first', 'forever', 'he', 'his', 'in', 'is', 'known', 'lived', 'locate', 'most', \"muad'dib\", 'not', 'on', 'place', 'planet', 'special', 'take', 'that', 'the', 'there', 'was', 'years', 'you']\n"
     ]
    }
   ],
   "source": [
    "def get_unique_words(words_list):\n",
    "    words_list = list(set(words_list))\n",
    "    words_list.sort()\n",
    "    return words_list\n",
    "\n",
    "words_list_example = ['and', 'take', 'the', 'most', 'special', 'care', 'that', 'you', 'locate', \"muad'dib\", 'in', 'his', 'place', 'the', 'planet', 'arrakis', 'do', 'not', 'be', 'deceived', 'by', 'the', 'fact', 'that', 'he', 'was', 'born', 'on', 'caladan', 'and', 'lived', 'his', 'first', 'fifteen', 'years', 'there', 'arrakis', 'the', 'planet', 'known', 'as', 'dune', 'is', 'forever', 'his', 'place']\n",
    "#print(list(set(words_list_example)).sort())\n",
    "print(get_unique_words(words_list=words_list_example))\n",
    "## ['and', 'arrakis', 'as', 'be', 'born', 'by', 'caladan', 'care', 'deceived', 'do', 'dune', 'fact', 'fifteen', 'first', 'forever', 'he', 'his', 'in', 'is', 'known', 'lived', 'locate', 'most', \"muad'dib\", 'not', 'on', 'place', 'planet', 'special', 'take', 'that', 'the', 'there', 'was', 'years', 'you']\n"
   ]
  },
  {
   "cell_type": "code",
   "execution_count": 346,
   "metadata": {},
   "outputs": [
    {
     "name": "stdout",
     "output_type": "stream",
     "text": [
      "['a', 'beginning', 'is', 'the', 'time', 'for', 'taking', 'the', 'most', 'delicate', 'care', 'that', 'the', 'balances', 'are', 'correct', 'this', 'every', 'sister', 'of', 'the', 'bene', 'gesserit', 'knows', 'to', 'begin', 'your', 'study', 'of', 'the', 'life', 'of', \"muad'dib\", 'then', 'take', 'care', 'that', 'you', 'first', 'place', 'him', 'in', 'his', 'time', 'born', 'in', 'the', '57th', 'year', 'of', 'the', 'padishah', 'emperor', 'shaddam', 'iv', 'and', 'take', 'the', 'most', 'special', 'care', 'that', 'you', 'locate', \"muad'dib\", 'in', 'his', 'place', 'the', 'planet', 'arrakis', 'do', 'not', 'be', 'deceived', 'by', 'the', 'fact', 'that', 'he', 'was', 'born', 'on', 'caladan', 'and', 'lived', 'his', 'first', 'fifteen', 'years', 'there', 'arrakis', 'the', 'planet', 'known', 'as', 'dune', 'is', 'forever', 'his', 'place']\n",
      "[('the', 12), ('that', 5), ('of', 5), ('his', 5), ('place', 4), ('in', 4), ('care', 4), ('you', 3), ('time', 3), ('take', 3), ('planet', 3), (\"muad'dib\", 3), ('most', 3), ('is', 3), ('first', 3), ('born', 3), ('arrakis', 3), ('and', 3), ('your', 2), ('years', 2), ('year', 2), ('was', 2), ('to', 2), ('this', 2), ('there', 2), ('then', 2), ('taking', 2), ('study', 2), ('special', 2), ('sister', 2), ('shaddam', 2), ('padishah', 2), ('on', 2), ('not', 2), ('locate', 2), ('lived', 2), ('life', 2), ('knows', 2), ('known', 2), ('iv', 2), ('him', 2), ('he', 2), ('gesserit', 2), ('forever', 2), ('for', 2), ('fifteen', 2), ('fact', 2), ('every', 2), ('emperor', 2), ('dune', 2), ('do', 2), ('delicate', 2), ('deceived', 2), ('correct', 2), ('caladan', 2), ('by', 2), ('bene', 2), ('beginning', 2), ('begin', 2), ('be', 2), ('balances', 2), ('as', 2), ('are', 2), ('a', 2), ('57th', 2)]\n",
      "the\n",
      "11\n",
      "['есть', 'урок', 'который', 'идет', 'не', 'сорок', 'пять', 'минут', 'а', 'всю', 'жизнь', 'этот', 'урок', 'проходит', 'и', 'в', 'классе', 'и', 'в', 'поле', 'и', 'дома', 'и', 'в', 'лесу', 'я', 'назвал', 'этот', 'урок', 'седьмым', 'потому', 'что', 'в', 'школе', 'обычно', 'бывает', 'не', 'больше', 'шести', 'уроков', 'не', 'удивляйтесь', 'если', 'я', 'скажу', 'что', 'учителем', 'на', 'этом', 'уроке', 'может', 'быть', 'и', 'береза', 'возле', 'вашего', 'дома', 'и', 'бабушка', 'и', 'вы', 'сами', 'в', 'песков']\n",
      "[('и', 8), ('в', 6), ('урок', 4), ('не', 4), ('я', 3), ('этот', 3), ('что', 3), ('дома', 3), ('этом', 2), ('школе', 2), ('шести', 2), ('учителем', 2), ('уроков', 2), ('уроке', 2), ('удивляйтесь', 2), ('сорок', 2), ('скажу', 2), ('седьмым', 2), ('сами', 2), ('пять', 2), ('проходит', 2), ('потому', 2), ('поле', 2), ('песков', 2), ('обычно', 2), ('назвал', 2), ('на', 2), ('может', 2), ('минут', 2), ('лесу', 2), ('который', 2), ('классе', 2), ('идет', 2), ('жизнь', 2), ('есть', 2), ('если', 2), ('вы', 2), ('всю', 2), ('возле', 2), ('вашего', 2), ('быть', 2), ('бывает', 2), ('больше', 2), ('береза', 2), ('бабушка', 2), ('а', 2)]\n",
      "и\n"
     ]
    }
   ],
   "source": [
    "def get_most_frequent_word(text):\n",
    "    new_text = get_words_list(text)\n",
    "    print(new_text)\n",
    "    unic_text = get_unique_words(new_text)\n",
    "    new_dict = dict()\n",
    "    for i in new_text:\n",
    "        if i not in new_dict:\n",
    "            new_dict[i] = 1\n",
    "        if i in unic_text:\n",
    "            new_dict[i] += 1\n",
    "    x = list(new_dict.items())\n",
    "    x.sort(key= lambda x: (x[-1],x))\n",
    "    print(x[::-1])\n",
    "    return x[::-1][0][0]\n",
    "        \n",
    "\n",
    "        \n",
    "    \n",
    "text_example = \"A beginning is the time for taking the most delicate care that the balances are correct. This every sister of the Bene Gesserit knows. To begin your study of the life of Muad'Dib, then take care that you first place him in his time: born in the 57th year of the Padishah Emperor, Shaddam IV. And take the most special care that you locate Muad'Dib in his place: the planet Arrakis. Do not be deceived by the fact that he was born on Caladan and lived his first fifteen years there. Arrakis, the planet known as Dune, is forever his place.\"\n",
    "print(get_most_frequent_word(text_example))\n",
    "# the\n",
    "print(text_example.count('is'))\n",
    "text_example = \"Есть урок, который идет не сорок пять минут, а всю жизнь. Этот урок проходит и в классе, и в поле, и дома, и в лесу. Я назвал этот урок седьмым потому, что в школе обычно бывает не больше шести уроков. Не удивляйтесь, если я скажу, что учителем на этом уроке может быть и береза возле вашего дома, и бабушка, и вы сами (В. Песков)\"\n",
    "print(get_most_frequent_word(text_example))\n",
    "# и\n"
   ]
  },
  {
   "cell_type": "code",
   "execution_count": 352,
   "metadata": {},
   "outputs": [
    {
     "name": "stdout",
     "output_type": "stream",
     "text": [
      "[('Amanda', 37, 78, 67, 182), ('Marcos', 79, 67, 89, 235), ('Dmitry', 67, 68, 100, 235), ('Patricia', 78, 93, 68, 239), ('Andrey', 100, 78, 76, 254), ('Victoria', 93, 69, 96, 258)]\n",
      "None\n"
     ]
    }
   ],
   "source": [
    "def get_total_score(data):\n",
    "    our_score = list(map(lambda x: (*x,x[1]+x[2]+x[3]),data))\n",
    "    our_score.sort(key= lambda x: x[4])\n",
    "    print(our_score)\n",
    "\n",
    "data = [\n",
    "    ('Amanda', 37, 78, 67),\n",
    "    ('Patricia', 78, 93, 68),\n",
    "    ('Marcos', 79, 67, 89),\n",
    "    ('Dmitry', 67, 68, 100),\n",
    "    ('Andrey', 100, 78, 76),\n",
    "    ('Victoria', 93, 69, 96),\n",
    "]\n",
    "\n",
    "print(get_total_score(data))\n",
    "# [('Amanda', 37, 78, 67, 182), ('Marcos', 79, 67, 89, 235), ('Dmitry', 67, 68, 100, 235), ('Patricia', 78, 93, 68, 239), ('Andrey', 100, 78, 76, 254), ('Victoria', 93, 69, 96, 258)]\n"
   ]
  },
  {
   "cell_type": "code",
   "execution_count": 424,
   "metadata": {},
   "outputs": [
    {
     "name": "stdout",
     "output_type": "stream",
     "text": [
      "['vid001', 'vid002', 'vid003', 'vid004', 'vid005', 'vid006', 'vid007', 'vid008', 'vid009', 'vid010']\n"
     ]
    }
   ],
   "source": [
    "\n",
    "\n",
    "def find_video(data):\n",
    "    videoId =[]\n",
    "    def count_links(links):\n",
    "        if not links:\n",
    "            return links\n",
    "        if isinstance(links,list):\n",
    "            for j in links:\n",
    "                if isinstance(j,dict):\n",
    "                    videoId.append(j['videoID'])\n",
    "                if 'links' in j:\n",
    "                    count_links(j['links'])\n",
    "    for i in data:\n",
    "        if 'videoID' in i:\n",
    "            videoId.append(data[i])\n",
    "        if \"links\" == i:\n",
    "            count_links(data['links'])\n",
    "       \n",
    "\n",
    "    return videoId\n",
    "\n",
    "    \n",
    "\n",
    "\n",
    "\n",
    "\n",
    "\n",
    "data = {\n",
    "    \"type\": \"video\",\n",
    "    \"videoID\": \"vid001\",\n",
    "    \"links\": [\n",
    "        {\"type\":\"video\", \"videoID\":\"vid002\", \"links\":[]},\n",
    "        {   \"type\":\"video\",\n",
    "            \"videoID\":\"vid003\",\n",
    "            \"links\": [\n",
    "            {\"type\": \"video\", \"videoID\":\"vid004\"},\n",
    "            {\"type\": \"video\", \"videoID\":\"vid005\"},\n",
    "            ]\n",
    "        },\n",
    "        {\"type\":\"video\", \"videoID\":\"vid006\"},\n",
    "        {   \"type\":\"video\",\n",
    "            \"videoID\":\"vid007\",\n",
    "            \"links\": [\n",
    "            {\"type\":\"video\", \"videoID\":\"vid008\", \"links\": [\n",
    "                {   \"type\":\"video\",\n",
    "                    \"videoID\":\"vid009\",\n",
    "                    \"links\": [{\"type\":\"video\", \"videoID\":\"vid010\"}]\n",
    "                }\n",
    "            ]}\n",
    "        ]},\n",
    "    ]\n",
    "}\n",
    "mama = find_video(data)\n",
    "print(mama)"
   ]
  },
  {
   "cell_type": "code",
   "execution_count": 410,
   "metadata": {},
   "outputs": [
    {
     "name": "stdout",
     "output_type": "stream",
     "text": [
      "[]\n"
     ]
    }
   ],
   "source": [
    "i = {'type': 'video', 'videoID': 'vid002', 'links': []}\n",
    "print(i['links'])"
   ]
  },
  {
   "cell_type": "markdown",
   "metadata": {},
   "source": [
    "закупочная цена (рублей за 100 грамм);\n",
    "\n",
    "максимальный объём производства (килограммов в месяц);\n",
    "\n",
    "жирность (в процентах);\n",
    "\n",
    "тип (твёрдый, полутвёрдый, мягкий, полумягкий)."
   ]
  },
  {
   "cell_type": "code",
   "execution_count": 476,
   "metadata": {},
   "outputs": [
    {
     "name": "stdout",
     "output_type": "stream",
     "text": [
      "{'пармезан': 29, 'гауда': 27, 'камамбер': 24, 'бри': 28}\n",
      "{'камамбер': 24}\n"
     ]
    }
   ],
   "source": [
    "def filter_by_fat(cheese_data,n):\n",
    "    new_list = filter(lambda x: x[1][2]< n,cheese_data.items())\n",
    "    map_dict = list(map(lambda x:{x[0]:x[1][2]}, new_list))\n",
    "    new_dict = dict()\n",
    "    for i in map_dict:\n",
    "        new_dict[list(i.items())[0][0]] = list(i.items())[0][-1]\n",
    "    return new_dict\n",
    "\n",
    "def filter_by_fat(cheese_data,n):\n",
    "    result = {}\n",
    "    for i in cheese_data:\n",
    "        fat = cheese_data[i][2]\n",
    "        if fat < n:\n",
    "            result[i] = fat\n",
    "    return result\n",
    "cheese_data = {\n",
    "    'чеддер': [370, 5000, 33, 'твердый'],\n",
    "    'пармезан': [510, 4000, 29, 'твердый'],\n",
    "    'гауда': [250, 3700, 27, 'полутвердый'],\n",
    "    'эдам': [220, 10000, 30, 'полутвердый'],\n",
    "    'горгонзола': [320, 3000, 32, 'полумягкий'],\n",
    "    'рокфор': [340, 15000, 31, 'полумягкий'],\n",
    "    'стилтон': [360, 7000, 35, 'полумягкий'],\n",
    "    'камамбер': [250, 8000, 24, 'мягкий'],\n",
    "    'бри': [310, 6500, 28, 'мягкий'],\n",
    "}\n",
    "\n",
    "print(filter_by_fat(cheese_data, n=30))\n",
    "# {'пармезан': 29, 'гауда': 27, 'камамбер': 24, 'бри': 28}\n",
    "\n",
    "print(filter_by_fat(cheese_data, n=25))\n",
    "# {'камамбер': 24}\n"
   ]
  },
  {
   "cell_type": "code",
   "execution_count": 478,
   "metadata": {},
   "outputs": [
    {
     "name": "stdout",
     "output_type": "stream",
     "text": [
      "196100000\n"
     ]
    }
   ],
   "source": [
    "def count_money(cheese_data):\n",
    "    result = 0\n",
    "    for i in cheese_data:\n",
    "        result += cheese_data[i][0]*10*cheese_data[i][1]\n",
    "    return result\n",
    "cheese_data = {\n",
    "    'чеддер': [370, 5000, 33, 'твердый'],\n",
    "    'пармезан': [510, 4000, 29, 'твердый'],\n",
    "    'гауда': [250, 3700, 27, 'полутвердый'],\n",
    "    'эдам': [220, 10000, 30, 'полутвердый'],\n",
    "    'горгонзола': [320, 3000, 32, 'полумягкий'],\n",
    "    'рокфор': [340, 15000, 31, 'полумягкий'],\n",
    "    'стилтон': [360, 7000, 35, 'полумягкий'],\n",
    "    'камамбер': [250, 8000, 24, 'мягкий'],\n",
    "    'бри': [310, 6500, 28, 'мягкий'],\n",
    "}\n",
    "\n",
    "print(count_money(cheese_data))\n",
    "## 196100000\n"
   ]
  },
  {
   "cell_type": "code",
   "execution_count": 482,
   "metadata": {},
   "outputs": [
    {
     "name": "stdout",
     "output_type": "stream",
     "text": [
      "['камамбер', 'бри']\n"
     ]
    },
    {
     "data": {
      "text/plain": [
       "['горгонзола', 'рокфор', 'стилтон']"
      ]
     },
     "execution_count": 482,
     "metadata": {},
     "output_type": "execute_result"
    }
   ],
   "source": [
    "def find_cheese_type(cheese_data,cheese_type):\n",
    "    result = []\n",
    "    for i in cheese_data:\n",
    "        if cheese_data[i][3] == cheese_type:\n",
    "            result.append(i)\n",
    "    return result\n",
    "\n",
    "cheese_data = {\n",
    "    'чеддер': [370, 5000, 33, 'твердый'],\n",
    "    'пармезан': [510, 4000, 29, 'твердый'],\n",
    "    'гауда': [250, 3700, 27, 'полутвердый'],\n",
    "    'эдам': [220, 10000, 30, 'полутвердый'],\n",
    "    'горгонзола': [320, 3000, 32, 'полумягкий'],\n",
    "    'рокфор': [340, 15000, 31, 'полумягкий'],\n",
    "    'стилтон': [360, 7000, 35, 'полумягкий'],\n",
    "    'камамбер': [250, 8000, 24, 'мягкий'],\n",
    "    'бри': [310, 6500, 28, 'мягкий'],\n",
    "}\n",
    "\n",
    "print(find_cheese_type(cheese_data, cheese_type='мягкий'))\n",
    "# ['камамбер', 'бри']\n",
    "\n",
    "find_cheese_type(cheese_data, cheese_type='полумягкий')\n",
    "# ['горгонзола', 'рокфор', 'стилтон']\n"
   ]
  },
  {
   "cell_type": "code",
   "execution_count": 13,
   "metadata": {},
   "outputs": [
    {
     "name": "stdout",
     "output_type": "stream",
     "text": [
      "Косинус x через ряд Тейлора:\n",
      "-0.4161466517022073\n",
      "Синус x через ряд Тейлора:\n",
      "0.9092974515196738\n"
     ]
    }
   ],
   "source": [
    "from math import factorial\n",
    "\n",
    "def factorial(n):\n",
    "    if n == 0:\n",
    "        return 1\n",
    "    else:\n",
    "        return n * factorial(n-1)\n",
    "\n",
    "# Функции для вычисления косинуса и синуса через ряд Тейлора\n",
    "def cos_taylor(x, n=6):\n",
    "    result = 0\n",
    "    for k in range(n+1):\n",
    "        result += (-1)**k * x**(2*k) / factorial(2*k)\n",
    "    return result\n",
    "\n",
    "def sin_taylor(x, n=6):\n",
    "    result = x\n",
    "    for k in range(1, n+1):\n",
    "        result += (-1)**k * x**(2*k+1) / factorial(2*k + 1)\n",
    "    return result\n",
    "\n",
    "# Основная программа\n",
    "x = float(input(\"Введите значение x: \"))\n",
    "print(\"Косинус x через ряд Тейлора:\")\n",
    "print(cos_taylor(x))\n",
    "print(\"Синус x через ряд Тейлора:\")\n",
    "print(sin_taylor(x))"
   ]
  },
  {
   "cell_type": "code",
   "execution_count": 15,
   "metadata": {},
   "outputs": [
    {
     "data": {
      "text/plain": [
       "177"
      ]
     },
     "execution_count": 15,
     "metadata": {},
     "output_type": "execute_result"
    }
   ],
   "source": []
  },
  {
   "cell_type": "code",
   "execution_count": 30,
   "metadata": {},
   "outputs": [
    {
     "name": "stdout",
     "output_type": "stream",
     "text": [
      "0\n",
      "1\n",
      "2\n",
      "3\n",
      "4\n",
      "5\n",
      "6\n",
      "7\n",
      "8\n",
      "9\n",
      "10\n",
      "11\n",
      "12\n",
      "13\n",
      "14\n",
      "15\n",
      "16\n",
      "17\n",
      "18\n",
      "19\n",
      "20\n",
      "21\n",
      "22\n",
      "23\n",
      "24\n",
      "25\n",
      "26\n",
      "27\n",
      "28\n",
      "29\n",
      "30\n",
      "31\n",
      "32\n",
      "33\n",
      "34\n",
      "35\n",
      "36\n",
      "37\n",
      "38\n",
      "39\n",
      "40\n",
      "41\n",
      "42\n",
      "43\n",
      "44\n",
      "45\n",
      "46\n",
      "47\n",
      "48\n",
      "49\n",
      "50\n",
      "51\n",
      "52\n",
      "53\n",
      "54\n",
      "55\n",
      "56\n",
      "57\n",
      "58\n",
      "59\n",
      "60\n",
      "61\n",
      "62\n",
      "63\n",
      "64\n",
      "65\n",
      "66\n",
      "67\n",
      "68\n",
      "69\n",
      "70\n",
      "71\n",
      "72\n",
      "73\n",
      "74\n",
      "75\n",
      "76\n",
      "77\n",
      "78\n",
      "79\n",
      "80\n",
      "81\n",
      "82\n",
      "83\n",
      "84\n",
      "85\n",
      "86\n",
      "87\n",
      "88\n",
      "89\n",
      "90\n",
      "91\n",
      "92\n",
      "93\n",
      "94\n",
      "95\n",
      "96\n",
      "97\n",
      "98\n",
      "99\n"
     ]
    }
   ],
   "source": [
    "i = [1,2,3,4,5,6,7,1,1,1,1,1]\n",
    "katapulta = {}\n",
    "katapulta['dobro'] = 100 \n",
    "katapulta\n",
    "test = \" wrelf;lwet;ekr;tk;erlkt ;lkre;tk ;erljt;jer;ljt ;erjt; jer;jt ;erljt ;jer t 6655 sdkjfgldjgfljegje;jg;ejg;je;gje;j ;rleg ;ljer'ArithmeticError \"\n",
    "new_str = '100'\n"
   ]
  },
  {
   "cell_type": "code",
   "execution_count": 2,
   "metadata": {},
   "outputs": [
    {
     "name": "stdout",
     "output_type": "stream",
     "text": [
      "2085209001.813616\n"
     ]
    }
   ],
   "source": [
    "def factorial(n):\n",
    "    if n == 0:\n",
    "        return 1\n",
    "    else:\n",
    "        return n * factorial(n-1)\n",
    "\n",
    "n = 9\n",
    "print(45**n/factorial(n))"
   ]
  },
  {
   "cell_type": "code",
   "execution_count": 43,
   "metadata": {},
   "outputs": [
    {
     "data": {
      "text/plain": [
       "756680642578125"
      ]
     },
     "execution_count": 43,
     "metadata": {},
     "output_type": "execute_result"
    }
   ],
   "source": [
    "45**9\n"
   ]
  },
  {
   "cell_type": "code",
   "execution_count": 46,
   "metadata": {},
   "outputs": [
    {
     "name": "stdout",
     "output_type": "stream",
     "text": [
      "0.5403023058681397  cos\n",
      "0.8414709848078965  sin\n",
      "5040\n"
     ]
    }
   ],
   "source": [
    "schectchik = 1000\n",
    "x = 1\n",
    "list(range(schectchik+1))[1::2]\n",
    "result_sin = 0\n",
    "count = 0\n",
    "result_cos = 0\n",
    "count_cos = 0\n",
    "for i in list(range(schectchik+1))[1::2]:\n",
    "    if count % 2 !=0:\n",
    "        #print(count)\n",
    "        result_sin -= x**i/factorial(i)\n",
    "        count+=1\n",
    "    else: \n",
    "        result_sin += x**i/factorial(i)\n",
    "        count+=1\n",
    "for i in list(range(schectchik+1))[::2]:\n",
    "    if count_cos % 2==0:\n",
    "        count_cos +=1\n",
    "        result_cos += x**i/factorial(i)\n",
    "    else:\n",
    "        count_cos +=1\n",
    "        result_cos -= x**i/factorial(i)\n",
    "print(result_cos,' cos')\n",
    "print(result_sin,' sin')\n",
    "print(factorial(7))"
   ]
  },
  {
   "cell_type": "code",
   "execution_count": 41,
   "metadata": {},
   "outputs": [
    {
     "name": "stdout",
     "output_type": "stream",
     "text": [
      "0.6428333333333333\n"
     ]
    }
   ],
   "source": [
    "\n",
    "x=0.7\n",
    "x1 = x/factorial(1)\n",
    "x2 = x**3/factorial(3)\n",
    "print(x1-x2)"
   ]
  },
  {
   "cell_type": "code",
   "execution_count": 164,
   "metadata": {},
   "outputs": [
    {
     "name": "stdout",
     "output_type": "stream",
     "text": [
      "['эдам', 'гауда', 'камамбер', 'бри', 'горгонзола', 'рокфор', 'стилтон', 'чеддер', 'пармезан']\n"
     ]
    },
    {
     "data": {
      "text/plain": [
       "370"
      ]
     },
     "execution_count": 164,
     "metadata": {},
     "output_type": "execute_result"
    }
   ],
   "source": [
    "def sort_cheese(cheese_data):\n",
    "    sorted_list = list(cheese_data.items())\n",
    "    sorted_list.sort(key = lambda x: x[1][0])\n",
    "    return list(map(lambda x: x[0], sorted_list))\n",
    "\n",
    "cheese_data = {\n",
    "    'чеддер': [370, 5000, 33, 'твердый'],\n",
    "    'пармезан': [510, 4000, 29, 'твердый'],\n",
    "    'гауда': [250, 3700, 27, 'полутвердый'],\n",
    "    'эдам': [220, 10000, 30, 'полутвердый'],\n",
    "    'горгонзола': [320, 3000, 32, 'полумягкий'],\n",
    "    'рокфор': [340, 15000, 31, 'полумягкий'],\n",
    "    'стилтон': [360, 7000, 35, 'полумягкий'],\n",
    "    'камамбер': [250, 8000, 24, 'мягкий'],\n",
    "    'бри': [310, 6500, 28, 'мягкий'],\n",
    "}\n",
    "\n",
    "print(sort_cheese(cheese_data))\n",
    "# ['эдам', 'гауда', 'камамбер', 'бри', 'горгонзола', 'рокфор', 'стилтон', 'чеддер', 'пармезан']\n",
    "list(cheese_data.items())[0][1][0]"
   ]
  },
  {
   "cell_type": "code",
   "execution_count": 189,
   "metadata": {},
   "outputs": [
    {
     "name": "stdout",
     "output_type": "stream",
     "text": [
      "Ваш заказ оформлен верно\n",
      "Вы продублировали ингредиент бактерии в заказе 2 раз(а)\n",
      "Вы продублировали ингредиент молоко коровье в заказе 3 раз(а)\n",
      "Вы продублировали ингредиент молоко овечье в заказе 2 раз(а)\n",
      "Вы продублировали ингредиент соль в заказе 3 раз(а)\n"
     ]
    }
   ],
   "source": [
    "def purchase(ingredients):\n",
    "    list_checker = []\n",
    "    for i in set(ingredients):\n",
    "        if ingredients.count(i) > 1:\n",
    "            list_checker.append(i)\n",
    "    list_checker.sort()\n",
    "    if not list_checker:\n",
    "        print('Ваш заказ оформлен верно')\n",
    "    else:\n",
    "        for i in list_checker:\n",
    "            print(f'Вы продублировали ингредиент {i} в заказе {ingredients.count(i)} раз(а)')\n",
    "\n",
    "\n",
    "ingredients = ['кислота уксусная', 'кислота лимонная', 'закваска', 'кислота молочная', 'пряность', 'бактерии', 'аннато', 'кальций', 'калий', 'специя', 'молоко коровье', 'молоко овечье', 'фермент', 'соль', 'сливки', 'грибки', 'ароматизатор', 'молоко козье', 'дрожжи', 'каротин']\n",
    "\n",
    "purchase(ingredients)\n",
    "# Ваш заказ оформлен верно\n",
    "\n",
    "ingredients = ['молоко коровье', 'молоко овечье', 'бактерии', 'молоко козье', 'сливки', 'фермент', 'закваска', 'молоко коровье', 'соль', 'молоко коровье', 'бактерии', 'молоко овечье', 'кислота лимонная', 'грибки', 'соль', 'дрожжи', 'кислота уксусная', 'кальций', 'калий', 'каротин', 'аннато', 'специя', 'пряность', 'ароматизатор', 'соль', 'кислота молочная']\n",
    "\n",
    "purchase(ingredients)\n",
    "# Вы продублировали ингредиент бактерии в заказе 2 раз(а)\n",
    "# Вы продублировали ингредиент молоко коровье в заказе 3 раз(а)\n",
    "# Вы продублировали ингредиент молоко овечье в заказе 2 раз(а)\n",
    "# Вы продублировали ингредиент соль в заказе 3 раз(а)\n"
   ]
  },
  {
   "cell_type": "code",
   "execution_count": 175,
   "metadata": {},
   "outputs": [
    {
     "name": "stdout",
     "output_type": "stream",
     "text": [
      "2332.2\n",
      "1738.39\n"
     ]
    }
   ],
   "source": [
    "def difcit_bzu_m(ves = 95,height = 183,age = 25):\n",
    "    result = (66 + 13.7*ves + 5*height - 6.8*age) * 1.38\n",
    "    return round(result * 0.8,2)\n",
    "print(difcit_bzu_m())\n",
    "\n",
    "def difcit_bzu_w(ves = 65,height = 165,age = 20):\n",
    "    result = (655 + 9.6*ves + 1.8*height - 4.7*age) * 1.38\n",
    "    return round(result * 0.85,2)\n",
    "print(difcit_bzu_w())\n"
   ]
  },
  {
   "cell_type": "code",
   "execution_count": 199,
   "metadata": {},
   "outputs": [
    {
     "data": {
      "text/plain": [
       "'abcdefghijklmnopqrstuvwxyz'"
      ]
     },
     "execution_count": 199,
     "metadata": {},
     "output_type": "execute_result"
    }
   ],
   "source": [
    "import string\n",
    "alphabet = string.ascii_lowercase\n",
    "alphabet"
   ]
  },
  {
   "cell_type": "code",
   "execution_count": 255,
   "metadata": {},
   "outputs": [
    {
     "name": "stdout",
     "output_type": "stream",
     "text": [
      "hhakafh\n",
      "step 1: hakafi\n",
      "step 2: hkfib\n",
      "output:\n",
      "hkfib\n"
     ]
    }
   ],
   "source": [
    "s = input('Введите строку: ')\n",
    "def replace_duplicates(s):\n",
    "  print(s)\n",
    "  count = 0\n",
    "  checker = 0\n",
    "  while True:\n",
    "    # Соаздаем лист уникальных симоволов с проверкой на уникальность строки\n",
    "    unical_s = []\n",
    "    for i in s:\n",
    "      if i not in unical_s:\n",
    "        unical_s.append(i)\n",
    "      else:\n",
    "        checker += 1\n",
    "        \n",
    "    # Выход из цикла, если строка уникальна\n",
    "    if not checker:\n",
    "        break\n",
    "    \n",
    "    \n",
    "    for i in unical_s:\n",
    "      if s.count(i) > 1:\n",
    "        # Определеяем местонахождения символа которого больше 1 в \"s\" \n",
    "        find_s = s.find(i)\n",
    "        find_s2 = s.find(i,find_s+1)\n",
    "        count += 1\n",
    "        alphabet_find = alphabet.find(i)\n",
    "        \n",
    "        # Соблюдаем условия из задчи про смежные буквы\n",
    "        if (find_s+1) == find_s2:\n",
    "          if s.count(i) == 2:\n",
    "            find_s2 = find_s2\n",
    "          else:\n",
    "            find_s2 = s.find(i,find_s2+1)\n",
    "        \n",
    "        # Делаем срез по условиям задачи\n",
    "        s = s[:find_s]+s[find_s+1:find_s2] + s[find_s2+1:]\n",
    "        \n",
    "        # Условия на символ \"zz\" с заменой на \"а\"\n",
    "        if i == 'z':\n",
    "            s+='a'\n",
    "        else:\n",
    "            s += f'{alphabet[alphabet_find+1]}'\n",
    "        \n",
    "        # Вывод шагов и обнуления уникальных символов\n",
    "        print(f'step {count}: {s}')\n",
    "        checker = 0\n",
    "    \n",
    "    # Вывод результата как в задании\n",
    "    print('output:')\n",
    "    print(s)\n",
    "\n",
    "# В выводе указана ошибка т.к в задании нигде не прописана замена zc на cz  и непонятно почему там такой вывод\n",
    "#step 3: zc\n",
    "\n",
    "#output:\n",
    "#cz\n",
    "replace_duplicates(s)"
   ]
  },
  {
   "cell_type": "code",
   "execution_count": 256,
   "metadata": {},
   "outputs": [
    {
     "name": "stdout",
     "output_type": "stream",
     "text": [
      "The Zen of Python, by Tim Peters\n",
      "\n",
      "Beautiful is better than ugly.\n",
      "Explicit is better than implicit.\n",
      "Simple is better than complex.\n",
      "Complex is better than complicated.\n",
      "Flat is better than nested.\n",
      "Sparse is better than dense.\n",
      "Readability counts.\n",
      "Special cases aren't special enough to break the rules.\n",
      "Although practicality beats purity.\n",
      "Errors should never pass silently.\n",
      "Unless explicitly silenced.\n",
      "In the face of ambiguity, refuse the temptation to guess.\n",
      "There should be one-- and preferably only one --obvious way to do it.\n",
      "Although that way may not be obvious at first unless you're Dutch.\n",
      "Now is better than never.\n",
      "Although never is often better than *right* now.\n",
      "If the implementation is hard to explain, it's a bad idea.\n",
      "If the implementation is easy to explain, it may be a good idea.\n",
      "Namespaces are one honking great idea -- let's do more of those!\n"
     ]
    }
   ],
   "source": [
    "import this"
   ]
  },
  {
   "cell_type": "code",
   "execution_count": 184,
   "metadata": {},
   "outputs": [
    {
     "data": {
      "text/plain": [
       "0.6688888888888889"
      ]
     },
     "execution_count": 184,
     "metadata": {},
     "output_type": "execute_result"
    }
   ],
   "source": [
    "301/450"
   ]
  },
  {
   "cell_type": "code",
   "execution_count": 190,
   "metadata": {},
   "outputs": [
    {
     "data": {
      "text/plain": [
       "2075.0"
      ]
     },
     "execution_count": 190,
     "metadata": {},
     "output_type": "execute_result"
    }
   ],
   "source": [
    "350*4.5+500"
   ]
  },
  {
   "cell_type": "code",
   "execution_count": 188,
   "metadata": {},
   "outputs": [
    {
     "data": {
      "text/plain": [
       "97.5"
      ]
     },
     "execution_count": 188,
     "metadata": {},
     "output_type": "execute_result"
    }
   ],
   "source": [
    "15*6.5"
   ]
  },
  {
   "cell_type": "code",
   "execution_count": null,
   "metadata": {},
   "outputs": [],
   "source": []
  }
 ],
 "metadata": {
  "kernelspec": {
   "display_name": ".venv",
   "language": "python",
   "name": "python3"
  },
  "language_info": {
   "codemirror_mode": {
    "name": "ipython",
    "version": 3
   },
   "file_extension": ".py",
   "mimetype": "text/x-python",
   "name": "python",
   "nbconvert_exporter": "python",
   "pygments_lexer": "ipython3",
   "version": "3.9.6"
  }
 },
 "nbformat": 4,
 "nbformat_minor": 2
}
