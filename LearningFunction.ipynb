{
 "cells": [
  {
   "cell_type": "code",
   "execution_count": 3,
   "metadata": {},
   "outputs": [
    {
     "name": "stdout",
     "output_type": "stream",
     "text": [
      "Zdarova,Nstya\n"
     ]
    }
   ],
   "source": [
    "def firstfunction(name):\n",
    "    print(f'Hello ,{name}')\n",
    "    \n",
    "name = input('write your name',)\n",
    "firstfunction(name)"
   ]
  },
  {
   "cell_type": "code",
   "execution_count": 9,
   "metadata": {},
   "outputs": [
    {
     "name": "stdout",
     "output_type": "stream",
     "text": [
      "Hours: 1\n",
      "Minute: 16\n"
     ]
    }
   ],
   "source": [
    "def print_hours(time_value):\n",
    "    print(f'Hours: {time_value // 60}')\n",
    "    print(f'Minute: {time_value % 60}')\n",
    "#time_value = int(input('wtite count minutes: ',))\n",
    "print_hours(76)\n"
   ]
  },
  {
   "cell_type": "code",
   "execution_count": 10,
   "metadata": {},
   "outputs": [
    {
     "data": {
      "text/plain": [
       "2.0"
      ]
     },
     "execution_count": 10,
     "metadata": {},
     "output_type": "execute_result"
    }
   ],
   "source": [
    "def get_time(distance, speed):\n",
    "    result = distance / speed\n",
    "    return result\n",
    "\n",
    "time = get_time(120,60)\n",
    "time"
   ]
  },
  {
   "cell_type": "code",
   "execution_count": 19,
   "metadata": {},
   "outputs": [
    {
     "name": "stdout",
     "output_type": "stream",
     "text": [
      "<class 'tuple'>\n",
      "Hours = 1\n",
      "Minute = 14\n"
     ]
    }
   ],
   "source": [
    "def get_time_pro(distance,speed):\n",
    "    result = (distance / speed) * 60\n",
    "    hours = round(result // 60)\n",
    "    minute = round(result % 60)\n",
    "    return hours,minute\n",
    "\n",
    "data_time_pro = get_time_pro(120,97)\n",
    "print(type(data_time_pro))\n",
    "print(f'Hours = {data_time_pro[0]}')\n",
    "print(f'Minute = {data_time_pro[-1]}')\n",
    "    "
   ]
  },
  {
   "cell_type": "code",
   "execution_count": 21,
   "metadata": {},
   "outputs": [
    {
     "data": {
      "text/plain": [
       "True"
      ]
     },
     "execution_count": 21,
     "metadata": {},
     "output_type": "execute_result"
    }
   ],
   "source": [
    "def in_list(lsit_checker, obj):\n",
    "    return obj in lsit_checker\n",
    "\n",
    "list_checker = list(range(1,10))\n",
    "in_list(list_checker,4)"
   ]
  },
  {
   "cell_type": "markdown",
   "metadata": {},
   "source": [
    "# Выводы по модулю\n",
    "\n",
    "Узнали что такое функция\n",
    "\n",
    "Из чего она состоит\n",
    "\n",
    "научились использовать return, узнали что возвращает функция\n",
    "\n",
    "научились использовать pass при постройки функции \n",
    "\n",
    "узнали что функция возвращает обьект None если в ней явно не прописано, что она возвращает"
   ]
  },
  {
   "cell_type": "markdown",
   "metadata": {},
   "source": [
    "Напишите функцию get_total(units, price), которая принимает на вход число единиц товара и стоимость каждой единицы. Функция возвращает одно число — общую стоимость данного числа товаров.\n",
    "\n"
   ]
  },
  {
   "cell_type": "code",
   "execution_count": 22,
   "metadata": {},
   "outputs": [
    {
     "name": "stdout",
     "output_type": "stream",
     "text": [
      "750\n"
     ]
    }
   ],
   "source": [
    "def get_total(units, price):\n",
    "    return units*price\n",
    "\n",
    "print(get_total(15, 50))"
   ]
  },
  {
   "cell_type": "code",
   "execution_count": 24,
   "metadata": {},
   "outputs": [
    {
     "name": "stdout",
     "output_type": "stream",
     "text": [
      "Cola with ice is ready\n"
     ]
    }
   ],
   "source": [
    "def get_cola(ice = True):\n",
    "    if ice:\n",
    "        print('Cola with ice is ready')\n",
    "    else:\n",
    "        print('Cola without ice is ready')\n",
    "        \n",
    "get_cola()"
   ]
  },
  {
   "cell_type": "code",
   "execution_count": 39,
   "metadata": {},
   "outputs": [
    {
     "name": "stdout",
     "output_type": "stream",
     "text": [
      "9.0\n"
     ]
    }
   ],
   "source": [
    "def root(value,n=2):\n",
    "    return value ** (1/n)\n",
    "\n",
    "print(root(81))\n",
    "    "
   ]
  },
  {
   "cell_type": "code",
   "execution_count": 35,
   "metadata": {},
   "outputs": [
    {
     "name": "stdout",
     "output_type": "stream",
     "text": [
      "Student's mark not found\n"
     ]
    }
   ],
   "source": [
    "grades = {'Ivanov': 5, 'Smirnov': 3, 'Kuznetsova': 4, 'Tihonova': 5}\n",
    "try:\n",
    "    print(grades['Pavlov'])\n",
    "except KeyError:\n",
    "    print(\"Student's mark not found\")"
   ]
  },
  {
   "cell_type": "code",
   "execution_count": 38,
   "metadata": {},
   "outputs": [
    {
     "data": {
      "text/plain": [
       "0.25"
      ]
     },
     "execution_count": 38,
     "metadata": {},
     "output_type": "execute_result"
    }
   ],
   "source": [
    "def get_time(distance, speed):\n",
    "    if distance < 0 or speed < 0:\n",
    "        raise ValueError('Distance or speed cannot be below 0 ')\n",
    "    return distance / speed\n",
    "get_time(25, 100)\n",
    "\n"
   ]
  },
  {
   "cell_type": "code",
   "execution_count": null,
   "metadata": {},
   "outputs": [],
   "source": [
    "def get_time(distance, speed):\n",
    "    if distance < 0 or speed < 0:\n",
    "        raise ValueError(\"Distance or speed cannot be below 0!\")\n",
    "    if not speed:\n",
    "        raise ValueError('Speed cannot be equeal 0')\n",
    "    result = distance / speed\n",
    "    return result\n"
   ]
  },
  {
   "cell_type": "code",
   "execution_count": null,
   "metadata": {},
   "outputs": [],
   "source": [
    "def add_mark(name, mark, journal=None):\n",
    "   if mark not in  [2,3,4,5]:\n",
    "       raise ValueError('Invalid mark')\n",
    "   if journal is None:\n",
    "       journal = {}\n",
    "   journal[name] = mark\n",
    "   return journal"
   ]
  },
  {
   "cell_type": "code",
   "execution_count": null,
   "metadata": {},
   "outputs": [],
   "source": []
  }
 ],
 "metadata": {
  "kernelspec": {
   "display_name": ".venv",
   "language": "python",
   "name": "python3"
  },
  "language_info": {
   "codemirror_mode": {
    "name": "ipython",
    "version": 3
   },
   "file_extension": ".py",
   "mimetype": "text/x-python",
   "name": "python",
   "nbconvert_exporter": "python",
   "pygments_lexer": "ipython3",
   "version": "3.13.0"
  }
 },
 "nbformat": 4,
 "nbformat_minor": 2
}
