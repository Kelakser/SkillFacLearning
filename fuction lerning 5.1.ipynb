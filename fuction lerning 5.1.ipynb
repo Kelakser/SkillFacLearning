{
 "cells": [
  {
   "cell_type": "code",
   "execution_count": 37,
   "metadata": {},
   "outputs": [],
   "source": [
    "import requests"
   ]
  },
  {
   "cell_type": "markdown",
   "metadata": {},
   "source": [
    "Функции позволяют:\n",
    "\n",
    "структурировать исходный код\n",
    "\n",
    "выполнять один и тот же набор команд из любого места в программе и с различными данными\n",
    "\n",
    "## Цели модуля:\n",
    "\n",
    "Создавать собственные функции и научиться в них передавать даныне\n",
    "\n",
    "обрабатывать аргументы и выдавать результаты выполненяи функции\n",
    "\n",
    "передавтаь в функции неизвестыне заранее колличество аругментов\n",
    "\n",
    "\n"
   ]
  },
  {
   "cell_type": "code",
   "execution_count": 38,
   "metadata": {},
   "outputs": [
    {
     "name": "stdout",
     "output_type": "stream",
     "text": [
      "Hello world!\n",
      "Hello world!\n"
     ]
    }
   ],
   "source": [
    "def first_function():\n",
    "    print(\"Hello world!\")\n",
    "first_function()\n",
    "first_function()"
   ]
  },
  {
   "cell_type": "markdown",
   "metadata": {},
   "source": [
    "Сигнатура функции это ее название\n",
    "\n",
    "Симантика(тело) функции - содержание функции"
   ]
  },
  {
   "cell_type": "code",
   "execution_count": 39,
   "metadata": {},
   "outputs": [
    {
     "name": "stdout",
     "output_type": "stream",
     "text": [
      "минуты 30 часы 1\n"
     ]
    }
   ],
   "source": [
    "def print_house(minutes):\n",
    "    hour = minutes // 60\n",
    "    minute = minutes % 60\n",
    "    print(f'минуты {minute} часы {hour}')\n",
    "\n",
    "print_house(90)"
   ]
  },
  {
   "cell_type": "code",
   "execution_count": 40,
   "metadata": {},
   "outputs": [
    {
     "data": {
      "text/plain": [
       "2.4"
      ]
     },
     "execution_count": 40,
     "metadata": {},
     "output_type": "execute_result"
    }
   ],
   "source": [
    "def get_time(distance, speed ):\n",
    "    result = distance/speed\n",
    "    return result\n",
    "\n",
    "time = get_time(120,50)\n",
    "time"
   ]
  },
  {
   "cell_type": "code",
   "execution_count": 41,
   "metadata": {},
   "outputs": [
    {
     "name": "stdout",
     "output_type": "stream",
     "text": [
      "2 2\n"
     ]
    }
   ],
   "source": [
    "def get_time_tuple(distance, speed):\n",
    "    hours = distance // speed\n",
    "    distance_left = distance % speed\n",
    "    kms_per_minute = speed / 60\n",
    "    minutes = round(distance_left / kms_per_minute)\n",
    "    return minutes, hours\n",
    "result = get_time_tuple(120,59)\n",
    "print(result[0],result[-1])"
   ]
  },
  {
   "cell_type": "code",
   "execution_count": 42,
   "metadata": {},
   "outputs": [
    {
     "name": "stdout",
     "output_type": "stream",
     "text": [
      "Element is found\n",
      "True\n",
      "Element is not found\n",
      "False\n"
     ]
    }
   ],
   "source": [
    "def in_list(list_in, obj):\n",
    "    for elem in list_in:\n",
    "        if elem == obj:\n",
    "            print('Element is found')\n",
    "            return True\n",
    "    print('Element is not found')\n",
    "    return False\n",
    "    print('This will not be printed either')\n",
    "\n",
    "my_list = list(range(1,10))\n",
    "result = in_list(my_list,3)\n",
    "print(result)\n",
    "\n",
    "result = in_list(my_list,13)\n",
    "print(result)\n",
    "    "
   ]
  },
  {
   "cell_type": "code",
   "execution_count": 43,
   "metadata": {},
   "outputs": [],
   "source": [
    "def first_function():\n",
    "    pass\n"
   ]
  },
  {
   "cell_type": "markdown",
   "metadata": {},
   "source": [
    "# В юните изучено:\n",
    "1. Научились создавать собственные функции, и прописывать их сигнатуру\n",
    "2. Научились возвращать результат работы функции обратно с  помощью \"return\"\n",
    "3. Узнали что return является сиганлом к завершению функции \n",
    "4. Узнали что функция возвращает None если в ней явно не проиписано возвращаемое значение\n",
    "5. Научились создавать пустые функции с помощью pass, к котором можно возвращаться позже и они не выдадут ошибку"
   ]
  },
  {
   "cell_type": "markdown",
   "metadata": {},
   "source": [
    "Напишите функцию get_total(units, price), которая принимает на вход число единиц товара и стоимость каждой единицы. Функция возвращает одно число — общую стоимость данного числа товаров.\n",
    "\n",
    "Пример: print(get_total(15, 50))"
   ]
  },
  {
   "cell_type": "code",
   "execution_count": 44,
   "metadata": {},
   "outputs": [
    {
     "name": "stdout",
     "output_type": "stream",
     "text": [
      "750\n"
     ]
    }
   ],
   "source": [
    "def get_total(units, price):\n",
    "    return units*price\n",
    "print(get_total(15, 50))"
   ]
  },
  {
   "cell_type": "code",
   "execution_count": 45,
   "metadata": {},
   "outputs": [
    {
     "name": "stdout",
     "output_type": "stream",
     "text": [
      "Cola without ice is ready\n",
      "None\n",
      "Cola with ice is ready\n"
     ]
    }
   ],
   "source": [
    "def get_cola(cola=True):\n",
    "    if cola:\n",
    "        print('Cola with ice is ready')\n",
    "    else:\n",
    "        print('Cola without ice is ready')\n",
    "print(get_cola(False))\n",
    "get_cola()\n"
   ]
  },
  {
   "cell_type": "code",
   "execution_count": 46,
   "metadata": {},
   "outputs": [
    {
     "data": {
      "text/plain": [
       "2.28"
      ]
     },
     "execution_count": 46,
     "metadata": {},
     "output_type": "execute_result"
    }
   ],
   "source": [
    "def root(value, n=2):\n",
    "    return round(value ** (1/n),3)\n",
    "root(27,4)\n"
   ]
  },
  {
   "cell_type": "code",
   "execution_count": 47,
   "metadata": {},
   "outputs": [],
   "source": [
    "def add_mark(name, mark, journal = None):\n",
    "    if journal is None:\n",
    "        journal = dict()\n",
    "    journal[name] = mark\n",
    "    return journal"
   ]
  },
  {
   "cell_type": "code",
   "execution_count": 48,
   "metadata": {},
   "outputs": [
    {
     "data": {
      "text/plain": [
       "5.0"
      ]
     },
     "execution_count": 48,
     "metadata": {},
     "output_type": "execute_result"
    }
   ],
   "source": [
    "def get_time(speed, distance):\n",
    "    if speed < 0 and distance < 0:\n",
    "        raise('Distance or speed cannot be below 0')\n",
    "    return distance / speed\n",
    "get_time(120,600)"
   ]
  },
  {
   "cell_type": "code",
   "execution_count": 49,
   "metadata": {},
   "outputs": [],
   "source": [
    "def get_time(distance, speed):\n",
    "    if not speed:\n",
    "        raise('Speed cannot be eaqual 0')\n",
    "    if distance < 0 or speed < 0:\n",
    "        raise ValueError(\"Distance or speed cannot be below 0!\")\n",
    "    result = distance / speed\n",
    "    return result\n",
    "#get_time(100, 0)\n"
   ]
  },
  {
   "cell_type": "code",
   "execution_count": 50,
   "metadata": {},
   "outputs": [
    {
     "data": {
      "text/plain": [
       "[2, 3, 4, 5]"
      ]
     },
     "execution_count": 50,
     "metadata": {},
     "output_type": "execute_result"
    }
   ],
   "source": [
    "def get_root(value, n = 2):\n",
    "    return value ** (1/n)\n",
    "get_root(81)\n",
    "list(range(2,6))"
   ]
  },
  {
   "cell_type": "markdown",
   "metadata": {},
   "source": [
    "# Итоги модуля\n",
    "1. Вспомнили обработку исключений и научиллись делать проверку в функции на наличие исключений\n",
    "2. научились использовать аругменты по умолчанию не прописывая их многократно\n",
    "3. Понял  что использовать аругмент по умолчанию с изменяемыми типами данных необходимо только с обьектом None\n"
   ]
  },
  {
   "cell_type": "code",
   "execution_count": 51,
   "metadata": {},
   "outputs": [],
   "source": [
    "def add_mark(name, mark, journal=None):\n",
    "   # Добавьте здесь проверку аргумента mark\n",
    "   if mark not in list(range(2,6)):\n",
    "       raise ValueError(\"Invalid Mark!\")\n",
    "   if journal is None:\n",
    "       journal = {}\n",
    "   journal[name] = mark\n",
    "   return journal\n",
    "#add_mark('Ivanov', 6)\n",
    "# ValueError: Invalid Mark!\n"
   ]
  },
  {
   "cell_type": "markdown",
   "metadata": {},
   "source": [
    "# Цели юнита:\n",
    "1. Научиться передатвать в функцию аргументы различными способами\n",
    "2. Узнать что такое порядковые и именнованные аргументы"
   ]
  },
  {
   "cell_type": "code",
   "execution_count": 59,
   "metadata": {},
   "outputs": [
    {
     "name": "stdout",
     "output_type": "stream",
     "text": [
      "5.0\n",
      "3.0\n",
      "Root of power 3 from 27 equals 3.0\n",
      "3.0\n",
      "Root of power 2 from 25 equals 5.0\n",
      "5.0\n",
      "Root of power 4 from 81 equals 3.0\n",
      "3.0\n",
      "Root of power 4 from 81 equals 3.0\n",
      "3.0\n"
     ]
    }
   ],
   "source": [
    "def root(value, n= 2, verbose = False):\n",
    "    result = value ** (1/n)\n",
    "    if verbose:\n",
    "        print('Root of power', n, 'from',\n",
    "            value, 'equals', result)\n",
    "    return result\n",
    "print(root(25))\n",
    "print(root(27, 3))\n",
    "print(root(27, 3, True))\n",
    "print(root(25, verbose=True))\n",
    "print(root(81, verbose=True, n=4))\n",
    "print(root(verbose=True, n=4, value=81))"
   ]
  },
  {
   "cell_type": "code",
   "execution_count": 67,
   "metadata": {},
   "outputs": [
    {
     "name": "stdout",
     "output_type": "stream",
     "text": [
      "62, 35, 45\n",
      "Shopping list: bread, butter, eggs\n",
      "Papa\n"
     ]
    }
   ],
   "source": [
    "print(62,35,45, sep=', ')\n",
    "print(\"Shopping list:\",end= ' ')\n",
    "print(\"bread\", \"butter\", \"eggs\", sep=', ')\n",
    "print('Papa')"
   ]
  },
  {
   "cell_type": "markdown",
   "metadata": {},
   "source": [
    "# Итоги:\n",
    "1. В этом юните я научился узнавать про порядковость именнованных, обязательных аргумнетов и как их использовать\n",
    "2. узнал 2 параметра print: end=, sep="
   ]
  },
  {
   "cell_type": "code",
   "execution_count": 70,
   "metadata": {},
   "outputs": [
    {
     "name": "stdout",
     "output_type": "stream",
     "text": [
      "<class 'tuple'>\n"
     ]
    },
    {
     "data": {
      "text/plain": [
       "6.6"
      ]
     },
     "execution_count": 70,
     "metadata": {},
     "output_type": "execute_result"
    }
   ],
   "source": [
    "def mean(*numbers):\n",
    "    print(type(numbers))\n",
    "    result = sum(numbers) / len(numbers)\n",
    "    return result\n",
    "\n",
    "mean(3,6,7,8,9)"
   ]
  },
  {
   "cell_type": "code",
   "execution_count": 72,
   "metadata": {},
   "outputs": [
    {
     "name": "stdout",
     "output_type": "stream",
     "text": [
      "ivanon GPA= 3.8\n"
     ]
    }
   ],
   "source": [
    "def mean_marks(name, *marks):\n",
    "    result = sum(marks) / len(marks)\n",
    "    print(f'{name} GPA= {result}')\n",
    "mean_marks('ivanon', 5,4,5,3,2)"
   ]
  },
  {
   "cell_type": "code",
   "execution_count": 74,
   "metadata": {},
   "outputs": [
    {
     "name": "stdout",
     "output_type": "stream",
     "text": [
      "Opel GPA= 3.4\n"
     ]
    }
   ],
   "source": [
    "def mean_mark_worng(*marks, name):\n",
    "    result = sum(marks) / len(marks)\n",
    "    print(f'{name} GPA= {result}')\n",
    "mean_mark_worng(5,3,3,3,3, name = 'Opel')"
   ]
  },
  {
   "cell_type": "code",
   "execution_count": 76,
   "metadata": {},
   "outputs": [
    {
     "name": "stdout",
     "output_type": "stream",
     "text": [
      "['Papa', 'Mama', 'Masha', 'Petya']\n",
      "Papa Mama Masha Petya\n"
     ]
    }
   ],
   "source": [
    "langs = ['Papa','Mama','Masha','Petya']\n",
    "print(langs)\n",
    "print(*langs)"
   ]
  },
  {
   "cell_type": "code",
   "execution_count": 77,
   "metadata": {},
   "outputs": [
    {
     "name": "stdout",
     "output_type": "stream",
     "text": [
      "True\n",
      "{'monday': 'Python', 'tuesday': 'SQL', 'friday': 'ML'}\n"
     ]
    }
   ],
   "source": [
    "def schedule(**kwargs):\n",
    "    print(isinstance(kwargs,dict))\n",
    "    print(kwargs)\n",
    "\n",
    "schedule(monday = 'Python', tuesday =\"SQL\",friday = 'ML')"
   ]
  },
  {
   "cell_type": "code",
   "execution_count": 78,
   "metadata": {},
   "outputs": [
    {
     "name": "stdout",
     "output_type": "stream",
     "text": [
      "Week schedule\n",
      "monday : Python\n",
      "tuesday : SQL\n",
      "friday : ML\n"
     ]
    }
   ],
   "source": [
    "def schedule(**kwargs):\n",
    "    print('Week schedule')\n",
    "    for key in kwargs:\n",
    "        print(f\"{key} : {kwargs[key]}\")\n",
    "        \n",
    "schedule(monday = 'Python', tuesday =\"SQL\",friday = 'ML')"
   ]
  },
  {
   "cell_type": "code",
   "execution_count": 79,
   "metadata": {},
   "outputs": [
    {
     "name": "stdout",
     "output_type": "stream",
     "text": [
      "(1, 4, 5, 6, 7)\n",
      "{'monday': 'Mama', 'tuesday': 'Papa', 'fryday': 'Sister'}\n"
     ]
    }
   ],
   "source": [
    "def print_args(*args,**kwargs):\n",
    "    print(args)\n",
    "    print(kwargs)\n",
    "print_args(1,4,5,6,7, monday = 'Mama', tuesday = 'Papa',fryday = 'Sister')\n"
   ]
  },
  {
   "cell_type": "code",
   "execution_count": 80,
   "metadata": {},
   "outputs": [
    {
     "name": "stdout",
     "output_type": "stream",
     "text": [
      "150\n"
     ]
    }
   ],
   "source": [
    "def mult(*numbers):\n",
    "    result = 1\n",
    "    for number in numbers:\n",
    "        result *= number\n",
    "    return result\n",
    "print(mult(3,5,10))"
   ]
  },
  {
   "cell_type": "code",
   "execution_count": 82,
   "metadata": {},
   "outputs": [
    {
     "name": "stdout",
     "output_type": "stream",
     "text": [
      "Papa, Mama, Masha, Petya\n"
     ]
    }
   ],
   "source": [
    "print(*langs, sep = ', ')"
   ]
  },
  {
   "cell_type": "code",
   "execution_count": 87,
   "metadata": {},
   "outputs": [
    {
     "name": "stdout",
     "output_type": "stream",
     "text": [
      "Kuznetsov GPA= 4.454545454545454\n"
     ]
    }
   ],
   "source": [
    "marks = [4,5,5,5,5,3,4,4,5,4,5]\n",
    "mean_marks('Kuznetsov', *marks)"
   ]
  },
  {
   "cell_type": "code",
   "execution_count": 92,
   "metadata": {},
   "outputs": [
    {
     "name": "stdout",
     "output_type": "stream",
     "text": [
      "1, 4, 6, 8, 12, 45, 56, 190, 111, Python, Functions, "
     ]
    }
   ],
   "source": [
    "list1 = [1,4,6,8]\n",
    "list2 = [12, 45, 56, 190, 111]\n",
    "list3 = ['Python', 'Functions']\n",
    "\n",
    "how = {'sep' : ', ', 'end': ', '}\n",
    "print(*list1,**how)\n",
    "print(*list2,**how)\n",
    "print(*list3,**how)"
   ]
  },
  {
   "cell_type": "markdown",
   "metadata": {},
   "source": [
    "# Итоги:\n",
    "1. В этом юните научился использовать *args(tuple), **kwargs(dict) научился использовать передачу данных в функцию\n",
    "2. ознакомился с правилами передачи и в каком порядке аругменты должны преедаваться и в какой последовательости\n",
    "3. научился использовать распаковки *args **kwargs с фнукцией принт"
   ]
  },
  {
   "cell_type": "code",
   "execution_count": 95,
   "metadata": {},
   "outputs": [
    {
     "data": {
      "text/plain": [
       "2.0"
      ]
     },
     "execution_count": 95,
     "metadata": {},
     "output_type": "execute_result"
    }
   ],
   "source": [
    "root = lambda num: num ** (1/2)\n",
    "root(4)"
   ]
  },
  {
   "cell_type": "code",
   "execution_count": 100,
   "metadata": {},
   "outputs": [
    {
     "data": {
      "text/plain": [
       "2.080083823051904"
      ]
     },
     "execution_count": 100,
     "metadata": {},
     "output_type": "execute_result"
    }
   ],
   "source": [
    "nth_root = lambda num,x: num ** (1/x)\n",
    "nth_root(9,3)"
   ]
  },
  {
   "cell_type": "code",
   "execution_count": 120,
   "metadata": {},
   "outputs": [
    {
     "data": {
      "text/plain": [
       "(1, 2, 3, 4)"
      ]
     },
     "execution_count": 120,
     "metadata": {},
     "output_type": "execute_result"
    }
   ],
   "source": [
    "is_even = lambda num: 'even' if num%2 == 0 else 'odd'\n",
    "is_even(5)\n",
    "papa = tuple(range(1,5))\n",
    "papa"
   ]
  },
  {
   "cell_type": "code",
   "execution_count": 122,
   "metadata": {},
   "outputs": [
    {
     "data": {
      "text/plain": [
       "2.5"
      ]
     },
     "execution_count": 122,
     "metadata": {},
     "output_type": "execute_result"
    }
   ],
   "source": [
    "func_args = lambda *args: sum(args)/len(args)\n",
    "func_args(*papa)"
   ]
  },
  {
   "cell_type": "code",
   "execution_count": 123,
   "metadata": {},
   "outputs": [
    {
     "name": "stdout",
     "output_type": "stream",
     "text": [
      "((1, 5, 6, 7), {'name': 'Ivan', 'age': 25})\n"
     ]
    }
   ],
   "source": [
    "full_func = lambda *args, **kwargs: (args,kwargs)\n",
    "print(full_func(1,5,6,7, name = 'Ivan', age = 25))"
   ]
  },
  {
   "cell_type": "code",
   "execution_count": 128,
   "metadata": {},
   "outputs": [
    {
     "name": "stdout",
     "output_type": "stream",
     "text": [
      "['Denis', 'Ivan', 'Petros']\n",
      "['Petros', 'Denis', 'Ivan']\n"
     ]
    }
   ],
   "source": [
    "names = ['Ivan', 'Denis','Petros']\n",
    "names.sort()\n",
    "print(names)\n",
    "\n",
    "names.sort(key = lambda name:-len(name))\n",
    "print(names)"
   ]
  },
  {
   "cell_type": "code",
   "execution_count": 132,
   "metadata": {},
   "outputs": [],
   "source": [
    "def dop_sort(*x):\n",
    "    return (len(x),x)\n"
   ]
  },
  {
   "cell_type": "code",
   "execution_count": 139,
   "metadata": {},
   "outputs": [
    {
     "name": "stdout",
     "output_type": "stream",
     "text": [
      "['cc', 'aaa', 'bbb', 'aaaaa', 'abababa']\n"
     ]
    }
   ],
   "source": [
    "new_list = ['bbb','abababa', 'aaa', 'aaaaa', 'cc']\n",
    "new_list.sort(key = lambda x: (len(x),x))\n",
    "print(new_list)\n"
   ]
  },
  {
   "cell_type": "markdown",
   "metadata": {},
   "source": [
    "# Цели юнита: \n",
    "1. создавать lamda фкнкции \n",
    "2. узнать какие преимущеста и недостатки имеют lambda функции\n",
    "3. В каких случаях и когда необходимо применять lambda функции на практике"
   ]
  },
  {
   "cell_type": "code",
   "execution_count": 141,
   "metadata": {},
   "outputs": [
    {
     "data": {
      "text/plain": [
       "['cc', 'bbb', 'aaa', 'ababa', 'aaaaa']"
      ]
     },
     "execution_count": 141,
     "metadata": {},
     "output_type": "execute_result"
    }
   ],
   "source": [
    "def get_length(list_in):\n",
    "    return len(list_in)\n",
    "new_list = ['bbb', 'ababa','aaa', 'aaaaa',  'cc']\n",
    "new_list.sort(key=get_length)\n",
    "new_list"
   ]
  },
  {
   "cell_type": "markdown",
   "metadata": {},
   "source": [
    "# Итоги: \n",
    "1. Научился созадвать лямбда функции\n",
    "2. научился возвращать из лямбда функции кортеж\n",
    "3. понял где необходимо исопльзовать лямбда и в каикх сулвчаях и научиляс их передавать и использовать с методом sort"
   ]
  },
  {
   "cell_type": "markdown",
   "metadata": {},
   "source": [
    "Напишите lambda-функцию для расчёта гипотенузы прямоугольного треугольника: она принимает на вход длины двух катетов и возвращает длину гипотенузы (третьей, самой длинной стороны прямоугольного треугольника).\n",
    "\n",
    "Формула: c = (a**2 + b**2) ** (1/2), где a и b — длины катетов, — длина гипотенузы. Сохраните эту функцию в переменную hyp.\n",
    "\n"
   ]
  },
  {
   "cell_type": "code",
   "execution_count": 142,
   "metadata": {},
   "outputs": [
    {
     "name": "stdout",
     "output_type": "stream",
     "text": [
      "5.0\n",
      "9.055385138137417\n"
     ]
    }
   ],
   "source": [
    "hyp = lambda a,b: (a**2 + b**2)**(1/2)\n",
    "print(hyp(3,4))\n",
    "print(hyp(1,9))"
   ]
  },
  {
   "cell_type": "markdown",
   "metadata": {},
   "source": [
    "Напишите функцию sort_sides(l_in), которая сортирует переданный в неё список l_in.\n",
    "\n",
    "Входной список состоит из кортежей с парами чисел — длинами катетов прямоугольных треугольников.\n",
    "\n",
    "Функция должна возвращать список, отсортированный по возрастанию длин гипотенуз треугольников.\n",
    "\n",
    "Примечание. Вам пригодится lambda-функция из предыдущего задания. При этом вам потребуется заменить lambda от двух аргументов на lambda от одного аргумента и обращаться к элементам кортежа уже при вычислении гипотенузы."
   ]
  },
  {
   "cell_type": "code",
   "execution_count": 157,
   "metadata": {},
   "outputs": [
    {
     "name": "stdout",
     "output_type": "stream",
     "text": [
      "[(3, 4), (2, 9), (1, 10), (5, 12)]\n"
     ]
    }
   ],
   "source": [
    "def sort_sides(l_in):\n",
    "    l_in.sort(key =lambda x: (x[0]**2 + x[1]**2) ** (1/2))\n",
    "    return l_in\n",
    "\n",
    "l_in = [(1, 10), (2, 9), (5, 12), (3, 4)]\n",
    "print(sort_sides(l_in))\n"
   ]
  },
  {
   "cell_type": "markdown",
   "metadata": {},
   "source": [
    "Напишите функцию get_less(list_in, num), которая принимает на вход список list_in, состоящий из чисел, и ещё одно число num.\n",
    "\n",
    "Функция должна вернуть первое найденное число из списка, которое меньше переданного во втором аргументе. Если такого числа нет, необходимо вернуть None."
   ]
  },
  {
   "cell_type": "code",
   "execution_count": 161,
   "metadata": {},
   "outputs": [
    {
     "name": "stdout",
     "output_type": "stream",
     "text": [
      "1\n"
     ]
    }
   ],
   "source": [
    "def get_less(list_in, num):\n",
    "    for i in list_in:\n",
    "        if num > i:\n",
    "            return i\n",
    "    else:\n",
    "        return None\n",
    "\n",
    "print(get_less([1, 5, 8,  10], 8))"
   ]
  },
  {
   "cell_type": "markdown",
   "metadata": {},
   "source": [
    "Напишите функцию split_date(date), которая принимает на вход строку, задающую дату, в формате ддммгггг без разделителей. Функция должна вернуть кортеж из чисел (int): день, месяц, год.\n",
    "\n",
    "Примечание. Здесь вам пригодятся срезы строк.\n"
   ]
  },
  {
   "cell_type": "code",
   "execution_count": 168,
   "metadata": {},
   "outputs": [
    {
     "name": "stdout",
     "output_type": "stream",
     "text": [
      "(31, 1, 2019)\n"
     ]
    }
   ],
   "source": [
    "def split_date(date):\n",
    "    return (int(date[0:2]),int(date[2:4]),int(date[4:]))\n",
    "print(split_date(\"31012019\"))"
   ]
  },
  {
   "cell_type": "markdown",
   "metadata": {},
   "source": [
    "Напишите функцию is_prime(num), которая проверяет, является ли число простым.\n",
    "\n",
    "Функция должна вернуть True, если число простое, иначе — False.\n",
    "\n",
    "Примечание. Простым называют число, которое делится только на 1 или на само себя. Число 1 простым не является."
   ]
  },
  {
   "cell_type": "code",
   "execution_count": 178,
   "metadata": {},
   "outputs": [
    {
     "name": "stdout",
     "output_type": "stream",
     "text": [
      "<function is_prime.<locals>.<lambda> at 0x1094765c0>\n",
      "<function is_prime.<locals>.<lambda> at 0x1094771a0>\n",
      "<function is_prime.<locals>.<lambda> at 0x1094765c0>\n",
      "True\n",
      "True\n"
     ]
    }
   ],
   "source": [
    "def is_prime(num):\n",
    "    result = lambda num: True if ((num !=1) and ((num % num == 0) or (num % 1 == 0))) else False\n",
    "    return result\n",
    "\n",
    "print(is_prime(1))\n",
    "print(is_prime(10))\n",
    "print(is_prime(13))\n",
    "is_prime = lambda num: True if ((num !=1) and ((num % num == 0) or (num % 1 == 0))) else False\n",
    "print(is_prime(10))\n",
    "print(is_prime(13))"
   ]
  },
  {
   "cell_type": "code",
   "execution_count": 176,
   "metadata": {},
   "outputs": [
    {
     "data": {
      "text/plain": [
       "True"
      ]
     },
     "execution_count": 176,
     "metadata": {},
     "output_type": "execute_result"
    }
   ],
   "source": [
    "num = 5 \n",
    "num % 4== 0\n",
    "num !=1\n",
    "num % num == 0\n",
    "num % 1 == 0"
   ]
  },
  {
   "cell_type": "markdown",
   "metadata": {},
   "source": [
    "Напишите функцию between_min_max(...), которая принимает на вход числа через запятую.\n",
    "\n",
    "Функция возвращает среднее арифметическое между максимальным и минимальным значением этих чисел, то есть (max + min)/2."
   ]
  },
  {
   "cell_type": "code",
   "execution_count": 181,
   "metadata": {},
   "outputs": [
    {
     "name": "stdout",
     "output_type": "stream",
     "text": [
      "10.0\n",
      "3.0\n"
     ]
    }
   ],
   "source": [
    "def between_min_max(*numbers):\n",
    "    return ((max(numbers) + min(numbers))/2)\n",
    "print(between_min_max(10))\n",
    "print(between_min_max(1,2,3,4,5))"
   ]
  },
  {
   "cell_type": "markdown",
   "metadata": {},
   "source": [
    "Напишите функцию best_student(...), которая принимает на вход в виде именованных аргументов имена студентов и их номера в рейтинге (нагляднее в примере).\n",
    "\n",
    "Необходимо вернуть имя студента с минимальным номером по рейтингу.\n",
    "\n",
    "Пример:"
   ]
  },
  {
   "cell_type": "code",
   "execution_count": 186,
   "metadata": {},
   "outputs": [
    {
     "name": "stdout",
     "output_type": "stream",
     "text": [
      "Mike\n",
      "Tom\n",
      "Jerry\n"
     ]
    }
   ],
   "source": [
    "def best_student(**list_students):\n",
    "    sorted_values = sorted(list_students.items(), key= lambda value: value[1])\n",
    "    return sorted_values[0][0]\n",
    "    \n",
    "    \n",
    "print(best_student(Tom=12, Mike=3))\n",
    "print(best_student(Tom=12))\n",
    "print(best_student(Tom=12, Jerry=1, Jane=2))"
   ]
  },
  {
   "cell_type": "markdown",
   "metadata": {},
   "source": [
    "Напишите lambda-функцию is_palindrom(str), которая принимает на вход одну строку str (имя параметра - x) и проверяет, является ли она палиндромом, то есть читается ли она слева-направо и справа-налево одинаково.\n",
    "\n",
    "Функция возвращает yes, если строка является палиндромом, иначе — no."
   ]
  },
  {
   "cell_type": "code",
   "execution_count": 190,
   "metadata": {},
   "outputs": [
    {
     "name": "stdout",
     "output_type": "stream",
     "text": [
      "no\n",
      "yes\n"
     ]
    }
   ],
   "source": [
    "is_palindrom = lambda nn_str: 'yes' if nn_str == nn_str[::-1] else 'no'\n",
    "print(is_palindrom('1234'))\n",
    "print(is_palindrom('12321'))"
   ]
  },
  {
   "cell_type": "markdown",
   "metadata": {},
   "source": [
    "Напишите lambda-функцию area(a,b), которая принимает на вход два числа — стороны прямоугольника — через запятую и возвращает площадь прямоугольника."
   ]
  },
  {
   "cell_type": "code",
   "execution_count": 191,
   "metadata": {},
   "outputs": [
    {
     "name": "stdout",
     "output_type": "stream",
     "text": [
      "60\n"
     ]
    }
   ],
   "source": [
    "area = lambda a,b: a*b\n",
    "print(area(12,5))"
   ]
  },
  {
   "cell_type": "markdown",
   "metadata": {},
   "source": [
    "Перепишите функцию between_min_max из задания 7.12 в lambda-функцию. Функция принимает на вход числа через запятую и возвращает одно число — среднее между максимумом и минимумом этих чисел.\n",
    "\n",
    "Пример:"
   ]
  },
  {
   "cell_type": "code",
   "execution_count": 192,
   "metadata": {},
   "outputs": [
    {
     "name": "stdout",
     "output_type": "stream",
     "text": [
      "3.0\n"
     ]
    }
   ],
   "source": [
    "between_min_max = lambda *numbers: (max(numbers) + min(numbers))/2\n",
    "print(between_min_max(1,2,3,4,5))\n"
   ]
  },
  {
   "cell_type": "markdown",
   "metadata": {},
   "source": [
    "Напишите функцию sort_ignore_case(ls), которая принимает на вход список ls и сортирует его без учёта регистра по алфавиту.\n",
    "\n",
    "Функция возвращает отсортированный список."
   ]
  },
  {
   "cell_type": "code",
   "execution_count": 193,
   "metadata": {},
   "outputs": [
    {
     "name": "stdout",
     "output_type": "stream",
     "text": [
      "['abc', 'Acc']\n"
     ]
    }
   ],
   "source": [
    "def sort_ignore_case(ls):\n",
    "    return sorted(ls, key = str.lower)\n",
    "print(sort_ignore_case(['Acc', 'abc']))\n"
   ]
  },
  {
   "cell_type": "markdown",
   "metadata": {},
   "source": [
    "Напишите функцию exchange(usd, rub, rate), которая может принимать на вход сумму в долларах (usd), сумму в рублях (rub) и обменный курс (rate). Обменный курс показывает, сколько стоит один доллар. Например, курс 85.46 означает, что один доллар стоит 85 рублей и 46 копеек.\n",
    "\n",
    "В функцию должно одновременно передавать два аргумента. Если передано менее двух аргументов, должна возникнуть ошибка ValueError('Not enough arguments'). Если же передано три аргумента, должна возникнуть ошибка: ValueError('Too many arguments').\n",
    "\n",
    "Функция должна находить третий аргумент по двум переданным. Например, если переданы суммы в разных валютах, должен возвращаться обменный курс. Если известны сумма в рублях и курс, должна быть получена эквивалентная сумма в долларах, аналогично — если передана сумма в долларах и обменный курс.\n"
   ]
  },
  {
   "cell_type": "code",
   "execution_count": null,
   "metadata": {},
   "outputs": [],
   "source": [
    "\n",
    "    "
   ]
  },
  {
   "cell_type": "markdown",
   "metadata": {},
   "source": [
    "# Цели модуля:\n",
    "1. Научиться создавать и применять вложенный функции для организации кода\n",
    "2. Познакомиться с областью видимости перменных и узнать о порядке разрешения пременных\n",
    "3. Уметь определеять глобальные и нелокальные переменные и понять, когда это может пригодится\n",
    "4. Разобраться почему не стоит переопределять старые имена в общем коде\n",
    "5. Разобраться  с рекурсией и научиться ей пользоваться\n",
    "6. Освоить новые функции map() and filter()\n",
    "7. Подготовиться к каверзным вопросам по функциям на собеседованиях"
   ]
  },
  {
   "cell_type": "markdown",
   "metadata": {},
   "source": []
  }
 ],
 "metadata": {
  "kernelspec": {
   "display_name": ".venv",
   "language": "python",
   "name": "python3"
  },
  "language_info": {
   "codemirror_mode": {
    "name": "ipython",
    "version": 3
   },
   "file_extension": ".py",
   "mimetype": "text/x-python",
   "name": "python",
   "nbconvert_exporter": "python",
   "pygments_lexer": "ipython3",
   "version": "3.13.0"
  }
 },
 "nbformat": 4,
 "nbformat_minor": 2
}
