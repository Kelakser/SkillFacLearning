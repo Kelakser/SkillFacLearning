{
 "cells": [
  {
   "cell_type": "code",
   "execution_count": null,
   "metadata": {},
   "outputs": [],
   "source": []
  },
  {
   "cell_type": "markdown",
   "metadata": {},
   "source": [
    "#### Фаршированный перец, 1 штука вес 225 грамм чистый вес 135 Средние значения\n",
    "Жиры 8.78, Белки 11.48, Углеводы 7.43"
   ]
  },
  {
   "cell_type": "code",
   "execution_count": 5,
   "metadata": {},
   "outputs": [
    {
     "name": "stdout",
     "output_type": "stream",
     "text": [
      "135.0\n",
      "Жиры 8.78, Белки 11.48, Углеводы 7.43\n"
     ]
    }
   ],
   "source": [
    "peper = 225 * 0.60\n",
    "print(peper)\n",
    "belock_peper = peper/100 * 8.5\n",
    "zhiri_peper = peper/100 * 6.5\n",
    "ugleovdi_peper = peper/100 * 5.5\n",
    "print(f'Жиры {round(zhiri_peper,2)}, Белки {round(belock_peper,2)}, Углеводы {round(ugleovdi_peper,2)}')"
   ]
  },
  {
   "cell_type": "code",
   "execution_count": null,
   "metadata": {},
   "outputs": [],
   "source": []
  }
 ],
 "metadata": {
  "kernelspec": {
   "display_name": "Python 3",
   "language": "python",
   "name": "python3"
  },
  "language_info": {
   "codemirror_mode": {
    "name": "ipython",
    "version": 3
   },
   "file_extension": ".py",
   "mimetype": "text/x-python",
   "name": "python",
   "nbconvert_exporter": "python",
   "pygments_lexer": "ipython3",
   "version": "3.9.6"
  }
 },
 "nbformat": 4,
 "nbformat_minor": 2
}
