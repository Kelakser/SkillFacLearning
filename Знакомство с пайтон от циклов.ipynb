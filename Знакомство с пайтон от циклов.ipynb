{
 "cells": [
  {
   "cell_type": "markdown",
   "metadata": {},
   "source": [
    "# Цели: \n",
    "1. Научиться рабоатть с циклами\n",
    "2. Обработать задачи при помощи циклов\n",
    "3. Запомнить и прописать отработку циклов с исключениями"
   ]
  },
  {
   "cell_type": "code",
   "execution_count": 4,
   "metadata": {},
   "outputs": [
    {
     "name": "stdout",
     "output_type": "stream",
     "text": [
      "Element number is 5\n",
      "Element number is 9\n",
      "Element number is 19\n"
     ]
    }
   ],
   "source": [
    "my_list= [5, 9, 19]\n",
    "for element  in my_list:\n",
    "    print(f'Element number is {element}')"
   ]
  },
  {
   "cell_type": "markdown",
   "metadata": {},
   "source": [
    "# скоращенные записи\n",
    "ДЛИННАЯ ЗАПИСЬ\tСОКРАЩЁННАЯ ЗАПИСЬ\n",
    "\n",
    "value = value + a\tvalue += a\n",
    "\n",
    "value = value - a\tvalue -= a\n",
    "\n",
    "value = value / a\tvalue /= a\n",
    "\n",
    "value = value * a\tvalue *= a\n",
    "\n",
    "value = value ** a\tvalue **= a"
   ]
  },
  {
   "cell_type": "code",
   "execution_count": 10,
   "metadata": {},
   "outputs": [
    {
     "name": "stdout",
     "output_type": "stream",
     "text": [
      "Our incomes 120 step number 0 \n",
      "Our incomes 158.5 step number 1 \n",
      "Our incomes 199.0 step number 2 \n",
      "Our incomes 279.0 step number 3 \n",
      "279.0\n"
     ]
    }
   ],
   "source": [
    "our_income = 0\n",
    "incomes = [120, 38.5, 40.5, 80]\n",
    "for element_income in range(len(incomes)):\n",
    "    our_income += incomes[element_income]\n",
    "    print(f'Our incomes {our_income} step number {element_income} ')\n",
    "our_income = sum(incomes)\n",
    "print(our_income)"
   ]
  },
  {
   "cell_type": "markdown",
   "metadata": {},
   "source": [
    "Напишите программу, которая находит произведение элементов списка num_list. В качестве начального значения произведения задайте 1. Далее в цикле перебирайте элементы списка num_list и умножайте значение произведения на элемент списка.\n",
    "\n",
    "Результирующее произведение занесите в переменную p.\n",
    "\n"
   ]
  },
  {
   "cell_type": "code",
   "execution_count": 14,
   "metadata": {},
   "outputs": [
    {
     "name": "stdout",
     "output_type": "stream",
     "text": [
      "13.65\n"
     ]
    }
   ],
   "source": [
    "num_list = [98, 24, 23, 12, 3]\n",
    "## p = 1947456\n",
    "\n",
    "num_list = [1, 10, 0.5, 21, 0.13]\n",
    "## p = 13.65\n",
    "p = 1\n",
    "for element_list in range(len(num_list)):\n",
    "    p *= num_list[element_list]\n",
    "print(p)"
   ]
  },
  {
   "cell_type": "code",
   "execution_count": 18,
   "metadata": {},
   "outputs": [
    {
     "name": "stdout",
     "output_type": "stream",
     "text": [
      "0\n",
      "1\n",
      "2\n",
      "3\n",
      "4\n",
      "5\n",
      "15\n"
     ]
    }
   ],
   "source": [
    "N = int(input('Do what number must the sum be found?',))\n",
    "result = 0\n",
    "for element_N_number in range(N+1):\n",
    "    result += element_N_number\n",
    "    print(element_N_number)\n",
    "print(result)"
   ]
  },
  {
   "cell_type": "code",
   "execution_count": 25,
   "metadata": {},
   "outputs": [
    {
     "name": "stdout",
     "output_type": "stream",
     "text": [
      "3\n",
      "4\n",
      "12\n",
      "9\n"
     ]
    }
   ],
   "source": [
    "result = 0\n",
    "for i in range(1,6,2):\n",
    "    result +=1\n",
    "print(result)\n",
    "\n",
    "result = 0\n",
    "for i in range(1,5):\n",
    "    result +=1\n",
    "print(result)\n",
    "\n",
    "result = 0\n",
    "for i in range(12):\n",
    "    result +=1\n",
    "print(result)\n",
    "\n",
    "\n",
    "result = 0\n",
    "for i in range(10,1,-1):\n",
    "    result +=1\n",
    "print(result)"
   ]
  },
  {
   "cell_type": "code",
   "execution_count": 42,
   "metadata": {},
   "outputs": [
    {
     "name": "stdout",
     "output_type": "stream",
     "text": [
      "24\n"
     ]
    }
   ],
   "source": [
    "try:\n",
    "    N = int(input('Write factorial to be calculated'))\n",
    "except ValueError:\n",
    "    print('введите натуральное число')\n",
    "\n",
    "i = 1\n",
    "for element_factorial in range(1,N+1):\n",
    "    i *= element_factorial\n",
    "print(i)\n"
   ]
  },
  {
   "cell_type": "code",
   "execution_count": 43,
   "metadata": {},
   "outputs": [
    {
     "name": "stdout",
     "output_type": "stream",
     "text": [
      "*\n",
      "**\n",
      "***\n",
      "****\n"
     ]
    }
   ],
   "source": [
    "\n",
    "try:\n",
    "    N = int(input('Write count * in ladder star'))\n",
    "except ValueError:\n",
    "    print('введите натуральное число')\n",
    "for count_star in range(1,N+1):\n",
    "    print(count_star * '*')"
   ]
  },
  {
   "cell_type": "code",
   "execution_count": 46,
   "metadata": {},
   "outputs": [
    {
     "name": "stdout",
     "output_type": "stream",
     "text": [
      "[240.1, 101.5] [10, 42.4, 98, 0.4, 0.3, 15]\n",
      "[240.1, 101.5] [10, 42.4, 98, 0.4, 0.3, 15]\n"
     ]
    }
   ],
   "source": [
    "weight_of_products= [10, 42.4, 240.1, 101.5, 98, 0.4, 0.3, 15]\n",
    "\n",
    "heavy_car = []\n",
    "light_car = []\n",
    "for cargo in weight_of_products:\n",
    "    if cargo > 100:\n",
    "        heavy_car.append(cargo)\n",
    "    else:\n",
    "        light_car.append(cargo)\n",
    "print(heavy_car,light_car)\n",
    "\n",
    "heavy_car = []\n",
    "light_car = []\n",
    "for index_cargo in range(len(weight_of_products)):\n",
    "    if weight_of_products[index_cargo] > 100:\n",
    "        heavy_car.append(weight_of_products[index_cargo])\n",
    "    else:\n",
    "        light_car.append(weight_of_products[index_cargo])\n",
    "print(heavy_car,light_car)"
   ]
  },
  {
   "cell_type": "code",
   "execution_count": 49,
   "metadata": {},
   "outputs": [
    {
     "name": "stdout",
     "output_type": "stream",
     "text": [
      "['Red Square', 'Swallow Nest', 'Unavailable', 'Unavailable', 'Unavailable', 'Hermitage']\n"
     ]
    }
   ],
   "source": [
    "places = [\n",
    "    'Red Square',\n",
    "    'Swallow Nest',\n",
    "    'Niagara Falls',\n",
    "    'Grand Canyon',\n",
    "    'Louvre',\n",
    "    'Hermitage'\n",
    "]\n",
    "location = {\n",
    "    'Red Square': 'Russia',\n",
    "    'Swallow Nest': 'Russia',\n",
    "    'Niagara Falls': 'USA',\n",
    "    'Grand Canyon': 'USA',\n",
    "    'Louvre': 'France',\n",
    "    'Hermitage': 'Russia'\n",
    "}\n",
    "\n",
    "for number_location in range(len(location)):\n",
    "    if location[places[number_location]] != 'Russia':\n",
    "        places[number_location] =  'Unavailable'\n",
    "print(places)"
   ]
  },
  {
   "cell_type": "code",
   "execution_count": 51,
   "metadata": {},
   "outputs": [
    {
     "data": {
      "text/plain": [
       "[0, 1, 4, 9, 16, 25, 36, 49, 64, 81]"
      ]
     },
     "execution_count": 51,
     "metadata": {},
     "output_type": "execute_result"
    }
   ],
   "source": [
    "my_list = []\n",
    "for number in range(10):\n",
    "    my_list.append(number**2)\n",
    "my_list"
   ]
  },
  {
   "cell_type": "markdown",
   "metadata": {},
   "source": [
    "Вам задан список num_list, состоящий из чисел (int и float) например:\n",
    "\n",
    "\n",
    "num_list = [1, 10, 3, -5].\n",
    "Отсортируйте его с помощью метода sort() для списков, а затем последовательно выведите на экран элементы этого списка с помощью цикла for в следующем формате: \"element {i}: {elem}\", где i - индекс элемента в списке, elem - элемент.\n",
    "\n"
   ]
  },
  {
   "cell_type": "code",
   "execution_count": 55,
   "metadata": {},
   "outputs": [
    {
     "name": "stdout",
     "output_type": "stream",
     "text": [
      "element -5: 1\n",
      "element 1: 2\n",
      "element 3: 3\n",
      "element 10: 4\n"
     ]
    }
   ],
   "source": [
    "num_list = [1, 10, 3, -5]\n",
    "num_list.sort()\n",
    "for element_num_list in range(len(num_list)):\n",
    "    print(f'element {num_list[element_num_list]}: {element_num_list+1}')"
   ]
  },
  {
   "cell_type": "code",
   "execution_count": 57,
   "metadata": {},
   "outputs": [
    {
     "data": {
      "text/plain": [
       "17"
      ]
     },
     "execution_count": 57,
     "metadata": {},
     "output_type": "execute_result"
    }
   ],
   "source": [
    "num_list = list(range(0, 100, 3)) \n",
    "count_even = 0\n",
    "for element_numlist in num_list:\n",
    "    if element_numlist % 2 == 0:\n",
    "        count_even += 1\n",
    "count_even\n",
    "    "
   ]
  },
  {
   "cell_type": "markdown",
   "metadata": {},
   "source": [
    "Дан список mixture_list, элементами которого могут являться любые типы данных Python. Например:"
   ]
  },
  {
   "cell_type": "code",
   "execution_count": 58,
   "metadata": {},
   "outputs": [
    {
     "data": {
      "text/plain": [
       "3"
      ]
     },
     "execution_count": 58,
     "metadata": {},
     "output_type": "execute_result"
    }
   ],
   "source": [
    "mixture_list = [True, 1, -10, 'hello', False, 'string_1', 123, 2.5, [1, 2], 'another'] \n",
    "count_str = 0\n",
    "for element_list in range(len(mixture_list)):\n",
    "    if type(mixture_list[element_list]) == str:\n",
    "        count_str +=1\n",
    "count_str"
   ]
  },
  {
   "cell_type": "markdown",
   "metadata": {},
   "source": []
  },
  {
   "cell_type": "code",
   "execution_count": 69,
   "metadata": {},
   "outputs": [
    {
     "name": "stdout",
     "output_type": "stream",
     "text": [
      "My name is Sergei. I'm from Moscow. \n"
     ]
    }
   ],
   "source": [
    "word_list = [\"My\", \"name\", \"is\", \"Sergei\", \"EOS\", \"I'm\", \"from\", \"Moscow\", \"EOS\"] \n",
    "text = ''\n",
    "for element_word in word_list:\n",
    "    text += element_word + ' '\n",
    "    if 'EOS' in text:\n",
    "        text = text.replace(' EOS','.')\n",
    "print(text)"
   ]
  },
  {
   "cell_type": "code",
   "execution_count": 76,
   "metadata": {},
   "outputs": [
    {
     "name": "stdout",
     "output_type": "stream",
     "text": [
      "['b', 'c', 'd', 'e']\n",
      "['c', 'd', 'e']\n",
      "['d', 'e']\n",
      "count = 1, x = 23\n",
      "count = 2, x = 25\n",
      "count = 3, x = 27\n",
      "count = 4, x = 29\n",
      "count = 5, x = 31\n",
      "count = 6, x = 33\n",
      "count = 7, x = 35\n",
      "count = 8, x = 37\n",
      "count = 9, x = 39\n",
      "count = 10, x = 41\n",
      "count = 11, x = 43\n",
      "count = 12, x = 45\n",
      "count = 13, x = 47\n",
      "count = 14, x = 49\n",
      "count = 15, x = 51\n",
      "count = 16, x = 53\n",
      "count = 17, x = 55\n"
     ]
    }
   ],
   "source": [
    "lst = ['a', 'b', 'c', 'd', 'e']\n",
    "\n",
    "while len(lst) > 2:\n",
    "    lst.pop(0)\n",
    "    print(lst)\n",
    "    \n",
    "x = 21\n",
    "y = 55\n",
    "count = 0\n",
    "while y > x:\n",
    "    count += 1\n",
    "    x += 2\n",
    "    print(f'count = {count}, x = {x}')"
   ]
  },
  {
   "cell_type": "code",
   "execution_count": 80,
   "metadata": {},
   "outputs": [
    {
     "name": "stdout",
     "output_type": "stream",
     "text": [
      " Overweight is 2\n"
     ]
    }
   ],
   "source": [
    "weight = 67\n",
    "overweight = 0\n",
    "while overweight < 400:\n",
    "    overweight += weight\n",
    "print(f' Overweight is {abs(400-overweight)}')"
   ]
  },
  {
   "cell_type": "markdown",
   "metadata": {},
   "source": [
    "Сосуд вмещает в себя ровно volume литров жидкости. Каждый раз в него вливается 0.0033 кубических метра жидкости. Понятно, что в какой-то момент сосуд наполнится до краёв, и жидкость начнёт выливаться из него. В тот момент, когда жидкость начинает выливаться (заполненный объём становится больше, чем вместимость сосуда), наполнение сосуда прекращается.\n",
    "\n",
    "С помощью цикла while опишите данный процесс и найдите, сколько литров жидкости выльется из сосуда. Результат запишите в переменную cost.\n",
    "\n",
    "Учтите, что 1 кубический метр равен 1 000 литрам (0.0033 * 1000 = 3.3).\n",
    "\n"
   ]
  },
  {
   "cell_type": "code",
   "execution_count": 91,
   "metadata": {},
   "outputs": [
    {
     "name": "stdout",
     "output_type": "stream",
     "text": [
      "15\n",
      "0\n",
      "3.3\n",
      "6.6\n",
      "9.899999999999999\n",
      "13.2\n",
      "Excess water = 1.5\n"
     ]
    }
   ],
   "source": [
    "volume = int(input('Введите вместительность сосуда в литрах',))\n",
    "print(volume)\n",
    "const_water = 0.0033 * 1000\n",
    "\n",
    "other_volume = 0\n",
    "\n",
    "while volume > other_volume:\n",
    "    print(other_volume)\n",
    "    other_volume += const_water\n",
    "kela = (other_volume - volume) \n",
    "print(f'Excess water = {kela}')"
   ]
  },
  {
   "cell_type": "code",
   "execution_count": 95,
   "metadata": {},
   "outputs": [
    {
     "name": "stdout",
     "output_type": "stream",
     "text": [
      "Колличество потраченных шагов 32, итоговое число 529\n"
     ]
    }
   ],
   "source": [
    "max_rage = 500\n",
    "count = 1\n",
    "step = 0\n",
    "while max_rage > count:\n",
    "    step += 1\n",
    "    count += step\n",
    "print(f'Колличество потраченных шагов {step}, итоговое число {count}')"
   ]
  },
  {
   "cell_type": "markdown",
   "metadata": {},
   "source": [
    "Напишите цикл while, который находит минимальное натуральное число number, квадрат которого больше некоторого заданного value.\n",
    "Результирующий ответ запишите в переменную number.\n"
   ]
  },
  {
   "cell_type": "code",
   "execution_count": 99,
   "metadata": {},
   "outputs": [
    {
     "name": "stdout",
     "output_type": "stream",
     "text": [
      "number = 4\n"
     ]
    }
   ],
   "source": [
    "value = 10\n",
    "## number = 4\n",
    "\n",
    "#value = 159\n",
    "## number = 13\n",
    "\n",
    "#value = 1000\n",
    "## number = 32\n",
    "number = 0\n",
    "while number**2 < value:\n",
    "    number += 1\n",
    "print(f'number = {number}')\n",
    "\n"
   ]
  },
  {
   "cell_type": "code",
   "execution_count": null,
   "metadata": {},
   "outputs": [
    {
     "name": "stdout",
     "output_type": "stream",
     "text": [
      "*\n",
      "**\n",
      "***\n",
      "****\n"
     ]
    }
   ],
   "source": [
    "\n",
    "try:\n",
    "    N = int(input('Write count * in ladder star'))\n",
    "except ValueError:\n",
    "    print('введите натуральное число')\n",
    "for count_star in range(1,N+1):\n",
    "    print(count_star * '*')"
   ]
  },
  {
   "cell_type": "markdown",
   "metadata": {},
   "source": [
    "### BREAK для приостановки цикла"
   ]
  },
  {
   "cell_type": "code",
   "execution_count": 100,
   "metadata": {},
   "outputs": [
    {
     "name": "stdout",
     "output_type": "stream",
     "text": [
      "New client number 1\n",
      "New client number 2\n",
      "New client number 3\n",
      "New client number 4\n",
      "New client number 5\n",
      "New client number 6\n",
      "New client number 7\n",
      "New client number 8\n",
      "New client number 9\n",
      "New client number 10\n"
     ]
    }
   ],
   "source": [
    "n = 1\n",
    "while True:\n",
    "    print(f'New client number {n}')\n",
    "    n += 1\n",
    "    if n > 10:\n",
    "        break"
   ]
  },
  {
   "cell_type": "code",
   "execution_count": 4,
   "metadata": {},
   "outputs": [
    {
     "name": "stdout",
     "output_type": "stream",
     "text": [
      "Неудачная попытка 1\n",
      "Неудачная попытка 2\n",
      "Неудачная попытка 3\n",
      "Коллиыество неудачных попыток превышено\n",
      "incorrect password\n"
     ]
    }
   ],
   "source": [
    "secret_passwords = {\n",
    "    'Enot': 'ulybaka',\n",
    "    'Agent12': '1password1',\n",
    "    'MouseLulu': 'myshkanaruhka'\n",
    "}\n",
    "mistake = 0\n",
    "while True:\n",
    "    nickname = input('Your nickname?',)\n",
    "    password = input('Your passwoord?',)\n",
    "    if (nickname in secret_passwords) and (secret_passwords[nickname] == password):\n",
    "        print(f'Good morning {nickname}')\n",
    "        break\n",
    "    mistake += 1\n",
    "    print(f'Неудачная попытка {mistake}')\n",
    "    if mistake == 3:\n",
    "        print('Коллиыество неудачных попыток превышено')\n",
    "        if nickname not in secret_passwords:\n",
    "            print('Incorrect nickname')\n",
    "        else:\n",
    "            print('incorrect password')\n",
    "        break"
   ]
  },
  {
   "cell_type": "code",
   "execution_count": 6,
   "metadata": {},
   "outputs": [
    {
     "name": "stdout",
     "output_type": "stream",
     "text": [
      "Mistake password\n",
      "Welcome, Enot how are you?\n"
     ]
    }
   ],
   "source": [
    "while True:\n",
    "    nickname = input('Your nicname?',)\n",
    "    if nickname in secret_passwords:\n",
    "        password = input(f'{nickname} your password?')\n",
    "        if password == secret_passwords[nickname]:\n",
    "            print(f'Welcome, {nickname} how are you?')\n",
    "            break\n",
    "        print('Mistake password')\n",
    "    else:\n",
    "        print('Misstake nickname')"
   ]
  },
  {
   "cell_type": "markdown",
   "metadata": {},
   "source": [
    "Напишите бесконечный цикл while с условием выхода внутри цикла, который находит минимальное натуральное число, квадрат которого больше value.\n",
    "\n",
    "Запишите результат в переменную number."
   ]
  },
  {
   "cell_type": "code",
   "execution_count": 10,
   "metadata": {},
   "outputs": [
    {
     "name": "stdout",
     "output_type": "stream",
     "text": [
      "32\n"
     ]
    }
   ],
   "source": [
    "value = 10\n",
    "## number = 4\n",
    "\n",
    "value = 159\n",
    "## number = 13\n",
    "\n",
    "value = 1000\n",
    "## number = 32\n",
    "number = 1\n",
    "while True:\n",
    "    if number**2 > value:\n",
    "        print(number)\n",
    "        break\n",
    "    number += 1"
   ]
  },
  {
   "cell_type": "markdown",
   "metadata": {},
   "source": [
    "Перед вами программа, которая должна вывести слово 'Hello' n раз. Переменная n задаётся извне и может быть любым числом:\n",
    "\n",
    "\n",
    "i = 0\n",
    "while i < n:\n",
    "    print('Hello')\n",
    "Однако сейчас эта программа работает некорректно: она бесконечно выводит слово 'Hello' на экран. Исправьте программу, добавив в неё недостающую строку.\n",
    "\n",
    "Примеры работы программы:\n",
    "\n"
   ]
  },
  {
   "cell_type": "code",
   "execution_count": 11,
   "metadata": {},
   "outputs": [
    {
     "name": "stdout",
     "output_type": "stream",
     "text": [
      "Hello\n",
      "Hello\n",
      "Hello\n",
      "Hello\n",
      "Hello\n"
     ]
    }
   ],
   "source": [
    "n = 3\n",
    "## Hello\n",
    "## Hello\n",
    "## Hello\n",
    "\n",
    "n = 5\n",
    "## Hello\n",
    "## Hello\n",
    "## Hello\n",
    "## Hello\n",
    "## Hello\n",
    "\n",
    "i = 0\n",
    "while i < n:\n",
    "    print('Hello')\n",
    "    i += 1"
   ]
  },
  {
   "cell_type": "markdown",
   "metadata": {},
   "source": [
    "Начинающий программист написал программу, которая находит наименьшее натуральное число x, квадрат которого нацело делится на число n, и выводит его на экран. Значение переменной n задаётся внешней программой, поэтому может быть любым.\n",
    "\n",
    "Однако код содержит ряд ошибок. Найдите и исправьте их:"
   ]
  },
  {
   "cell_type": "code",
   "execution_count": 16,
   "metadata": {},
   "outputs": [
    {
     "name": "stdout",
     "output_type": "stream",
     "text": [
      "10\n"
     ]
    }
   ],
   "source": [
    "n = 10\n",
    "## 10\n",
    "#n = 156\n",
    "## 78\n",
    "#n = 12\n",
    "## 6\n",
    "x = 1\n",
    "while not(x ** 2 % n == 0):\n",
    "    x += 1\n",
    "print(x)"
   ]
  },
  {
   "cell_type": "markdown",
   "metadata": {},
   "source": [
    "Напишите цикл while, который вычисляет произведение натуральных чисел (1 * 2 * 3 * 4 * ...). Цикл должен выполняться до тех пор, пока значение произведения не превысит число value.\n",
    "\n",
    "Результирующее произведение запишите в переменную p.\n",
    "\n",
    "Примеры работы программы:"
   ]
  },
  {
   "cell_type": "code",
   "execution_count": 29,
   "metadata": {},
   "outputs": [
    {
     "name": "stdout",
     "output_type": "stream",
     "text": [
      "1 1000\n",
      "2 1000\n",
      "6 1000\n",
      "24 1000\n",
      "120 1000\n",
      "720 1000\n",
      "5040 1000\n"
     ]
    }
   ],
   "source": [
    "value = 1000\n",
    "## p = 5040\n",
    "\n",
    "#value = 178\n",
    "## p = 720\n",
    "\n",
    "#value = 10\n",
    "## 24\n",
    "p = 1\n",
    "n = 0\n",
    "while p < value:\n",
    "    n += 1\n",
    "    p *= n\n",
    "    print(p, value)\n",
    "    "
   ]
  },
  {
   "cell_type": "markdown",
   "metadata": {},
   "source": [
    "Олег положил money рублей в банк под 8 % годовых с ежегодной капитализацией процентов. Через сколько лет у него на счету будет не менее target_money рублей?\n",
    "\n",
    "Запишите ответ в переменную year_count.\n",
    "\n",
    "Для моделирования процесса увеличения денежной суммы на счёте воспользуйтесь циклом while. В случае, когда значение target_money < money, в переменной year_count должен содержаться 0.\n",
    "\n"
   ]
  },
  {
   "cell_type": "code",
   "execution_count": 35,
   "metadata": {},
   "outputs": [
    {
     "name": "stdout",
     "output_type": "stream",
     "text": [
      "targer money 3000 will be achieved in 15 \n"
     ]
    }
   ],
   "source": [
    "money = 1000\n",
    "target_money = 3000\n",
    "## year_count = 15\n",
    "\n",
    "#money = 8000\n",
    "#target_money = 15000\n",
    "## year_count = 9\n",
    "\n",
    "#money = 1500\n",
    "#target_money = 300\n",
    "## year_count = 0 \n",
    "\n",
    "year_count = 0\n",
    "while target_money > money:\n",
    "    money += (money*0.08)\n",
    "    year_count += 1\n",
    "print(f\"targer money {target_money} will be achieved in {year_count} \")"
   ]
  },
  {
   "cell_type": "markdown",
   "metadata": {},
   "source": [
    "Вы играете в компьютерную игру, дошли до схватки с финальным боссом, но вот незадача: ваш компьютер «заглючил», и вы не можете управлять вашим персонажем. Босс атакует и каждую секунду наносит один удар, который отнимает у персонажа damage единиц здоровья. На схватку с боссом ваш персонаж вышел с health единиц здоровья.\n",
    "\n",
    "Создайте цикл, позволяющий понять, через сколько секунд босс убьёт вашего персонажа. В результате работы вашей программы в переменной seconds_num должно быть сохранено количество секунд, в течение которых будет длиться схватка."
   ]
  },
  {
   "cell_type": "code",
   "execution_count": 39,
   "metadata": {},
   "outputs": [
    {
     "name": "stdout",
     "output_type": "stream",
     "text": [
      "your hero died in 7 sec \n"
     ]
    }
   ],
   "source": [
    "health = 500\n",
    "damage = 80\n",
    "## seconds_num = 7\n",
    "\n",
    "#health = 3014\n",
    "#damage = 174\n",
    "## seconds_num = 18\n",
    "second_num = 0\n",
    "while 0 < health:\n",
    "    health -= damage\n",
    "    second_num += 1\n",
    "print(f\"your hero died in {second_num} sec \")"
   ]
  },
  {
   "cell_type": "markdown",
   "metadata": {},
   "source": [
    "Числа Фибоначчи — это бесконечная последовательность чисел, которую можно получить рекурсивно. Каждое число из последовательности является суммой двух предыдущих.\n",
    "\n",
    "\n",
    "\n",
    "Последовательность Фибоначчи активно применяется в комбинаторике и аналитике. О значении и вариантах применения чисел Фибоначчи вы можете прочитать в блоге Skillfactory.\n",
    "\n",
    "Напишите программу, которая выводит первые n чисел Фибоначчи. Значение n может быть любым.\n",
    "\n",
    "Для решения воспользуйтесь следующим алгоритмом:\n",
    "\n",
    "Инициализируем начальные значения последовательности: a = 1, b = 1 , i = 2.\n",
    "Пока i ≤ n:\n",
    "Вычислить новое значение b по формуле: b = a + b.\n",
    "Заменить значение a = b.\n",
    "Увеличить i на 1.\n",
    "Добавить элемент b в последовательность.\n",
    "Результирующую последовательность чисел сохраните в списке fibonacci_list.\n",
    "\n"
   ]
  },
  {
   "cell_type": "code",
   "execution_count": 52,
   "metadata": {},
   "outputs": [
    {
     "name": "stdout",
     "output_type": "stream",
     "text": [
      "[1, 1, 2, 3, 5, 8, 13, 21, 34]\n",
      "[1, 1, 2, 3, 5, 8, 13, 21, 34]\n"
     ]
    }
   ],
   "source": [
    "a = 1\n",
    "b = 1 \n",
    "i = 2\n",
    "fibonacci_list = []\n",
    "\n",
    "n = 3\n",
    "## fibonacci_list = [1, 1, 2]\n",
    "\n",
    "n = 5\n",
    "## fibonacci_list = [1, 1, 2, 3, 5]\n",
    "\n",
    "n = 9\n",
    "## fibonacci_list =[1, 1, 2, 3, 5, 8, 13, 21, 34]\n",
    "f1 = f2 = 1\n",
    "iteration = 2\n",
    "fibonacci_list = [f1]\n",
    "while iteration <= n:\n",
    "    f2 += f1\n",
    "    f1,f2 = f2,f1\n",
    "    iteration +=1\n",
    "    fibonacci_list.append(f2)\n",
    "print(fibonacci_list)\n",
    "\n",
    "\n",
    "\n",
    "fibonacci_list = [1, 1, 2]\n",
    "while len(fibonacci_list) < n:\n",
    "    fibonacci_list.append(fibonacci_list[-1]+fibonacci_list[-2])\n",
    "print(fibonacci_list)\n"
   ]
  },
  {
   "cell_type": "code",
   "execution_count": 66,
   "metadata": {},
   "outputs": [
    {
     "name": "stdout",
     "output_type": "stream",
     "text": [
      "514962\n",
      "529295.0\n",
      " цена продажи с учетом вклада, цена продажив вне сезоне, чтобы сравняться с сезоном 479000\n",
      "529295\n"
     ]
    },
    {
     "data": {
      "text/plain": [
       "168000.0"
      ]
     },
     "execution_count": 66,
     "metadata": {},
     "output_type": "execute_result"
    }
   ],
   "source": [
    "first_bye = 479000\n",
    "second_bye = 550000 - 4968 - 4871 - 4984 - 4945 - 4420 - 2250 - 2150 - 2250 - 2200 - 2000\n",
    "print(second_bye)\n",
    "print(((first_bye*0.21)/2)+first_bye)\n",
    "while (((first_bye*0.21)/2)+first_bye) > second_bye:\n",
    "    second_bye += 1\n",
    "print(f' цена продажи с учетом вклада, цена продажив вне сезоне, чтобы сравняться с сезоном {first_bye}')\n",
    "print(second_bye)\n",
    "\n",
    "\n",
    "(800000*0.21)"
   ]
  },
  {
   "cell_type": "code",
   "execution_count": 71,
   "metadata": {},
   "outputs": [
    {
     "data": {
      "text/plain": [
       "(65520.0, 624000, 58734)"
      ]
     },
     "execution_count": 71,
     "metadata": {},
     "output_type": "execute_result"
    }
   ],
   "source": [
    "((145000+479000) * 0.21)/2,(145000+479000),(630+600+625+575+585+600+5082+4871+4984+4945+4420+4833 + 4552+4355+4452+4405+3930+4290)\n"
   ]
  },
  {
   "cell_type": "code",
   "execution_count": 83,
   "metadata": {},
   "outputs": [
    {
     "data": {
      "text/plain": [
       "8"
      ]
     },
     "execution_count": 83,
     "metadata": {},
     "output_type": "execute_result"
    }
   ],
   "source": [
    "temperature = [\n",
    "    [13, 15, 10],\n",
    "    [14, 13, 9],\n",
    "    [8, 9, 6]\n",
    "]\n",
    "temperature[0][2]\n",
    "temperature[1][1]\n",
    "temperature[2][0]"
   ]
  },
  {
   "cell_type": "code",
   "execution_count": 86,
   "metadata": {},
   "outputs": [
    {
     "name": "stdout",
     "output_type": "stream",
     "text": [
      "[1, 2]\n",
      "1\n",
      "2\n",
      "\n",
      "[3, 4]\n",
      "3\n",
      "4\n",
      "\n",
      "[5, 6]\n",
      "5\n",
      "6\n",
      "\n"
     ]
    }
   ],
   "source": [
    "matrix = [\n",
    "    [1, 2], \n",
    "    [3, 4], \n",
    "    [5, 6]\n",
    "]\n",
    "for b_elem in matrix:\n",
    "    print(b_elem)\n",
    "    for s_elem in b_elem:\n",
    "        print(s_elem)\n",
    "    print()"
   ]
  },
  {
   "cell_type": "code",
   "execution_count": 88,
   "metadata": {},
   "outputs": [
    {
     "name": "stdout",
     "output_type": "stream",
     "text": [
      "[1, 2]\n",
      "1\n",
      "2\n",
      "\n",
      "[3, 4]\n",
      "3\n",
      "4\n",
      "\n",
      "[5, 6]\n",
      "5\n",
      "6\n",
      "\n"
     ]
    }
   ],
   "source": [
    "for b_index in range(len(matrix)):\n",
    "    print(matrix[b_index])\n",
    "    for s_index in range(len(matrix[b_index])):\n",
    "        print(matrix[b_index][s_index])\n",
    "    print()"
   ]
  },
  {
   "cell_type": "code",
   "execution_count": 94,
   "metadata": {},
   "outputs": [
    {
     "name": "stdout",
     "output_type": "stream",
     "text": [
      "Будильник 10:00\n",
      "Будильник 10:30\n",
      "Будильник 15:00\n",
      "Будильник 15:30\n",
      "Будильник 20:00\n",
      "Будильник 20:30\n"
     ]
    }
   ],
   "source": [
    "hours = list(range(10,24,5))\n",
    "minutes = list(range(0,60,30))\n",
    "for hour in hours:\n",
    "    for minute in minutes:\n",
    "        if minute:\n",
    "            print('Будильник {}:{}'.format(hour,minute))\n",
    "        else:\n",
    "            print('Будильник {}:{}0'.format(hour,minute))\n"
   ]
  },
  {
   "cell_type": "code",
   "execution_count": 96,
   "metadata": {},
   "outputs": [
    {
     "name": "stdout",
     "output_type": "stream",
     "text": [
      "Будильник 9:00\n",
      "Будильник 9:15\n",
      "Будильник 9:30\n",
      "Будильник 9:45\n",
      "Будильник 11:00\n",
      "Будильник 11:15\n",
      "Будильник 11:30\n",
      "Будильник 11:45\n",
      "Будильник 13:00\n",
      "Будильник 13:15\n",
      "Будильник 13:30\n",
      "Будильник 13:45\n",
      "Будильник 15:00\n",
      "Будильник 15:15\n",
      "Будильник 15:30\n",
      "Будильник 15:45\n",
      "Будильник 17:00\n",
      "Будильник 17:15\n",
      "Будильник 17:30\n",
      "Будильник 17:45\n",
      "Будильник 19:00\n",
      "Будильник 19:15\n",
      "Будильник 19:30\n",
      "Будильник 19:45\n",
      "Будильник 21:00\n",
      "Будильник 21:15\n",
      "Будильник 21:30\n",
      "Будильник 21:45\n",
      "Будильник 23:00\n",
      "Будильник 23:15\n",
      "Будильник 23:30\n",
      "Будильник 23:45\n"
     ]
    }
   ],
   "source": [
    "hours = list(range(9,24,2))\n",
    "minutes = list(range(0,60,15))\n",
    "for hour in range(len(hours)):\n",
    "    for minute in range(len(minutes)):\n",
    "        if minutes[minute]:\n",
    "            print('Будильник {}:{}'.format(hours[hour],minutes[minute]))\n",
    "        else:\n",
    "            print('Будильник {}:{}0'.format(hours[hour],minutes[minute]))"
   ]
  },
  {
   "cell_type": "code",
   "execution_count": 99,
   "metadata": {},
   "outputs": [
    {
     "name": "stdout",
     "output_type": "stream",
     "text": [
      "11\n"
     ]
    }
   ],
   "source": [
    "str_list = ['text', 'moreeeeeening', 'notepad', 'television', 'ornament']\n",
    "count_e = 0\n",
    "for word_in_list in str_list:\n",
    "    count_e += word_in_list.count('e')\n",
    "print(count_e)"
   ]
  },
  {
   "cell_type": "code",
   "execution_count": 103,
   "metadata": {},
   "outputs": [
    {
     "name": "stdout",
     "output_type": "stream",
     "text": [
      "afbaad\n",
      "a\n",
      "f\n",
      "b\n",
      "a\n",
      "a\n",
      "d\n",
      "faaf\n",
      "f\n",
      "a\n",
      "a\n",
      "f\n",
      "afaga\n",
      "a\n",
      "f\n",
      "a\n",
      "g\n",
      "a\n",
      "agag\n",
      "a\n",
      "g\n",
      "a\n",
      "g\n",
      "10\n",
      "10\n"
     ]
    }
   ],
   "source": [
    "text_list = [\n",
    "    'afbaad',\n",
    "    'faaf',\n",
    "    'afaga',\n",
    "    'agag'\n",
    "]\n",
    "check_count = 0\n",
    "check_word = 'a'\n",
    "\n",
    "for word_in_list in text_list:\n",
    "    print(word_in_list)\n",
    "    for index_symbol in range(len(word_in_list)):\n",
    "        print(word_in_list[index_symbol])\n",
    "        if word_in_list[index_symbol] ==  check_word:\n",
    "            check_count +=1\n",
    "print(check_count)\n",
    "\n",
    "check_count = 0\n",
    "check_word = 'a'\n",
    "for word_in_list in text_list:\n",
    "    check_count += word_in_list.count(check_word)\n",
    "print(check_count)"
   ]
  },
  {
   "cell_type": "code",
   "execution_count": 108,
   "metadata": {},
   "outputs": [
    {
     "name": "stdout",
     "output_type": "stream",
     "text": [
      "[9, 2, 1]\n",
      "[2, 5, 3]\n",
      "[4, 8, 5]\n"
     ]
    },
    {
     "data": {
      "text/plain": [
       "[9, 5, 8]"
      ]
     },
     "execution_count": 108,
     "metadata": {},
     "output_type": "execute_result"
    }
   ],
   "source": [
    "random_matrix = [\n",
    "    [9, 2, 1],\n",
    "    [2, 5, 3],\n",
    "    [4, 8, 5]\n",
    "]\n",
    "max_nuumber_matrix = []\n",
    "for list_matrix in random_matrix:\n",
    "    max_element = list_matrix[0]\n",
    "    print(list_matrix)\n",
    "    for element_list in range(len(list_matrix)):\n",
    "        if list_matrix[element_list] > max_element:\n",
    "            max_element = list_matrix[element_list]\n",
    "    max_nuumber_matrix.append(max_element)\n",
    "max_nuumber_matrix"
   ]
  },
  {
   "cell_type": "code",
   "execution_count": 112,
   "metadata": {},
   "outputs": [
    {
     "name": "stdout",
     "output_type": "stream",
     "text": [
      "Ощий балл:74.53333333333333 математика:64.8  русский язык:76.6 информатика:82.2\n",
      "Ощий балл:74.53333333333333 математика:76.6  русский язык:82.2 информатика:64.8\n"
     ]
    }
   ],
   "source": [
    "student_scores = [\n",
    "    [56, 90, 80],\n",
    "    [80, 86, 92],\n",
    "    [91, 76, 89],\n",
    "    [91, 42, 60],\n",
    "    [65, 30, 90]\n",
    "]\n",
    "our_check_ball = 0\n",
    "rus_yaz = 0\n",
    "info_check = 0\n",
    "matematika_check = 0\n",
    "for check_list in student_scores:\n",
    "    for assesment in range(len(check_list)):\n",
    "        \n",
    "        if assesment == 1:\n",
    "            matematika_check += check_list[assesment]\n",
    "        elif assesment == 2:\n",
    "            info_check += check_list[assesment]\n",
    "        else:\n",
    "            rus_yaz += check_list[assesment]\n",
    "        our_check_ball += check_list[assesment]\n",
    "print(f'Ощий балл:{our_check_ball/(len(student_scores)*3)} математика:{matematika_check/(len(student_scores))}  русский язык:{rus_yaz/(len(student_scores))} информатика:{info_check/(len(student_scores))}')\n",
    "\n",
    "N = len(student_scores)\n",
    "M = len(student_scores[0])\n",
    "our_score = 0\n",
    "math_score = 0\n",
    "rus_score = 0\n",
    "info_score = 0\n",
    "for i in range(N):\n",
    "    math_score += student_scores[i][0]\n",
    "    info_score += student_scores[i][1]\n",
    "    rus_score += student_scores[i][2]\n",
    "our_score = (math_score + info_score + rus_score) / (N*3)\n",
    "math_score = math_score / N\n",
    "rus_score = rus_score / N\n",
    "info_score = info_score / N\n",
    "print(f'Ощий балл:{our_score} математика:{math_score}  русский язык:{rus_score} информатика:{info_score}')\n"
   ]
  },
  {
   "cell_type": "code",
   "execution_count": 116,
   "metadata": {},
   "outputs": [
    {
     "name": "stdout",
     "output_type": "stream",
     "text": [
      "[0.5, 0.6, 0.6, 0.65, 0.3, 0.55, 0.7, 0.9, 0.5, 0.5]\n"
     ]
    }
   ],
   "source": [
    "table = [\n",
    "    [1, 3, 6],\n",
    "    [4, 6, 8],\n",
    "    [10, 33, 53]\n",
    "]\n",
    "N = len(table)\n",
    "S = 0\n",
    "count = 0\n",
    "for i in range(N):\n",
    "    S += table[i][0]\n",
    "    count += 1\n",
    "S\n",
    "\n",
    "scores = [\n",
    "    [0.5, 0.6, 0.6, 0.65, 0.3],\n",
    "    [0.55, 0.7, 0.9, 0.5, 0.5]\n",
    "]\n",
    "scores_lst = []\n",
    "N = len(scores)\n",
    "for i in range(N):\n",
    "    scores_lst.extend(scores[i])\n",
    "print(scores_lst)       "
   ]
  },
  {
   "cell_type": "markdown",
   "metadata": {},
   "source": [
    "Напишите код, который определяет, является ли вложенный список test_matrix квадратной матрицей (то есть матрицей, у которой количество строк равно количеству столбцов).\n",
    "\n",
    "Примеры квадратной и неквадратной (прямоугольной) матрицы: слева — квадратная, справа — неквадратная."
   ]
  },
  {
   "cell_type": "code",
   "execution_count": 121,
   "metadata": {},
   "outputs": [
    {
     "name": "stdout",
     "output_type": "stream",
     "text": [
      "True\n"
     ]
    }
   ],
   "source": [
    "test_matrix = [\n",
    "    [1, 2, 3],\n",
    "    [7, -1, 2],\n",
    "    [123, 2, -1]\n",
    "]\n",
    "test_matrix = [\n",
    "    [1, 2, 3],\n",
    "    [7, -1, 2],\n",
    "    [123, 2, -1],\n",
    "    [123, 5, 1]\n",
    "]\n",
    "for part_matrix in test_matrix:\n",
    "    if len(part_matrix) != len(test_matrix[0]) or len(part_matrix) != len(test_matrix):\n",
    "        result = False\n",
    "        break\n",
    "    result = True\n",
    "print(result)"
   ]
  },
  {
   "cell_type": "markdown",
   "metadata": {},
   "source": [
    "При формировании данных о температуре за три летних месяца допустили ошибку: некоторые значения оказались отрицательными. Вам необходимо заменить все отрицательные значения на положительные.\n",
    "\n",
    "Список со значениями температуры задан в переменной temp. Необходимо перезаписать значения этого списка.\n",
    "\n"
   ]
  },
  {
   "cell_type": "code",
   "execution_count": 141,
   "metadata": {},
   "outputs": [
    {
     "data": {
      "text/plain": [
       "[[25, 27, 28, 26, 27, 26, 25, 2, 26],\n",
       " [21, 22, 28, 27, 28, 26, 25, 19, 26],\n",
       " [19, 21, 25, 27, 28, 25, 21, 20, 26]]"
      ]
     },
     "execution_count": 141,
     "metadata": {},
     "output_type": "execute_result"
    }
   ],
   "source": [
    "temp = [[25, 27, 28, 26, 27, -26, -25, -2, 26], [21, 22, 28, 27, 28, 26, 25, 19, 26], [-19, 21, 25, -27, 28, 25, 21, 20, 26]]\n",
    "\n",
    "# После обработки\n",
    "## temp = [[25, 27, 28, 26, 27, 26, 25, 2, 26], [21, 22, 28, 27, 28, 26, 25, 19, 26], [19, 21, 25, 27, 28, 25, 21, 20, 26]]\n",
    "result_list = []\n",
    "for list_temp in range(len(temp)):\n",
    "    for element_list in range(len(temp[list_temp])):\n",
    "        if temp[list_temp][element_list] < 0:\n",
    "            temp[list_temp][element_list] = abs(temp[list_temp][element_list])\n",
    "            \n",
    "temp"
   ]
  },
  {
   "cell_type": "markdown",
   "metadata": {},
   "source": [
    "Дан список customer_satisfaction, состоящий из вложенных списков с показателями удовлетворённости клиентов компании по месяцам. Удовлетворённость измеряется от 0 до 1.\n",
    "\n",
    "Напишите программу, которая вычисляет средние значения удовлетворённости клиентов за каждый месяц (среднее значение в каждом из вложенных списков), округлённые до двух знаков после точки-разделителя, а также максимальное из этих средних значений.\n",
    "\n",
    "Средняя удовлетворённость по месяцам должна быть представлена в виде списка month_satisfaction. Максимальная удовлетворённость должна быть представлена в виде float-числа и записана в переменную max_satisfaction."
   ]
  },
  {
   "cell_type": "code",
   "execution_count": 150,
   "metadata": {},
   "outputs": [
    {
     "name": "stdout",
     "output_type": "stream",
     "text": [
      "2\n",
      "4\n",
      "2\n",
      "3\n",
      "0.76 [0.73, 0.62, 0.52, 0.76]\n"
     ]
    }
   ],
   "source": [
    "month_satisfaction = []\n",
    "max_satisfaction = None\n",
    "\n",
    "customer_satisfaction = [\n",
    "    [0.87, 0.56, 0.77],\n",
    "    [0.22, 0.46, 0.56, 0.89, 0.95],\n",
    "    [0.45, 0.44, 0.68],\n",
    "    [0.73, 0.88, 0.95, 0.49]\n",
    "]\n",
    "max_satisfaction = 0\n",
    "for list_assesment in customer_satisfaction:\n",
    "    const = 0\n",
    "    our_price = 0\n",
    "    for assesment in list_assesment:\n",
    "        const += 1\n",
    "        our_price += assesment\n",
    "    month_satisfaction.append(round(our_price/const,2))\n",
    "    print(const-1)\n",
    "    if max_satisfaction < our_price/const:\n",
    "        max_satisfaction = our_price/const \n",
    "print(round(max_satisfaction,2), month_satisfaction)\n",
    "        "
   ]
  },
  {
   "cell_type": "code",
   "execution_count": 155,
   "metadata": {},
   "outputs": [
    {
     "name": "stdout",
     "output_type": "stream",
     "text": [
      "Day:1, temprature:-5\n",
      "Day:2, temprature:2\n",
      "Day:3, temprature:4\n",
      "Day:4, temprature:8\n",
      "Day:5, temprature:12\n",
      "Day:6, temprature:-7\n",
      "Day:7, temprature:5\n",
      "Day:1, temprature:-5\n",
      "Day:2, temprature:2\n",
      "Day:3, temprature:4\n",
      "Day:4, temprature:8\n",
      "Day:5, temprature:12\n",
      "Day:6, temprature:-7\n",
      "Day:7, temprature:5\n"
     ]
    }
   ],
   "source": [
    "user_dynamics = [-5, 2, 4, 8, 12, -7, 5] \n",
    "for i in range(len(user_dynamics)):\n",
    "    print(f'Day:{i+1}, temprature:{user_dynamics[i]}')\n",
    "\n",
    "number = 1\n",
    "for i in user_dynamics:\n",
    "      print(f'Day:{number}, temprature:{i}')\n",
    "      number += 1"
   ]
  },
  {
   "cell_type": "code",
   "execution_count": 151,
   "metadata": {},
   "outputs": [
    {
     "name": "stdout",
     "output_type": "stream",
     "text": [
      "Day:-1, temprature:-5\n",
      "Day:0, temprature:2\n",
      "Day:1, temprature:4\n",
      "Day:2, temprature:8\n",
      "Day:3, temprature:12\n",
      "Day:4, temprature:-7\n",
      "Day:5, temprature:5\n"
     ]
    }
   ],
   "source": [
    "user_dynamics = [-5, 2, 4, 8, 12, -7, 5] \n",
    "for i, value in enumerate(user_dynamics):\n",
    "    print(f'Day:{i-1}, temprature:{value}')"
   ]
  },
  {
   "cell_type": "code",
   "execution_count": 156,
   "metadata": {},
   "outputs": [
    {
     "name": "stdout",
     "output_type": "stream",
     "text": [
      "Churn value:  -5\n",
      "Number day:  1\n",
      "Churn value:  -7\n",
      "Number day:  6\n"
     ]
    }
   ],
   "source": [
    "user_dynamics = [-5, 2, 4, 8, 12, -7, 5]\n",
    "number_negative = None #объявляем переменную, в которой будем хранить номер последнего дня оттока, изначально она пустая (None)\n",
    "N = len(user_dynamics) #вычисляем длину списка\n",
    "#создаём цикл по элементам последовательности от 0 до N (не включая N)\n",
    "for i in range(N): # i — индекс текущего элемента\n",
    "    #проверяем условие оттока — текущий элемент отрицательный\n",
    "    if user_dynamics[i] < 0: #если условие истинно,\n",
    "        number_negative = i+1  #перезаписываем значение номера дня\n",
    "        print(\"Churn value: \", user_dynamics[i]) # выводим количество ушедших в этот день пользователей\n",
    "        print(\"Number day: \", number_negative) # выводим номер дня"
   ]
  },
  {
   "cell_type": "code",
   "execution_count": 159,
   "metadata": {},
   "outputs": [
    {
     "name": "stdout",
     "output_type": "stream",
     "text": [
      "Churn value:  -5\n",
      "Number day:  1\n",
      "Churn value:  -7\n",
      "Number day:  6\n"
     ]
    }
   ],
   "source": [
    "number_negative = None \n",
    "for i,value in enumerate(user_dynamics):\n",
    "    if value < 0:\n",
    "        number_negative = i+1\n",
    "        print(\"Churn value: \", value)\n",
    "        print(\"Number day: \", number_negative)"
   ]
  },
  {
   "cell_type": "markdown",
   "metadata": {},
   "source": [
    "Дан список, состоящий из строк. Список хранится в переменной str_list. Создайте новый список cut_str_list.\n",
    "\n",
    "В цикле добавляйте в список cut_str_list списки, состоящие из порядкового номера строки из списка str_list (номер в рамках данной задачи начинается с 0) и трёх первых символов из каждой строки. Если длина строки меньше трёх символов, то добавляется вся строка целиком."
   ]
  },
  {
   "cell_type": "code",
   "execution_count": 162,
   "metadata": {},
   "outputs": [
    {
     "data": {
      "text/plain": [
       "[['Hel', 1],\n",
       " ['my', 2],\n",
       " ['nam', 3],\n",
       " ['is', 4],\n",
       " ['Eze', 5],\n",
       " ['I', 6],\n",
       " ['lik', 7],\n",
       " ['kni', 8]]"
      ]
     },
     "execution_count": 162,
     "metadata": {},
     "output_type": "execute_result"
    }
   ],
   "source": [
    "str_list = ['Hello', 'my', 'name', 'is', 'Ezeikel', 'I', 'like', 'knitting']\n",
    "cut_str_list  = []\n",
    "for i,value in  enumerate(str_list):\n",
    "    cut_str_list.append([value[:3],i+1])\n",
    "cut_str_list"
   ]
  },
  {
   "cell_type": "code",
   "execution_count": 163,
   "metadata": {},
   "outputs": [
    {
     "name": "stdout",
     "output_type": "stream",
     "text": [
      "inventory restrictions per 3 slots\n"
     ]
    },
    {
     "data": {
      "text/plain": [
       "['Blood Moon Sword', 'Sunset-colored sword', 'Bow of Stars']"
      ]
     },
     "execution_count": 163,
     "metadata": {},
     "output_type": "execute_result"
    }
   ],
   "source": [
    "to_inventory = ['Blood Moon Sword', 'Sunset-colored sword', 'Bow of Stars', 'Gain Stone']\n",
    "inventory = []\n",
    "for i,value in enumerate(to_inventory):\n",
    "    if i > 2:\n",
    "        print('inventory restrictions per 3 slots')\n",
    "        break\n",
    "    inventory.append(value)\n",
    "inventory"
   ]
  },
  {
   "cell_type": "code",
   "execution_count": 168,
   "metadata": {},
   "outputs": [
    {
     "name": "stdout",
     "output_type": "stream",
     "text": [
      "word in shifr\n"
     ]
    }
   ],
   "source": [
    "number = int(input(\"Укажите зашифрованное number \",))\n",
    "result = None\n",
    "while number % 3 == 0:\n",
    "    result = number/3\n",
    "    number = result\n",
    "if result == 1:\n",
    "    print('word in shifr')\n",
    "else:\n",
    "    print('Not shifr')"
   ]
  },
  {
   "cell_type": "markdown",
   "metadata": {},
   "source": [
    "Допишите программу, которая проверяет гипотезу Сиракуз.\n",
    "\n",
    "Гипотеза Сиракуз заключается в том, что любое натуральное число n можно свести к 1, если повторять над ним следующие действия:\n",
    "\n",
    "если число чётное, разделить его нацело пополам, т. е. n = n // 2;\n",
    "если нечётное — умножить на 3, прибавить 1 и результат нацело разделить на 2, т. е. n = (n * 3 + 1) // 2.\n"
   ]
  },
  {
   "cell_type": "code",
   "execution_count": 172,
   "metadata": {},
   "outputs": [
    {
     "name": "stdout",
     "output_type": "stream",
     "text": [
      "Syracuse hypothesis holds for number 101231234\n"
     ]
    }
   ],
   "source": [
    "number = int(input('write the number',))\n",
    "n = number\n",
    "while True:\n",
    "    if number % 2==0:\n",
    "        number //= 2\n",
    "    else:\n",
    "        number = (number*3 + 1) / 2\n",
    "    if number == 1:\n",
    "        print(f'Syracuse hypothesis holds for number {n}')\n",
    "        break"
   ]
  },
  {
   "cell_type": "code",
   "execution_count": 173,
   "metadata": {},
   "outputs": [
    {
     "name": "stdout",
     "output_type": "stream",
     "text": [
      "Cliet 103303 keep the discount\n",
      "Cliet 100423 keep the discount\n"
     ]
    }
   ],
   "source": [
    "client_status = {\n",
    "    103303: 'yes', \n",
    "    103044: 'no',\n",
    "    100423: 'yes',\n",
    "    103032: 'no',\n",
    "    103902: 'no'\n",
    "}\n",
    "\n",
    "for client_id in client_status:\n",
    "    if client_status[client_id] == 'no':\n",
    "        continue\n",
    "    else:\n",
    "        print(f\"Cliet {client_id} keep the discount\")"
   ]
  },
  {
   "cell_type": "markdown",
   "metadata": {},
   "source": [
    "Дан словарь mixture_dict. Значения в нём могут быть трёх типов: строки (str) или числа (int и float).\n",
    "\n",
    "Посчитайте, сколько значений в словаре mixture_dict являются числами. Результат занесите в переменную count_numbers. Используйте в своём коде оператор continue.\n",
    "\n",
    "\n"
   ]
  },
  {
   "cell_type": "code",
   "execution_count": 175,
   "metadata": {},
   "outputs": [
    {
     "data": {
      "text/plain": [
       "4"
      ]
     },
     "execution_count": 175,
     "metadata": {},
     "output_type": "execute_result"
    }
   ],
   "source": [
    "mixture_dict = {'a': 15, 'b': 10.5, 'c': '15', 'd': 50, 'e': 15, 'f': '15'}\n",
    "## count_numbers = 4\n",
    "\n",
    "#mixture_dict = {'key1': 24, 'key2': '1.4', 'key3': 14, 'key4': 16.24, 'key6': 124.2414, 'key7': 12.2}\n",
    "## count_numbers = 5\n",
    "\n",
    "count_numbers = 0\n",
    "for key_dict in mixture_dict:\n",
    "    if type(mixture_dict[key_dict]) == str:\n",
    "        continue\n",
    "    else:\n",
    "        count_numbers += 1\n",
    "count_numbers "
   ]
  },
  {
   "cell_type": "code",
   "execution_count": 176,
   "metadata": {},
   "outputs": [
    {
     "name": "stdout",
     "output_type": "stream",
     "text": [
      "1\n",
      "2\n",
      "3\n"
     ]
    }
   ],
   "source": [
    "lst = [1,2,3,4,5]\n",
    "\n",
    "for i in lst:\n",
    "    if i>3:\n",
    "        pass\n",
    "    else:\n",
    "        print(i)"
   ]
  },
  {
   "cell_type": "code",
   "execution_count": 182,
   "metadata": {},
   "outputs": [],
   "source": [
    "text = \"\"\"\n",
    "The rabbit-hole went straight on like a tunnel for some way, and then dipped suddenly down, so suddenly that Alice had not a moment to think about stopping herself before she found herself falling down a very deep well.\n",
    "\n",
    "Either the well was very deep, or she fell very slowly, for she had plenty of time as she went down to look about her and to wonder what was going to happen next. First, she tried to look down and make out what she was coming to, but it was too dark to see anything; then she looked at the sides of the well, and noticed that they were filled with cupboards and book-shelves; here and there she saw maps and pictures hung upon pegs. She took down a jar from one of the shelves as she passed; it was labelled `ORANGE MARMALADE', but to her great disappointment it was empty: she did not like to drop the jar for fear of killing somebody, so managed to put it into one of the cupboards as she fell past it.\n",
    "\n",
    "`Well!' thought Alice to herself, `after such a fall as this, I shall think nothing of tumbling down stairs! How brave they'll all think me at home! Why, I wouldn't say anything about it, even if I fell off the top of the house!' (Which was very likely true.)\n",
    "\"\"\"\n",
    "\n"
   ]
  },
  {
   "cell_type": "code",
   "execution_count": 183,
   "metadata": {},
   "outputs": [
    {
     "data": {
      "text/plain": [
       "{'t': 88,\n",
       " 'h': 63,\n",
       " 'e': 112,\n",
       " 'r': 39,\n",
       " 'a': 70,\n",
       " 'b': 15,\n",
       " 'i': 47,\n",
       " '-': 2,\n",
       " 'o': 80,\n",
       " 'l': 55,\n",
       " 'w': 31,\n",
       " 'n': 57,\n",
       " 's': 60,\n",
       " 'g': 17,\n",
       " 'k': 14,\n",
       " 'u': 22,\n",
       " 'f': 28,\n",
       " 'm': 17,\n",
       " 'y': 18,\n",
       " ',': 13,\n",
       " 'd': 43,\n",
       " 'p': 23,\n",
       " 'c': 9,\n",
       " 'v': 8,\n",
       " '.': 5,\n",
       " 'x': 1,\n",
       " ';': 3,\n",
       " 'j': 2,\n",
       " '`': 3,\n",
       " \"'\": 5,\n",
       " ':': 1,\n",
       " '!': 4,\n",
       " '(': 1,\n",
       " ')': 1}"
      ]
     },
     "execution_count": 183,
     "metadata": {},
     "output_type": "execute_result"
    }
   ],
   "source": [
    "text = text.replace(' ','')\n",
    "text = text.replace('\\n','')\n",
    "text = text.lower()\n",
    "result_dict = dict()\n",
    "for symbol in text:\n",
    "    if symbol not in result_dict:\n",
    "        result_dict[symbol] = 1\n",
    "    else:\n",
    "        result_dict[symbol] += 1\n",
    "result_dict"
   ]
  },
  {
   "cell_type": "code",
   "execution_count": 180,
   "metadata": {},
   "outputs": [
    {
     "data": {
      "text/plain": [
       "29138"
      ]
     },
     "execution_count": 180,
     "metadata": {},
     "output_type": "execute_result"
    }
   ],
   "source": [
    "5083+4872+4984+4945+4420+4834"
   ]
  },
  {
   "cell_type": "code",
   "execution_count": 188,
   "metadata": {},
   "outputs": [
    {
     "data": {
      "text/plain": [
       "{'She': 1,\n",
       " 'sells': 3,\n",
       " 'sea': 6,\n",
       " 'shells': 6,\n",
       " 'on': 2,\n",
       " 'the': 3,\n",
       " 'shoreThe': 1,\n",
       " 'that': 2,\n",
       " 'she': 2,\n",
       " 'are': 2,\n",
       " 'I': 1,\n",
       " 'am': 2,\n",
       " 'sureSo': 1,\n",
       " 'if': 1,\n",
       " 'shoreI': 1,\n",
       " 'sure': 1,\n",
       " 'shore': 1}"
      ]
     },
     "execution_count": 188,
     "metadata": {},
     "output_type": "execute_result"
    }
   ],
   "source": [
    "text = \"\"\"\n",
    "She sells sea shells on the sea shore;\n",
    "The shells that she sells are sea shells I am sure.\n",
    "So if she sells sea shells on the sea shore,\n",
    "I am sure that the shells are sea shore shells.\n",
    "\"\"\"\n",
    "text = text.replace(';','')\n",
    "text = text.replace('.','')\n",
    "text = text.replace(',','')\n",
    "text = text.replace('\\n','')\n",
    "word_dict = dict()\n",
    "text = text.split(' ')\n",
    "for word in text:\n",
    "    if word not in word_dict:\n",
    "        word_dict[word] = 1\n",
    "    else:\n",
    "        word_dict[word] += 1\n",
    "word_dict"
   ]
  },
  {
   "cell_type": "code",
   "execution_count": 191,
   "metadata": {},
   "outputs": [
    {
     "data": {
      "text/plain": [
       "{'счастье': 1,\n",
       " 'не': 1,\n",
       " 'в': 2,\n",
       " 'том': 2,\n",
       " 'чтобы': 2,\n",
       " 'делать': 1,\n",
       " 'всегда': 2,\n",
       " 'что': 2,\n",
       " 'хочешь': 1,\n",
       " 'а': 1,\n",
       " 'хотеть': 1,\n",
       " 'того': 1,\n",
       " 'делаешь': 1}"
      ]
     },
     "execution_count": 191,
     "metadata": {},
     "output_type": "execute_result"
    }
   ],
   "source": [
    "sentence = 'A roboT MAY Not injure a humAn BEING or, tHROugh INACtion, allow a human BEING to come to harm.'\n",
    "## word_dict = {'a': 3, 'robot': 1, 'may': 1, 'not': 1, 'injure': 1, 'human': 2, 'being': 2, 'or': 1, 'through': 1, 'inaction': 1, 'allow': 1, 'to': 2, 'come': 1, 'harm': 1}\n",
    "\n",
    "sentence = \"СчастьЕ нЕ в тоМ, чтобы делать всегда, что хочешь, а в Том, чтОБЫ всегдА хотеть того, ЧТО дЕлаешь.\"\n",
    "## word_dict = {'счастье': 1, 'не': 1, 'в': 2, 'том': 2, 'чтобы': 2, 'делать': 1, 'всегда': 2, 'что': 2, 'хочешь': 1, 'а': 1, 'хотеть': 1, 'того': 1, 'делаешь': 1}\n",
    "\n",
    "sentence = sentence.lower()\n",
    "sentence = sentence.replace('.','')\n",
    "sentence = sentence.replace(',','')\n",
    "word_list = sentence.split()\n",
    "word_dict = dict()\n",
    "for word in word_list:\n",
    "    if word not in word_dict:\n",
    "        word_dict[word] = 1\n",
    "    else:\n",
    "        word_dict[word] += 1\n",
    "word_dict"
   ]
  },
  {
   "cell_type": "code",
   "execution_count": 193,
   "metadata": {},
   "outputs": [
    {
     "name": "stdout",
     "output_type": "stream",
     "text": [
      "{'text': 2, 'morning': 0, 'notepad': 1, 'television': 1, 'ornament': 1}\n"
     ]
    },
    {
     "data": {
      "text/plain": [
       "{'text': 0, 'morning': 2, 'notepad': 1, 'television': 1, 'ornament': 2}"
      ]
     },
     "execution_count": 193,
     "metadata": {},
     "output_type": "execute_result"
    }
   ],
   "source": [
    "str_list = [\"text\", \"morning\", \"notepad\", \"television\", \"ornament\"]\n",
    "symbol_to_check = 't'\n",
    "## word_dict = {'text': 2, 'morning': 0, 'notepad': 1, 'television': 1, 'ornament': 1}\n",
    "word_dict = dict()\n",
    "\n",
    "for element  in range(len(str_list)):\n",
    "    count = 0\n",
    "    for symbol in str_list[element]:\n",
    "        if symbol == symbol_to_check:\n",
    "            count += 1\n",
    "    word_dict[str_list[element]] = count\n",
    "print(word_dict)\n",
    "\n",
    "str_list = [\"text\", \"morning\", \"notepad\", \"television\", \"ornament\"]\n",
    "symbol_to_check = 'n'\n",
    "## word_dict = {'text': 0, 'morning': 2, 'notepad': 1, 'television': 1, 'ornament': 2}\n",
    "word_dict = dict()\n",
    "for word in str_list:\n",
    "    word_dict[word] = word.count(symbol_to_check)\n",
    "word_dict"
   ]
  },
  {
   "cell_type": "code",
   "execution_count": null,
   "metadata": {},
   "outputs": [],
   "source": []
  }
 ],
 "metadata": {
  "kernelspec": {
   "display_name": "Python 3",
   "language": "python",
   "name": "python3"
  },
  "language_info": {
   "codemirror_mode": {
    "name": "ipython",
    "version": 3
   },
   "file_extension": ".py",
   "mimetype": "text/x-python",
   "name": "python",
   "nbconvert_exporter": "python",
   "pygments_lexer": "ipython3",
   "version": "3.9.6"
  }
 },
 "nbformat": 4,
 "nbformat_minor": 2
}
