{
 "cells": [
  {
   "cell_type": "code",
   "execution_count": 2,
   "metadata": {},
   "outputs": [
    {
     "name": "stdout",
     "output_type": "stream",
     "text": [
      "Hello, World\n"
     ]
    }
   ],
   "source": [
    "# Однострочный коментартор\n",
    "\n",
    "print('Hello, World')"
   ]
  },
  {
   "cell_type": "code",
   "execution_count": 3,
   "metadata": {},
   "outputs": [
    {
     "name": "stdout",
     "output_type": "stream",
     "text": [
      "Hello, world\n"
     ]
    }
   ],
   "source": [
    "print('Hello, world')\n"
   ]
  },
  {
   "cell_type": "code",
   "execution_count": 4,
   "metadata": {},
   "outputs": [
    {
     "name": "stdout",
     "output_type": "stream",
     "text": [
      "Hello world\n"
     ]
    }
   ],
   "source": [
    "print('Hello','world')"
   ]
  },
  {
   "cell_type": "code",
   "execution_count": 5,
   "metadata": {},
   "outputs": [
    {
     "name": "stdout",
     "output_type": "stream",
     "text": [
      "Helloworld\n"
     ]
    }
   ],
   "source": [
    "print('Hello' +'world')"
   ]
  },
  {
   "cell_type": "code",
   "execution_count": 6,
   "metadata": {},
   "outputs": [
    {
     "name": "stdout",
     "output_type": "stream",
     "text": [
      "15\n"
     ]
    }
   ],
   "source": [
    "nums = [1,2,3,4,5]\n",
    "total = 0\n",
    "for num in nums:\n",
    "    total += num\n",
    "print(total)"
   ]
  },
  {
   "cell_type": "code",
   "execution_count": 7,
   "metadata": {},
   "outputs": [
    {
     "name": "stdout",
     "output_type": "stream",
     "text": [
      "9\n"
     ]
    }
   ],
   "source": [
    "nums = [3,8,1,9,4]\n",
    "max_num = nums[0]\n",
    "for num in nums:\n",
    "    if num > max_num:\n",
    "        max_num = num\n",
    "print(max_num)"
   ]
  },
  {
   "cell_type": "code",
   "execution_count": 8,
   "metadata": {},
   "outputs": [
    {
     "name": "stdout",
     "output_type": "stream",
     "text": [
      "120\n"
     ]
    }
   ],
   "source": [
    "n = 5 \n",
    "factarial = 1\n",
    "for i in range(1,1+n):\n",
    "    factarial *= i\n",
    "print(factarial)"
   ]
  },
  {
   "cell_type": "markdown",
   "metadata": {},
   "source": [
    "# Вводные данные для изучения Юнита\n",
    "### Цели: \n",
    "начнём знакомство с основополагающей темой изучения любого языка программирования — переменнымы.\n",
    "\n",
    "закрепим знания по выводу информации на экран с помощью print();\n",
    "\n",
    "узнаем, как организовать интерактивный режим выполнения программы с помощью запроса данных от пользователя."
   ]
  },
  {
   "cell_type": "code",
   "execution_count": 9,
   "metadata": {},
   "outputs": [
    {
     "name": "stdout",
     "output_type": "stream",
     "text": [
      "John Hello panda 51\n"
     ]
    }
   ],
   "source": [
    "name = 'John'\n",
    "\n",
    "a = \"Hello\"\n",
    "b = \"panda\"\n",
    "c = 51\n",
    "\n",
    "print(name,a,b,c)"
   ]
  },
  {
   "cell_type": "markdown",
   "metadata": {},
   "source": [
    "### Правила именования переменных: \n",
    "1. Название переменной должно состоять только из букв, цифр, знаков подчеркивания_\n",
    "2. Название переменной не должно начинаься с цифры"
   ]
  },
  {
   "cell_type": "code",
   "execution_count": 10,
   "metadata": {},
   "outputs": [],
   "source": [
    "name, surname = 'John', 'Lennon'"
   ]
  },
  {
   "cell_type": "code",
   "execution_count": 11,
   "metadata": {},
   "outputs": [
    {
     "name": "stdout",
     "output_type": "stream",
     "text": [
      "Hello panda\n",
      "panda Hello\n"
     ]
    }
   ],
   "source": [
    "print(a,b)\n",
    "a,b = b,a\n",
    "print(a,b)"
   ]
  },
  {
   "cell_type": "code",
   "execution_count": 12,
   "metadata": {},
   "outputs": [],
   "source": [
    "name = input()"
   ]
  },
  {
   "cell_type": "code",
   "execution_count": 13,
   "metadata": {},
   "outputs": [],
   "source": [
    "name = input('Please enter your first name:')"
   ]
  },
  {
   "cell_type": "code",
   "execution_count": 14,
   "metadata": {},
   "outputs": [
    {
     "name": "stdout",
     "output_type": "stream",
     "text": [
      "hello ллл\n"
     ]
    }
   ],
   "source": [
    "print('hello',name)"
   ]
  },
  {
   "cell_type": "code",
   "execution_count": 15,
   "metadata": {},
   "outputs": [
    {
     "name": "stdout",
     "output_type": "stream",
     "text": [
      "\n",
      "Hello, ллл ллл !\n",
      "\n",
      "Your profile:\n",
      "Age: лллл years\n",
      "City: лллл\n"
     ]
    }
   ],
   "source": [
    "first_name = input(\"Enter your first name:\")\n",
    "last_name = input(\"Enter your last name:\")\n",
    "age = input(\"Enter your age:\")\n",
    "city = input(\"Enter your city of residence:\")\n",
    "\n",
    "\n",
    "print(\"\")\n",
    "print(\"Hello,\", first_name, last_name, \"!\")\n",
    "print(\"\")\n",
    "print(\"Your profile:\")\n",
    "print(\"Age:\", age, 'years')\n",
    "print(\"City:\", city)"
   ]
  },
  {
   "cell_type": "markdown",
   "metadata": {},
   "source": [
    "# Конец Юнита 5\n",
    "### Мы научились и узнали:\n",
    "1. Узнали, что такое переменная и для чгео она используется\n",
    "2. Изучили как можно запросить ввод  информации от пользователя и как вывести (print,input)\n",
    "3. Потренировались работать с этими функциями"
   ]
  },
  {
   "cell_type": "markdown",
   "metadata": {},
   "source": [
    "### Типы даных и их классификация Юнит 6\n",
    "Возможности языка Python позволяют узнавать тип переменной, используя встроенную функцию type()."
   ]
  },
  {
   "cell_type": "code",
   "execution_count": 16,
   "metadata": {},
   "outputs": [
    {
     "name": "stdout",
     "output_type": "stream",
     "text": [
      "<class 'float'>\n",
      "<class 'str'>\n"
     ]
    }
   ],
   "source": [
    "a = 3.14\n",
    "print(type(a))\n",
    "\n",
    "b = '3.14'\n",
    "print(type(b))"
   ]
  },
  {
   "cell_type": "code",
   "execution_count": 17,
   "metadata": {},
   "outputs": [
    {
     "name": "stdout",
     "output_type": "stream",
     "text": [
      "4337117616 5\n",
      "4337117776 10\n",
      "4337117936 15\n"
     ]
    }
   ],
   "source": [
    "a,b = 5,10\n",
    "print(id(a),a)\n",
    "print(id(b),b)\n",
    "a = a + b\n",
    "print(id(a),a)"
   ]
  },
  {
   "cell_type": "markdown",
   "metadata": {},
   "source": [
    "# Вывод Юнита 6\n",
    "В этом юните мы рассмотрели какие типы данных бывают, узнали, как они классифицируются"
   ]
  },
  {
   "cell_type": "markdown",
   "metadata": {},
   "source": [
    "# Юнит 7 Числовые типы данных\n",
    "### Задачи на юнит: \n",
    "Рассмотреть подробно числовы етипы данных их сходства и различия, а также способы преобразования обьектов одного типа в другой"
   ]
  },
  {
   "cell_type": "markdown",
   "metadata": {},
   "source": [
    "Целые числа int: 73, 0\n",
    "\n",
    "Числа с плавающей точкой: 3.14 , -2.79\n",
    "\n",
    "Логические значения: True, False"
   ]
  },
  {
   "cell_type": "markdown",
   "metadata": {},
   "source": [
    "Сложение + : 7 + 5 = 12\n",
    "\n",
    "Выячитание - : 7 - 5 = 2\n",
    "\n",
    "Умножение * : 2 * 3 = 6\n",
    "\n",
    "Возведенеи в степень ** : 2 ** 4 = 16\n",
    "\n",
    "Деление / : 5 / 2 = 2.5\n",
    "\n",
    "Целочисленное деление // : 7 // 5 = 1\n",
    "\n",
    "Остаток от деления % : 5 % 3 = 2"
   ]
  },
  {
   "cell_type": "markdown",
   "metadata": {},
   "source": [
    "# целочисленное деление отрицательное Формула\n",
    "a / b = q(r)\n",
    "a = b * q + r\n",
    "b = a - r / q"
   ]
  },
  {
   "cell_type": "code",
   "execution_count": 18,
   "metadata": {},
   "outputs": [
    {
     "data": {
      "text/plain": [
       "-3"
      ]
     },
     "execution_count": 18,
     "metadata": {},
     "output_type": "execute_result"
    }
   ],
   "source": [
    "-5 // 2"
   ]
  },
  {
   "cell_type": "code",
   "execution_count": 19,
   "metadata": {},
   "outputs": [],
   "source": [
    "a = 5\n",
    "b = 2\n",
    "q = a // b  # q = 2\n",
    "r = a % b #r = 1"
   ]
  },
  {
   "cell_type": "code",
   "execution_count": 20,
   "metadata": {},
   "outputs": [],
   "source": [
    "a = -5\n",
    "b = 2\n",
    "q = a // b # хочется получить 2, как и в прошлый раз, но q = -3\n",
    "r = a % b # а остаток остался тот же, r = 1"
   ]
  },
  {
   "cell_type": "code",
   "execution_count": 21,
   "metadata": {},
   "outputs": [
    {
     "name": "stdout",
     "output_type": "stream",
     "text": [
      "5.4321\n",
      "3.138886636534116e+73\n"
     ]
    }
   ],
   "source": [
    "a = 5.4321\n",
    "print(a)\n",
    "# 5.4321\n",
    "print(a**100)\n",
    "# 3.138886636534116e+73"
   ]
  },
  {
   "cell_type": "markdown",
   "metadata": {},
   "source": [
    "[мантисса]e[показатель_степени_числа 10]"
   ]
  },
  {
   "cell_type": "code",
   "execution_count": 22,
   "metadata": {},
   "outputs": [
    {
     "name": "stdout",
     "output_type": "stream",
     "text": [
      "3.138886636534116e+75\n",
      "3.138886636534116e+76\n",
      "3.138886636534116e+71\n",
      "3.138886636534116e+70\n"
     ]
    }
   ],
   "source": [
    "a = 5.4321**100 # 3.138886636534116e+73\n",
    "\n",
    "print(a*100) # мантисса осталась прежней, а степень увеличилась на 2\n",
    "# 3.138886636534116e+75\n",
    "\n",
    "print(a*1000) # аналогично, только степень увеличилась уже на 3\n",
    "# 3.138886636534116e+76\n",
    "\n",
    "print(a/100) # снова мантисса не меняется, а степень уже уменьшилась\n",
    "# 3.138886636534116e+71\n",
    "\n",
    "print(a/1000) # как, наверное, уже ожидаемо, степень снова уменьшилась\n",
    "# 3.138886636534116e+70"
   ]
  },
  {
   "cell_type": "markdown",
   "metadata": {},
   "source": [
    "Обход точности с высчислением после 16 знаков\n",
    "\n",
    "Для обхода этой проблемы, если необходимо использовать более точные вычисления, могут использоваться классы Fraction и Decimal. "
   ]
  },
  {
   "cell_type": "code",
   "execution_count": 23,
   "metadata": {},
   "outputs": [
    {
     "name": "stdout",
     "output_type": "stream",
     "text": [
      "-1.9999999999999998\n"
     ]
    }
   ],
   "source": [
    "print(1.00+0.01-3.01)"
   ]
  },
  {
   "cell_type": "markdown",
   "metadata": {},
   "source": [
    "# Округлениче чисел\n",
    "round([выражение],n) - где n колличество знаков после запятой до которых необходимо округлить"
   ]
  },
  {
   "cell_type": "code",
   "execution_count": 24,
   "metadata": {},
   "outputs": [
    {
     "name": "stdout",
     "output_type": "stream",
     "text": [
      "-2\n"
     ]
    }
   ],
   "source": [
    "print(round(1.00+0.01-3.01))"
   ]
  },
  {
   "cell_type": "code",
   "execution_count": 25,
   "metadata": {},
   "outputs": [
    {
     "name": "stdout",
     "output_type": "stream",
     "text": [
      "9.17\n"
     ]
    }
   ],
   "source": [
    "print(round(11 * 2.5/3,2))"
   ]
  },
  {
   "cell_type": "code",
   "execution_count": 26,
   "metadata": {},
   "outputs": [
    {
     "name": "stdout",
     "output_type": "stream",
     "text": [
      "5\n"
     ]
    }
   ],
   "source": [
    "pi = 3.14159\n",
    "print(round(pi**2/2))"
   ]
  },
  {
   "cell_type": "code",
   "execution_count": 27,
   "metadata": {},
   "outputs": [
    {
     "name": "stdout",
     "output_type": "stream",
     "text": [
      "False\n",
      "True\n",
      "False\n"
     ]
    }
   ],
   "source": [
    "t = True\n",
    "f = False\n",
    "\n",
    "print(3 > 10)\n",
    "print(3 < 10)\n",
    "print(3 == 10)"
   ]
  },
  {
   "cell_type": "code",
   "execution_count": 28,
   "metadata": {},
   "outputs": [
    {
     "name": "stdout",
     "output_type": "stream",
     "text": [
      "True\n",
      "False\n"
     ]
    }
   ],
   "source": [
    "print(1.57 * 3/1.5 == 3.14)\n",
    "print(3**3 -3*(6*3-4.5*2)==1)"
   ]
  },
  {
   "cell_type": "markdown",
   "metadata": {},
   "source": [
    "# Итоги Юнита 7\n",
    "### Научились: \n",
    "1. Подробно рассмотрели числовой тип данных и его подтипы: int(целое число), float(число с плавающей точкой) и bool(логический тип данных)\n",
    "2. Узнали, какие опеарации есть для каждого из этих типов и как выполнять коругление с заданной точностью"
   ]
  },
  {
   "cell_type": "markdown",
   "metadata": {},
   "source": [
    "# Юнит 8 Типы данных: строки\n",
    "### Цели \n",
    "Познакомиться с типом данных строки более подробно и изучить их"
   ]
  },
  {
   "cell_type": "code",
   "execution_count": 29,
   "metadata": {},
   "outputs": [],
   "source": [
    "s1 = 'hello' # используя апострофы\n",
    "s2 = \"hello\" # используя кавычки\n",
    "s3 = '''Hello!\n",
    "        Have a nice day!''' # используя тройные \"апострофы\" или тройные кавычки"
   ]
  },
  {
   "cell_type": "code",
   "execution_count": 30,
   "metadata": {},
   "outputs": [
    {
     "name": "stdout",
     "output_type": "stream",
     "text": [
      "h\n",
      "o\n"
     ]
    }
   ],
   "source": [
    "print(s1[0])\n",
    "print(s1[-1])"
   ]
  },
  {
   "cell_type": "markdown",
   "metadata": {},
   "source": [
    "### Срезы \n",
    "Концепция срезов такая : [начало:конец:шаг]\n",
    "\n",
    "где начало — это индекс первого символа подстроки;\n",
    "\n",
    "конец — индекс символа, следующего сразу после подстроки (важно запомнить: символ с указанным индексом сам не включается в подстроку, то есть если вам надо сделать срез по пятый символ включительно, то здесь надо указать значение 6);\n",
    "\n",
    "шаг — позволяет извлекать не все элементы, а, например, следующие через один друг за другом, через два и т.д."
   ]
  },
  {
   "cell_type": "code",
   "execution_count": 31,
   "metadata": {},
   "outputs": [
    {
     "name": "stdout",
     "output_type": "stream",
     "text": [
      "llo\n",
      "hell\n",
      "\n",
      "hlo\n",
      "olleh\n",
      "o\n",
      "ll\n"
     ]
    }
   ],
   "source": [
    "print(s1[2:])\n",
    "print(s1[:4])\n",
    "print()\n",
    "print(s1[::2])\n",
    "print(s1[::-1])\n",
    "print(s1[-1])\n",
    "print(s1[-3:-1])"
   ]
  },
  {
   "cell_type": "markdown",
   "metadata": {},
   "source": [
    "### Встроенная функция len() - позволяет узнать длинну строки"
   ]
  },
  {
   "cell_type": "code",
   "execution_count": 32,
   "metadata": {},
   "outputs": [
    {
     "name": "stdout",
     "output_type": "stream",
     "text": [
      "Hello_\n",
      "Hello_Hello_Hello_\n",
      "6\n"
     ]
    }
   ],
   "source": [
    "s = 'Hel' + 'lo_'\n",
    "print(s)\n",
    "\n",
    "print(s*3)\n",
    "\n",
    "print(len(s))"
   ]
  },
  {
   "cell_type": "markdown",
   "metadata": {},
   "source": [
    "# Методы строки "
   ]
  },
  {
   "cell_type": "markdown",
   "metadata": {},
   "source": [
    "### Метод find(substr)"
   ]
  },
  {
   "cell_type": "code",
   "execution_count": 33,
   "metadata": {},
   "outputs": [
    {
     "name": "stdout",
     "output_type": "stream",
     "text": [
      "Hello_\n",
      "4\n",
      "2\n",
      "2\n"
     ]
    }
   ],
   "source": [
    "print(s)\n",
    "print(s.find('o')) # возвращает индекс\n",
    "print(s.find('ll')) # в случае подстроки возвращает индекс первого символа\n",
    "print(s.find('l')) # Если символ или подстрока встречаются несколько раз, \n",
    "                   # то возвращается индекс первого вхождения\n"
   ]
  },
  {
   "cell_type": "markdown",
   "metadata": {},
   "source": [
    "### Методы isdigit(), isalpha(), isalnum()"
   ]
  },
  {
   "cell_type": "code",
   "execution_count": 34,
   "metadata": {},
   "outputs": [
    {
     "name": "stdout",
     "output_type": "stream",
     "text": [
      "False\n",
      "False\n",
      "False\n"
     ]
    }
   ],
   "source": [
    "print(s.isdigit()) # строка состоит только из цифр?\n",
    "print(s.isalpha()) # строка состоит только из букв?\n",
    "print(s.isalnum()) # строка состоит только из цифр и букв?"
   ]
  },
  {
   "cell_type": "markdown",
   "metadata": {},
   "source": [
    "### Методы upper(), lower() "
   ]
  },
  {
   "cell_type": "code",
   "execution_count": 35,
   "metadata": {},
   "outputs": [
    {
     "name": "stdout",
     "output_type": "stream",
     "text": [
      "hello_\n",
      "HELLO_\n"
     ]
    }
   ],
   "source": [
    "print(s.lower()) # опускает все символы\n",
    "print(s.upper()) # возвышает все символы"
   ]
  },
  {
   "cell_type": "markdown",
   "metadata": {},
   "source": [
    "### Метод split()\n",
    "\\n — символ переноса строки;\n",
    "\n",
    "\\t — символ горизонтальной табуляции;\n",
    "\n",
    "\\v — символ вертикальной табуляции."
   ]
  },
  {
   "cell_type": "code",
   "execution_count": 36,
   "metadata": {},
   "outputs": [
    {
     "name": "stdout",
     "output_type": "stream",
     "text": [
      "['red', 'blue', 'green']\n"
     ]
    }
   ],
   "source": [
    "colors = 'red blue green'\n",
    "print(colors.split()) # делит строку по значению внутри split() по базе пробел"
   ]
  },
  {
   "cell_type": "code",
   "execution_count": 37,
   "metadata": {},
   "outputs": [
    {
     "name": "stdout",
     "output_type": "stream",
     "text": [
      "blue\n"
     ]
    }
   ],
   "source": [
    "print(colors.split()[1])"
   ]
  },
  {
   "cell_type": "code",
   "execution_count": 38,
   "metadata": {},
   "outputs": [
    {
     "name": "stdout",
     "output_type": "stream",
     "text": [
      "['bear', '1', '0', '0', '1', '0', '0', '1', '1', '1', '1', '0', '0', '4', '0', '0', '1', '1']\n",
      "['Two roads diverged in a yellow wood,', 'And sorry I could not travel both', 'And be one traveler, long I stood', 'And looked down one as far as I could', 'To where it bent in the undergrowth.']\n"
     ]
    }
   ],
   "source": [
    "animal = 'bear,1,0,0,1,0,0,1,1,1,1,0,0,4,0,0,1,1'\n",
    "print(animal.split(','))\n",
    "poem = '''Two roads diverged in a yellow wood,\n",
    "And sorry I could not travel both\n",
    "And be one traveler, long I stood\n",
    "And looked down one as far as I could\n",
    "To where it bent in the undergrowth.'''\n",
    "print(poem.split('\\n'))"
   ]
  },
  {
   "cell_type": "markdown",
   "metadata": {},
   "source": [
    "### Метод join()  - j обьединение строк\n"
   ]
  },
  {
   "cell_type": "code",
   "execution_count": 39,
   "metadata": {},
   "outputs": [
    {
     "name": "stdout",
     "output_type": "stream",
     "text": [
      "red and blue and green\n"
     ]
    }
   ],
   "source": [
    "colors  = 'red blue green'\n",
    "colors_split = colors.split()\n",
    "colors_joined = ' and '.join(colors_split)\n",
    "print(colors_joined)"
   ]
  },
  {
   "cell_type": "code",
   "execution_count": 40,
   "metadata": {},
   "outputs": [
    {
     "data": {
      "text/plain": [
       "{1: 100, 2: 50, 3: 10, 10: 1}"
      ]
     },
     "execution_count": 40,
     "metadata": {},
     "output_type": "execute_result"
    }
   ],
   "source": [
    "place_and_money = {1: 100, 2: 50, 3: 10}\n",
    "place_and_money.setdefault(10,1)\n",
    "place_and_money"
   ]
  },
  {
   "cell_type": "code",
   "execution_count": 41,
   "metadata": {},
   "outputs": [
    {
     "name": "stdout",
     "output_type": "stream",
     "text": [
      "1\n",
      "2\n",
      "3\n",
      "4\n",
      "5\n",
      "6\n",
      "7\n"
     ]
    }
   ],
   "source": [
    "numbers = '1 2 3 4 5 6 7'\n",
    "print('\\n'.join(numbers.split()))"
   ]
  },
  {
   "cell_type": "markdown",
   "metadata": {},
   "source": [
    "### Метод подстановки в строки переменных и данных с помощью: \n",
    "1. с помощью оператора %\n",
    "2. методом format()\n",
    "3. f-строками(форматированные строки)\n"
   ]
  },
  {
   "cell_type": "code",
   "execution_count": 42,
   "metadata": {},
   "outputs": [],
   "source": [
    "#print('The {} currency rate on the date {} is {}'.format(currency, cur_date))"
   ]
  },
  {
   "cell_type": "markdown",
   "metadata": {},
   "source": [
    "# Явное и неявное преобразование"
   ]
  },
  {
   "cell_type": "code",
   "execution_count": 43,
   "metadata": {},
   "outputs": [
    {
     "name": "stdout",
     "output_type": "stream",
     "text": [
      "144.03\n"
     ]
    }
   ],
   "source": [
    "b = float('125.13')\n",
    "c = 18.9\n",
    "print(b + c)"
   ]
  },
  {
   "cell_type": "code",
   "execution_count": 44,
   "metadata": {},
   "outputs": [
    {
     "name": "stdout",
     "output_type": "stream",
     "text": [
      "12942021\n"
     ]
    }
   ],
   "source": [
    "d = 12942021.24910\n",
    "d_str = str(d)\n",
    "print(d_str.split('.')[0])\n"
   ]
  },
  {
   "cell_type": "code",
   "execution_count": 45,
   "metadata": {},
   "outputs": [
    {
     "name": "stdout",
     "output_type": "stream",
     "text": [
      "111\n"
     ]
    }
   ],
   "source": [
    "advertisement = 'Refrigerator service life: 9 years 3 months'\n",
    "advertisement_splited = advertisement.split()\n",
    "advertisement_splited\n",
    "print(int(advertisement_splited[3])*12 + int(advertisement_splited[5]))"
   ]
  },
  {
   "cell_type": "markdown",
   "metadata": {},
   "source": [
    "В этом юните мы научились :\n",
    "1. Изучили строковый тип данных и попробовали поработать с ним\n",
    "2. Узнали, что такое срезы строк и научились их применять \n",
    "3. Рассмотрели основные методы работы со строками\n",
    "4. Научились форматировать строки несколькими способами\n",
    "5. Узнали как преоборазовывать числа в строки и наоборот"
   ]
  },
  {
   "cell_type": "code",
   "execution_count": 46,
   "metadata": {},
   "outputs": [
    {
     "data": {
      "text/plain": [
       "128.5"
      ]
     },
     "execution_count": 46,
     "metadata": {},
     "output_type": "execute_result"
    }
   ],
   "source": [
    "salary = '29000 руб.'\n",
    "salary = '35000 руб.'\n",
    "salary = '128500 руб.'\n",
    "salary_number = int(salary.split()[0])/1000\n",
    "salary_number\n"
   ]
  },
  {
   "cell_type": "code",
   "execution_count": 47,
   "metadata": {},
   "outputs": [
    {
     "data": {
      "text/plain": [
       "4"
      ]
     },
     "execution_count": 47,
     "metadata": {},
     "output_type": "execute_result"
    }
   ],
   "source": [
    "experience = 'Work experience 202 months'\n",
    "experience = 'Work experience 60 months'\n",
    "experience = 'Work experience 4 months'\n",
    "\n",
    "experience_year = int(experience.split()[2]) // 12\n",
    "experience_month = int(experience.split()[2]) % 12\n",
    "experience_month"
   ]
  },
  {
   "cell_type": "code",
   "execution_count": 48,
   "metadata": {},
   "outputs": [
    {
     "data": {
      "text/plain": [
       "['Male', '38 years old', 'born on June 25', '1980']"
      ]
     },
     "execution_count": 48,
     "metadata": {},
     "output_type": "execute_result"
    }
   ],
   "source": [
    "description = 'Male , 38 years old , born on June 25 , 1980'\n",
    "\n",
    "description_split = description.split(' , ')\n",
    "description_split"
   ]
  },
  {
   "cell_type": "markdown",
   "metadata": {},
   "source": [
    "# Тип данных LIST"
   ]
  },
  {
   "cell_type": "code",
   "execution_count": 49,
   "metadata": {},
   "outputs": [
    {
     "name": "stdout",
     "output_type": "stream",
     "text": [
      "[]\n",
      "[]\n",
      "[1, 2, 3, 4, 5, 6, 7, 8, 9, 10]\n",
      "['a', 'e', 'i', 'o', 'u', 'y']\n",
      "['Java', 'C', 'Python', 'C++', 'Visual Basic.NET']\n"
     ]
    }
   ],
   "source": [
    "my_list = list()\n",
    "type(my_list)\n",
    "my_list_1 = []\n",
    "type(my_list_1)\n",
    "\n",
    "empty_type = []\n",
    "print(empty_type)\n",
    "another_empty_list = list()\n",
    "print(another_empty_list)\n",
    "\n",
    "numbers = [1, 2, 3, 4, 5, 6, 7, 8, 9, 10]\n",
    "print(numbers)\n",
    "\n",
    "vowels = ['a', 'e', 'i', 'o', 'u', 'y']\n",
    "print(vowels)\n",
    "\n",
    "languages = ['Java', 'C', 'Python', 'C++', 'Visual Basic.NET']\n",
    "print(languages)\n"
   ]
  },
  {
   "cell_type": "code",
   "execution_count": 50,
   "metadata": {},
   "outputs": [
    {
     "name": "stdout",
     "output_type": "stream",
     "text": [
      "range(1, 10)\n",
      "[1, 2, 3, 4, 5, 6, 7, 8, 9]\n",
      "[0, 1, 2, 3, 4, 5, 6, 7, 8, 9]\n",
      "[1, 4, 7]\n",
      "[10, 8, 6, 4, 2]\n"
     ]
    }
   ],
   "source": [
    "a = range(1,10)\n",
    "print(a)\n",
    "print(list(a))\n",
    "b = range(10)\n",
    "print(list(b))\n",
    "c = range(1,10,3)\n",
    "print(list(c))\n",
    "d = range(10,1,-2)\n",
    "print(list(d))"
   ]
  },
  {
   "cell_type": "code",
   "execution_count": 51,
   "metadata": {},
   "outputs": [
    {
     "data": {
      "text/plain": [
       "[50, 48, 46, 44, 42, 40, 38, 36, 34, 32, 30, 28, 26, 24, 22]"
      ]
     },
     "execution_count": 51,
     "metadata": {},
     "output_type": "execute_result"
    }
   ],
   "source": [
    "b = list(range(50,20,-2))\n",
    "b"
   ]
  },
  {
   "cell_type": "markdown",
   "metadata": {},
   "source": [
    "# Серзы списка"
   ]
  },
  {
   "cell_type": "code",
   "execution_count": 52,
   "metadata": {},
   "outputs": [
    {
     "name": "stdout",
     "output_type": "stream",
     "text": [
      "a\n",
      "c\n",
      "c\n"
     ]
    }
   ],
   "source": [
    "a = [\"a\", \"b\", \"c\"]\n",
    "print(a[0])\n",
    "\n",
    "print(a[2])\n",
    "print(a[-1])"
   ]
  },
  {
   "cell_type": "code",
   "execution_count": 53,
   "metadata": {},
   "outputs": [
    {
     "name": "stdout",
     "output_type": "stream",
     "text": [
      "['a', 'c', 'e']\n",
      "['a', 'b']\n",
      "['a', 'b', 'c', 'd']\n",
      "['e', 'd', 'c', 'b', 'a']\n"
     ]
    }
   ],
   "source": [
    "a = [\"a\", \"b\", \"c\", \"d\", \"e\"]\n",
    "print(a[::2]) # указаание шага среза\n",
    "print(a[:2]) # до какого знака будет срез от нулоевого значения\n",
    "print(a[0:4]) # c какого и до какого знака будет срез\n",
    "\n",
    "b = a[::-1] # развернуть список с шагом минус 1\n",
    "print(b)"
   ]
  },
  {
   "cell_type": "code",
   "execution_count": 54,
   "metadata": {},
   "outputs": [
    {
     "name": "stdout",
     "output_type": "stream",
     "text": [
      "[-1, 0, 1, 2, 3]\n",
      "[5, 4, 3, 2, 1, 0, -1, -2, -3]\n",
      "['hello', 'kitty']\n"
     ]
    }
   ],
   "source": [
    "a = list(range(-5,5))\n",
    "print(a[4:9])\n",
    "a = list(range(-3,6))\n",
    "print(a[::-1])\n",
    "\n",
    "split_hello = 'hello kitty'\n",
    "a = split_hello.split()[-2:]\n",
    "print(a)"
   ]
  },
  {
   "cell_type": "markdown",
   "metadata": {},
   "source": [
    "# .APPEND() "
   ]
  },
  {
   "cell_type": "code",
   "execution_count": 55,
   "metadata": {},
   "outputs": [
    {
     "name": "stdout",
     "output_type": "stream",
     "text": [
      "['order_1']\n"
     ]
    }
   ],
   "source": [
    "orders_daily = [] \n",
    "orders_daily.append('order_1')\n",
    "print(orders_daily)"
   ]
  },
  {
   "cell_type": "code",
   "execution_count": 56,
   "metadata": {},
   "outputs": [
    {
     "name": "stdout",
     "output_type": "stream",
     "text": [
      "['order_1', 'order_2', 'order_3']\n",
      "['all_books', 'my_book', 'your_book']\n"
     ]
    }
   ],
   "source": [
    "a,b,c = 'order_1', 'order_2', 'order_3'\n",
    "orders = []\n",
    "orders.append(a)\n",
    "orders.append(b)\n",
    "orders.append(c)\n",
    "print(orders)\n",
    "\n",
    "book_1 , book_2 = 'my_book', 'your_book'\n",
    "books = ['all_books']\n",
    "books.append(book_1)\n",
    "books.append(book_2)\n",
    "print(books)\n",
    "\n"
   ]
  },
  {
   "cell_type": "markdown",
   "metadata": {},
   "source": [
    "# .CLEAR()"
   ]
  },
  {
   "cell_type": "code",
   "execution_count": 57,
   "metadata": {},
   "outputs": [
    {
     "name": "stdout",
     "output_type": "stream",
     "text": [
      "[]\n",
      "[]\n"
     ]
    }
   ],
   "source": [
    "a = [\"order1\", \"order2\", \"order3\", \"order4\"]\n",
    "a.clear()\n",
    "print(a)\n",
    "letters = ['a','m','b','c']\n",
    "letters.clear()\n",
    "print(letters)"
   ]
  },
  {
   "cell_type": "markdown",
   "metadata": {},
   "source": [
    "# .COUNT()"
   ]
  },
  {
   "cell_type": "code",
   "execution_count": 58,
   "metadata": {},
   "outputs": [
    {
     "name": "stdout",
     "output_type": "stream",
     "text": [
      "1 4 1\n"
     ]
    }
   ],
   "source": [
    "a = [\"a\", \"b\", \"c\", \"d\", \"b\", \"b\", \"g\", \"b\", \"r\"]\n",
    "print(a.count('a'),a.count('b'),a.count('c'))\n",
    "\n"
   ]
  },
  {
   "cell_type": "markdown",
   "metadata": {},
   "source": [
    "# .COPY() , [:]"
   ]
  },
  {
   "cell_type": "code",
   "execution_count": 59,
   "metadata": {},
   "outputs": [
    {
     "name": "stdout",
     "output_type": "stream",
     "text": [
      "[2, 3, 4] [2, 3, 4]\n"
     ]
    }
   ],
   "source": [
    "a = list(range(2,5))\n",
    "b = a.copy()\n",
    "c = a[:]\n",
    "print(b,c)"
   ]
  },
  {
   "cell_type": "markdown",
   "metadata": {},
   "source": [
    "# .EXTEND() "
   ]
  },
  {
   "cell_type": "code",
   "execution_count": 60,
   "metadata": {},
   "outputs": [
    {
     "name": "stdout",
     "output_type": "stream",
     "text": [
      "['a', 'b', 'c', 'd', 'e'] <class 'list'>\n",
      "['order1', 'order2', 'order3', 'book1', 'book2']\n"
     ]
    }
   ],
   "source": [
    "a = [\"a\", \"b\", \"c\"]\n",
    "b = [\"d\", \"e\"]\n",
    "a.extend(b)\n",
    "print(a, type(a))\n",
    "\n",
    "all_things = ['order1', 'order2', 'order3']\n",
    "only_books = ['book1', 'book2']\n",
    "all_things.extend(only_books)\n",
    "print(all_things)"
   ]
  },
  {
   "cell_type": "markdown",
   "metadata": {},
   "source": [
    "# .REVERSE() , [::-1]"
   ]
  },
  {
   "cell_type": "code",
   "execution_count": 61,
   "metadata": {},
   "outputs": [
    {
     "name": "stdout",
     "output_type": "stream",
     "text": [
      "[5, 4, 3, 2, 1] [5, 4, 3, 2, 1]\n"
     ]
    }
   ],
   "source": [
    "a = [1,2,3,4,5]\n",
    "b = a[::-1]\n",
    "a.reverse()\n",
    "print(a,b)\n",
    "\n"
   ]
  },
  {
   "cell_type": "markdown",
   "metadata": {},
   "source": [
    "# .SORT()"
   ]
  },
  {
   "cell_type": "code",
   "execution_count": 62,
   "metadata": {},
   "outputs": [
    {
     "name": "stdout",
     "output_type": "stream",
     "text": [
      "[0, 1, 2, 3, 4, 5, 10]\n",
      "[-5, -1, 0, 2, 3, 5, 10, 15]\n"
     ]
    }
   ],
   "source": [
    "a = [3,4,1,5,10,0, 2]\n",
    "a.sort()\n",
    "print(a)\n",
    "\n",
    "random_values = [3, 5, 0, -1, 2, 10, 15, -5]\n",
    "random_values.sort()\n",
    "print(random_values)"
   ]
  },
  {
   "cell_type": "code",
   "execution_count": 63,
   "metadata": {},
   "outputs": [
    {
     "name": "stdout",
     "output_type": "stream",
     "text": [
      "[[1, 2, 3], [4, 5, 6], [7, 8, 9], [3, 2, 4], (3, 4), '5.6', 7]\n"
     ]
    }
   ],
   "source": [
    "list1 = [[1,2,3], [4,5,6], [7,8,9]]\n",
    "list2 = [[3,2,4], (3,4), \"5.6\", 7]\n",
    "list1.extend(list2)\n",
    "print(list1)"
   ]
  },
  {
   "cell_type": "code",
   "execution_count": 64,
   "metadata": {},
   "outputs": [
    {
     "name": "stdout",
     "output_type": "stream",
     "text": [
      "[5, 0.2, 'hello there', [1, 2, 3, 4], 'bye']\n"
     ]
    }
   ],
   "source": [
    "list1 = [5, 0.2, 'hello there', [1,2,3,4], 'bye']\n",
    "print(list1)"
   ]
  },
  {
   "cell_type": "markdown",
   "metadata": {},
   "source": [
    "# Кортежи"
   ]
  },
  {
   "cell_type": "code",
   "execution_count": 65,
   "metadata": {},
   "outputs": [
    {
     "name": "stdout",
     "output_type": "stream",
     "text": [
      "64\n",
      "104\n",
      "()\n",
      "()\n",
      "<class 'str'>\n",
      "<class 'tuple'>\n",
      "<class 'tuple'> (255,)\n",
      "(15, 22, 0)\n"
     ]
    }
   ],
   "source": [
    "a = (1,3,4,5,6)\n",
    "b = [1,3,4,5,6]\n",
    "print(a.__sizeof__())\n",
    "print(b.__sizeof__())\n",
    "\n",
    "tpl = tuple()\n",
    "print(tpl)\n",
    "tpl_space = ()\n",
    "print(tpl_space)\n",
    "\n",
    "string = ('s')\n",
    "tpl_str = ('s',)\n",
    "print(type(string))\n",
    "print(type(tpl_space))\n",
    "tpl = tuple()\n",
    "tpl1 = 255,\n",
    "print(type(tpl1),tpl1)\n",
    "tpl2= (15,22,0)\n",
    "print(tpl2)"
   ]
  },
  {
   "cell_type": "markdown",
   "metadata": {},
   "source": [
    "# Итог\n",
    "В этом юните мы узнали:\n",
    "1. Узнали о такой структуре данных, как список, поняли, как он создается и какие операции над ним можно провести\n",
    "2. познакомились со вставкой, удалением, подсчетом, расширением списко и т.\n",
    "3. Изучили, что такое индексация и зачем она нужна\n",
    "4. Поняли что строки, это списки, но записанные в другом виде\n",
    "5. Узнали, что именно можно хранить в сипсках: простые(числа, строки), составные(списки, кортежи, словари) структуры данных\n",
    "6. Изучили сортировку и инвертирование списка\n",
    "7. Познакомились с кортежами и поняли для чего они нужны и какие операции можно с ними выполнять"
   ]
  },
  {
   "cell_type": "markdown",
   "metadata": {},
   "source": [
    "# Cловари"
   ]
  },
  {
   "cell_type": "code",
   "execution_count": 66,
   "metadata": {},
   "outputs": [
    {
     "name": "stdout",
     "output_type": "stream",
     "text": [
      "Mark Parkhomenko\n"
     ]
    }
   ],
   "source": [
    "phones = {'+79033923029': 'Ivan Ivanov', '+78125849204': 'Kirill Smirnov', '+79053049385': 'Mark Parkhomenko', '+79265748370': 'Ekaterina Dmitrieva', '+79030598495': 'Ruslan Belyi'}\n",
    "print(phones['+79053049385'])"
   ]
  },
  {
   "cell_type": "code",
   "execution_count": 67,
   "metadata": {},
   "outputs": [
    {
     "data": {
      "text/plain": [
       "5"
      ]
     },
     "execution_count": 67,
     "metadata": {},
     "output_type": "execute_result"
    }
   ],
   "source": [
    "dict_1 = {'a': 1, 'b': 3,'a':5}\n",
    "dict_1['a']"
   ]
  },
  {
   "cell_type": "code",
   "execution_count": 68,
   "metadata": {},
   "outputs": [
    {
     "name": "stdout",
     "output_type": "stream",
     "text": [
      "['Kolya', 'Marina', 'Misha', 'Dima', 'Yana', 'Nina']\n",
      "['Dima', 'Kolya', 'Marina', 'Misha', 'Nina', 'Yana']\n"
     ]
    }
   ],
   "source": [
    "firends = {\"Kolya\": 180, \"Marina\": 176, \"Misha\": 158, \"Dima\": 201, \"Yana\": 183, \"Nina\": 156}\n",
    "friends_list = list(firends.keys())\n",
    "print(friends_list)\n",
    "friends_list.sort()\n",
    "print(friends_list)"
   ]
  },
  {
   "cell_type": "code",
   "execution_count": 69,
   "metadata": {},
   "outputs": [
    {
     "name": "stdout",
     "output_type": "stream",
     "text": [
      "{}\n",
      "{}\n",
      "{} {}\n"
     ]
    },
    {
     "data": {
      "text/plain": [
       "50"
      ]
     },
     "execution_count": 69,
     "metadata": {},
     "output_type": "execute_result"
    }
   ],
   "source": [
    "my_dict =dict()\n",
    "print(my_dict)\n",
    "my_dict_1 = {}\n",
    "print(my_dict_1)\n",
    "empty_dict = dict()\n",
    "empty_dict1 = {}\n",
    "print(empty_dict, empty_dict1)\n",
    "\n",
    "alphabet_dict = {'a':1,'b':2,'c':3,'d':4,'e':5}\n",
    "alphabet_dict['d']\n",
    "\n",
    "place_and_mone = {1:100, 2:50, 3:10}\n",
    "place_and_mone[2]"
   ]
  },
  {
   "cell_type": "markdown",
   "metadata": {},
   "source": [
    "# Добавление элементов  в словарь"
   ]
  },
  {
   "cell_type": "code",
   "execution_count": 70,
   "metadata": {},
   "outputs": [
    {
     "name": "stdout",
     "output_type": "stream",
     "text": [
      "{'+79033923029': 'Ivan Ivanov', '+78125849204': 'Kirill Smirnov', '+79053049385': 'Mark Parkhomenko', '+79265748370': 'Ekaterina Ershova', '+79030598495': 'Ruslan Belyi'}\n"
     ]
    }
   ],
   "source": [
    "phones['+79265748370'] = 'Ekaterina Ershova'\n",
    "print(phones)\n",
    "phones['+79686581788'] = 'Artem Pilev'"
   ]
  },
  {
   "cell_type": "code",
   "execution_count": 71,
   "metadata": {},
   "outputs": [
    {
     "data": {
      "text/plain": [
       "{1: 100, 2: 50, 3: 10, 4: 5}"
      ]
     },
     "execution_count": 71,
     "metadata": {},
     "output_type": "execute_result"
    }
   ],
   "source": [
    "place_and_money = {1: 100, 2: 50, 3: 10}\n",
    "place_and_money[4] = 5\n",
    "place_and_money"
   ]
  },
  {
   "cell_type": "code",
   "execution_count": 72,
   "metadata": {},
   "outputs": [
    {
     "data": {
      "text/plain": [
       "{1: 100, 2: 50, 3: 25}"
      ]
     },
     "execution_count": 72,
     "metadata": {},
     "output_type": "execute_result"
    }
   ],
   "source": [
    "place_and_money = {1: 100, 2: 50, 3: 10}\n",
    "place_and_money[3] = 25\n",
    "place_and_money"
   ]
  },
  {
   "cell_type": "markdown",
   "metadata": {},
   "source": [
    "# .clear() Очищает словарь БЕЗ ВОЗВРАТА(можно использовать присвоение словарем же)"
   ]
  },
  {
   "cell_type": "code",
   "execution_count": 73,
   "metadata": {},
   "outputs": [
    {
     "name": "stdout",
     "output_type": "stream",
     "text": [
      "{}\n",
      "{}\n"
     ]
    },
    {
     "data": {
      "text/plain": [
       "{}"
      ]
     },
     "execution_count": 73,
     "metadata": {},
     "output_type": "execute_result"
    }
   ],
   "source": [
    "friends = {\"Kolya\": 180, \"Marina\": 176, \"Misha\": 158, \"Dima\": 201, \"Yana\": 183, \"Nina\": 156}\n",
    "friends.clear()\n",
    "print(friends)\n",
    "friends = {\"Kolya\": 180, \"Marina\": 176, \"Misha\": 158, \"Dima\": 201, \"Yana\": 183, \"Nina\": 156}\n",
    "friends = {}\n",
    "print(friends)\n",
    "\n",
    "place_and_money = {1: 100, 2: 50, 3: 10}\n",
    "place_and_money.clear()\n",
    "place_and_money"
   ]
  },
  {
   "cell_type": "markdown",
   "metadata": {},
   "source": [
    "# .KEYS() вызывает все ключи словаря в методе dict_keys, который можно преобразовать"
   ]
  },
  {
   "cell_type": "code",
   "execution_count": 74,
   "metadata": {},
   "outputs": [
    {
     "name": "stdout",
     "output_type": "stream",
     "text": [
      "dict_keys(['Kolya', 'Marina', 'Misha', 'Dima', 'Yana', 'Nina'])\n",
      "['Kolya', 'Marina', 'Misha', 'Dima', 'Yana', 'Nina']\n"
     ]
    }
   ],
   "source": [
    "friends = {\"Kolya\": 180, \"Marina\": 176, \"Misha\": 158, \"Dima\": 201, \"Yana\": 183, \"Nina\": 156}\n",
    "friends_keys = friends.keys()\n",
    "print(friends_keys)\n",
    "print(list(friends_keys))"
   ]
  },
  {
   "cell_type": "code",
   "execution_count": 75,
   "metadata": {},
   "outputs": [
    {
     "name": "stdout",
     "output_type": "stream",
     "text": [
      "dict_keys([1, 2, 3])\n",
      "dict_keys(['Anne', 'Anton', 'Phillip'])\n"
     ]
    }
   ],
   "source": [
    "place_and_money = {1: 100, 2: 50, 3: 10}\n",
    "print(place_and_mone.keys())\n",
    "\n",
    "name_to_age = {'Anne': 22, 'Anton': 27, 'Phillip': 30}\n",
    "name_keys = name_to_age.keys()\n",
    "print(name_keys)"
   ]
  },
  {
   "cell_type": "markdown",
   "metadata": {},
   "source": [
    "# .VALUES() получение значений в словаре(без привязки к ключам)"
   ]
  },
  {
   "cell_type": "code",
   "execution_count": 76,
   "metadata": {},
   "outputs": [
    {
     "data": {
      "text/plain": [
       "dict_values([180, 176, 158, 201, 183, 156])"
      ]
     },
     "execution_count": 76,
     "metadata": {},
     "output_type": "execute_result"
    }
   ],
   "source": [
    "friends_values = friends.values()\n",
    "friends_values"
   ]
  },
  {
   "cell_type": "code",
   "execution_count": 77,
   "metadata": {},
   "outputs": [
    {
     "name": "stdout",
     "output_type": "stream",
     "text": [
      "dict_values([100, 50, 10])\n"
     ]
    }
   ],
   "source": [
    "name_to_age = {'Anne': 22, 'Anton': 27, 'Phillip': 30}\n",
    "name_to_age.values()\n",
    "\n",
    "place_and_money = {1: 100, 2: 50, 3: 10}\n",
    "place_values = place_and_money.values()\n",
    "print(place_values)"
   ]
  },
  {
   "cell_type": "markdown",
   "metadata": {},
   "source": [
    "# .GET() умное обрбащение по ключу, для вывода\n",
    "Почему умное? в случае отсуствия данного ключа, не останавливает работу программы, а продолжает работу и выдает еще дополнительные данные, которые вводит программист\n",
    "при вызове"
   ]
  },
  {
   "cell_type": "code",
   "execution_count": 78,
   "metadata": {},
   "outputs": [
    {
     "name": "stdout",
     "output_type": "stream",
     "text": [
      "None\n",
      "Такого друга нет\n"
     ]
    }
   ],
   "source": [
    "print(friends.get('Matvey'))\n",
    "print(friends.get('Matvey','Такого друга нет')) # при обращении  по несуществуещему ключу выводит фразу"
   ]
  },
  {
   "cell_type": "code",
   "execution_count": 79,
   "metadata": {},
   "outputs": [
    {
     "data": {
      "text/plain": [
       "-1"
      ]
     },
     "execution_count": 79,
     "metadata": {},
     "output_type": "execute_result"
    }
   ],
   "source": [
    "place_and_money = {1: 100, 2: 50, 3: 10}\n",
    "place_and_mone.get(20,0)\n",
    "\n",
    "name_to_age = {'Anne': 22, 'Anton': 27, 'Phillip': 30}\n",
    "name_to_age.get('Danny', -1)"
   ]
  },
  {
   "cell_type": "markdown",
   "metadata": {},
   "source": [
    "# .UPDATE() Добавляет сразу несколько ключей и значений в словарь. И обновляет существующие значения"
   ]
  },
  {
   "cell_type": "code",
   "execution_count": 80,
   "metadata": {},
   "outputs": [
    {
     "name": "stdout",
     "output_type": "stream",
     "text": [
      "{'Kolya': 180, 'Marina': 176, 'Misha': 158, 'Dima': 201, 'Yana': 183, 'Nina': 156}\n",
      "{'Kolya': 180, 'Marina': 176, 'Misha': 158, 'Dima': 201, 'Yana': 183, 'Nina': 156, 'Stas': 171, 'Nastya': 163}\n",
      "{'Kolya': 180, 'Marina': 176, 'Misha': 158, 'Dima': 201, 'Yana': 183, 'Nina': 156, 'Stas': 182, 'Nastya': 163}\n"
     ]
    }
   ],
   "source": [
    "friends = {\"Kolya\": 180, \"Marina\": 176, \"Misha\": 158, \"Dima\": 201, \"Yana\": 183, \"Nina\": 156}\n",
    "print(friends)\n",
    "friends.update({\"Stas\":171, \"Nastya\": 163})\n",
    "print(friends)\n",
    "friends.update({'Stas':182})\n",
    "print(friends)"
   ]
  },
  {
   "cell_type": "code",
   "execution_count": 81,
   "metadata": {},
   "outputs": [
    {
     "name": "stdout",
     "output_type": "stream",
     "text": [
      "{'Anne': 23, 'Anton': 27, 'Phillip': 29}\n"
     ]
    }
   ],
   "source": [
    "place_and_money = {1: 100, 2: 50, 3: 10}\n",
    "place_and_money.update({4:5,5:1})\n",
    "place_and_money\n",
    "\n",
    "name_to_age = {'Anne': 22, 'Anton': 27, 'Phillip': 30}\n",
    "name_to_age.update({'Anne':23,'Phillip':29})\n",
    "print(name_to_age)"
   ]
  },
  {
   "cell_type": "markdown",
   "metadata": {},
   "source": [
    "# .POP() Удаляет ключ и значение из словаря. Сохарняет его значение в переменной если ее созадть "
   ]
  },
  {
   "cell_type": "code",
   "execution_count": 82,
   "metadata": {},
   "outputs": [
    {
     "name": "stdout",
     "output_type": "stream",
     "text": [
      "158\n",
      "{'Kolya': 180, 'Marina': 176, 'Dima': 201, 'Yana': 183, 'Nina': 156, 'Stas': 182, 'Nastya': 163}\n"
     ]
    }
   ],
   "source": [
    "best_friend_miss = friends.pop('Misha')\n",
    "print(best_friend_miss)\n",
    "print(friends)"
   ]
  },
  {
   "cell_type": "code",
   "execution_count": 83,
   "metadata": {},
   "outputs": [
    {
     "name": "stdout",
     "output_type": "stream",
     "text": [
      "10 {1: 100, 2: 50}\n",
      "27\n"
     ]
    }
   ],
   "source": [
    "place_and_money = {1: 100, 2: 50, 3: 10}\n",
    "result = place_and_money.pop(3)\n",
    "print(result, place_and_money)\n",
    "\n",
    "name_to_age = {'Anne': 22, 'Anton': 27, 'Phillip': 30}\n",
    "result = name_to_age.pop('Anton')\n",
    "print(result)"
   ]
  },
  {
   "cell_type": "markdown",
   "metadata": {},
   "source": [
    "# .SETDEFAULT() умная добавка ключа и значеня, если забыл \n",
    "Он принимает два параметра: ключ и значение по умолчанию, если этого ключа нет в словаре. Этот метод создаст ключ за вас, если он действительно отсутствует, если ключ имеется, его значение останется неизменным:"
   ]
  },
  {
   "cell_type": "code",
   "execution_count": 84,
   "metadata": {},
   "outputs": [
    {
     "name": "stdout",
     "output_type": "stream",
     "text": [
      "{'Kolya': 180, 'Marina': 176, 'Dima': 201, 'Yana': 183, 'Nina': 156, 'Stas': 183, 'Nastya': 163}\n",
      "{'Kolya': 180, 'Marina': 176, 'Dima': 201, 'Yana': 183, 'Nina': 156, 'Stas': 183, 'Nastya': 163, 'Vlad': 183}\n"
     ]
    }
   ],
   "source": [
    "friends = {\"Kolya\": 180, \"Marina\": 176, \"Dima\": 201, \"Yana\": 183, \"Nina\": 156, \"Stas\": 183, \"Nastya\": 163}\n",
    "friends.setdefault('Nastya',100) # на уже существующем значении\n",
    "print(friends) \n",
    "\n",
    "friends.setdefault('Vlad',183)\n",
    "print(friends)"
   ]
  },
  {
   "cell_type": "code",
   "execution_count": 85,
   "metadata": {},
   "outputs": [
    {
     "data": {
      "text/plain": [
       "{1: 100, 2: 50, 3: 10, 10: 1}"
      ]
     },
     "execution_count": 85,
     "metadata": {},
     "output_type": "execute_result"
    }
   ],
   "source": [
    "place_and_money = {1: 100, 2: 50, 3: 10}\n",
    "place_and_money.setdefault(10,1)\n",
    "place_and_money"
   ]
  },
  {
   "cell_type": "code",
   "execution_count": 86,
   "metadata": {},
   "outputs": [
    {
     "name": "stdout",
     "output_type": "stream",
     "text": [
      "{'Anne': 22, 'Anton': 27, 'Phillip': 30}\n"
     ]
    }
   ],
   "source": [
    "name_to_age = {'Anne': 22, 'Anton': 27, 'Phillip': 30}\n",
    "name_to_age.setdefault('Anne',32)\n",
    "print(name_to_age)"
   ]
  },
  {
   "cell_type": "markdown",
   "metadata": {},
   "source": [
    "### В качестве ключа словаря должен выступать неизменяемый тип данных (числа, строки, кортежи), а в качестве значения может выступать любая структура данных."
   ]
  },
  {
   "cell_type": "code",
   "execution_count": 87,
   "metadata": {},
   "outputs": [
    {
     "name": "stdout",
     "output_type": "stream",
     "text": [
      "{5: [3, 4, 5], (3, 4, 5): 'strong man'}\n",
      "{'name': 'Sancho', 'surname': 'Panso', 'info': {'age': 35, 'country': 'Mexico'}}\n",
      "{'info': [10, 15, 27], 'about': 'dont know'}\n"
     ]
    }
   ],
   "source": [
    "test_dict = {5: [3,4,5], (3,4,5): 'strong man'}\n",
    "print(test_dict)\n",
    "\n",
    "test_dict = {'name': 'Sancho', 'surname': 'Panso', 'info': {'age': 35, 'country': 'Mexico'}}\n",
    "print(test_dict)\n",
    "\n",
    "test_dict3 = {'info': [10, 15, 27], 'about': {'game': 'football', 'period': 5}}\n",
    "test_dict3['about'] = 'dont know'\n",
    "print(test_dict3)"
   ]
  },
  {
   "cell_type": "markdown",
   "metadata": {},
   "source": [
    "# В этом юните мы узнали: \n",
    "1. Узнали о словаре словаря, поняли, как он создается и какие операции с ним можно делать\n",
    "2. познакомились с расширением(.update()), удалением(.pop), чисткой(.clear), добавлением словаря(.setdefault(), либо [])\n",
    "3. изучили ключи, значения и их преднозначение\n",
    "4. узнали, что именно можно хранить в словарях: просыте(числа сроки), составные(кортежи, словари, списки) структуры данных\n",
    "5. усвоили что порядок вставки в словарь не должен сохраняться "
   ]
  },
  {
   "cell_type": "markdown",
   "metadata": {},
   "source": [
    "# Множества\n",
    "### Создание множества"
   ]
  },
  {
   "cell_type": "code",
   "execution_count": 88,
   "metadata": {},
   "outputs": [
    {
     "name": "stdout",
     "output_type": "stream",
     "text": [
      "<class 'set'>\n",
      "{'e', 'o', 'h', 'l'}\n",
      "<class 'dict'>\n",
      "<class 'set'>\n"
     ]
    }
   ],
   "source": [
    "set1 = set()\n",
    "print(type(set1))\n",
    "\n",
    "set1 = set('hello')\n",
    "print(set1)\n",
    "\n",
    "s1 ={} # создается дикт, нужно задать хотя бы 1 эллемнт, чтобы было set\n",
    "print(type(s1))\n",
    "\n",
    "s1 = {1}\n",
    "print(type(s1))"
   ]
  },
  {
   "cell_type": "code",
   "execution_count": 89,
   "metadata": {},
   "outputs": [
    {
     "name": "stdout",
     "output_type": "stream",
     "text": [
      "<class 'set'> set()\n",
      "<class 'set'> {2, 3, 5, 10, 11}\n",
      "{'o', 'w', 't', 'a', 'c', 'l', 'h', 's', ' '}\n"
     ]
    }
   ],
   "source": [
    "s1 = set()\n",
    "print(type(s1),s1)\n",
    "s2 = { 5, 10, 3, 2, 11}\n",
    "print(type(s2),s2)\n",
    "s3 = set('wow thats cool')\n",
    "print(s3)"
   ]
  },
  {
   "cell_type": "markdown",
   "metadata": {},
   "source": [
    "# МЕТОДЫ МНОЖЕСТВ\n",
    "\n",
    "### .ADD()"
   ]
  },
  {
   "cell_type": "code",
   "execution_count": 90,
   "metadata": {},
   "outputs": [
    {
     "name": "stdout",
     "output_type": "stream",
     "text": [
      "{1, 2, 3, 4}\n",
      "{1, 2, 3, 4, 6}\n"
     ]
    }
   ],
   "source": [
    "s = {1, 2, 3, 4}\n",
    "print(s)\n",
    "s.add(6)\n",
    "print(s)"
   ]
  },
  {
   "cell_type": "markdown",
   "metadata": {},
   "source": [
    "### UPDATE() Добавление сразу нескольких эллемнтов "
   ]
  },
  {
   "cell_type": "code",
   "execution_count": 91,
   "metadata": {},
   "outputs": [
    {
     "name": "stdout",
     "output_type": "stream",
     "text": [
      "{1, 2, 3, 4, 6}\n",
      "<class 'set'> {1, 2, 3, 4, 6, 7, 8, 9}\n"
     ]
    }
   ],
   "source": [
    "print(s)\n",
    "s.update({9,8,7})\n",
    "print(type(s),s)"
   ]
  },
  {
   "cell_type": "code",
   "execution_count": 92,
   "metadata": {},
   "outputs": [
    {
     "name": "stdout",
     "output_type": "stream",
     "text": [
      "<class 'set'> {'b', 'a', 'c', 'd', 'hello'}\n"
     ]
    }
   ],
   "source": [
    "s1 = set('abcd')\n",
    "s1.add('hello')\n",
    "print(type(s1),s1)"
   ]
  },
  {
   "cell_type": "markdown",
   "metadata": {},
   "source": [
    "### .DISCARD(), .REMOVE()\n",
    "Их отличие друг от друга состоит в том, что при удалении уже отсутствующего элемента из множества discard() ничего не сделает, а вот .remove() выкинет ошибку."
   ]
  },
  {
   "cell_type": "code",
   "execution_count": 93,
   "metadata": {},
   "outputs": [
    {
     "name": "stdout",
     "output_type": "stream",
     "text": [
      "<class 'set'> {1, 2, 3, 4, 5}\n"
     ]
    }
   ],
   "source": [
    "s = {1,2,3,4,5}\n",
    "print(type(s),s)\n"
   ]
  },
  {
   "cell_type": "code",
   "execution_count": 94,
   "metadata": {},
   "outputs": [],
   "source": [
    "s.discard(10)"
   ]
  },
  {
   "cell_type": "code",
   "execution_count": 95,
   "metadata": {},
   "outputs": [
    {
     "name": "stdout",
     "output_type": "stream",
     "text": [
      "{'b', 'a', 'c', 'e'}\n",
      "{'b', 'a', 'c', 'd', 'e'}\n",
      "{'b', 'a', 'c', 'd', 'e'}\n"
     ]
    }
   ],
   "source": [
    "s1 = set('abcde')\n",
    "s1.remove('d')\n",
    "print(s1)\n",
    "\n",
    "s1 = set('abcdef')\n",
    "s1.discard('f')\n",
    "print(s1)\n",
    "\n",
    "s1 = set('abcdef')\n",
    "s1.remove('f')\n",
    "print(s1)\n",
    "\n"
   ]
  },
  {
   "cell_type": "markdown",
   "metadata": {},
   "source": [
    "### .UNION() \n",
    "Объеденениебез повторов элементы обоих множеств."
   ]
  },
  {
   "cell_type": "code",
   "execution_count": 96,
   "metadata": {},
   "outputs": [
    {
     "name": "stdout",
     "output_type": "stream",
     "text": [
      "{'item2', 'item3', 'item7', 'item4', 'item1', 'item5'}\n",
      "{'b', 'o', 'a', 'd', 'c', 'e', 'y', ' '}\n",
      "[1, 2, 3, 4, 5, 6, 7, 8, 9, 10]\n",
      "{1, 2, 3, 4, 5, 6, 7, 8, 9, 10}\n",
      "{1, 2, 3, 4, 5, 6, 7, 8, 9, 10}\n"
     ]
    }
   ],
   "source": [
    "cluster1 = {\"item1\", \"item2\", \"item3\", \"item4\"}\n",
    "cluster2 = {\"item2\", \"item3\", \"item5\", \"item7\"}\n",
    "print(cluster1.union(cluster2))\n",
    "\n",
    "alpha_set = set('abcde')\n",
    "name = set('bad boy')\n",
    "print(alpha_set.union(name))\n",
    "\n",
    "a = list(range(1,11))\n",
    "print(a)\n",
    "num_set = set(a)\n",
    "print(num_set)\n",
    "date_num = {1,9,4,8}\n",
    "print(num_set.union(date_num))"
   ]
  },
  {
   "cell_type": "markdown",
   "metadata": {},
   "source": [
    "### .INTERSECTION()\n",
    "При .intersection() берутся все элементы, которые есть в обоих множествах."
   ]
  },
  {
   "cell_type": "code",
   "execution_count": 97,
   "metadata": {},
   "outputs": [
    {
     "name": "stdout",
     "output_type": "stream",
     "text": [
      "{'item3', 'item2'}\n",
      "{'a', 'd', 'b'}\n",
      "{8, 1, 4, 9}\n"
     ]
    }
   ],
   "source": [
    "cluster1 = {\"item1\", \"item2\", \"item3\", \"item4\"}\n",
    "cluster2 = {\"item2\", \"item3\", \"item5\", \"item7\"}\n",
    "print(cluster1.intersection(cluster2))\n",
    "\n",
    "alpha_set = set('abcde')\n",
    "name = set('bad boy')\n",
    "print(alpha_set.intersection(name))\n",
    "\n",
    "a = list(range(1,10))\n",
    "num_set = set(a)\n",
    "date = {1,9,4,8}\n",
    "print(num_set.intersection(date))"
   ]
  },
  {
   "cell_type": "markdown",
   "metadata": {},
   "source": [
    "### .DIFFERENCE()\n",
    ".difference() выбирает все элементы из первого множества, которых нет во втором множестве."
   ]
  },
  {
   "cell_type": "code",
   "execution_count": 98,
   "metadata": {},
   "outputs": [
    {
     "name": "stdout",
     "output_type": "stream",
     "text": [
      "{'c', 'e'}\n",
      "{2, 3, 5, 6, 7, 10}\n"
     ]
    }
   ],
   "source": [
    "cluster1 = {\"item1\", \"item2\", \"item3\", \"item4\", \"item5\"}\n",
    "cluster2 = {\"item3\", \"item4\", \"item5\", \"item6\"}\n",
    "cluster1.difference(cluster2)\n",
    "\n",
    "alpha_set = set('abcde')\n",
    "name = set('bad boy')\n",
    "print(alpha_set.difference(name))\n",
    "\n",
    "a = list(range(1,11))\n",
    "num_set = set(a)\n",
    "date = {1,9,4,8}\n",
    "print(num_set.difference(date))\n"
   ]
  },
  {
   "cell_type": "markdown",
   "metadata": {},
   "source": [
    "### .ISSUBSET() \n",
    "Метод .issubset() используется для того, чтобы узнать, все ли элементы из первого множества есть во втором множестве."
   ]
  },
  {
   "cell_type": "code",
   "execution_count": 99,
   "metadata": {},
   "outputs": [
    {
     "name": "stdout",
     "output_type": "stream",
     "text": [
      "False\n",
      "True\n"
     ]
    }
   ],
   "source": [
    "cluster1 = {\"item1\", \"item2\", \"item3\"}\n",
    "cluster2 = {\"item2\", \"item3\", \"item4\", \"item5\", \"item6\"}\n",
    "print(cluster1.issubset(cluster2))\n",
    "cluster1 = { \"item2\", \"item3\"}\n",
    "print(cluster1.issubset(cluster2))"
   ]
  },
  {
   "cell_type": "markdown",
   "metadata": {},
   "source": [
    "# Заключение\n",
    "### В этом модуле мы узнали:\n",
    "1. Как создавать множество, с помощью set(), {}\n",
    "2. Особенности множество и где его применять\n",
    "3. Методы множества\n",
    "4. Усвоили что порядок во множетсве не всегда должен сохраняться"
   ]
  },
  {
   "cell_type": "markdown",
   "metadata": {},
   "source": [
    "# Цели :\n",
    "1. Научиться преоюбразовывать числа между собой\n",
    "2. Научиться преоюбразовывать числа в строку\n",
    "3. Научиться преоюбразовывать строки в число \n",
    "4. Научиться преоюбразовывать в кортежи и списки"
   ]
  },
  {
   "cell_type": "markdown",
   "metadata": {},
   "source": [
    "### ПРЕОБРАЗОВАНИЕ ЧИСЕЛ МЕЖДУ СОБОЙ"
   ]
  },
  {
   "cell_type": "code",
   "execution_count": 100,
   "metadata": {},
   "outputs": [
    {
     "name": "stdout",
     "output_type": "stream",
     "text": [
      "10 10.0\n"
     ]
    }
   ],
   "source": [
    "int_var = 10 \n",
    "# присвоим переменной int_var целое число — 10.\n",
    "float_var = float(10)\n",
    "print(int_var,float_var)"
   ]
  },
  {
   "cell_type": "code",
   "execution_count": 101,
   "metadata": {},
   "outputs": [
    {
     "name": "stdout",
     "output_type": "stream",
     "text": [
      "15.2\n"
     ]
    }
   ],
   "source": [
    "float_var1 = 10.2\n",
    "float_var2 = float(5)\n",
    "\n",
    "print(float_var1 + float_var2)"
   ]
  },
  {
   "cell_type": "code",
   "execution_count": 102,
   "metadata": {},
   "outputs": [
    {
     "name": "stdout",
     "output_type": "stream",
     "text": [
      "15.2\n"
     ]
    }
   ],
   "source": [
    "int_var2 = 5\n",
    "print(int_var2+float_var1)"
   ]
  },
  {
   "cell_type": "markdown",
   "metadata": {},
   "source": [
    "### ЧИСЛА С ПЛАВАЮЩЕЙ ТОЧКОЙ В ЦЕЛЫЕ ЧИСЛА"
   ]
  },
  {
   "cell_type": "code",
   "execution_count": 103,
   "metadata": {},
   "outputs": [
    {
     "name": "stdout",
     "output_type": "stream",
     "text": [
      "7.5 7 7\n"
     ]
    }
   ],
   "source": [
    "float_var = 7.5\n",
    "int_var = int(7.5)\n",
    "int_var1 = int(7.9)\n",
    "print(float_var, int_var,int_var1)"
   ]
  },
  {
   "cell_type": "markdown",
   "metadata": {},
   "source": [
    "Напомним, что функция int() не округляет, а «обрубает» вещественную часть. То есть после применения функции int() на числах 7.4, 7.6 на выходе получится одно и тоже число (7)."
   ]
  },
  {
   "cell_type": "code",
   "execution_count": 104,
   "metadata": {},
   "outputs": [
    {
     "name": "stdout",
     "output_type": "stream",
     "text": [
      "3 3.0 <class 'int'> <class 'float'>\n",
      "6.5 6.5\n"
     ]
    }
   ],
   "source": [
    "a = 3 \n",
    "b = float(a)\n",
    "print(a,b,type(a),type(b))\n",
    "\n",
    "num1 = 3\n",
    "num2 = 3.5\n",
    "num3 = float(num1)\n",
    "sum2 = num3 + num2\n",
    "sum1 = num1 + num2\n",
    "print(sum2,sum1)"
   ]
  },
  {
   "cell_type": "markdown",
   "metadata": {},
   "source": [
    "### ПРЕОБРАЗОВАНИЕ ЧИСЕЛ В СТРОКИ"
   ]
  },
  {
   "cell_type": "code",
   "execution_count": 105,
   "metadata": {},
   "outputs": [
    {
     "name": "stdout",
     "output_type": "stream",
     "text": [
      "5 <class 'str'>\n"
     ]
    }
   ],
   "source": [
    "int_var = 5\n",
    "str_var = str(int_var)\n",
    "print(str_var, type(str_var))\n",
    "\n",
    "\n"
   ]
  },
  {
   "cell_type": "code",
   "execution_count": 106,
   "metadata": {},
   "outputs": [
    {
     "name": "stdout",
     "output_type": "stream",
     "text": [
      "I am 10 years old\n"
     ]
    }
   ],
   "source": [
    "str_var1 = \"I am \"\n",
    "int_var = 10\n",
    "str_var2 = \" years old\"\n",
    "print(str_var1 + str(int_var) + str_var2) # Если убрать str, то не будет получаться преобразование"
   ]
  },
  {
   "cell_type": "code",
   "execution_count": 107,
   "metadata": {},
   "outputs": [
    {
     "name": "stdout",
     "output_type": "stream",
     "text": [
      "1 <class 'str'>\n"
     ]
    }
   ],
   "source": [
    "str_var = 1\n",
    "str_var = str(str_var)\n",
    "print(str_var,type(str_var))"
   ]
  },
  {
   "cell_type": "code",
   "execution_count": 108,
   "metadata": {},
   "outputs": [
    {
     "name": "stdout",
     "output_type": "stream",
     "text": [
      "my age is 18\n",
      "I have 5 brothers\n"
     ]
    }
   ],
   "source": [
    "str_age_begin = \"my age is \"\n",
    "int_age = 18\n",
    "result_string = str_age_begin + str(int_age)\n",
    "print(result_string)\n",
    "\n",
    "str_brothers_begin  = 'I have ' \n",
    "count = 5 \n",
    "str_brothers_end = ' brothers'\n",
    "result_sentence = str_brothers_begin + str(count) + str_brothers_end\n",
    "print(result_sentence)"
   ]
  },
  {
   "cell_type": "markdown",
   "metadata": {},
   "source": [
    "### ПРЕОБРАЗОВАНИЕ СТРОК В ЧИСЛА\n"
   ]
  },
  {
   "cell_type": "code",
   "execution_count": 109,
   "metadata": {},
   "outputs": [
    {
     "data": {
      "text/plain": [
       "33"
      ]
     },
     "execution_count": 109,
     "metadata": {},
     "output_type": "execute_result"
    }
   ],
   "source": [
    "my_date = \"1990\"\n",
    "mom_date = \"1957\"\n",
    "int(my_date) - int(mom_date)"
   ]
  },
  {
   "cell_type": "markdown",
   "metadata": {},
   "source": [
    "### ПРЕОБРАЗОВАНИЕ В КОРТЕЖИ И СПИСКИ\n",
    "Можно использовать две функции (tuple() и list()) для преобразования структур в кортежи и списки."
   ]
  },
  {
   "cell_type": "code",
   "execution_count": 110,
   "metadata": {},
   "outputs": [
    {
     "name": "stdout",
     "output_type": "stream",
     "text": [
      "['Anne', 'Sam', 'Marie']\n",
      "['Anne', 'Sam', 'Marie', 'Tom', 'Curt']\n"
     ]
    }
   ],
   "source": [
    "dictionary = {\"Anne\": 15, \"Sam\": 30, \"Marie\": 22}\n",
    "only_keys = list(dictionary.keys())\n",
    "print(only_keys)\n",
    "only_keys += [\"Tom\", \"Curt\"]\n",
    "print(only_keys)"
   ]
  },
  {
   "cell_type": "code",
   "execution_count": 111,
   "metadata": {},
   "outputs": [
    {
     "name": "stdout",
     "output_type": "stream",
     "text": [
      "{('Amanda', 22, 'NY'): '3rd place', ('Collin', 23, 'LA'): '2nd place'}\n"
     ]
    }
   ],
   "source": [
    "d = {(\"Amanda\", 22, \"NY\"): \"3rd place\"}\n",
    "input_list = [\"Collin\", 23, \"LA\"]\n",
    "input_place = \"2nd place\"\n",
    "d[tuple(input_list)] = input_place\n",
    "print(d)"
   ]
  },
  {
   "cell_type": "code",
   "execution_count": 112,
   "metadata": {},
   "outputs": [
    {
     "name": "stdout",
     "output_type": "stream",
     "text": [
      "(1, 2, 3, 4, 5) <class 'tuple'>\n",
      "['a', 'b', 'c', 'd', 'e']\n"
     ]
    }
   ],
   "source": [
    "list1 = list(range(1,6))\n",
    "tpl1 = tuple(list1)\n",
    "print(tpl1,type(tpl1))\n",
    "\n",
    "tpl1 = tuple('abcde')\n",
    "list2 = list(tpl1)\n",
    "print(list2)"
   ]
  },
  {
   "cell_type": "code",
   "execution_count": 113,
   "metadata": {},
   "outputs": [
    {
     "name": "stdout",
     "output_type": "stream",
     "text": [
      "[3, 1, -10, 5, 11, 20, 1, -10]\n",
      "[3, 1, -10, 5, 11, 20, 1, -10] [20, 11, 5, 3, 1, 1, -10, -10]\n",
      "<class 'tuple'> (10, 15)\n",
      "<class 'dict'>\n",
      "{(10, 15): 'hello'}\n",
      "{'name': 'unkown'} {'name': 'Tom'} dict_keys(['name']) dict_values(['unkown'])\n"
     ]
    }
   ],
   "source": [
    "# Queastians\n",
    "lst1 = list()\n",
    "lst1.append(1)\n",
    "lst1.append(2)\n",
    "lst1.append(3)\n",
    "lst1\n",
    "\n",
    "list2 = list(range(-5,15,2))\n",
    "list3 = [1,2,3,4]\n",
    "list3.extend(list2)\n",
    "list3\n",
    "\n",
    "list6 = [ 3, 1, -10, 5, 11, 20, 1, -10]\n",
    "list7 = list6.copy()\n",
    "print(list6)\n",
    "list6.sort()\n",
    "list_result = list6[::-1]\n",
    "print(list7,list_result)\n",
    "\n",
    "list1 = [10,15]\n",
    "tpl1 = tuple(list1)\n",
    "print(type(tpl1),tpl1)\n",
    "dict1 = {}\n",
    "print(type(dict1))\n",
    "dict1[tpl1] = 'hello'\n",
    "print(dict1)\n",
    "\n",
    "dict1 = {'name':'unkown'}\n",
    "dict2 = {'name' : 'Tom'}\n",
    "print(dict1,dict2,dict1.keys(),dict1.values())"
   ]
  },
  {
   "cell_type": "code",
   "execution_count": 114,
   "metadata": {},
   "outputs": [
    {
     "name": "stdout",
     "output_type": "stream",
     "text": [
      "{'e', 'o', 'w', 'l', 'h'} {'o'} {'e', 'h', 'l'}\n"
     ]
    }
   ],
   "source": [
    "s1 = set('hello')\n",
    "s2 = set(['w', 'o', 'w'])\n",
    "print(s1.union(s2),s1.intersection(s2),s1.difference(s2))"
   ]
  },
  {
   "cell_type": "code",
   "execution_count": 115,
   "metadata": {},
   "outputs": [
    {
     "name": "stdout",
     "output_type": "stream",
     "text": [
      "age is 15\n"
     ]
    }
   ],
   "source": [
    "result = 'age is ' + str(15)\n",
    "print(result)"
   ]
  },
  {
   "cell_type": "code",
   "execution_count": 116,
   "metadata": {},
   "outputs": [
    {
     "name": "stdout",
     "output_type": "stream",
     "text": [
      "['a', 'b', '1']\n"
     ]
    }
   ],
   "source": [
    "lis1 = ['a','b']\n",
    "lis1.extend('1')\n",
    "print(lis1)\n"
   ]
  },
  {
   "cell_type": "markdown",
   "metadata": {},
   "source": [
    "#### Какие есть меняющиеся и постоянные типы данных?\n",
    "Неизменяемсы типы данных = целые и действительные числа, логические значения, строки, кортежи\n",
    "Изменяемые = словари, множества, списки\n",
    "\n",
    "#### Какие есть типы данных? Какая разница между list и tuple, зачем они нужны?\n",
    "В пайтон есть несколько типво данных, которые используются для хранения информации\n",
    "к ним относят:\n",
    "\n",
    "1. Числа(int,float) = целые и вещественные числа, а также комплексные числа. Используются для математических операций\n",
    "\n",
    "2. Строки(str) = Последовательности символов. Используются для работы с текстом\n",
    "\n",
    "3. Списки(list) = упорядоченный изменяемый типы коллекции одного элемента. Элементы можно добавлять изменять удалять. \n",
    "Списки используются для обработки и хранения последовательностей данных\n",
    "\n",
    "4. Кортежи(tuple) = неизменяеме упорядоченные коллекции элементов. Кортежи похожи на списки, но их нельзя изменить после создания. Они используются для представления фиксированных наборов данных.\n",
    "таких как координаты точки или параметры функции\n",
    "\n",
    "5. Множетсва(set) = неупорядоченный коллеция уникальных элементов.  Множетсва используются для проверки принадлежности элемента к мноежству и для выполнения\n",
    "операции над множествами, такими как: обьединения(union) пересечени(intersection), разность(difference)\n",
    "\n",
    "6. Словари(dict) = коллекции пар=ключ. Словари используются для хранения связанных данных и быстрого доступа к ним по ключу\n",
    "\n",
    "Разница между tuple и list, заключается в том, что кортежи(tuple) неизменямый тип данных,  а список(list) изменяемый, это означает, что с списком(list) можно проводить добавления(append), удаления(remove,pop), элементов из списка(list), в то время, как кортежи(tuple) неизменяются после его создания\n",
    "\n",
    "#### В чём заключается сложность доступа к элементам dict?\n",
    "Чтобы обратится к элементам словаря(ditct), необходимо обращение по уникальному ключу, ключи повторятся не могут, если ключи повторяются. то значения словаря соотвесвует последнему присвоению, также если \n",
    "ключи сложные, то обращения по конкретному ключу может быть проблемотично и может вызывать сложность. \n",
    "\n",
    "#### В чём заключается разница между списком и кортежем?\n",
    "\n",
    "Список(list) упорядоченный изменяемый тип данных, в который можно добавлять новый элементы(append), удалять элементы(pop,remove), в то время, как кортежи(tuple) неизменямый тип данных, который создается вначале для формирования\n",
    "точного числа, допустим координаты или параметры функции\n",
    "\n",
    "#### Как развернуть список?\n",
    "\n",
    "С помощью среза с отрицательным шагом [::-1] с помощью функции reverse\n",
    "\n",
    "### Как работает умножение строк? \n",
    "умножает стройки, тоесть допустим \"hello\" если умножить на 3, то будет 3 раза выведено слово \"hello\"\n",
    "\n",
    "\n",
    "#### Как объединить списки в Python?\n",
    "\n",
    "с помощью метода extend() либо с помощью сложения двух списков\n",
    "\n",
    "#### Где быстрее поиск: в словарях или списках?\n",
    "\n",
    "быстрее поиск в словарях,т.к идет не перебор всех эллемнтов. а отдельного ключа, в отличии от перебора всего списка, словарь это хеш таблица. но у словарей есть свои ограничения, необходимо точное название ключа\n",
    "\n",
    "\n",
    "#### Как проверить, существует ли значение в списке?\n",
    "обратится к нему через in, пример 'a' in ['a','b','c']\n",
    "\n",
    "#### В чём разница между append и extend?\n",
    "Метод append добавляет в список новое значение, который в него добавили, а метод extend доабвляет в список значения из другого списка\n",
    "\n",
    "#### Как отсортировать словарь по ключам в алфавитном порядке?\n",
    "нельзя отсортировать словарь, поскольку он не поддерживает упорядочение,но можно вернуть отсортированный список кортежей с ключами и значениями словаря\n",
    "\n",
    "sorted(dict1.items())\n",
    "\n",
    "#### Как удалить все пробелы из строки?\n",
    "\n",
    "Можно разделить строку в местах пробелов и заново их соединить\n",
    "\n",
    "' '.join(s.split())\n",
    "\n",
    "но локаничнее будет способ этот\n",
    "\n",
    "s.replace(' ', '')\n",
    "\n",
    "### Как получить список ключей из словаря?\n",
    "list(dict1.keys()) либо list(dict1)\n",
    "\n",
    "#### Как перевести строку в верхний/нижний регистр?\n",
    "\n",
    "в верхний str2 = str1.upper()\n",
    "\n",
    "в нижний str3 = str1.lowwer()\n",
    "\n",
    "В чём разница между remove, del и pop?\n",
    "\n",
    "remove = удалит первый элемент из списка, также если этого элемента не было в списке, выкинет ошибки при попытке удаления\n",
    "\n",
    "pop = удаляет элемент по индексу, возвразщает удаленный элемент\n",
    "\n",
    "del = удаление по индексу элемента примера del list[\"индекс\"]"
   ]
  },
  {
   "cell_type": "code",
   "execution_count": 117,
   "metadata": {},
   "outputs": [
    {
     "data": {
      "text/plain": [
       "['id', 'name', 'color', 'speed']"
      ]
     },
     "execution_count": 117,
     "metadata": {},
     "output_type": "execute_result"
    }
   ],
   "source": [
    "d = {'id':7, 'name':'Shiba', 'color':'brown', 'speed':'very slow'}\n",
    "list(d)\n",
    "list(d.keys())"
   ]
  },
  {
   "cell_type": "markdown",
   "metadata": {},
   "source": [
    "# Цели на модуль:\n",
    "1. Научиться писать нелинейные программы с использованием ветвления\n",
    "2. Познакомиться с оператором сравнения >, <, ==\n",
    "3. познакомиться с логическими операторами or and not\n",
    "4. Научится использовать логические операторы if-elif-else\n",
    "5. Научиться обрабатывать исключения"
   ]
  },
  {
   "cell_type": "markdown",
   "metadata": {},
   "source": [
    "# ОПЕРАТОРЫ СРАВНЕНИЯ\n",
    "\n",
    "\n",
    "ОПЕРАТОР\tЗНАЧЕНИЕ\n",
    "\n",
    "\"<\"\tМеньше. Условие верно, если первый операнд меньше второго\n",
    "\n",
    "\">\"\tБольше. Условие верно, если первый операнд больше второго\n",
    "\n",
    "\"<=\" Меньше или равно. Условие верно, если первый операнд меньше второго либо равен ему\n",
    "\n",
    "\">=\" Больше или равно. Условие верно, если первый операнд больше второго либо равен ему\n",
    "\n",
    "\"==\" Равенство. Условие верно, если операнды равны\n",
    "\n",
    "\"!=\" Неравенство. Условие верно, если операнды неравны"
   ]
  },
  {
   "cell_type": "markdown",
   "metadata": {},
   "source": [
    "#### Cравнение чисел"
   ]
  },
  {
   "cell_type": "code",
   "execution_count": 118,
   "metadata": {},
   "outputs": [
    {
     "name": "stdout",
     "output_type": "stream",
     "text": [
      "True\n",
      "True\n",
      "True\n",
      "True\n",
      "True\n",
      "True\n"
     ]
    }
   ],
   "source": [
    "income_2019 = 15\n",
    "income_2020 = 16.5\n",
    "income_2021 = 16.5\n",
    "\n",
    "print(income_2019 < income_2020)\n",
    "print(income_2021 > income_2019)\n",
    "print(income_2020 <= income_2021)\n",
    "print(income_2020 >= income_2021)\n",
    "print( income_2021 == income_2020)\n",
    "print(income_2020 != income_2019)"
   ]
  },
  {
   "cell_type": "markdown",
   "metadata": {},
   "source": [
    "#### СРАВНЕНИЕ СТРОК"
   ]
  },
  {
   "cell_type": "code",
   "execution_count": 119,
   "metadata": {},
   "outputs": [
    {
     "name": "stdout",
     "output_type": "stream",
     "text": [
      "1103\n"
     ]
    }
   ],
   "source": [
    "print(ord('я')) # просмотр какой символ соотвесвует цифре в юникоде с помощью метода ord"
   ]
  },
  {
   "cell_type": "code",
   "execution_count": 120,
   "metadata": {},
   "outputs": [
    {
     "name": "stdout",
     "output_type": "stream",
     "text": [
      "False\n",
      "True\n"
     ]
    }
   ],
   "source": [
    "name_user_1029 = 'Andrey'\n",
    "name_user_1040 = 'Vladimir'\n",
    "name_user_1042 = 'Andrey'\n",
    "\n",
    "print(name_user_1029 == name_user_1040)\n",
    "print(name_user_1029 == name_user_1042)"
   ]
  },
  {
   "cell_type": "markdown",
   "metadata": {},
   "source": [
    "# СРАВНЕНИЕ КОЛЛЕКЦИЙ\n",
    "\n",
    "Скажем пару слов о равенстве коллекций. Равенство для упорядоченных коллекций объектов, таких как списки(list) и кортежи(tuple), означает полное равенство их содержимого и порядка элементов."
   ]
  },
  {
   "cell_type": "code",
   "execution_count": 121,
   "metadata": {},
   "outputs": [
    {
     "name": "stdout",
     "output_type": "stream",
     "text": [
      "True\n"
     ]
    }
   ],
   "source": [
    "languages_list_1 = ['Python', 'C++', 'C#', 'Java']\n",
    "languages_list_2 = ['Python', 'C++', 'C#', 'Java']\n",
    "print(languages_list_1 == languages_list_2)"
   ]
  },
  {
   "cell_type": "markdown",
   "metadata": {},
   "source": [
    "Равенство для неупорядоченных коллекций объектов, таких как словари и множества, означает равенство их содержимого, порядок внесения элементов при создании коллекции значения не имеет."
   ]
  },
  {
   "cell_type": "code",
   "execution_count": 122,
   "metadata": {},
   "outputs": [
    {
     "name": "stdout",
     "output_type": "stream",
     "text": [
      "True\n"
     ]
    }
   ],
   "source": [
    "store_dict_1 = {'Яблоки': 158, 'Мандарины': 178, 'Хлеб': 56}\n",
    "store_dict_2 = {'Хлеб': 56, 'Яблоки': 158, 'Мандарины': 178}\n",
    "print(store_dict_1 == store_dict_2)"
   ]
  },
  {
   "cell_type": "code",
   "execution_count": 123,
   "metadata": {},
   "outputs": [
    {
     "name": "stdout",
     "output_type": "stream",
     "text": [
      "True\n",
      "False\n",
      "False\n"
     ]
    }
   ],
   "source": [
    "print(True !=  False)\n",
    "print( True == False)\n",
    "\n",
    "string_1 = 'abc'\n",
    "string_2 = 'ABC'\n",
    "print(string_1 == string_2)"
   ]
  },
  {
   "cell_type": "code",
   "execution_count": 124,
   "metadata": {},
   "outputs": [
    {
     "name": "stdout",
     "output_type": "stream",
     "text": [
      "True True\n",
      "True True True False 4389657664 4389657664 4389997440\n"
     ]
    }
   ],
   "source": [
    "a = [1, 2, 3] \n",
    "b = a\n",
    "print(b is a, b == a )\n",
    "\n",
    "b = a[:]\n",
    "b is a, b == a\n",
    "\n",
    "string1 = ['u', 'v', 'w']\n",
    "string2 = string1\n",
    "string3 = list(string1)\n",
    "\n",
    "print(string1 == string2,string1 == string2, string1 is string2, string1 is string3, id(string1),id(string2),id(string3))\n",
    "\n",
    "target_string = 'Коту тащат уток'\n",
    "target_string= target_string.lower()\n",
    "target_string= target_string.replace(' ','')\n",
    "result = (target_string == target_string[::-1])\n",
    "\n"
   ]
  },
  {
   "cell_type": "markdown",
   "metadata": {},
   "source": [
    "# Логические выражения\n",
    "#### логическое не \"not\"\n",
    "            \n"
   ]
  },
  {
   "cell_type": "code",
   "execution_count": 125,
   "metadata": {},
   "outputs": [
    {
     "name": "stdout",
     "output_type": "stream",
     "text": [
      "False\n",
      "True\n",
      "True\n",
      "False\n",
      "True\n"
     ]
    }
   ],
   "source": [
    "print(not True)\n",
    "print(not False)\n",
    "print(not (5==10))\n",
    "print(not (5 != 10))\n",
    "print(not ('abc' == 'Bcda'))"
   ]
  },
  {
   "cell_type": "markdown",
   "metadata": {},
   "source": [
    "#### ЛОГИЧЕСКОЕ «ИЛИ»"
   ]
  },
  {
   "cell_type": "code",
   "execution_count": 126,
   "metadata": {},
   "outputs": [
    {
     "name": "stdout",
     "output_type": "stream",
     "text": [
      "True\n",
      "False\n",
      "True\n"
     ]
    }
   ],
   "source": [
    "print((5 == 10) or (1 == 1))\n",
    "print(('abc' == 'bca') or ('Ope' == 'ooo'))\n",
    "print( True or (5 == 5))\n"
   ]
  },
  {
   "cell_type": "markdown",
   "metadata": {},
   "source": [
    "#### Логическое \"И\""
   ]
  },
  {
   "cell_type": "code",
   "execution_count": 127,
   "metadata": {},
   "outputs": [
    {
     "name": "stdout",
     "output_type": "stream",
     "text": [
      "True\n",
      "False\n",
      "False\n"
     ]
    }
   ],
   "source": [
    "print(True and True)\n",
    "print((5==10) and (1==1))\n",
    "print(('abc'=='bca') and ('arik'=='man'))"
   ]
  },
  {
   "cell_type": "code",
   "execution_count": 128,
   "metadata": {},
   "outputs": [
    {
     "name": "stdout",
     "output_type": "stream",
     "text": [
      "False\n",
      "True\n"
     ]
    }
   ],
   "source": [
    "a, b, c = 2, 5, 10\n",
    "resut = ((a ** 2)> b and (a**2)>c)\n",
    "print(resut)\n",
    "\n",
    "a, b, c = 3, 5, 8\n",
    "resut = ((a ** 2)> b and (a**2)>c)\n",
    "print(resut)"
   ]
  },
  {
   "cell_type": "code",
   "execution_count": 129,
   "metadata": {},
   "outputs": [
    {
     "name": "stdout",
     "output_type": "stream",
     "text": [
      "True\n",
      "False\n"
     ]
    }
   ],
   "source": [
    "diagnosis_1, diagnosis_2,diagnosis_3 = 'yes', 'yes', 'no'\n",
    "result = (diagnosis_1 == 'yes') or (diagnosis_2 == 'yes') or (diagnosis_3 == 'yes')\n",
    "print(result)\n",
    "\n",
    "diagnosis_1, diagnosis_2,diagnosis_3 = 'no', 'no', 'no'\n",
    "result = (diagnosis_1 == 'yes') or (diagnosis_2 == 'yes') or (diagnosis_3 == 'yes')\n",
    "print(result)"
   ]
  },
  {
   "cell_type": "code",
   "execution_count": 130,
   "metadata": {},
   "outputs": [
    {
     "name": "stdout",
     "output_type": "stream",
     "text": [
      "False 4389395408 4389394480\n"
     ]
    }
   ],
   "source": [
    "x = 267\n",
    "y = 267\n",
    "print(x is y, id(x),id(y))"
   ]
  },
  {
   "cell_type": "markdown",
   "metadata": {},
   "source": [
    "## Выводы\n",
    "1. Благодаря услонвым оператором мы можем понимать и создавать условия в которых ответ будет да/нет\n",
    "2. Научились понимать is и чем он отличается от == \n",
    "3. Познакомились с логическими операциями, которые позволяют создавать условия для da/net\n"
   ]
  },
  {
   "cell_type": "markdown",
   "metadata": {},
   "source": [
    "#### ПРОВЕРКА НА ВХОЖДЕНИЕ ЭЛЕМЕНТА В ПОСЛЕДОВАТЕЛЬНОСТЬ"
   ]
  },
  {
   "cell_type": "code",
   "execution_count": 131,
   "metadata": {},
   "outputs": [
    {
     "name": "stdout",
     "output_type": "stream",
     "text": [
      "True\n",
      "True\n",
      "True\n",
      "False\n",
      "True\n"
     ]
    }
   ],
   "source": [
    "orders = {\n",
    "    '2022-10-10': ['F124', 'D89D', '142L'],\n",
    "    '2022-10-11': ['H241', 'OR24', 'BE14', '348F'],\n",
    "    '2022-10-12': ['H429', 'JAS2']\n",
    "}\n",
    "target_order = 'BE14'\n",
    "print(target_order in orders['2022-10-10'] or \\\n",
    "      target_order in orders['2022-10-11'] or \\\n",
    "      target_order in orders['2022-10-12']\n",
    "      )\n",
    "\n",
    "message = 14093530013530593\n",
    "\n",
    "print(str(5) in str(message)[:6])\n",
    "\n",
    "N = 12043879584\n",
    "print((str(3) in str(N)) and (str(7) in str(N)))\n",
    "N = 59005085801\n",
    "print((str(3) in str(N)) and (str(7) in str(N)))\n",
    "\n",
    "x, y = 'F', 7\n",
    "print((x in \"A, B, C, D, E, F, G, H\") and (y in list(range(1,9))))"
   ]
  },
  {
   "cell_type": "markdown",
   "metadata": {},
   "source": [
    "#### ПРОВЕРКА ДЕЛИМОСТИ ЧИСЕЛ"
   ]
  },
  {
   "cell_type": "code",
   "execution_count": 132,
   "metadata": {},
   "outputs": [
    {
     "name": "stdout",
     "output_type": "stream",
     "text": [
      "False\n"
     ]
    }
   ],
   "source": [
    "available_packages = 105\n",
    "total_count = 1677\n",
    "\n",
    "print((total_count % 13 == 0) and (total_count // available_packages <= 0))"
   ]
  },
  {
   "cell_type": "code",
   "execution_count": 133,
   "metadata": {},
   "outputs": [
    {
     "name": "stdout",
     "output_type": "stream",
     "text": [
      "True\n",
      "True\n"
     ]
    }
   ],
   "source": [
    "N = 282\n",
    "first_is_even = int(str(N)[:1]) % 2 == 0\n",
    "print(first_is_even)\n",
    "\n",
    "year = 2000\n",
    "year_is_leap = ((year % 400 == 0) or ((year % 4 == 0) and (year % 100 != 0)))\n",
    "print(year_is_leap)"
   ]
  },
  {
   "cell_type": "code",
   "execution_count": 134,
   "metadata": {},
   "outputs": [
    {
     "name": "stdout",
     "output_type": "stream",
     "text": [
      "True\n",
      "True\n"
     ]
    }
   ],
   "source": [
    "phone = '+7 927 124 42 12'\n",
    "\n",
    "phone_is_defined = type(phone) is str\n",
    "print(phone_is_defined)\n",
    "\n",
    "arrival_of_goods = {\n",
    "    '148902': {\n",
    "        'Футболка с принтом': 180,\n",
    "        'Свитшот черный': 245,\n",
    "        'Джинсы серые': 252\n",
    "    },\n",
    "    '893516': {\n",
    "        'Футболка с принтом': 43,\n",
    "        'Свитшот черный': 64,\n",
    "        'Джинсы черные': 102\n",
    "    },\n",
    "    '893481': {\n",
    "        'Кружка керамическая': 35,\n",
    "        'Свитшот черный': 10,\n",
    "        'Джинсы сервые': 14\n",
    "    }\n",
    "}\n",
    "invoice_number = '148902'\n",
    "invoice_exists = not(arrival_of_goods.get(invoice_number) is None)\n",
    "\n",
    "print(invoice_exists)"
   ]
  },
  {
   "cell_type": "markdown",
   "metadata": {},
   "source": [
    "# Условные операторы"
   ]
  },
  {
   "cell_type": "code",
   "execution_count": 135,
   "metadata": {},
   "outputs": [
    {
     "name": "stdout",
     "output_type": "stream",
     "text": [
      "Take to umbrela\n"
     ]
    }
   ],
   "source": [
    "is_rainy = True\n",
    "\n",
    "if is_rainy:\n",
    "    print('Take to umbrela')\n",
    "else:\n",
    "    print('Not take umbrela')"
   ]
  },
  {
   "cell_type": "code",
   "execution_count": 136,
   "metadata": {},
   "outputs": [
    {
     "name": "stdout",
     "output_type": "stream",
     "text": [
      "1024\n"
     ]
    }
   ],
   "source": [
    "a = 2 ** 10\n",
    "b = 3 ** 5\n",
    "if a > b:\n",
    "    print(a)\n",
    "else:\n",
    "    print(b)"
   ]
  },
  {
   "cell_type": "code",
   "execution_count": 137,
   "metadata": {},
   "outputs": [
    {
     "name": "stdout",
     "output_type": "stream",
     "text": [
      "and in ['and', 'or', 'not']\n"
     ]
    }
   ],
   "source": [
    "target_word = 'and'\n",
    "words = ['and', 'or', 'not']\n",
    "if target_word in words:\n",
    "    print(f'{target_word} in {words}')"
   ]
  },
  {
   "cell_type": "code",
   "execution_count": 138,
   "metadata": {},
   "outputs": [
    {
     "name": "stdout",
     "output_type": "stream",
     "text": [
      "-5\n",
      "0\n",
      "«Добро пожаловать!»\n"
     ]
    }
   ],
   "source": [
    "mx = 0\n",
    "s = 0\n",
    "\n",
    "x = -5\n",
    "if x < 0:\n",
    "    s = x\n",
    "\n",
    "if x > mx:\n",
    "    mx = x\n",
    "\n",
    "print(s)\n",
    "print(mx)\n",
    "\n",
    "people_count = 5\n",
    "if people_count >=10:\n",
    "    print(\"«Всё занято. Подождите!»\")\n",
    "else:\n",
    "    print(\"«Добро пожаловать!»\")"
   ]
  },
  {
   "cell_type": "code",
   "execution_count": 139,
   "metadata": {},
   "outputs": [
    {
     "name": "stdout",
     "output_type": "stream",
     "text": [
      "«Добро пожаловать!»\n"
     ]
    }
   ],
   "source": [
    "password = '879f2aabS'\n",
    "answer = '879f2aabS'\n",
    "if password == answer:\n",
    "    print(\"«Добро пожаловать!»\")\n",
    "else:\n",
    "    print(\"«Вы ввели неверный пароль!»\")"
   ]
  },
  {
   "cell_type": "code",
   "execution_count": 140,
   "metadata": {},
   "outputs": [
    {
     "name": "stdout",
     "output_type": "stream",
     "text": [
      "Добрый вечер, Андрей!\n"
     ]
    }
   ],
   "source": [
    "name = 'Андрей'\n",
    "age = 21\n",
    "if age < 18:\n",
    "    print(f\"Привет, {name}! Приносим свои извинения, но вы не можете гулять после 22:00\")\n",
    "else:\n",
    "    print(f\"Добрый вечер, {name}!\")"
   ]
  },
  {
   "cell_type": "code",
   "execution_count": 141,
   "metadata": {},
   "outputs": [
    {
     "name": "stdout",
     "output_type": "stream",
     "text": [
      "False\n"
     ]
    }
   ],
   "source": [
    "credit_history = 'bad'\n",
    "deposit = True\n",
    "guarantors = False\n",
    "credit = 3000.0\n",
    "\n",
    "if credit_history == 'good':\n",
    "    if credit >= 1000:\n",
    "        result = False\n",
    "    else:\n",
    "        result = True\n",
    "else:\n",
    "    if deposit:\n",
    "        if guarantors:\n",
    "            result = True\n",
    "        else:\n",
    "            result = False\n",
    "    else:\n",
    "        result = False\n",
    "        \n",
    "print(result)"
   ]
  },
  {
   "cell_type": "code",
   "execution_count": 142,
   "metadata": {},
   "outputs": [
    {
     "name": "stdout",
     "output_type": "stream",
     "text": [
      "5 делится на 5\n"
     ]
    }
   ],
   "source": [
    "number = 5\n",
    "if number % 5 == 0 and number % 2 == 0:\n",
    "    print(f\"{number} делится на 2 и на 5\")\n",
    "else:\n",
    "    if number % 5 == 0:\n",
    "        print(f\"{number} делится на 5\")\n",
    "    elif number % 2 == 0:\n",
    "        print(f\"{number} делится на 2\")\n",
    "    else:\n",
    "        print(f\"{number} не делится на 2 и на 5\")"
   ]
  },
  {
   "cell_type": "code",
   "execution_count": 143,
   "metadata": {},
   "outputs": [
    {
     "name": "stdout",
     "output_type": "stream",
     "text": [
      "True\n",
      "True\n",
      "False\n",
      "True\n",
      "True\n",
      "True\n",
      "False\n",
      "False\n",
      "1.0\n"
     ]
    }
   ],
   "source": [
    "print(bool(395))\n",
    "print(bool([3,6,7]))\n",
    "print(bool([]))\n",
    "print(bool(0.45))\n",
    "print(bool(-1))\n",
    "print(bool({'keals': 34}))\n",
    "print(bool({}))\n",
    "print(bool(0))\n",
    "\n",
    "number = 10\n",
    "\n",
    "if number:\n",
    "    print(number / 10)\n",
    "else:\n",
    "    print('измените число на отличное от нуля')"
   ]
  },
  {
   "cell_type": "code",
   "execution_count": 144,
   "metadata": {},
   "outputs": [
    {
     "name": "stdout",
     "output_type": "stream",
     "text": [
      "скикда доступна\n"
     ]
    }
   ],
   "source": [
    "cust_age = 61\n",
    "result = 'скикда доступна' if cust_age > 60 else 'скидка недоступна'\n",
    "print(result)"
   ]
  },
  {
   "cell_type": "code",
   "execution_count": 145,
   "metadata": {},
   "outputs": [
    {
     "name": "stdout",
     "output_type": "stream",
     "text": [
      "20\n"
     ]
    }
   ],
   "source": [
    "cust_discount = '10' if cust_age < 60 else '20'\n",
    "print(cust_discount)"
   ]
  },
  {
   "cell_type": "code",
   "execution_count": 146,
   "metadata": {},
   "outputs": [
    {
     "data": {
      "text/plain": [
       "137500.0"
      ]
     },
     "execution_count": 146,
     "metadata": {},
     "output_type": "execute_result"
    }
   ],
   "source": [
    "x = 2200000/0.016\n",
    "x/1000"
   ]
  },
  {
   "cell_type": "code",
   "execution_count": 147,
   "metadata": {},
   "outputs": [
    {
     "name": "stdout",
     "output_type": "stream",
     "text": [
      "сейчас утро\n",
      "morning\n",
      "11 <class 'int'>\n"
     ]
    }
   ],
   "source": [
    "now = '11:24:39'\n",
    "hour = list(now.split(':'))[0]\n",
    "result = 'сейчас утро' if 6 <= int(hour) < 12 else 'пора делать секс'\n",
    "print(result)\n",
    "\n",
    "hour, minute, seconds = now.split(':')\n",
    "hour, minute, seconds = int(hour), int(minute), int(seconds)\n",
    "if 6<= hour < 12:\n",
    "    print('morning')\n",
    "else:\n",
    "    print('evning')\n",
    "print(hour, type(hour))"
   ]
  },
  {
   "cell_type": "code",
   "execution_count": 148,
   "metadata": {},
   "outputs": [
    {
     "name": "stdout",
     "output_type": "stream",
     "text": [
      "fourth coordinate area\n"
     ]
    }
   ],
   "source": [
    "x,y = (2,0)\n",
    "if x > 0:\n",
    "    result = 'first coordinate area' if y > 0 else 'fourth coordinate area'\n",
    "else:\n",
    "    result = 'third coordinate area' if y > 0 else 'second coordinate area'\n",
    "print(result)"
   ]
  },
  {
   "cell_type": "code",
   "execution_count": 149,
   "metadata": {},
   "outputs": [
    {
     "name": "stdout",
     "output_type": "stream",
     "text": [
      "first coordinate area\n"
     ]
    }
   ],
   "source": [
    "x,y = (2,2)\n",
    "if x > 0 and y > 0:\n",
    "    print('first coordinate area')\n",
    "if x > 0 and y < 0:\n",
    "    print('fourth coordinate area')\n",
    "if x < 0 and y < 0:\n",
    "    print('second coordinate area')\n",
    "if x < 0 and y > 0:  \n",
    "    print('third coordinate area')"
   ]
  },
  {
   "cell_type": "markdown",
   "metadata": {},
   "source": [
    "Пользователь вводит целое число — текущее время в часах, значение которого хранится в переменной time. Если количество часов находится между 7 и 10 (включая обе границы), то программа должна вывести строку «Пора вставать!», иначе выведется строка «Ты проспал!».\n",
    "\n",
    "Примечание: В рамках данной задачи условимся, что пользователь считается проспавшим в любое время, отличное от указанного интервала.\n",
    "\n"
   ]
  },
  {
   "cell_type": "code",
   "execution_count": 150,
   "metadata": {},
   "outputs": [
    {
     "name": "stdout",
     "output_type": "stream",
     "text": [
      "Пора вставать\n",
      "Ты проспал!\n"
     ]
    }
   ],
   "source": [
    "time = 8\n",
    "result = 'Пора вставать' if 10 >= time >= 7 else 'Ты проспал!'\n",
    "print(result)\n",
    "# Пора вставать!\n",
    "\n",
    "time = 12\n",
    "result = 'Пора вставать' if 10 >= time >= 7 else 'Ты проспал!'\n",
    "print(result)\n",
    "# Ты проспал!"
   ]
  },
  {
   "cell_type": "markdown",
   "metadata": {},
   "source": [
    "Считается, что буквы q и z встречается в английском языке реже остальных букв. Вы решили написать программу, которая позволяет пользователям вводить слова и проверяет, можно считать это слово редким или нет. Интересующее вас слово содержится в переменной target_word.\n",
    "\n",
    "Пусть эта программа выводит на экран одну из двух фраз: «Ух ты! Вы ввели редкое слово!», если в слове есть буква q или букву z, или «Это не очень редкое слово...», если в нём этих букв нет."
   ]
  },
  {
   "cell_type": "code",
   "execution_count": 151,
   "metadata": {},
   "outputs": [
    {
     "name": "stdout",
     "output_type": "stream",
     "text": [
      "Ух ты! Вы ввели редкое слово!\n",
      "Это не очень редкое слово...\n"
     ]
    }
   ],
   "source": [
    "target_word = \"quantity\"\n",
    "# Ух ты! Вы ввели редкое слово!\n",
    "result = 'Ух ты! Вы ввели редкое слово!' if ('q' in target_word) \\\n",
    "                or ('z' in target_word)  else 'Это не очень редкое слово...'\n",
    "print(result)\n",
    "\n",
    "target_word = \"apply\"\n",
    "# Это не очень редкое слово...\n",
    "result = 'Ух ты! Вы ввели редкое слово!' if ('q' in target_word) \\\n",
    "                or ('z' in target_word)  else 'Это не очень редкое слово...'\n",
    "print(result)\n"
   ]
  },
  {
   "cell_type": "markdown",
   "metadata": {},
   "source": [
    "Вы работаете в агентстве знакомств. К вам обратилась некая Алла, которая ищет мужчину ростом строго выше 180 см, весом строго менее 80 кг. Также Алла верит в гороскопы и согласно гороскопу ей подходят только весы, дева, овен и козерог.\n",
    "\n",
    "Напишите условие, которое позволит определить, подходит ли Алле тот или иной кандидат. В результате работы программы на экран должно быть введено:\n",
    "\n",
    "«Ваша половинка нашлась!» — если кандидат подходит Алле по параметрам.\n",
    "«Попробуем поискать еще!» — если кандидат не подходит Алле по параметрам."
   ]
  },
  {
   "cell_type": "code",
   "execution_count": 152,
   "metadata": {},
   "outputs": [
    {
     "name": "stdout",
     "output_type": "stream",
     "text": [
      "Ваша половинка нашлась!\n",
      "\"Попробуем поискать еще!\"\n"
     ]
    }
   ],
   "source": [
    "height = 183\n",
    "weight = 78\n",
    "zodiac_sign = 'козерог'\n",
    "# \"Ваша половинка нашлась!\"\n",
    "\n",
    "signs_of_the_zodiac = [ 'весы', 'дева', 'овен', 'козерог']\n",
    "result = \"Ваша половинка нашлась!\" if ((height > 180) and (weight < 80) and (zodiac_sign in signs_of_the_zodiac)) else '\"Попробуем поискать еще!\"'\n",
    "print(result)\n",
    "\n",
    "height = 171\n",
    "weight = 75\n",
    "zodiac_sign = 'весы'\n",
    "# \"Попробуем поискать еще!\"\n",
    "\n",
    "result = \"Ваша половинка нашлась!\" if ((height > 180) and (weight < 80) and (zodiac_sign in signs_of_the_zodiac)) else '\"Попробуем поискать еще!\"'\n",
    "print(result)\n"
   ]
  },
  {
   "cell_type": "code",
   "execution_count": 153,
   "metadata": {},
   "outputs": [
    {
     "name": "stdout",
     "output_type": "stream",
     "text": [
      "first coordinate area\n"
     ]
    }
   ],
   "source": [
    "x,y = (2,2)\n",
    "if x > 0 and y > 0:\n",
    "    print('first coordinate area')\n",
    "elif x > 0 and y < 0:\n",
    "    print('fourth coordinate area')\n",
    "elif x < 0 and y < 0:\n",
    "    print('second coordinate area')\n",
    "else:  \n",
    "    print('third coordinate area')"
   ]
  },
  {
   "cell_type": "code",
   "execution_count": 154,
   "metadata": {},
   "outputs": [
    {
     "name": "stdout",
     "output_type": "stream",
     "text": [
      "Autumn\n"
     ]
    }
   ],
   "source": [
    "month = 10\n",
    "if month in [3,4,5]:\n",
    "    print('Summer')\n",
    "elif month in [6,7,8]:\n",
    "    print('Summer')\n",
    "elif month in [9,10,11]:\n",
    "    print('Autumn')\n",
    "elif month in [12,1,2]:\n",
    "    print('Winter')\n",
    "else:\n",
    "    print('Incorect month number')"
   ]
  },
  {
   "cell_type": "code",
   "execution_count": 155,
   "metadata": {},
   "outputs": [
    {
     "name": "stdout",
     "output_type": "stream",
     "text": [
      "100 > 10\n"
     ]
    }
   ],
   "source": [
    "a = 100\n",
    "if a > 10:\n",
    "    print(f'{a} > 10')\n",
    "elif a < 10:\n",
    "    print(f'{a} < 10')\n",
    "else:\n",
    "    print(f'{a} == 10')"
   ]
  },
  {
   "cell_type": "markdown",
   "metadata": {},
   "source": [
    "Необходимо реализовать условный оператор, который печатает на экран характеристику ветра и его класс (от 1 до 4) в зависимости от его характера:\n",
    "\n",
    "\"weak [1]\" — от 1 до 4 м/с\n",
    "\n",
    "\"moderate [2]\" — от 5 до 10 м/c\n",
    "\n",
    "\"strong [3]\" — от 11 до 18 м/c\n",
    "\n",
    "\"hurricane [4]\" — от 19 м/c\n",
    "\n",
    "Скорость ветра хранится в переменной speed."
   ]
  },
  {
   "cell_type": "code",
   "execution_count": 156,
   "metadata": {},
   "outputs": [
    {
     "name": "stdout",
     "output_type": "stream",
     "text": [
      "укажите корректную скорость ветра\n"
     ]
    }
   ],
   "source": [
    "speed = -10\n",
    "if 1 <= speed < 4:\n",
    "    print('weak')\n",
    "elif 4 <= speed < 10:\n",
    "    print('moderate')\n",
    "elif 10 <= speed < 19:\n",
    "    print('strong')\n",
    "elif speed >= 19:\n",
    "    print('hurricane')\n",
    "else:\n",
    "    print('укажите корректную скорость ветра')"
   ]
  },
  {
   "cell_type": "markdown",
   "metadata": {},
   "source": [
    "Друг, зная, что вы отличный программист, попросил вас запрограммировать игру «Камень, ножницы, бумага» для своего младшего брата. Правила игры всем известны: камень побеждает ножницы; ножницы — бумагу; бумага — камень.\n",
    "\n",
    "Жесты, выполняемые первым и вторым игроками находятся в переменных player_1 и player_2 соответственно. Обратите внимание, что названия жестов должны быть написаны строчными буквами.\n",
    "\n",
    "Напишите программу, которая определяет победителя. Если побеждает первый игрок, то выводится сообщение «Первый игрок — победитель!». Если второй — «Второй игрок — победитель!». Если ничья — выводится «Ничья!»."
   ]
  },
  {
   "cell_type": "code",
   "execution_count": 157,
   "metadata": {},
   "outputs": [
    {
     "name": "stdout",
     "output_type": "stream",
     "text": [
      "Ничья\n",
      "Победитель игрок1\n",
      "Победитель игрок2\n"
     ]
    }
   ],
   "source": [
    "player_1 = 'камень'\n",
    "player_2 = 'камень'\n",
    "# Ничья!\n",
    "\n",
    "condition_1 = (player_1 =='камень' and player_2 == 'ножницы') or (player_1 =='ножницы' and player_2 == 'бумага') or (player_1 =='бумага' and player_2 == 'камень')\n",
    "if condition_1:\n",
    "    print('Победитель игрок1')\n",
    "elif player_1 == player_2:\n",
    "    print('Ничья')\n",
    "else:\n",
    "    print('Победитель игрок2')\n",
    "    \n",
    "player_1 = 'ножницы'\n",
    "player_2 = 'бумага'\n",
    "# Первый игрок — победитель!\n",
    "\n",
    "condition_1 = (player_1 =='камень' and player_2 == 'ножницы') or (player_1 =='ножницы' and player_2 == 'бумага') or (player_1 =='бумага' and player_2 == 'камень')\n",
    "if condition_1:\n",
    "    print('Победитель игрок1')\n",
    "elif player_1 == player_2:\n",
    "    print('Ничья')\n",
    "else:\n",
    "    print('Победитель игрок2')\n",
    "\n",
    "player_1 = 'камень'\n",
    "player_2 = 'бумага'\n",
    "# Второй игрок — победитель!\n",
    "\n",
    "condition_1 = (player_1 =='камень' and player_2 == 'ножницы') or (player_1 =='ножницы' and player_2 == 'бумага') or (player_1 =='бумага' and player_2 == 'камень')\n",
    "if condition_1:\n",
    "    print('Победитель игрок1')\n",
    "elif player_1 == player_2:\n",
    "    print('Ничья')\n",
    "else:\n",
    "    print('Победитель игрок2')"
   ]
  },
  {
   "cell_type": "code",
   "execution_count": 171,
   "metadata": {},
   "outputs": [
    {
     "name": "stdout",
     "output_type": "stream",
     "text": [
      "False\n",
      "False\n",
      "Ваш курьер приедет через 18 мин\n"
     ]
    }
   ],
   "source": [
    "dish_time_dict = {\n",
    "    'Рамен с говядиной': 15,\n",
    "    'Суши': 18,\n",
    "    'Лагман с курицей': 20,\n",
    "    'Лагман с говядиной': 24,\n",
    "    'Плов с курицей': 28\n",
    "}\n",
    "\n",
    "street_time_dict  = {\n",
    "    'Дзержинский': 39,\n",
    "    'Солнечный': 40,\n",
    "    'Заводской': 27,\n",
    "    'Гагаринский': 43,\n",
    "    'Кировский': 37,\n",
    "    'Октябрьский': 34\n",
    "}\n",
    "\n",
    "dish, street = 'Рамен с говядиной', 'Заводской'\n",
    "print(dish_time_dict.get(dish) is None)\n",
    "print((street_time_dict.get(street) is None))\n",
    "\n",
    "if not(dish_time_dict.get(dish) is None) and not(street_time_dict.get(street) is None):\n",
    "    time_dilivery = 60 - street_time_dict[street] - dish_time_dict[dish]\n",
    "    if time_dilivery > 0:\n",
    "        print(f'Ваш курьер приедет через {time_dilivery} мин')\n",
    "    else:\n",
    "        print(f'Ваш курьер задержится на {abs(time_dilivery)} мин')\n",
    "else:\n",
    "    if dish_time_dict.get(dish) is None:\n",
    "        print(f'Блюда {dish} нет сейчас в наличии доступны{list(dish_time_dict.keys())}')\n",
    "    if street_time_dict.get(street) is None:\n",
    "        print(f'Доставки на адрес {street} нет сейчас в наличии доступны{list(street_time_dict.keys())}')\n"
   ]
  },
  {
   "cell_type": "markdown",
   "metadata": {},
   "source": [
    "Необходимо реализовать программу, которая проверяет, успеет курьер доставить заказ за 60 (включительно) минут с момента его принятия или нет.\n",
    "\n",
    "Также необходимо реализовать проверку, что блюдо, заказанное клиентом, в данный момент доступно в ресторане, а район, в котором находится клиент, доступен для доставки.\n",
    "\n"
   ]
  },
  {
   "cell_type": "code",
   "execution_count": 229,
   "metadata": {},
   "outputs": [
    {
     "name": "stdout",
     "output_type": "stream",
     "text": [
      "Пароль вомзможен для использования\n"
     ]
    }
   ],
   "source": [
    "errors_dict = {\n",
    "    'length': 'Длина пароля не равна 8 символам',#\n",
    "    'digits': 'Пароль состоит только из цифр',#\n",
    "    'letters': 'Пароль состоит только из букв',#\n",
    "    'upper': 'Отсутствуют заглавные буквы',#\n",
    "    'lower': 'Отсутствуют строчные буквы',#\n",
    "    'spec': 'Отсутствуют спецсимволы в пароле',\n",
    "    'bad_symbols': 'В пароле использованы непредусмотренные символы'\n",
    "}\n",
    "\n",
    "bad_symbols = ['!', '@', '$', '%', '^', '`', '&', '(', ')', '+', '=', '_', '~']\n",
    "\n",
    "password = 'Aafaf*aрl'\n",
    "\n",
    "cond_1 = not(len(password) > 8) #\n",
    "cond_2 = password.isdigit()\n",
    "cond_3 = password.isalpha()\n",
    "cond_4 = len(set(password).intersection(set(bad_symbols))) > 0\n",
    "cond_5 = not(password.upper() != password)\n",
    "cond_6 = not(password.lower() != password)\n",
    "cond_7 = password.isalnum()\n",
    "\n",
    "if cond_1:\n",
    "    print('Длина пароля не равна 8 символам')\n",
    "if cond_2:\n",
    "    print('Пароль состоит только из цифр')\n",
    "elif cond_3:\n",
    "    print('Пароль состоит только из букв')\n",
    "elif cond_4:\n",
    "    print('В пароле использованы непредусмотренные символы')\n",
    "elif cond_5:\n",
    "    print( 'Отсутствуют строчные буквы')\n",
    "elif cond_6:\n",
    "    print('Отсутствуют заглавные буквы')\n",
    "elif cond_7:\n",
    "    print('Отсутствуют спецсимволы в пароле')\n",
    "else:\n",
    "    print('Пароль вомзможен для использования')"
   ]
  },
  {
   "cell_type": "code",
   "execution_count": 230,
   "metadata": {},
   "outputs": [
    {
     "name": "stdout",
     "output_type": "stream",
     "text": [
      "Пароль успешен\n"
     ]
    }
   ],
   "source": [
    "if len(password) > 8:\n",
    "    errors_dict.pop('length')\n",
    "if not(password.isdigit()):\n",
    "    errors_dict.pop('digits')\n",
    "if not(password.isalpha()):\n",
    "    errors_dict.pop('letters')\n",
    "if '*' in list(password) or '-' in list(password) or '#' in list(password):\n",
    "    if password.count('*') > 1 or password.count('-') > 1 or password.count('#') > 1:\n",
    "        errors_dict['mistake'] = 'Cпецсимвол использован более 1 раза'\n",
    "    errors_dict.pop('spec')\n",
    "if password.upper() != password:\n",
    "    errors_dict.pop('lower')\n",
    "if password.lower() != password:\n",
    "    errors_dict.pop('upper')\n",
    "if not(len(set(password).intersection(set(bad_symbols))) > 0):\n",
    "    errors_dict.pop('bad_symbols')\n",
    "if errors_dict:\n",
    "    print(list(errors_dict.values()))\n",
    "else:\n",
    "    print('Пароль успешен')\n",
    "    "
   ]
  },
  {
   "cell_type": "markdown",
   "metadata": {},
   "source": [
    "print(s.isdigit()) # строка состоит только из цифр?\n",
    "\n",
    "print(s.isalpha()) # строка состоит только из букв?\n",
    "\n",
    "print(s.isalnum()) # строка состоит только из цифр и букв?"
   ]
  },
  {
   "cell_type": "code",
   "execution_count": 239,
   "metadata": {},
   "outputs": [
    {
     "name": "stdout",
     "output_type": "stream",
     "text": [
      "Стоимость заказа составила: 13100 . С учетом скидки в 5% — 12445.0.\n"
     ]
    }
   ],
   "source": [
    "purchases = [\"Adidas\", \"Nike\"]\n",
    "# Стоимость заказа составила: 10848. С учетом скидки в 5% — 10305.6\n",
    "\n",
    "purchases = [\"Nike\", \"Nike\"]\n",
    "\n",
    "#purchases = []\n",
    "# Ваша корзина пуста\n",
    "\n",
    "prices = {'Adidas': 4298, 'Nike': 6550, 'Puma': 4490, 'Asics': 3879}\n",
    "\n",
    "if not purchases:\n",
    "    print('Ваша корзина пуста')\n",
    "elif len(set(purchases)) == 1:\n",
    "    result = prices[purchases[0]] * 2\n",
    "    print(f'Стоимость заказа составила: {result} . С учетом скидки в 5% — {result * 0.95}.')\n",
    "else:\n",
    "    result = prices[purchases[0]] + prices[purchases[-1]]\n",
    "    print(f'Стоимость заказа составила: {result}. С учетом скидки в 10% — {result * 0.9}.')"
   ]
  },
  {
   "cell_type": "code",
   "execution_count": 253,
   "metadata": {},
   "outputs": [
    {
     "name": "stdout",
     "output_type": "stream",
     "text": [
      "1\n"
     ]
    }
   ],
   "source": [
    "date = '16.04.2019 15:59'\n",
    "date = '12.05.2019 08:42'\n",
    "#date = '05.07.2018 20:15'\n",
    "\n",
    "date_1 = date.split()[0]\n",
    "date, mounth, year = date_1.split('.')\n",
    "\n",
    "cond_1 = int(mounth) >=  5\n",
    "cond_2 = 1<= int(mounth) < 5\n",
    "cond_0 = year == '2019'\n",
    "\n",
    "if cond_1 and cond_0:\n",
    "    category = 1\n",
    "elif cond_2 and cond_0:\n",
    "    category = 2\n",
    "else:\n",
    "    category = 3\n",
    "print(category)\n",
    "\n",
    "million_cities = ['Новосибирск', 'Екатеринбург', 'Нижний Новгород', 'Казань', 'Челябинск', 'Омск', 'Самара', 'Ростов-на-Дону', 'Уфа', 'Красноярск', 'Пермь', 'Воронеж', 'Волгоград']\n",
    "\n",
    "city_info = "
   ]
  },
  {
   "cell_type": "code",
   "execution_count": 256,
   "metadata": {},
   "outputs": [
    {
     "name": "stdout",
     "output_type": "stream",
     "text": [
      "Город миллионник\n"
     ]
    }
   ],
   "source": [
    "city_info = \"Москва , не готов к переезду , готов к командировкам\"\n",
    "# 'Москва'\n",
    "\n",
    "city_info = \"Иваново , готов к переезду (Сочи, Москва, Санкт-Петербург) , готов к командировкам\"\n",
    "# 'Другое'\n",
    "\n",
    "city_info = \"Санкт-Петербург , готов к переезду (Сочи, Москва) , готов к командировкам\"\n",
    "# 'Санкт-Петербург'\n",
    "\n",
    "city_info = \"Новосибирск , готов к переезду, не готов к командировкам\"\n",
    "# 'Город миллионник'\n",
    "million_cities = ['Новосибирск', 'Екатеринбург', 'Нижний Новгород', 'Казань', 'Челябинск', 'Омск', 'Самара', 'Ростов-на-Дону', 'Уфа', 'Красноярск', 'Пермь', 'Воронеж', 'Волгоград']\n",
    "\n",
    "city_сandidate = city_info.split(' , ')[0]\n",
    "\n",
    "if city_сandidate == \"Москва\" or city_сandidate == \"Санкт-Петербург\":\n",
    "    city = city_сandidate\n",
    "elif city_сandidate in million_cities:\n",
    "    city = 'Город миллионник'\n",
    "else:\n",
    "    city = 'Другое'\n",
    "print(city)"
   ]
  },
  {
   "cell_type": "markdown",
   "metadata": {},
   "source": [
    "# Обработка исключений"
   ]
  },
  {
   "cell_type": "markdown",
   "metadata": {},
   "source": [
    "try:\n",
    "\n",
    "    *Код в котором может быть ошибка*\n",
    "\n",
    "except Ошибка:\n",
    "\n",
    "    *код что будет выводится при ошибке*\n",
    "\n",
    "else:\n",
    "\n",
    "    *код, который выполнится в случае выполнения блока try:*\n",
    "\n",
    "finally:\n",
    "\n",
    "    *Код который выполнится в любом случае*"
   ]
  },
  {
   "cell_type": "code",
   "execution_count": 259,
   "metadata": {},
   "outputs": [
    {
     "name": "stdout",
     "output_type": "stream",
     "text": [
      "Введите число a и б\n",
      "5 / 3 = 1.6666666666666667\n",
      "Все поделилось\n",
      "а мне вообще похуй\n"
     ]
    }
   ],
   "source": [
    "try:\n",
    "    print('Введите число a и б')\n",
    "    a = int(input('введи делимое',))\n",
    "    b=  int(input('введи делитель',))\n",
    "    print(f'{a} / {b} = {a/b}')\n",
    "except ZeroDivisionError as e:\n",
    "    print(f'при делении на ноль появится ошибка {e}')\n",
    "else:\n",
    "    print('Все поделилось')\n",
    "finally:\n",
    "    print('а мне вообще похуй')"
   ]
  },
  {
   "cell_type": "markdown",
   "metadata": {},
   "source": [
    "# Отбивка всех ошибок except Exceprtion"
   ]
  },
  {
   "cell_type": "code",
   "execution_count": 263,
   "metadata": {},
   "outputs": [],
   "source": [
    "key_1, key_2 = 'a', 'b'\n",
    "my_dict = {'a': 10, 'b': '5.214', 'c': 'simple_string'}\n",
    "\n",
    "try:\n",
    "    value_1,value_2 = float(my_dict[key_1]),float(my_dict[key_2])\n",
    "    new_value = value_2+value_1\n",
    "except Exception as e:\n",
    "    print(f'код азверился с ошибкой {e}')\n",
    "    "
   ]
  },
  {
   "cell_type": "code",
   "execution_count": 264,
   "metadata": {},
   "outputs": [
    {
     "name": "stdout",
     "output_type": "stream",
     "text": [
      "99\n"
     ]
    }
   ],
   "source": [
    "medicines = {'Ибупрофен': 99, 'Эспумизан': 279, 'Пенталгин': 119}\n",
    "name = 'Визин'\n",
    "# Такого ключа в словаре нет\n",
    "\n",
    "medicines = {'Ибупрофен': 99, 'Эспумизан': 279, 'Пенталгин': 119}\n",
    "name = 'Ибупрофен'\n",
    "# 99\n",
    "\n",
    "try:\n",
    "    print(medicines[name])\n",
    "except Exception as e:\n",
    "    print('Такого ключа в словаре нет')"
   ]
  },
  {
   "cell_type": "code",
   "execution_count": 267,
   "metadata": {},
   "outputs": [],
   "source": [
    "age = int(input('How old are you?',))\n",
    "if age > 100 or 0 >= age:\n",
    "    raise ValueError('You are too old or don\"t exist')"
   ]
  },
  {
   "cell_type": "code",
   "execution_count": 273,
   "metadata": {},
   "outputs": [
    {
     "name": "stdout",
     "output_type": "stream",
     "text": [
      "Wrond age\n"
     ]
    }
   ],
   "source": [
    "try:\n",
    "    age = int(input('How old are you',))\n",
    "    if age > 100 or age <= 0:\n",
    "        raise ValueError('You are too old or don\"t exist')\n",
    "except ValueError:\n",
    "    print('Wrond age')\n",
    "else:\n",
    "    print(f'You are {age} years old!')"
   ]
  },
  {
   "cell_type": "code",
   "execution_count": 276,
   "metadata": {},
   "outputs": [
    {
     "name": "stdout",
     "output_type": "stream",
     "text": [
      "You are going to devide by zero\n"
     ]
    }
   ],
   "source": [
    "number = int(input('write number',))\n",
    "try:\n",
    "    if number == 0:\n",
    "        raise ZeroDivisionError\n",
    "except ZeroDivisionError:\n",
    "    print(('You are going to devide by zero'))\n",
    "else: \n",
    "    print(100/number)"
   ]
  },
  {
   "cell_type": "markdown",
   "metadata": {},
   "source": [
    "# В модуле мы познакомились с:\n",
    "1. логическими операторами\n",
    "2. операторы првоерки эквивалентности и вхождения элемента в последовательность\n",
    "3. условные операторы if-else\n",
    "4. исключения и их обработка"
   ]
  },
  {
   "cell_type": "code",
   "execution_count": 277,
   "metadata": {},
   "outputs": [
    {
     "data": {
      "text/plain": [
       "7"
      ]
     },
     "execution_count": 277,
     "metadata": {},
     "output_type": "execute_result"
    }
   ],
   "source": [
    "# пример тернарного оператора\n",
    "x = 5 if 'sttt' == 'papa' else 7\n",
    "x"
   ]
  },
  {
   "cell_type": "code",
   "execution_count": 278,
   "metadata": {},
   "outputs": [
    {
     "name": "stdout",
     "output_type": "stream",
     "text": [
      "3\n"
     ]
    }
   ],
   "source": [
    "lst=[90, 230, 23]\n",
    "print(len(lst))"
   ]
  },
  {
   "cell_type": "code",
   "execution_count": 280,
   "metadata": {},
   "outputs": [
    {
     "data": {
      "text/plain": [
       "230"
      ]
     },
     "execution_count": 280,
     "metadata": {},
     "output_type": "execute_result"
    }
   ],
   "source": [
    "lst=[90, 230, 23]\n",
    "lst[1:2]\n",
    "lst[1]"
   ]
  },
  {
   "cell_type": "code",
   "execution_count": 281,
   "metadata": {},
   "outputs": [
    {
     "data": {
      "text/plain": [
       "'east or west home is best'"
      ]
     },
     "execution_count": 281,
     "metadata": {},
     "output_type": "execute_result"
    }
   ],
   "source": [
    "sentences = 'East or West home is best'\n",
    "sentences = sentences.lower()\n",
    "sentences"
   ]
  },
  {
   "cell_type": "code",
   "execution_count": 282,
   "metadata": {},
   "outputs": [
    {
     "data": {
      "text/plain": [
       "'East or We'"
      ]
     },
     "execution_count": 282,
     "metadata": {},
     "output_type": "execute_result"
    }
   ],
   "source": [
    "sentences = 'East or West home is best'\n",
    "sentences[:10]"
   ]
  },
  {
   "cell_type": "code",
   "execution_count": 283,
   "metadata": {},
   "outputs": [
    {
     "name": "stdout",
     "output_type": "stream",
     "text": [
      "Your age is 10, welcome\n"
     ]
    }
   ],
   "source": [
    "age = 10\n",
    "print(f'Your age is {age}, welcome')"
   ]
  },
  {
   "cell_type": "code",
   "execution_count": 284,
   "metadata": {},
   "outputs": [
    {
     "name": "stdout",
     "output_type": "stream",
     "text": [
      "['East', 'or', 'West', 'home', 'is', 'best']\n"
     ]
    }
   ],
   "source": [
    "sentences = 'East or West home is best'\n",
    "list_sentences = list(sentences.split(' '))\n",
    "print(list_sentences)"
   ]
  },
  {
   "cell_type": "code",
   "execution_count": null,
   "metadata": {},
   "outputs": [],
   "source": []
  }
 ],
 "metadata": {
  "kernelspec": {
   "display_name": "Python 3",
   "language": "python",
   "name": "python3"
  },
  "language_info": {
   "codemirror_mode": {
    "name": "ipython",
    "version": 3
   },
   "file_extension": ".py",
   "mimetype": "text/x-python",
   "name": "python",
   "nbconvert_exporter": "python",
   "pygments_lexer": "ipython3",
   "version": "3.9.6"
  }
 },
 "nbformat": 4,
 "nbformat_minor": 2
}
